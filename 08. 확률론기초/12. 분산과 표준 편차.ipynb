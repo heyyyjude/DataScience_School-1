{
 "cells": [
  {
   "cell_type": "code",
   "execution_count": 1,
   "metadata": {
    "hidden": "all",
    "school_cell_uuid": "4dad821a353b474cb12851ad54a4f69d"
   },
   "outputs": [],
   "source": [
    "%load_ext tikzmagic"
   ]
  },
  {
   "cell_type": "markdown",
   "metadata": {
    "school_cell_uuid": "bd4eaf61c1334164ba09d6a018d2b7b2"
   },
   "source": [
    "# 분산과 표준 편차"
   ]
  },
  {
   "cell_type": "markdown",
   "metadata": {
    "school_cell_uuid": "277f3c29e8954ce7a2ed6c38ef9c854d"
   },
   "source": [
    "데이터 집합의 특성을 나타내기 위해 사용되는 대표적인 특징 값으로는 **분산(variance)** 또는 **표준 편차(standard deviation)**도 많이 사용된다. 평균이나 기댓값이 분포의 위치를 대표하는 것이라면 분산은 분포의 폭(width)을 대표하는 값이다. 표준 편차는 분산에 대한 양의 제곱근(square root)값이다.\n",
    "\n",
    "$$ \\text{표준 편차} = \\sqrt{\\text{분산}} $$"
   ]
  },
  {
   "cell_type": "markdown",
   "metadata": {
    "school_cell_uuid": "4933afaa1d6f4c348abc73103658491b"
   },
   "source": [
    "분산도 평균과 마찬가지로 자료 값 집합에 대한 샘플 분산과 확률 분포에 대한 분산을 정의할 수 있다."
   ]
  },
  {
   "cell_type": "markdown",
   "metadata": {
    "school_cell_uuid": "3677ae2a36c741ee9733ac13c963924b"
   },
   "source": [
    "## 샘플 분산"
   ]
  },
  {
   "cell_type": "markdown",
   "metadata": {
    "school_cell_uuid": "52e9285fa12a4385bfcda702dfed3de2"
   },
   "source": [
    "샘플 분산은 주어진 자료 값의 집합에서 다음과 같은 식으로 구한다. 식에서 $x_i$는 $N$개의 자료 중 $i$번재의 자료를 나타내고 $m$은 샘플 평균이다.\n",
    "\n",
    "$$ s^2 = \\dfrac{1}{N}\\sum_{i=1}^{N} (x_i-m)^2 $$"
   ]
  },
  {
   "cell_type": "code",
   "execution_count": 6,
   "metadata": {
    "hidden": "input",
    "school_cell_uuid": "a0a18ad48992461d9b3ecc4f8e00f2e5"
   },
   "outputs": [
    {
     "data": {
      "image/png": "[encoded data removed]"
     },
     "metadata": {},
     "output_type": "display_data"
    }
   ],
   "source": [
    "%%tikz -p pgfplots,pgffor -s 600,300\n",
    "\\begin{axis}[hide axis, width=400pt, height=200pt, line width=2pt, ymax=0.25]\n",
    "\\addplot[domain=-1:4,samples=100]{exp(-(x-0)^2 / (2^2)) / (2 * sqrt(2*pi))};\n",
    "\\foreach \\x in {-0.7, -0.5, -0.35, -0.21, -0.11, 0, 0.14, 0.19, 0.3, 0.5, 0.8, 1.0, 1.5, 1.9, 2.4} {\n",
    "  \\edef\\temp{\\noexpand\\fill (axis cs:\\x, 0.02) circle (3pt);}\\temp\n",
    "}\n",
    "\\node at (axis cs:0,0.23) {$m$};\n",
    "\\draw[line width=1pt, dashed](axis cs:0,-0.1) -- (axis cs:0,0.22);\n",
    "\\node at (axis cs:1,0.11) {$x_i$};\n",
    "\\draw[line width=1pt, dashed](axis cs:1,-0.1) -- (axis cs:1,0.1);\n",
    "\\draw[line width=1pt, <->](axis cs:0,0.05) -- (axis cs:1,0.05);\n",
    "\\node at (axis cs:0.5,0.065) {$x_i-m$};\n",
    "\\end{axis}"
   ]
  },
  {
   "cell_type": "markdown",
   "metadata": {
    "school_cell_uuid": "0ece8696e18d478391432b3993872044"
   },
   "source": [
    "위의 그림에서 볼 수 있듯이 이 식은 자료값과 평균 사이의 거리를 의미한다. 다만 자료값이 평균보다 작을 때는 음수가 나오므로 제곱을 하여 모두 양수로 만들어 준 것이다. "
   ]
  },
  {
   "cell_type": "markdown",
   "metadata": {
    "school_cell_uuid": "1f5050a0728b42de96be9ce1bb7d47ed"
   },
   "source": [
    "위 식에서 구한 샘플 분산은 정확하게 말하면 편향 오차를 가진 **편향 샘플 분산(biased sample variance)**이다. 이와 대조되는 **비편향 샘플 분산(unbiased sample variance)**은 다음과 같이 구한다.\n",
    "\n",
    "$$ s^2_{\\text{unbiased}} = \\dfrac{1}{N-1}\\sum_{i=1}^{N} (x_i-m)^2 $$"
   ]
  },
  {
   "cell_type": "markdown",
   "metadata": {
    "school_cell_uuid": "8b2288c509f04468ab891f98559dc815"
   },
   "source": [
    "## 확률 분포의 분산"
   ]
  },
  {
   "cell_type": "markdown",
   "metadata": {
    "school_cell_uuid": "23baf74ed3a249e1abd75cdc25d6961d"
   },
   "source": [
    "확률 분포는 확률 밀도 함수 $f(x)$로 분포 전체의 모양을 정확하게 정의할 수 있으므로 다음과 같이 이론적인 분산을 구할 수 있다.\n",
    "\n",
    "분산을 구하는 연산자는 영어 Variance를 따서 $\\text{Var}[\\cdot]$로 표기하고 이 연산자로 계산된 분산값은 $\\sigma^2$으로 표기한다.\n",
    "\n",
    "$$ \\sigma^2 = \\text{Var}[X] = \\text{E}[(X - \\mu)^2] $$"
   ]
  },
  {
   "cell_type": "markdown",
   "metadata": {
    "school_cell_uuid": "0de91e0e69b440528295c75a9d114b20"
   },
   "source": [
    "이산 확률 변수의 경우에는 확률 질량 함수 $P(x)$를 사용하여 분산을 구한다.\n",
    "\n",
    "$$ \\sigma^2 = \\text{Var}[X] = \\text{E}[(X - \\mu)^2] =  \\sum (x - \\mu)^2 P(x)$$"
   ]
  },
  {
   "cell_type": "markdown",
   "metadata": {
    "school_cell_uuid": "51f1e2ec130d4593be6703c39b5e8f31"
   },
   "source": [
    "이산 확률 변수의 경우에는 확률 밀도 함수 $f(x)$를 사용하여 분산을 구한다.\n",
    "\n",
    "$$ \\sigma^2 = \\text{Var}[X] = \\text{E}[(X - \\mu)^2] = \\int_{-\\infty}^{\\infty} (x - \\mu)^2 f(x)dx$$"
   ]
  },
  {
   "cell_type": "markdown",
   "metadata": {
    "school_cell_uuid": "824871d3a8fc45b0b38fb5dd8816fa97"
   },
   "source": [
    "즉, 분산은 평균으로부터 데이터까지의 거리 제곱을 확률 $P(x)$ 또는 확률 밀도 $f(x)$를 가중치로 하여 평균한 것으로 볼 수 있다."
   ]
  },
  {
   "cell_type": "markdown",
   "metadata": {
    "school_cell_uuid": "83122e7d28614c6da0e6aea9248fd65d"
   },
   "source": [
    "## 분산의 성질"
   ]
  },
  {
   "cell_type": "markdown",
   "metadata": {
    "school_cell_uuid": "f07c23283f4042ae8fbfa3a1e77e5fb4"
   },
   "source": [
    "분산은 다음과 같은 성질을 만족한다.\n",
    "\n",
    "\n",
    "* 0 또는 양수\n",
    "$$ \\text{Var}[X] \\geq 0 $$\n",
    "\n",
    "* 랜덤 변수가 아닌 상수 값 $c$에 대해 \n",
    "$$ \\text{Var}[c] = 0 $$\n",
    "$$ \\text{Var}[cX] = c^2 \\text{Var}[X] $$\n"
   ]
  },
  {
   "cell_type": "markdown",
   "metadata": {
    "school_cell_uuid": "a37af451f57146e3a3777415e8f14d93"
   },
   "source": [
    "또한 기댓값의 성질을 이용하여 다음 성질을 증명할 수 있다.\n",
    "\n",
    "$$ \\text{Var}[X] = \\text{E}[X^2] - (\\text{E}[X])^2  = \\text{E}[X^2] - \\mu^2 $$\n",
    "\n",
    "또는\n",
    "\n",
    "$$ \\text{E}[X^2] = \\mu^2 + \\text{Var}[X] $$"
   ]
  },
  {
   "cell_type": "markdown",
   "metadata": {
    "school_cell_uuid": "89a376f431b7478b973507cbf7e0ba2f"
   },
   "source": [
    "(증명)\n",
    "\n",
    "$$ \n",
    "\\begin{eqnarray}\n",
    "\\text{Var}[X] \n",
    "&=& \\text{E}[(X - \\mu)^2] \\\\\n",
    "&=& \\text{E}[X^2 - 2\\mu X + \\mu^2] \\\\\n",
    "&=& \\text{E}[X^2] - 2\\mu\\text{E}[X] + \\mu^2 \\\\\n",
    "&=& \\text{E}[X^2] - 2\\mu^2 + \\mu^2 \\\\\n",
    "&=& \\text{E}[X^2] - \\mu^2\\\\\n",
    "\\end{eqnarray}\n",
    "$$"
   ]
  },
  {
   "cell_type": "markdown",
   "metadata": {
    "school_cell_uuid": "6f3ee68516494ae9bfa0603a3777e2f4"
   },
   "source": [
    "## 두 확률 변수의 합의 분산"
   ]
  },
  {
   "cell_type": "markdown",
   "metadata": {
    "school_cell_uuid": "c3c711c4d095448f995222d1494754ed"
   },
   "source": [
    "두 확률 변수 $X$, $Y$의 합의 분산은 각 확률 변수의 분산의 합과 다음과 같은 관계가 있다.\n",
    "\n",
    "$$\n",
    "\\text{Var}\\left[ X + Y \\right] =\n",
    "\\text{Var}\\left[ X \\right] + \\text{Var}\\left[ Y \\right]+ 2\\text{E}\\left[ (X-\\mu_X)(Y-\\mu_Y) \\right]\n",
    "$$\n",
    "\n",
    "마지막 항은 양수도 될 수 있고 음수도 될 수 있다.\n",
    "\n",
    "증명은 다음과 같다.\n",
    "\n",
    "$$ \n",
    "\\begin{eqnarray}\n",
    "\\text{Var}\\left[ X + Y \\right] \n",
    "&=& \\text{E}\\left[ (X + Y - (\\mu_X + \\mu_Y))^2 \\right] \\\\\n",
    "&=& \\text{E}\\left[ ((X -\\mu_X) + (Y - \\mu_Y))^2 \\right] \\\\\n",
    "&=& \\text{E}\\left[ (X -\\mu_X)^2 + (Y - \\mu_Y)^2 + 2(X-\\mu_X)(Y-\\mu_Y) \\right] \\\\\n",
    "&=& \\text{E}\\left[ (X -\\mu_X)^2 \\right] + \\text{E}\\left[ (Y - \\mu_Y)^2 \\right] + 2\\text{E}\\left[ (X-\\mu_X)(Y-\\mu_Y) \\right] \n",
    "\\end{eqnarray}\n",
    "$$\n",
    "\n",
    "\n",
    "그런데 이 두 확률 변수 $X$, $Y$가 서로 독립이면 다음처럼 두 확률 변수의 분산의 합이 두 확률 변수의 합의 분산과 같아진다.\n",
    "\n",
    "$$ \\text{Var}\\left[ X + Y \\right] =  \\text{Var}\\left[ X \\right] + \\text{Var}\\left[ Y \\right] $$\n",
    "\n",
    "확률 변수가 독립이라는 것은 서로 영향을 미치지 않는 것을 의미하며 확률 변수의 독립의 수학적 정의는 다음에 설명하기로 한다.\n",
    "\n",
    "두 확률 변수 $X$, $Y$가 서로 독립이면 다음 식이 성립한다. 이 식은 추후에 확률 변수의 독립을 설명할 때 증명하기로 한다.\n",
    "\n",
    "$$ \\text{E}\\left[ (X-\\mu_X)(Y-\\mu_Y) \\right] = 0 $$\n",
    "\n",
    "위 식을 이용하면 독립인 두 확률 변수의 합의 분산은 분산의 합과 같다는 것을 보일 수 있다.\n"
   ]
  },
  {
   "cell_type": "markdown",
   "metadata": {
    "school_cell_uuid": "c5156a8067dc448590e6b3f521ab93b1"
   },
   "source": [
    "## 샘플 평균의 분산"
   ]
  },
  {
   "cell_type": "markdown",
   "metadata": {
    "school_cell_uuid": "58f2af857cd440a6834d62be5c5ee982"
   },
   "source": [
    "확률 변수 $X$의 샘플 평균 $\\bar{X}$도 일종의 확률 변수이고 그 기댓값 $\\text{E}[\\bar{X}]$은 원래 확률 변수 $X$의 기댓값 $\\text{E}[{X}]$과 일치한다는 것을 증명한 적이 있다.\n",
    "\n",
    "$$ \\text{E}[\\bar{X}] = \\text{E}[{X}]$$"
   ]
  },
  {
   "cell_type": "markdown",
   "metadata": {
    "school_cell_uuid": "9c4b8017179b4a3c9e5ef7f212932cb4"
   },
   "source": [
    "샘플 평균$\\bar{X}$의 분산 $\\text{Var}[\\bar{X}]$은 원래 확률 변수 $X$의 분산 $\\text{Var}[{X}]$과 다음 관계를 가진다.\n",
    "\n",
    "$$ \\text{Var}[\\bar{X}] = \\dfrac{1}{N} \\text{Var}[{X}]  $$\n",
    "\n"
   ]
  },
  {
   "cell_type": "markdown",
   "metadata": {
    "school_cell_uuid": "16d27553e8dc4cb0b599cc2b298e2073"
   },
   "source": [
    "증명은 다음과 같다.\n",
    "\n",
    "$$ \n",
    "\\begin{eqnarray}\n",
    "\\text{Var}[\\bar{X}] \n",
    "&=& \\text{Var} \\left[ \\dfrac{1}{N} \\sum_{i=1}^N X_i \\right] \\\\\n",
    "&=& \\text{E} \\left[ \\left( \\dfrac{1}{N} \\sum_{i=1}^N X_i - \\mu \\right)^2 \\right] \\\\\n",
    "&=& \\text{E} \\left[ \\left( \\dfrac{1}{N} \\sum_{i=1}^N X_i - \\dfrac{1}{N}N\\mu \\right)^2 \\right] \\\\\n",
    "&=& \\text{E} \\left[ \\left( \\dfrac{1}{N} \\left( \\sum_{i=1}^N X_i - N\\mu \\right) \\right)^2 \\right] \\\\\n",
    "&=& \\text{E} \\left[ \\left( \\dfrac{1}{N} \\sum_{i=1}^N (X_i - \\mu) \\right)^2 \\right] \\\\\n",
    "&=& \\text{E} \\left[ \\dfrac{1}{N^2} \\sum_{i=1}^N \\sum_{j=1}^N (X_i - \\mu) (X_j - \\mu)  \\right] \\\\\n",
    "&=& \\dfrac{1}{N^2} \\sum_{i=1}^N \\sum_{j=1}^N \\text{E} \\left[  (X_i - \\mu) (X_j - \\mu)  \\right] \\\\\n",
    "\\end{eqnarray}\n",
    "$$\n",
    "\n",
    "여기에서 $X_i$와 $X_j$ ($ i \\neq j $)가 독립일 때 \n",
    "\n",
    "$$ \\text{E}\\left[ (X_i-\\mu)(X_j-\\mu) \\right] = 0 $$\n",
    "\n",
    "라는 사실을 이용하면 $i=j$인 항, 즉 제곱항만 남는다.\n",
    "\n",
    "$$\n",
    "\\begin{eqnarray}\n",
    "\\text{Var}[\\bar{X}]\n",
    "&=& \\dfrac{1}{N^2} \\sum_{i=1}^N \\text{E} \\left[ (X_i - \\mu)^2 \\right] \\\\\n",
    "&=& \\dfrac{1}{N^2} \\sum_{i=1}^N \\text{E} \\left[ (X - \\mu)^2 \\right] \\\\\n",
    "&=& \\dfrac{1}{N^2} N \\text{E} \\left[ (X - \\mu)^2 \\right] \\\\\n",
    "&=& \\dfrac{1}{N} \\text{E} \\left[ (X - \\mu)^2 \\right] \\\\\n",
    "&=& \\dfrac{1}{N} \\text{Var}[X] \\\\\n",
    "\\end{eqnarray}\n",
    "$$ \n"
   ]
  },
  {
   "cell_type": "markdown",
   "metadata": {
    "school_cell_uuid": "f94e18dd802748e18594ac5006447320"
   },
   "source": [
    "## 샘플 분산의 기댓값"
   ]
  },
  {
   "cell_type": "markdown",
   "metadata": {
    "school_cell_uuid": "1957b879b822484daeefbb53e8215c7a"
   },
   "source": [
    "샘플 분산 $s^2$의 기대값을 구하면 이론적인 분산  $\\sigma^2$의 $\\dfrac{N - 1}{N}$ 배가 된다.\n",
    "\n",
    "$$\n",
    "\\text{E}[s^2] = \\dfrac{N-1}{N}\\sigma^2 \n",
    "$$\n",
    "\n",
    "증명은 다음과 같다.\n",
    "\n",
    "$$ \n",
    "\\begin{eqnarray}\n",
    "\\text{E}[s^2] \n",
    "&=& \\text{E} \\left[ \\dfrac{1}{N}\\sum_{i=1}^N (X_i - \\bar{X})^2 \\right] \n",
    "= \\text{E} \\left[ \\dfrac{1}{N}\\sum_{i=1}^N \\left\\{ (X_i -\\mu) - (\\bar{X} - \\mu) \\right \\}^2  \\right] \\\\\n",
    "&=& \\text{E} \\left[ \\dfrac{1}{N}\\sum_{i=1}^N \\left\\{ (X_i -\\mu)^2 - 2 (X_i -\\mu)(\\bar{X} - \\mu) +  (\\bar{X} - \\mu)^2 \\right \\}  \\right] \\\\\n",
    "&=&  \\text{E} \\left[ \\dfrac{1}{N} \\sum_{i=1}^N (X_i -\\mu)^2 \\right] \n",
    "  - 2 \\text{E} \\left[ { \\dfrac{1}{N} \\sum_{i=1}^N (X_i -\\mu)(\\bar{X} - \\mu) } \\right] \n",
    "  +  \\text{E} \\left[ { \\dfrac{1}{N} \\sum_{i=1}^N (\\bar{X} - \\mu)^2 } \\right] \n",
    "\\end{eqnarray} \n",
    "$$\n",
    "\n",
    "이 때 첫번째 항은\n",
    "\n",
    "$$ \n",
    "\\begin{eqnarray}\n",
    "\\text{E} \\left[ \\dfrac{1}{N} \\sum_{i=1}^N (X_i -\\mu)^2 \\right] \n",
    "&=& \\text{E} \\left[ \\dfrac{1}{N} \\sum_{i=1}^N (X -\\mu)^2 \\right] \\\\\n",
    "&=& \\text{E} \\left[ \\dfrac{1}{N} N (X -\\mu)^2 \\right] \\\\\n",
    "&=& \\text{E} \\left[ (X -\\mu)^2 \\right] \\\\\n",
    "&=& \\text{Var}[X] \\\\\n",
    "&=& \\sigma^2 \n",
    "\\end{eqnarray} \n",
    "$$ \n",
    "\n",
    "두번째 항은\n",
    "\n",
    "$$\n",
    "\\begin{eqnarray}\n",
    "\\text{E} \\left[ { \\dfrac{1}{N} \\sum_{i=1}^N (X_i -\\mu)(\\bar{X} - \\mu) } \\right] \n",
    "&=& \\text{E} \\left[ { \\dfrac{1}{N} \\sum_{i=1}^N \\left( \\left( \\dfrac{1}{N} \\sum_{j=1}^N X_j - \\mu \\right) -\\mu \\right)(\\bar{X} - \\mu) } \\right] \\\\\n",
    "&=& \\text{E} \\left[ { \\dfrac{1}{N} \\sum_{i=1}^N (X_i -\\mu) \\left( \\dfrac{1}{N} \\sum_{j=1}^N X_j - \\mu \\right) } \\right]  \\\\\n",
    "&=& \\text{E} \\left[ { \\dfrac{1}{N} \\sum_{i=1}^N (X_i -\\mu) \\left( \\dfrac{1}{N} \\sum_{j=1}^N ( X_j - \\mu ) \\right) } \\right]  \\\\\n",
    "&=& \\text{E} \\left[ { \\dfrac{1}{N^2} \\sum_{i=1}^N \\sum_{j=1}^N (X_i -\\mu)  ( X_j - \\mu )} \\right]  \\\\\n",
    "&=& \\dfrac{1}{N} \\text{Var}[X] \\\\\n",
    "&=& \\dfrac{\\sigma^2}{N}\n",
    "\\end{eqnarray} \n",
    "$$\n",
    "\n",
    "세번째 항은\n",
    "\n",
    "$$\n",
    "\\begin{eqnarray}\n",
    "\\text{E} \\left[ { \\dfrac{1}{N} \\sum_{i=1}^N (\\bar{X} - \\mu)^2 } \\right]\n",
    "&=& \\text{E} \\left[ { \\dfrac{1}{N} \\sum_{i=1}^N \\left( \\dfrac{1}{N} \\sum_{j=1}^N X_j - \\mu \\right)^2 } \\right]  \\\\\n",
    "&=& \\text{E} \\left[ { \\dfrac{1}{N} \\sum_{i=1}^N \\left( \\dfrac{1}{N} \\sum_{j=1}^N (X_j - \\mu) \\right)^2 } \\right]  \\\\\n",
    "&=& \\text{E} \\left[ { \\dfrac{1}{N^2} \\sum_{i=1}^N \\sum_{j=1}^N (X_i -\\mu)  ( X_j - \\mu )} \\right]  \\\\\n",
    "&=& \\dfrac{1}{N} \\text{Var}[X] \\\\\n",
    "&=& \\dfrac{\\sigma^2}{N}\n",
    "\\end{eqnarray} \n",
    "$$\n",
    "\n",
    "이 되므로 세 항의 합은 다음과 같아진다.\n",
    "\n",
    "$$\n",
    "\\text{E}[s^2] = \\sigma^2 - \\dfrac{2\\sigma^2}{N} + \\dfrac{\\sigma^2}{N} = \\dfrac{N-1}{N}\\sigma^2 \n",
    "$$"
   ]
  },
  {
   "cell_type": "markdown",
   "metadata": {
    "school_cell_uuid": "8169a2a6baa54fa781d7f28c6a7a5f1f"
   },
   "source": [
    "따라서 샘플 분산의 기대값이 정확하게 $\\sigma^2$이 되려면 거리 제곱의 평균을 구할 때 분모가 $N$이 아니라 $N-1$이 되어야 한다.\n",
    "\n",
    "$$\n",
    "\\sigma^2 \n",
    "= \\dfrac{N}{N-1} \\text{E}[s^2] \n",
    "= \\dfrac{N}{N-1} \\text{E} \\left[ \\dfrac{1}{N} \\sum (X_i-\\bar{X})^2 \\right] \n",
    "= \\text{E} \\left[ \\dfrac{1}{N-1} \\sum (X_i-\\bar{X})^2 \\right] \n",
    "= \\text{E} \\left[ s^2_{\\text{unbiased}} \\right] \n",
    "$$"
   ]
  },
  {
   "cell_type": "markdown",
   "metadata": {
    "school_cell_uuid": "d3cd4e4fa7cf42bbb443543e9d80df9b"
   },
   "source": [
    "## 파이썬을 사용한 계산"
   ]
  },
  {
   "cell_type": "markdown",
   "metadata": {
    "school_cell_uuid": "bfc7a99dd6434910b372bbaaab4bf991"
   },
   "source": [
    "파이썬에서 샘플 분산과 샘플 표준 편차는 numpy의 다음 함수들을 사용한다.\n",
    "\n",
    "* [`var()`](https://docs.scipy.org/doc/numpy/reference/generated/numpy.var.html)\n",
    "* [`std()`](https://docs.scipy.org/doc/numpy/reference/generated/numpy.std.html)\n",
    "* [`nanvar()`](https://docs.scipy.org/doc/numpy/reference/generated/numpy.nanvar.html)\n",
    "* [`nanstd()`](https://docs.scipy.org/doc/numpy/reference/generated/numpy.nanstd.html)"
   ]
  },
  {
   "cell_type": "code",
   "execution_count": 157,
   "metadata": {
    "school_cell_uuid": "26ad1a98533640bc9274215f0c927284"
   },
   "outputs": [],
   "source": [
    "sp.random.seed(0)\n",
    "x = sp.stats.norm(0, 2).rvs(1000)  # mean=0, standard deviation=2"
   ]
  },
  {
   "cell_type": "code",
   "execution_count": 158,
   "metadata": {
    "school_cell_uuid": "4d301ef71ead4525ac14a453a1e52aff"
   },
   "outputs": [
    {
     "data": {
      "text/plain": [
       "3.8969378252486169"
      ]
     },
     "execution_count": 158,
     "metadata": {},
     "output_type": "execute_result"
    }
   ],
   "source": [
    "np.var(x)"
   ]
  },
  {
   "cell_type": "code",
   "execution_count": 160,
   "metadata": {
    "school_cell_uuid": "ab251cff5c04432c9b49593590e13fa2"
   },
   "outputs": [
    {
     "data": {
      "text/plain": [
       "3.9008386639125292"
      ]
     },
     "execution_count": 160,
     "metadata": {},
     "output_type": "execute_result"
    }
   ],
   "source": [
    "np.var(x, ddof=1)  # unbiased variance"
   ]
  }
 ],
 "metadata": {
  "celltoolbar": "Edit Metadata",
  "kernelspec": {
   "display_name": "Python 3",
   "language": "python",
   "name": "python3"
  },
  "language_info": {
   "codemirror_mode": {
    "name": "ipython",
    "version": 3
   },
   "file_extension": ".py",
   "mimetype": "text/x-python",
   "name": "python",
   "nbconvert_exporter": "python",
   "pygments_lexer": "ipython3",
   "version": "3.6.3"
  }
 },
 "nbformat": 4,
 "nbformat_minor": 1
}