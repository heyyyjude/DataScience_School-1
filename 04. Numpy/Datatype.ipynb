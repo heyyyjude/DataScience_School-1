{
 "cells": [
  {
   "cell_type": "markdown",
   "metadata": {},
   "source": [
    "## Datatype\n",
    "- boolean : bool\n",
    "- integer : int64\n",
    "- float : float64\n",
    "- byte String : S24\n",
    "- unicode String : U24"
   ]
  },
  {
   "cell_type": "code",
   "execution_count": 1,
   "metadata": {},
   "outputs": [],
   "source": [
    "import numpy as np"
   ]
  },
  {
   "cell_type": "code",
   "execution_count": 2,
   "metadata": {},
   "outputs": [
    {
     "data": {
      "text/plain": [
       "dtype('bool')"
      ]
     },
     "execution_count": 2,
     "metadata": {},
     "output_type": "execute_result"
    }
   ],
   "source": [
    "na = np.array([True, False])\n",
    "na.dtype"
   ]
  },
  {
   "cell_type": "code",
   "execution_count": 3,
   "metadata": {},
   "outputs": [
    {
     "data": {
      "text/plain": [
       "dtype('int64')"
      ]
     },
     "execution_count": 3,
     "metadata": {},
     "output_type": "execute_result"
    }
   ],
   "source": [
    "na = np.array([1, 2, 3])\n",
    "na.dtype # 안에 들어있는 value값들에 대한 타입은 동일하다"
   ]
  },
  {
   "cell_type": "code",
   "execution_count": 4,
   "metadata": {},
   "outputs": [
    {
     "data": {
      "text/plain": [
       "dtype('float64')"
      ]
     },
     "execution_count": 4,
     "metadata": {},
     "output_type": "execute_result"
    }
   ],
   "source": [
    "na = np.array([1.0, 2.0, 3.0])\n",
    "na.dtype"
   ]
  },
  {
   "cell_type": "markdown",
   "metadata": {},
   "source": [
    "### change datatype"
   ]
  },
  {
   "cell_type": "code",
   "execution_count": 7,
   "metadata": {},
   "outputs": [
    {
     "name": "stdout",
     "output_type": "stream",
     "text": [
      "[-1.   0.   1.   2.2  3.8]\n",
      "[-1  0  1  2  3]\n",
      "[ True False  True  True  True]\n",
      "[b'True' b'False' b'True' b'True' b'True']\n",
      "['True' 'False' 'True' 'True' 'True']\n"
     ]
    }
   ],
   "source": [
    "na = np.array([-1.0, 0.0, 1.0, 2.2, 3.8])\n",
    "print(na)\n",
    "\n",
    "na = na.astype('int64')\n",
    "print(na)\n",
    "\n",
    "na = na.astype('bool')\n",
    "print(na)\n",
    "\n",
    "na = na.astype('S24')  # byte string\n",
    "print(na)\n",
    "\n",
    "na = na.astype('U24')  # boolean string\n",
    "print(na)"
   ]
  },
  {
   "cell_type": "code",
   "execution_count": 10,
   "metadata": {},
   "outputs": [
    {
     "name": "stdout",
     "output_type": "stream",
     "text": [
      "[[ 0.24421475  0.56224048  0.36370236  0.88340208  0.23399941]\n",
      " [ 0.88868741  0.45219839  0.12702293  0.29601854  0.45143228]\n",
      " [ 0.26289102  0.20460083  0.10230756  0.97367455  0.18419175]\n",
      " [ 0.26094035  0.45999007  0.60375228  0.54093418  0.89407241]\n",
      " [ 0.59608952  0.65862243  0.54742561  0.00289919  0.20450173]]\n"
     ]
    }
   ],
   "source": [
    "# 5~10까지 랜덤한 숫자가 들어있는 5*5 행렬\n",
    "na = np.random.rand(5,5)\n",
    "print(na)"
   ]
  },
  {
   "cell_type": "code",
   "execution_count": 11,
   "metadata": {},
   "outputs": [
    {
     "data": {
      "text/plain": [
       "array([[  6.46528849,   8.37344286,   7.18221417,  10.30041249,\n",
       "          6.40399645],\n",
       "       [ 10.33212447,   7.71319036,   5.76213757,   6.77611123,   7.7085937 ],\n",
       "       [  6.57734611,   6.22760496,   5.61384534,  10.84204733,\n",
       "          6.10515052],\n",
       "       [  6.56564211,   7.75994045,   8.62251369,   8.24560507,\n",
       "         10.36443446],\n",
       "       [  8.57653709,   8.95173458,   8.28455368,   5.01739514,\n",
       "          6.22701035]])"
      ]
     },
     "execution_count": 11,
     "metadata": {},
     "output_type": "execute_result"
    }
   ],
   "source": [
    "na * 6 + 5  "
   ]
  },
  {
   "cell_type": "code",
   "execution_count": 12,
   "metadata": {},
   "outputs": [
    {
     "name": "stdout",
     "output_type": "stream",
     "text": [
      "[[ 6  8  7 10  6]\n",
      " [10  7  5  6  7]\n",
      " [ 6  6  5 10  6]\n",
      " [ 6  7  8  8 10]\n",
      " [ 8  8  8  5  6]]\n"
     ]
    }
   ],
   "source": [
    "na = (na*6+5).astype('int64')\n",
    "print(na)"
   ]
  },
  {
   "cell_type": "code",
   "execution_count": null,
   "metadata": {},
   "outputs": [],
   "source": []
  }
 ],
 "metadata": {
  "kernelspec": {
   "display_name": "Python 3",
   "language": "python",
   "name": "python3"
  },
  "language_info": {
   "codemirror_mode": {
    "name": "ipython",
    "version": 3
   },
   "file_extension": ".py",
   "mimetype": "text/x-python",
   "name": "python",
   "nbconvert_exporter": "python",
   "pygments_lexer": "ipython3",
   "version": "3.5.0"
  }
 },
 "nbformat": 4,
 "nbformat_minor": 2
}
