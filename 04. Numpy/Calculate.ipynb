{
 "cells": [
  {
   "cell_type": "markdown",
   "metadata": {},
   "source": [
    "## Calculate\n",
    "- basic calculate\n",
    "- broadcasting\n",
    "- functions\n",
    "- performance"
   ]
  },
  {
   "cell_type": "code",
   "execution_count": 1,
   "metadata": {},
   "outputs": [],
   "source": [
    "import numpy as np"
   ]
  },
  {
   "cell_type": "markdown",
   "metadata": {},
   "source": [
    "### basic calculate"
   ]
  },
  {
   "cell_type": "code",
   "execution_count": 2,
   "metadata": {},
   "outputs": [
    {
     "name": "stdout",
     "output_type": "stream",
     "text": [
      "before : [1, 2, 3, 4, 5]\n",
      "after : [3, 6, 9, 12, 15]\n"
     ]
    }
   ],
   "source": [
    "# list ( ls *= 3 )\n",
    "ls = [1,2,3,4,5]\n",
    "print(\"before : {}\".format(ls))\n",
    "for idx in range(len(ls)):\n",
    "    ls[idx] = ls[idx] * 3\n",
    "print(\"after : {}\".format(ls))"
   ]
  },
  {
   "cell_type": "code",
   "execution_count": 3,
   "metadata": {},
   "outputs": [
    {
     "name": "stdout",
     "output_type": "stream",
     "text": [
      "<class 'numpy.ndarray'> [ 9 18 27 36 45]\n"
     ]
    }
   ],
   "source": [
    "# np.array ( na *= 3 )\n",
    "na = np.array(ls)\n",
    "na *= 3\n",
    "print(type(na), na)"
   ]
  },
  {
   "cell_type": "code",
   "execution_count": 4,
   "metadata": {},
   "outputs": [
    {
     "name": "stdout",
     "output_type": "stream",
     "text": [
      "[ 9 18 27 36 45]\n",
      "[ 6  7  8  9 10]\n",
      "[ 54 126 216 324 450]\n"
     ]
    }
   ],
   "source": [
    "na_2 = np.array([6,7,8,9,10])  # 데이터의 개수를 맞춰서 계산\n",
    "result = na * na_2\n",
    "print(\"{}\\n{}\\n{}\".format(na, na_2, result))"
   ]
  },
  {
   "cell_type": "code",
   "execution_count": 13,
   "metadata": {},
   "outputs": [
    {
     "data": {
      "text/plain": [
       "(array([ True, False, False, False, False]),\n",
       " array([False, False, False,  True,  True]))"
      ]
     },
     "execution_count": 13,
     "metadata": {},
     "output_type": "execute_result"
    }
   ],
   "source": [
    "# 9와 같으면 True, 30보다 크면 True\n",
    "na == 9, na > 30"
   ]
  },
  {
   "cell_type": "code",
   "execution_count": 5,
   "metadata": {},
   "outputs": [
    {
     "name": "stdout",
     "output_type": "stream",
     "text": [
      "[ True False False  True False]\n"
     ]
    }
   ],
   "source": [
    "# 3의 배수이면 True\n",
    "idx = na_2 % 3 == 0\n",
    "print(idx)"
   ]
  },
  {
   "cell_type": "code",
   "execution_count": 6,
   "metadata": {},
   "outputs": [
    {
     "name": "stdout",
     "output_type": "stream",
     "text": [
      "[ 6  7  8  9 10]\n",
      "[6 9]\n"
     ]
    }
   ],
   "source": [
    "# 3의 배수만 남기기 - Ture, False 리스트를 offset으로 넣어주면 True인 데이터만 남는다.\n",
    "print(na_2)\n",
    "print(na_2[idx])"
   ]
  },
  {
   "cell_type": "code",
   "execution_count": 7,
   "metadata": {},
   "outputs": [
    {
     "name": "stdout",
     "output_type": "stream",
     "text": [
      "[ True False  True  True False]\n",
      "[1 3 4]\n"
     ]
    }
   ],
   "source": [
    "# 리스트에서 같은 수 추출하기\n",
    "na1 = np.array([1,2,3,4,5])\n",
    "na2 = np.array([1,3,3,4,4])\n",
    "print(na1 == na2)\n",
    "print(na1[na1 == na2])"
   ]
  },
  {
   "cell_type": "code",
   "execution_count": 8,
   "metadata": {},
   "outputs": [
    {
     "name": "stdout",
     "output_type": "stream",
     "text": [
      "[ True False  True  True  True]\n",
      "[1 3 4 5]\n"
     ]
    }
   ],
   "source": [
    "# 리스트에서 비교연산으로 수 추출하기\n",
    "na1 = np.array([1,2,3,4,5])\n",
    "na2 = np.array([1,3,3,4,4])\n",
    "print(na1 >= na2)\n",
    "print(na1[na1 >= na2])"
   ]
  },
  {
   "cell_type": "code",
   "execution_count": 9,
   "metadata": {},
   "outputs": [
    {
     "name": "stdout",
     "output_type": "stream",
     "text": [
      "False\n",
      "True\n"
     ]
    }
   ],
   "source": [
    "# 전체 리스트 비교하기\n",
    "na1 = np.array([1,2,3,4,5])\n",
    "na2 = np.array([1,3,3,4,4])\n",
    "na3 = np.array([1,2,3,4,5])\n",
    "print(np.all(na1 == na2))\n",
    "print(np.all(na1 == na3))"
   ]
  },
  {
   "cell_type": "code",
   "execution_count": 10,
   "metadata": {},
   "outputs": [
    {
     "name": "stdout",
     "output_type": "stream",
     "text": [
      "array1 : [0 1 2 3 4 5]\n",
      "array2 : [ 6  7  8  9 10 11]\n",
      "scala : [ 0 10 20 30 40 50]\n",
      "vector : [ 0  7 16 27 40 55]\n",
      "array3 : \n",
      "[[0 1 2]\n",
      " [3 4 5]]\n",
      "array4 : \n",
      "[[ 6  7  8]\n",
      " [ 9 10 11]]\n",
      "matrix : \n",
      "[[ 0  7 16]\n",
      " [27 40 55]]\n"
     ]
    }
   ],
   "source": [
    "# 스칼라, 벡터, 행렬 각 요소 곱셈\n",
    "na = np.arange(6)\n",
    "na2 = np.arange(6,12)\n",
    "\n",
    "print(\"array1 : {}\".format(na))\n",
    "print(\"array2 : {}\".format(na2))\n",
    "\n",
    "print(\"scala : {}\".format(na * 10))\n",
    "print(\"vector : {}\".format(na * na2))"
   ]
  },
  {
   "cell_type": "code",
   "execution_count": 11,
   "metadata": {},
   "outputs": [
    {
     "name": "stdout",
     "output_type": "stream",
     "text": [
      "array3 : \n",
      "[[0 1 2]\n",
      " [3 4 5]]\n",
      "array4 : \n",
      "[[ 6  7  8]\n",
      " [ 9 10 11]]\n",
      "matrix : \n",
      "[[ 0  7 16]\n",
      " [27 40 55]]\n"
     ]
    }
   ],
   "source": [
    "na3 = na.reshape(2,3)\n",
    "na4 = na2.reshape(2,3)\n",
    "print(\"array3 : \\n{}\".format(na3))\n",
    "print(\"array4 : \\n{}\".format(na4))\n",
    "print(\"matrix : \\n{}\".format(na3 * na4))"
   ]
  },
  {
   "cell_type": "markdown",
   "metadata": {},
   "source": [
    "### broadcasting"
   ]
  },
  {
   "cell_type": "code",
   "execution_count": 12,
   "metadata": {},
   "outputs": [
    {
     "name": "stdout",
     "output_type": "stream",
     "text": [
      "na1 : \n",
      "[ 0  1  2  3  4  5  6  7  8  9 10 11]\n",
      "na2 : \n",
      "[[ 0  1  2  3]\n",
      " [ 4  5  6  7]\n",
      " [ 8  9 10 11]]\n",
      "na3 : \n",
      "[[1 1 1 1]\n",
      " [1 1 1 1]\n",
      " [1 1 1 1]]\n"
     ]
    }
   ],
   "source": [
    "# broadcating exam 1  \n",
    "na1 = np.arange(12)\n",
    "na2 = na1.reshape(3,4)\n",
    "print(\"na1 : \\n{}\".format(na1))\n",
    "print(\"na2 : \\n{}\".format(na2))\n",
    "\n",
    "na3 = np.ones_like(na1)\n",
    "na3 = na3.reshape(3,4)\n",
    "print(\"na3 : \\n{}\".format(na3))"
   ]
  },
  {
   "cell_type": "code",
   "execution_count": 13,
   "metadata": {},
   "outputs": [
    {
     "name": "stdout",
     "output_type": "stream",
     "text": [
      "na2 + 1 : \n",
      "[[ 1  2  3  4]\n",
      " [ 5  6  7  8]\n",
      " [ 9 10 11 12]]\n",
      "na2 + na3 : \n",
      "[[ 1  2  3  4]\n",
      " [ 5  6  7  8]\n",
      " [ 9 10 11 12]]\n"
     ]
    }
   ],
   "source": [
    "# + 1 만해도 행렬의 모든 요소에 1을 다 더한다. (broadcating 개념)\n",
    "print(\"na2 + 1 : \\n{}\".format(na2 + 1)) \n",
    "print(\"na2 + na3 : \\n{}\".format(na2 + na3))"
   ]
  },
  {
   "cell_type": "code",
   "execution_count": 14,
   "metadata": {},
   "outputs": [
    {
     "name": "stdout",
     "output_type": "stream",
     "text": [
      "na2 : \n",
      "[[ 0  1  2  3]\n",
      " [ 4  5  6  7]\n",
      " [ 8  9 10 11]]\n",
      "na4 : \n",
      "[0 1 2 3]\n",
      "na2 + na4 : \n",
      "[[ 0  2  4  6]\n",
      " [ 4  6  8 10]\n",
      " [ 8 10 12 14]]\n",
      "na5 : \n",
      "[[0 1 2 3]\n",
      " [0 1 2 3]\n",
      " [0 1 2 3]]\n",
      "na2 + na5 : \n",
      "[[ 0  2  4  6]\n",
      " [ 4  6  8 10]\n",
      " [ 8 10 12 14]]\n"
     ]
    }
   ],
   "source": [
    "# broadcating exam 2\n",
    "na4 = np.arange(4)\n",
    "print(\"na2 : \\n{}\".format(na2))\n",
    "print(\"na4 : \\n{}\".format(na4))\n",
    "\n",
    "print(\"na2 + na4 : \\n{}\".format(na2 + na4)) # 모든 행에 n4를 다 더한다.\n",
    "\n",
    "na5 = np.stack((na4, na4, na4))\n",
    "print(\"na5 : \\n{}\".format(na5))\n",
    "\n",
    "print(\"na2 + na5 : \\n{}\".format(na2 + na5))"
   ]
  },
  {
   "cell_type": "code",
   "execution_count": 16,
   "metadata": {},
   "outputs": [
    {
     "name": "stdout",
     "output_type": "stream",
     "text": [
      "na2 : \n",
      "[[ 0  1  2  3]\n",
      " [ 4  5  6  7]\n",
      " [ 8  9 10 11]]\n",
      "na6 : \n",
      "[[0]\n",
      " [1]\n",
      " [2]]\n",
      "na2 + na6 : \n",
      "[[ 0  1  2  3]\n",
      " [ 5  6  7  8]\n",
      " [10 11 12 13]]\n",
      "na7 : \n",
      "[[0 0 0 0]\n",
      " [1 1 1 1]\n",
      " [2 2 2 2]]\n",
      "na2 + na7 : \n",
      "[[ 0  1  2  3]\n",
      " [ 5  6  7  8]\n",
      " [10 11 12 13]]\n"
     ]
    }
   ],
   "source": [
    "# broadcating exam 3\n",
    "\n",
    "na6 = np.arange(3)[:,np.newaxis]\n",
    "print(\"na2 : \\n{}\".format(na2))\n",
    "print(\"na6 : \\n{}\".format(na6))\n",
    "\n",
    "print(\"na2 + na6 : \\n{}\".format(na2 + na6)) # 모든 열에 na6를 다 더한다. \n",
    "\n",
    "na7 = np.array([[ i for _ in range(4)] for i in range(3)])  # 컴프리핸션 안에 컴프리핸션을 넣은 경우\n",
    "print(\"na7 : \\n{}\".format(na7))\n",
    "\n",
    "print(\"na2 + na7 : \\n{}\".format(na2 + na7))"
   ]
  },
  {
   "cell_type": "markdown",
   "metadata": {},
   "source": [
    "### functions\n",
    "- min, max, argmin, argmax\n",
    "- sum, mean, median, std, var\n",
    "- all, any\n",
    "- quartile\n",
    "- exp, log"
   ]
  },
  {
   "cell_type": "code",
   "execution_count": 18,
   "metadata": {},
   "outputs": [
    {
     "name": "stdout",
     "output_type": "stream",
     "text": [
      "random matrix : \n",
      "[[0 1 1]\n",
      " [7 9 5]]\n",
      "min : 0\n",
      "max : 9\n",
      "argmin : 0\n",
      "argmax : 4\n",
      "mean : 3.8333333333333335\n"
     ]
    }
   ],
   "source": [
    "r = np.random.rand(2,3)\n",
    "r_num = np.arange(5)\n",
    "r_num = (r*10).astype('int64')\n",
    "print(\"random matrix : \\n{}\".format(r_num))\n",
    "print(\"min : {}\".format(r_num.min()))\n",
    "print(\"max : {}\".format(r_num.max()))\n",
    "print(\"argmin : {}\".format(r_num.argmin())) # 최소값 위치\n",
    "print(\"argmax : {}\".format(r_num.argmax())) # 최대값 위치\n",
    "print(\"mean : {}\".format(r_num.mean()))"
   ]
  },
  {
   "cell_type": "code",
   "execution_count": 19,
   "metadata": {},
   "outputs": [
    {
     "name": "stdout",
     "output_type": "stream",
     "text": [
      "random matrix : \n",
      "[[6 4 9]\n",
      " [2 7 3]]\n",
      "sum : 31\n",
      "sum_axis_0 : [ 8 11 12]\n",
      "sum_axis_1 : [19 12]\n",
      "median : 5.0\n",
      "std : 2.4094720491334933\n",
      "var : 5.805555555555556\n"
     ]
    }
   ],
   "source": [
    "r = np.random.rand(2,3)\n",
    "r_num = np.arange(5)\n",
    "r_num = (r*10).astype('int64')\n",
    "print(\"random matrix : \\n{}\".format(r_num))\n",
    "print(\"sum : {}\".format(np.sum(r_num)))\n",
    "print(\"sum_axis_0 : {}\".format(np.sum(r_num, axis=0)))\n",
    "print(\"sum_axis_1 : {}\".format(np.sum(r_num, axis=1)))\n",
    "print(\"median : {}\".format(np.median(r_num))) # 중앙값\n",
    "print(\"std : {}\".format(np.std(r_num))) # standard deviation (표준편차)\n",
    "print(\"var : {}\".format(np.var(r_num))) # variance (변화량)"
   ]
  },
  {
   "cell_type": "code",
   "execution_count": 20,
   "metadata": {},
   "outputs": [
    {
     "name": "stdout",
     "output_type": "stream",
     "text": [
      "[3 4 5 6 7] [3 4 5 6 7] [1 3 5 7 9]\n",
      "\n",
      "[ True  True  True  True  True]\n",
      "True\n",
      "[False False  True False False]\n",
      "False\n",
      "[ True  True False False False]\n",
      "False\n"
     ]
    }
   ],
   "source": [
    "# all\n",
    "# 모든 요소의 조건이 충족하면 True\n",
    "n1 = np.array(range(3,8))\n",
    "n2 = n1\n",
    "n3 = np.array(range(1,11,2))\n",
    "\n",
    "print(n1, n2, n3, end=\"\\n\\n\")\n",
    "\n",
    "print(n1 ==  n2)\n",
    "print(np.all(n1 ==  n2))\n",
    "print(n1 ==  n3)\n",
    "print(np.all(n1 ==  n3))\n",
    "print(n1 >  n3)\n",
    "print(np.all(n1 >  n3))"
   ]
  },
  {
   "cell_type": "code",
   "execution_count": 21,
   "metadata": {},
   "outputs": [
    {
     "name": "stdout",
     "output_type": "stream",
     "text": [
      "[3 4 5 6 7] [3 4 5 6 7] [1 3 5 7 9]\n",
      "\n",
      "[ True  True  True  True  True]\n",
      "True\n",
      "[False False  True False False]\n",
      "True\n",
      "[ True  True False False False]\n",
      "True\n"
     ]
    }
   ],
   "source": [
    "# any\n",
    "# 요소의 하나라도 조건이 충족하면 True\n",
    "n1 = np.array(range(3,8))\n",
    "n2 = n1\n",
    "n3 = np.array(range(1,11,2))\n",
    "\n",
    "print(n1, n2, n3, end=\"\\n\\n\")\n",
    "\n",
    "print(n1 ==  n2)\n",
    "print(np.any(n1 ==  n2))\n",
    "print(n1 ==  n3)\n",
    "print(np.any(n1 ==  n3))\n",
    "print(n1 >  n3)\n",
    "print(np.any(n1 >  n3))"
   ]
  },
  {
   "cell_type": "code",
   "execution_count": 22,
   "metadata": {},
   "outputs": [
    {
     "name": "stdout",
     "output_type": "stream",
     "text": [
      "[  0   1   2   3   4   5   6   7   8   9  10  11  12  13  14  15  16  17\n",
      "  18  19  20  21  22  23  24  25  26  27  28  29  30  31  32  33  34  35\n",
      "  36  37  38  39  40  41  42  43  44  45  46  47  48  49  50  51  52  53\n",
      "  54  55  56  57  58  59  60  61  62  63  64  65  66  67  68  69  70  71\n",
      "  72  73  74  75  76  77  78  79  80  81  82  83  84  85  86  87  88  89\n",
      "  90  91  92  93  94  95  96  97  98  99 100]\n"
     ]
    },
    {
     "data": {
      "text/plain": [
       "(25.0, 45.0)"
      ]
     },
     "execution_count": 22,
     "metadata": {},
     "output_type": "execute_result"
    }
   ],
   "source": [
    "# quartile (사분위수)\n",
    "na = np.array([num for num in range(0,101)])\n",
    "print(na)\n",
    "np.percentile(na, 25), np.percentile(na, 45)  # 25퍼센트에 해당되는 데이터가 나오는 것"
   ]
  },
  {
   "cell_type": "code",
   "execution_count": 23,
   "metadata": {},
   "outputs": [
    {
     "name": "stdout",
     "output_type": "stream",
     "text": [
      "[ 0  1  2  3  4  5  6  7  8  9 10 11 12 13 14 15 16 17 18 19 20 21 22 23 24\n",
      " 25 26 27 28 29 30 31 32 33 34 35 36 37 38 39 40 41 42 43 44 45 46 47 48 49\n",
      " 50]\n"
     ]
    },
    {
     "data": {
      "text/plain": [
       "(12.5, 22.5)"
      ]
     },
     "execution_count": 23,
     "metadata": {},
     "output_type": "execute_result"
    }
   ],
   "source": [
    "# quartile (사분위수)\n",
    "na = np.array([num for num in range(0,51)])\n",
    "print(na)\n",
    "np.percentile(na, 25), np.percentile(na, 45)"
   ]
  },
  {
   "cell_type": "code",
   "execution_count": 24,
   "metadata": {},
   "outputs": [
    {
     "name": "stdout",
     "output_type": "stream",
     "text": [
      "[1 2 3 4 5]\n",
      "[   2.71828183    7.3890561    20.08553692   54.59815003  148.4131591 ]\n"
     ]
    }
   ],
   "source": [
    "# exponential function (지수함수)\n",
    "na = np.arange(1,6)\n",
    "print(na)\n",
    "print(np.exp(na))\n",
    "\n",
    "# 차이는 1씩 밖에 안나지만 지수함수를 씌워주면 확대된 걸로 볼 수 있다. "
   ]
  },
  {
   "cell_type": "code",
   "execution_count": 25,
   "metadata": {},
   "outputs": [
    {
     "name": "stdout",
     "output_type": "stream",
     "text": [
      "[1 2 3 4 5]\n",
      "[ 0.          0.69314718  1.09861229  1.38629436  1.60943791]\n"
     ]
    }
   ],
   "source": [
    "# log function (로그함수)\n",
    "na = np.arange(1,6)\n",
    "print(na)\n",
    "print(np.log(na))\n",
    "\n",
    "# 수치들이 너무 커서 좀 축소해서 보고 싶을 때"
   ]
  },
  {
   "cell_type": "markdown",
   "metadata": {},
   "source": [
    "### performance\n",
    "- 10**7개의 리스트에서 3과 5의 배수의 갯수를 찾는 시간"
   ]
  },
  {
   "cell_type": "code",
   "execution_count": 26,
   "metadata": {},
   "outputs": [],
   "source": [
    "ls = []\n",
    "size = int(1E7)\n",
    "for data in range(size):\n",
    "    ls.append(data)\n",
    "na = np.array(ls)"
   ]
  },
  {
   "cell_type": "code",
   "execution_count": 32,
   "metadata": {},
   "outputs": [
    {
     "name": "stdout",
     "output_type": "stream",
     "text": [
      "CPU times: user 4 µs, sys: 0 ns, total: 4 µs\n",
      "Wall time: 8.11 µs\n",
      "4666667\n"
     ]
    }
   ],
   "source": [
    "# for문을 이용해서\n",
    "\n",
    "%time\n",
    "count = 0\n",
    "for idx in range(len(ls)):\n",
    "    if (ls[idx] % 3 == 0) or (ls[idx] % 5 == 0):\n",
    "        count += 1\n",
    "print(count)"
   ]
  },
  {
   "cell_type": "code",
   "execution_count": 33,
   "metadata": {},
   "outputs": [
    {
     "name": "stdout",
     "output_type": "stream",
     "text": [
      "CPU times: user 3 µs, sys: 1e+03 ns, total: 4 µs\n",
      "Wall time: 7.87 µs\n",
      "4666667\n"
     ]
    }
   ],
   "source": [
    "# numpy를 이용해서\n",
    "\n",
    "%time\n",
    "count = len(na[(na%3 == 0) | (na%5 == 0)])\n",
    "print(count)"
   ]
  },
  {
   "cell_type": "code",
   "execution_count": null,
   "metadata": {},
   "outputs": [],
   "source": []
  }
 ],
 "metadata": {
  "kernelspec": {
   "display_name": "Python 3",
   "language": "python",
   "name": "python3"
  },
  "language_info": {
   "codemirror_mode": {
    "name": "ipython",
    "version": 3
   },
   "file_extension": ".py",
   "mimetype": "text/x-python",
   "name": "python",
   "nbconvert_exporter": "python",
   "pygments_lexer": "ipython3",
   "version": "3.5.0"
  }
 },
 "nbformat": 4,
 "nbformat_minor": 2
}
