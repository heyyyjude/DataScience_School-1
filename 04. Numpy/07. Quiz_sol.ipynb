{
 "cells": [
  {
   "cell_type": "markdown",
   "metadata": {},
   "source": [
    "## Quiz - sol"
   ]
  },
  {
   "cell_type": "code",
   "execution_count": 1,
   "metadata": {},
   "outputs": [],
   "source": [
    "import numpy as np\n",
    "import random"
   ]
  },
  {
   "cell_type": "markdown",
   "metadata": {},
   "source": [
    "### 1. 5개의 1로 이루어진 정수데이터 타입의 벡터를 만드세요"
   ]
  },
  {
   "cell_type": "code",
   "execution_count": 2,
   "metadata": {
    "scrolled": true
   },
   "outputs": [],
   "source": [
    "np.ones(5) ;   # 놉"
   ]
  },
  {
   "cell_type": "code",
   "execution_count": 3,
   "metadata": {
    "scrolled": true
   },
   "outputs": [
    {
     "data": {
      "text/plain": [
       "array([1, 1, 1, 1, 1])"
      ]
     },
     "execution_count": 3,
     "metadata": {},
     "output_type": "execute_result"
    }
   ],
   "source": [
    "data = np.ones(5, dtype = 'int'); data"
   ]
  },
  {
   "cell_type": "markdown",
   "metadata": {},
   "source": [
    "### 2. 10개의 1로 이루어진 정수 데이터 타입의 벡터에서 마지막 3개의 데이터는 5가 들어있는 벡터를 만드세요"
   ]
  },
  {
   "cell_type": "code",
   "execution_count": 4,
   "metadata": {},
   "outputs": [
    {
     "data": {
      "text/plain": [
       "array([1, 1, 1, 1, 1, 1, 1, 5, 5, 5])"
      ]
     },
     "execution_count": 4,
     "metadata": {},
     "output_type": "execute_result"
    }
   ],
   "source": [
    "data = np.ones(10, dtype = 'int')\n",
    "data[7:] = 5\n",
    "data"
   ]
  },
  {
   "cell_type": "code",
   "execution_count": 5,
   "metadata": {},
   "outputs": [
    {
     "data": {
      "text/plain": [
       "array([1, 1, 1, 1, 1, 1, 1, 5, 5, 5])"
      ]
     },
     "execution_count": 5,
     "metadata": {},
     "output_type": "execute_result"
    }
   ],
   "source": [
    "data = np.ones(10, dtype = 'int')\n",
    "data[-3:] = 5\n",
    "data"
   ]
  },
  {
   "cell_type": "markdown",
   "metadata": {},
   "source": [
    "### 3. 10에서 20까지의 데이터를 가지는 벡터를 만드세요"
   ]
  },
  {
   "cell_type": "code",
   "execution_count": 6,
   "metadata": {},
   "outputs": [
    {
     "data": {
      "text/plain": [
       "array([10, 11, 12, 13, 14, 15, 16, 17, 18, 19, 20])"
      ]
     },
     "execution_count": 6,
     "metadata": {},
     "output_type": "execute_result"
    }
   ],
   "source": [
    "data = np.arange(10,21, dtype = 'int')\n",
    "data"
   ]
  },
  {
   "cell_type": "markdown",
   "metadata": {},
   "source": [
    "### 4. 위 벡터의 순서를 바꾸세요"
   ]
  },
  {
   "cell_type": "code",
   "execution_count": 7,
   "metadata": {},
   "outputs": [
    {
     "data": {
      "text/plain": [
       "array([20, 19, 18, 17, 16, 15, 14, 13, 12, 11, 10])"
      ]
     },
     "execution_count": 7,
     "metadata": {},
     "output_type": "execute_result"
    }
   ],
   "source": [
    "data = np.arange(20,9,-1)\n",
    "data"
   ]
  },
  {
   "cell_type": "code",
   "execution_count": 8,
   "metadata": {},
   "outputs": [
    {
     "data": {
      "text/plain": [
       "array([10, 11, 12, 13, 14, 15, 16, 17, 18, 19, 20])"
      ]
     },
     "execution_count": 8,
     "metadata": {},
     "output_type": "execute_result"
    }
   ],
   "source": [
    "_[::-1]"
   ]
  },
  {
   "cell_type": "markdown",
   "metadata": {},
   "source": [
    "### 5. 0부터 8까지의 값을 가지는 3x3 행렬을 만드세요"
   ]
  },
  {
   "cell_type": "code",
   "execution_count": 9,
   "metadata": {},
   "outputs": [
    {
     "data": {
      "text/plain": [
       "array([[0, 1, 2],\n",
       "       [3, 4, 5],\n",
       "       [6, 7, 8]])"
      ]
     },
     "execution_count": 9,
     "metadata": {},
     "output_type": "execute_result"
    }
   ],
   "source": [
    "data = np.arange(9).reshape(3,3)\n",
    "data"
   ]
  },
  {
   "cell_type": "markdown",
   "metadata": {},
   "source": [
    "### 6. 위의 벡터에서  `[[4,5],[7,8]]`  행렬을 만드세요"
   ]
  },
  {
   "cell_type": "code",
   "execution_count": 10,
   "metadata": {},
   "outputs": [
    {
     "data": {
      "text/plain": [
       "array([[4, 5],\n",
       "       [7, 8]])"
      ]
     },
     "execution_count": 10,
     "metadata": {},
     "output_type": "execute_result"
    }
   ],
   "source": [
    "data[1:,1:]"
   ]
  },
  {
   "cell_type": "markdown",
   "metadata": {},
   "source": [
    "### 7. 1에서 10까지의 데이터를 랜덤하게 가지는 3*4 행렬을 만드세요"
   ]
  },
  {
   "cell_type": "code",
   "execution_count": 11,
   "metadata": {},
   "outputs": [
    {
     "data": {
      "text/plain": [
       "array([[1, 2, 6, 7],\n",
       "       [2, 8, 5, 8],\n",
       "       [3, 5, 1, 5]])"
      ]
     },
     "execution_count": 11,
     "metadata": {},
     "output_type": "execute_result"
    }
   ],
   "source": [
    "data = np.random.randint(1,11,size=12).reshape(3,4)\n",
    "data"
   ]
  },
  {
   "cell_type": "markdown",
   "metadata": {},
   "source": [
    "### 8. 위에서 만든 행렬의 unique 한 숫자들 리스트와 각숫자의 갯수를 리스트로 나타내세요"
   ]
  },
  {
   "cell_type": "code",
   "execution_count": 12,
   "metadata": {},
   "outputs": [
    {
     "name": "stdout",
     "output_type": "stream",
     "text": [
      "[1 2 3 5 6 7 8]\n",
      "[2 2 1 3 1 1 2]\n"
     ]
    }
   ],
   "source": [
    "index, count = np.unique(data, return_counts = True)\n",
    "print(index)\n",
    "print(count)"
   ]
  },
  {
   "cell_type": "markdown",
   "metadata": {},
   "source": [
    "### 9. 1에서 12까지에 숫자가 들어간 3*4 행렬을 만드시고 행과 열에 관계없이 데이터를 섞으세요"
   ]
  },
  {
   "cell_type": "code",
   "execution_count": 13,
   "metadata": {},
   "outputs": [
    {
     "data": {
      "text/plain": [
       "array([[ 1,  8, 12,  4],\n",
       "       [ 5,  7,  8,  2],\n",
       "       [10,  2, 10,  3]])"
      ]
     },
     "execution_count": 13,
     "metadata": {},
     "output_type": "execute_result"
    }
   ],
   "source": [
    "data = np.random.randint(1,13, size = 12).reshape(3,4)\n",
    "np.random.shuffle(data)\n",
    "data"
   ]
  },
  {
   "cell_type": "code",
   "execution_count": 14,
   "metadata": {},
   "outputs": [
    {
     "data": {
      "text/plain": [
       "array([[ 5,  8,  1,  4],\n",
       "       [ 7,  2,  2,  3],\n",
       "       [ 8, 10, 10, 12]])"
      ]
     },
     "execution_count": 14,
     "metadata": {},
     "output_type": "execute_result"
    }
   ],
   "source": [
    "data = data.reshape(12)\n",
    "np.random.shuffle(data)\n",
    "data.reshape(3,4)"
   ]
  },
  {
   "cell_type": "markdown",
   "metadata": {},
   "source": [
    "### 10. 1부터 10까지의 랜덤한 데이터가 들어가는 `3*3`행렬을 만드시고 가장 아래에 위의 데이터를 모두 합한 `1*3`행렬을 추가해서 `4*3`행렬을 만드세요"
   ]
  },
  {
   "cell_type": "code",
   "execution_count": 48,
   "metadata": {
    "scrolled": true
   },
   "outputs": [
    {
     "data": {
      "text/plain": [
       "array([[10,  1,  1],\n",
       "       [10,  1,  8],\n",
       "       [ 5,  4,  8]])"
      ]
     },
     "execution_count": 48,
     "metadata": {},
     "output_type": "execute_result"
    }
   ],
   "source": [
    "data = np.random.randint(1,11,size = 9).reshape(3,3)\n",
    "data"
   ]
  },
  {
   "cell_type": "code",
   "execution_count": 49,
   "metadata": {},
   "outputs": [
    {
     "data": {
      "text/plain": [
       "array([[10,  1,  1],\n",
       "       [10,  1,  8],\n",
       "       [ 5,  4,  8],\n",
       "       [25,  6, 17]])"
      ]
     },
     "execution_count": 49,
     "metadata": {},
     "output_type": "execute_result"
    }
   ],
   "source": [
    "# data = data[0] + data[1] + data[2]\n",
    "data2 = data[0] + data[1] + data[2]\n",
    "data2 = data2.reshape(1,3)\n",
    "\n",
    "result = np.concatenate([data,data2], axis = 0)\n",
    "result"
   ]
  },
  {
   "cell_type": "code",
   "execution_count": 50,
   "metadata": {},
   "outputs": [
    {
     "data": {
      "text/plain": [
       "array([[10,  1,  1],\n",
       "       [10,  1,  8],\n",
       "       [ 5,  4,  8],\n",
       "       [25,  6, 17]])"
      ]
     },
     "execution_count": 50,
     "metadata": {},
     "output_type": "execute_result"
    }
   ],
   "source": [
    "sum_data = np.sum(data, axis = 0).reshape(1,3)\n",
    "data = np.concatenate( [data, sum_data])\n",
    "data"
   ]
  },
  {
   "cell_type": "markdown",
   "metadata": {},
   "source": [
    "### 11. 10번문제의 결과로 나온 행렬데이터에서 평균값을 출력하고 평균값보다 큰 숫자들만 유니크한 리스트로 나열하세요 (평균값은 소수 둘째 자리까지만 나타내세요)"
   ]
  },
  {
   "cell_type": "code",
   "execution_count": 58,
   "metadata": {},
   "outputs": [
    {
     "name": "stdout",
     "output_type": "stream",
     "text": [
      "avg : 15.5\n"
     ]
    },
    {
     "data": {
      "text/plain": [
       "array([17, 25])"
      ]
     },
     "execution_count": 58,
     "metadata": {},
     "output_type": "execute_result"
    }
   ],
   "source": [
    "avg = result.mean()\n",
    "print(\"avg : {}\".format(avg))\n",
    "result = result[result > avg]\n",
    "np.unique(result)"
   ]
  },
  {
   "cell_type": "code",
   "execution_count": 59,
   "metadata": {},
   "outputs": [
    {
     "name": "stdout",
     "output_type": "stream",
     "text": [
      "avg :  15.5\n"
     ]
    },
    {
     "data": {
      "text/plain": [
       "array([17, 25])"
      ]
     },
     "execution_count": 59,
     "metadata": {},
     "output_type": "execute_result"
    }
   ],
   "source": [
    "avg_data = data.mean()\n",
    "data = data[data > avg_data]\n",
    "print(\"avg : \", round(avg_data, 2))\n",
    "np.unique(data)"
   ]
  },
  {
   "cell_type": "markdown",
   "metadata": {},
   "source": [
    "### 12. 1부터 20까지의 랜덤숫자를 가지는 5*5 행렬을 만드시고 최대값에는 숫자(MAX), 최소값에는 숫자(MIN)으로 행렬을 바꾸세요"
   ]
  },
  {
   "cell_type": "code",
   "execution_count": 20,
   "metadata": {
    "scrolled": false
   },
   "outputs": [
    {
     "data": {
      "text/plain": [
       "array([[ 6,  4,  6,  1, 19],\n",
       "       [17, 17,  6, 20,  9],\n",
       "       [ 1, 18, 18,  6, 12],\n",
       "       [ 7, 10, 13, 15,  8],\n",
       "       [ 1, 13,  5, 18, 19]])"
      ]
     },
     "execution_count": 20,
     "metadata": {},
     "output_type": "execute_result"
    }
   ],
   "source": [
    "mat = np.random.randint(1,21, size = 25).reshape(5,5);mat"
   ]
  },
  {
   "cell_type": "code",
   "execution_count": 21,
   "metadata": {},
   "outputs": [],
   "source": [
    "tmp_mat = []\n",
    "for i in mat:\n",
    "    for j in range(5):\n",
    "        if i[j] == mat.max():\n",
    "            tmp_mat.append(\"{}({})\".format(i[j],\"MAX\"))\n",
    "        elif i[j] == mat.min():\n",
    "            tmp_mat.append(\"{}({})\".format(i[j],\"MIN\"))\n",
    "        else:\n",
    "            tmp_mat.append(i[j])"
   ]
  },
  {
   "cell_type": "code",
   "execution_count": 22,
   "metadata": {},
   "outputs": [
    {
     "data": {
      "text/plain": [
       "array([['6', '4', '6', '1(MIN)', '19'],\n",
       "       ['17', '17', '6', '20(MAX)', '9'],\n",
       "       ['1(MIN)', '18', '18', '6', '12'],\n",
       "       ['7', '10', '13', '15', '8'],\n",
       "       ['1(MIN)', '13', '5', '18', '19']],\n",
       "      dtype='<U21')"
      ]
     },
     "execution_count": 22,
     "metadata": {},
     "output_type": "execute_result"
    }
   ],
   "source": [
    "result = np.array(tmp_mat); result.reshape(5,5)"
   ]
  },
  {
   "cell_type": "code",
   "execution_count": 63,
   "metadata": {},
   "outputs": [
    {
     "data": {
      "text/plain": [
       "array([[11, 19, 13,  4, 10],\n",
       "       [16,  6, 15, 11,  8],\n",
       "       [ 5, 10, 12,  9, 19],\n",
       "       [13,  3, 14, 17, 10],\n",
       "       [ 3,  6,  6, 19, 18]])"
      ]
     },
     "execution_count": 63,
     "metadata": {},
     "output_type": "execute_result"
    }
   ],
   "source": [
    "data = np.random.randint(1,21,size = (5,5))\n",
    "data"
   ]
  },
  {
   "cell_type": "code",
   "execution_count": 65,
   "metadata": {},
   "outputs": [
    {
     "data": {
      "text/plain": [
       "(3, 19)"
      ]
     },
     "execution_count": 65,
     "metadata": {},
     "output_type": "execute_result"
    }
   ],
   "source": [
    "min_number, max_number = np.min(data), np.max(data)\n",
    "min_number, max_number"
   ]
  },
  {
   "cell_type": "code",
   "execution_count": 66,
   "metadata": {},
   "outputs": [],
   "source": [
    "min_number, max_number = np.min(data), np.max(data)\n",
    "min_idx = data == min_number\n",
    "max_idx = data == max_number"
   ]
  },
  {
   "cell_type": "code",
   "execution_count": 67,
   "metadata": {},
   "outputs": [
    {
     "data": {
      "text/plain": [
       "array([['11', '19(MAX)', '13', '4', '10'],\n",
       "       ['16', '6', '15', '11', '8'],\n",
       "       ['5', '10', '12', '9', '19(MAX)'],\n",
       "       ['13', '3(MIN)', '14', '17', '10'],\n",
       "       ['3(MIN)', '6', '6', '19(MAX)', '18']],\n",
       "      dtype='<U21')"
      ]
     },
     "execution_count": 67,
     "metadata": {},
     "output_type": "execute_result"
    }
   ],
   "source": [
    "data = data.astype('str')\n",
    "data[min_idx] = str(min_number) + \"(MIN)\"\n",
    "data[max_idx] = str(max_number) + \"(MAX)\"\n",
    "data"
   ]
  },
  {
   "cell_type": "markdown",
   "metadata": {},
   "source": [
    "### 13. 100에서 130까지의 랜덤 숫자를 가지는 8*8행렬을 만드시고 3의 배수에는 fiz, 5의 배수에는 buz, 3과 5의 배수는 fbz 문자를 출력하세요"
   ]
  },
  {
   "cell_type": "code",
   "execution_count": 25,
   "metadata": {},
   "outputs": [
    {
     "data": {
      "text/plain": [
       "array([[106, 125, 108, 117, 122, 130, 125, 115],\n",
       "       [101, 127, 110, 118, 101, 125, 115, 112],\n",
       "       [102, 119, 101, 113, 102, 109, 113, 128],\n",
       "       [114, 105, 127, 117, 108, 121, 119, 124],\n",
       "       [102, 105, 117, 120, 107, 122, 127, 104],\n",
       "       [112, 112, 114, 121, 111, 109, 110, 106],\n",
       "       [122, 101, 108, 100, 102, 106, 110, 110],\n",
       "       [130, 111, 127, 102, 109, 126, 106, 115]])"
      ]
     },
     "execution_count": 25,
     "metadata": {},
     "output_type": "execute_result"
    }
   ],
   "source": [
    "mat = np.random.randint(100,131, size = 64).reshape(8,8);mat"
   ]
  },
  {
   "cell_type": "code",
   "execution_count": 26,
   "metadata": {},
   "outputs": [
    {
     "data": {
      "text/plain": [
       "array([['106', 'buz', 'fiz', 'fiz', '122', 'buz', 'buz', 'buz'],\n",
       "       ['101', '127', 'buz', '118', '101', 'buz', 'buz', '112'],\n",
       "       ['fiz', '119', '101', '113', 'fiz', '109', '113', '128'],\n",
       "       ['fiz', 'fbz', '127', 'fiz', 'fiz', '121', '119', '124'],\n",
       "       ['fiz', 'fbz', 'fiz', 'fbz', '107', '122', '127', '104'],\n",
       "       ['112', '112', 'fiz', '121', 'fiz', '109', 'buz', '106'],\n",
       "       ['122', '101', 'fiz', 'buz', 'fiz', '106', 'buz', 'buz'],\n",
       "       ['buz', 'fiz', '127', 'fiz', '109', 'fiz', '106', 'buz']],\n",
       "      dtype='<U3')"
      ]
     },
     "execution_count": 26,
     "metadata": {},
     "output_type": "execute_result"
    }
   ],
   "source": [
    "tmp = []\n",
    "for i in mat:\n",
    "    for j in range(8):\n",
    "        if i[j] % 3 == 0 and i[j] % 5 == 0:\n",
    "            tmp.append(\"fbz\")\n",
    "        elif i[j] % 3 == 0:\n",
    "            tmp.append(\"fiz\")\n",
    "        elif i[j] % 5 == 0:\n",
    "            tmp.append(\"buz\")\n",
    "        else:\n",
    "            tmp.append(str(i[j]))\n",
    "mat_1 = np.array(tmp).reshape(8,8)\n",
    "mat_1"
   ]
  },
  {
   "cell_type": "code",
   "execution_count": 69,
   "metadata": {},
   "outputs": [
    {
     "data": {
      "text/plain": [
       "array([[107, 101, 101, 114, 116, 116, 103, 109],\n",
       "       [119, 110, 109, 111, 118, 102, 119, 102],\n",
       "       [102, 101, 107, 107, 101, 115, 102, 106],\n",
       "       [116, 109, 108, 103, 113, 101, 104, 113],\n",
       "       [120, 115, 110, 112, 102, 107, 120, 112],\n",
       "       [116, 106, 119, 118, 102, 116, 117, 104],\n",
       "       [111, 100, 101, 117, 113, 112, 101, 110],\n",
       "       [109, 120, 104, 108, 102, 105, 105, 114]])"
      ]
     },
     "execution_count": 69,
     "metadata": {},
     "output_type": "execute_result"
    }
   ],
   "source": [
    "data = np.random.randint(100, 121, size = (8,8))\n",
    "data"
   ]
  },
  {
   "cell_type": "code",
   "execution_count": 70,
   "metadata": {},
   "outputs": [],
   "source": [
    "idx_3 = mat % 3 == 0\n",
    "idx_5 = mat % 5 == 0\n",
    "idx_15 = mat % 15 == 0"
   ]
  },
  {
   "cell_type": "code",
   "execution_count": 71,
   "metadata": {},
   "outputs": [
    {
     "data": {
      "text/plain": [
       "array([['107', 'buz', 'fiz', 'fiz', '116', 'buz', 'buz', 'buz'],\n",
       "       ['119', '110', 'buz', '111', '118', 'buz', 'buz', '102'],\n",
       "       ['fiz', '101', '107', '107', 'fiz', '115', '102', '106'],\n",
       "       ['fiz', 'fbz', '108', 'fiz', 'fiz', '101', '104', '113'],\n",
       "       ['fiz', 'fbz', 'fiz', 'fbz', '102', '107', '120', '112'],\n",
       "       ['116', '106', 'fiz', '118', 'fiz', '116', 'buz', '104'],\n",
       "       ['111', '100', 'fiz', 'buz', 'fiz', '112', 'buz', 'buz'],\n",
       "       ['buz', 'fiz', '104', 'fiz', '102', 'fiz', '105', 'buz']],\n",
       "      dtype='<U21')"
      ]
     },
     "execution_count": 71,
     "metadata": {},
     "output_type": "execute_result"
    }
   ],
   "source": [
    "data = data.astype(\"str\")\n",
    "data[idx_3] = \"fiz\"\n",
    "data[idx_5] = \"buz\"\n",
    "data[idx_15] = \"fbz\"\n",
    "data"
   ]
  },
  {
   "cell_type": "markdown",
   "metadata": {},
   "source": [
    "### 14. 리스트 컴프리헨션을 이용하여 아래와 같은 규칙은 갖는 행렬을 만드세요"
   ]
  },
  {
   "cell_type": "code",
   "execution_count": 72,
   "metadata": {},
   "outputs": [
    {
     "name": "stdout",
     "output_type": "stream",
     "text": [
      "number :5\n",
      "[[ 1  2  3  4  5]\n",
      " [ 2  4  6  8 10]\n",
      " [ 3  6  9 12 15]\n",
      " [ 4  8 12 16 20]\n",
      " [ 5 10 15 20 25]]\n"
     ]
    }
   ],
   "source": [
    "number = int(input(\"number :\"))\n",
    "data = np.arange(1,number+1);data\n",
    "result = np.stack([data*i for i in range(1,number+1)], axis =0)\n",
    "print(result)"
   ]
  },
  {
   "cell_type": "code",
   "execution_count": 76,
   "metadata": {},
   "outputs": [
    {
     "name": "stdout",
     "output_type": "stream",
     "text": [
      "number :  5\n"
     ]
    },
    {
     "data": {
      "text/plain": [
       "array([[ 1,  2,  3,  4,  5],\n",
       "       [ 2,  4,  6,  8, 10],\n",
       "       [ 3,  6,  9, 12, 15],\n",
       "       [ 4,  8, 12, 16, 20],\n",
       "       [ 5, 10, 15, 20, 25]])"
      ]
     },
     "execution_count": 76,
     "metadata": {},
     "output_type": "execute_result"
    }
   ],
   "source": [
    "number = 5\n",
    "data = np.array([[ i * j for j in range(1, number + 1)] for i in range(1, number + 1)])\n",
    "print(\"number : \", number)\n",
    "data"
   ]
  },
  {
   "cell_type": "code",
   "execution_count": null,
   "metadata": {},
   "outputs": [],
   "source": []
  }
 ],
 "metadata": {
  "kernelspec": {
   "display_name": "Python 3",
   "language": "python",
   "name": "python3"
  },
  "language_info": {
   "codemirror_mode": {
    "name": "ipython",
    "version": 3
   },
   "file_extension": ".py",
   "mimetype": "text/x-python",
   "name": "python",
   "nbconvert_exporter": "python",
   "pygments_lexer": "ipython3",
   "version": "3.5.0"
  }
 },
 "nbformat": 4,
 "nbformat_minor": 2
}
