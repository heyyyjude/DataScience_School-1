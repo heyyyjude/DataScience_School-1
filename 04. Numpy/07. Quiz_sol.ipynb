{
 "cells": [
  {
   "cell_type": "markdown",
   "metadata": {},
   "source": [
    "## Quiz - sol"
   ]
  },
  {
   "cell_type": "code",
   "execution_count": 2,
   "metadata": {},
   "outputs": [],
   "source": [
    "import numpy as np"
   ]
  },
  {
   "cell_type": "markdown",
   "metadata": {},
   "source": [
    "### 1. 5개의 1로 이루어진 정수데이터 타입의 벡터를 만드세요"
   ]
  },
  {
   "cell_type": "code",
   "execution_count": 6,
   "metadata": {},
   "outputs": [
    {
     "data": {
      "text/plain": [
       "array([ 1.,  1.,  1.,  1.,  1.])"
      ]
     },
     "execution_count": 6,
     "metadata": {},
     "output_type": "execute_result"
    }
   ],
   "source": [
    "np.ones(5) ; o  # 놉"
   ]
  },
  {
   "cell_type": "code",
   "execution_count": 8,
   "metadata": {},
   "outputs": [
    {
     "data": {
      "text/plain": [
       "array([1, 1, 1, 1, 1])"
      ]
     },
     "execution_count": 8,
     "metadata": {},
     "output_type": "execute_result"
    }
   ],
   "source": [
    "data = np.ones(5, dtype = 'int'); data"
   ]
  },
  {
   "cell_type": "markdown",
   "metadata": {},
   "source": [
    "### 2. 10개의 1로 이루어진 정수 데이터 타입의 벡터에서 마지막 3개의 데이터는 5가 들어있는 벡터를 만드세요"
   ]
  },
  {
   "cell_type": "code",
   "execution_count": 13,
   "metadata": {},
   "outputs": [
    {
     "data": {
      "text/plain": [
       "array([1, 1, 1, 1, 1, 1, 1, 5, 5, 5])"
      ]
     },
     "execution_count": 13,
     "metadata": {},
     "output_type": "execute_result"
    }
   ],
   "source": [
    "data = np.ones(10, dtype = 'int')\n",
    "data[7:] = 5\n",
    "data"
   ]
  },
  {
   "cell_type": "markdown",
   "metadata": {},
   "source": [
    "### 3. 10에서 20까지의 데이터를 가지는 벡터를 만드세요"
   ]
  },
  {
   "cell_type": "code",
   "execution_count": 4,
   "metadata": {},
   "outputs": [
    {
     "data": {
      "text/plain": [
       "array([10, 11, 12, 13, 14, 15, 16, 17, 18, 19, 20])"
      ]
     },
     "execution_count": 4,
     "metadata": {},
     "output_type": "execute_result"
    }
   ],
   "source": [
    "data = np.arange(10,21, dtype = 'int')\n",
    "data"
   ]
  },
  {
   "cell_type": "markdown",
   "metadata": {},
   "source": [
    "### 4. 위 벡터의 순서를 바꾸세요"
   ]
  },
  {
   "cell_type": "code",
   "execution_count": 14,
   "metadata": {},
   "outputs": [
    {
     "data": {
      "text/plain": [
       "array([20, 19, 18, 17, 16, 15, 14, 13, 12, 11, 10])"
      ]
     },
     "execution_count": 14,
     "metadata": {},
     "output_type": "execute_result"
    }
   ],
   "source": [
    "data = np.arange(20,9,-1)\n",
    "data"
   ]
  },
  {
   "cell_type": "markdown",
   "metadata": {},
   "source": [
    "### 5. 0부터 8까지의 값을 가지는 3x3 행렬을 만드세요"
   ]
  },
  {
   "cell_type": "code",
   "execution_count": 18,
   "metadata": {},
   "outputs": [
    {
     "data": {
      "text/plain": [
       "array([[0, 1, 2],\n",
       "       [3, 4, 5],\n",
       "       [6, 7, 8]])"
      ]
     },
     "execution_count": 18,
     "metadata": {},
     "output_type": "execute_result"
    }
   ],
   "source": [
    "data = np.arange(9).reshape(3,3)\n",
    "data"
   ]
  },
  {
   "cell_type": "markdown",
   "metadata": {},
   "source": [
    "### 6. 위의 벡터에서  `[[4,5],[7,8]]`  행렬을 만드세요"
   ]
  },
  {
   "cell_type": "code",
   "execution_count": 25,
   "metadata": {},
   "outputs": [
    {
     "data": {
      "text/plain": [
       "array([[4, 5],\n",
       "       [7, 8]])"
      ]
     },
     "execution_count": 25,
     "metadata": {},
     "output_type": "execute_result"
    }
   ],
   "source": [
    "data[1:,1:]"
   ]
  },
  {
   "cell_type": "markdown",
   "metadata": {},
   "source": [
    "### 7. 1에서 10까지의 데이터를 랜덤하게 가지는 3*4 행렬을 만드세요"
   ]
  },
  {
   "cell_type": "code",
   "execution_count": 26,
   "metadata": {},
   "outputs": [
    {
     "data": {
      "text/plain": [
       "array([[4, 3, 7, 7],\n",
       "       [4, 3, 9, 8],\n",
       "       [1, 1, 2, 7]])"
      ]
     },
     "execution_count": 26,
     "metadata": {},
     "output_type": "execute_result"
    }
   ],
   "source": [
    "data = np.random.randint(1,10,size=12).reshape(3,4)\n",
    "data"
   ]
  },
  {
   "cell_type": "markdown",
   "metadata": {},
   "source": [
    "### 8. 위에서 만든 행렬의 unique 한 숫자들 리스트와 각숫자의 갯수를 리스트로 나타내세요"
   ]
  },
  {
   "cell_type": "code",
   "execution_count": 34,
   "metadata": {},
   "outputs": [
    {
     "name": "stdout",
     "output_type": "stream",
     "text": [
      "[1 2 3 4 7 8 9]\n",
      "[2 1 2 2 3 1 1]\n"
     ]
    }
   ],
   "source": [
    "index, count = np.unique(data, return_counts = True)print(index)\n",
    "print(count)"
   ]
  },
  {
   "cell_type": "markdown",
   "metadata": {},
   "source": [
    "### 9. 1에서 12까지에 숫자가 들어간 3*4 행렬을 만드시고 행과 열에 관계없이 데이터를 섞으세요"
   ]
  },
  {
   "cell_type": "code",
   "execution_count": 49,
   "metadata": {},
   "outputs": [
    {
     "data": {
      "text/plain": [
       "array([[ 5,  2, 11,  7],\n",
       "       [ 2, 11, 10, 10],\n",
       "       [10,  2,  7,  9]])"
      ]
     },
     "execution_count": 49,
     "metadata": {},
     "output_type": "execute_result"
    }
   ],
   "source": [
    "data = np.random.randint(1,13, size = 12).reshape(3,4)\n",
    "np.random.shuffle(data)\n",
    "data"
   ]
  },
  {
   "cell_type": "markdown",
   "metadata": {},
   "source": [
    "### 10. 1부터 10까지의 랜덤한 데이터가 들어가는 `3*3`행렬을 만드시고 가장 아래에 위의 데이터를 모두 합한 `1*3`행렬을 추가해서 `4*3`행렬을 만드세요"
   ]
  },
  {
   "cell_type": "code",
   "execution_count": 76,
   "metadata": {},
   "outputs": [
    {
     "data": {
      "text/plain": [
       "array([[9, 7, 3],\n",
       "       [3, 5, 5],\n",
       "       [7, 7, 4]])"
      ]
     },
     "execution_count": 76,
     "metadata": {},
     "output_type": "execute_result"
    }
   ],
   "source": [
    "data = np.random.randint(1,11,size = 9).reshape(3,3)\n",
    "data"
   ]
  },
  {
   "cell_type": "code",
   "execution_count": 98,
   "metadata": {},
   "outputs": [
    {
     "data": {
      "text/plain": [
       "array([[ 9,  7,  3],\n",
       "       [ 3,  5,  5],\n",
       "       [ 7,  7,  4],\n",
       "       [19, 19, 12]])"
      ]
     },
     "execution_count": 98,
     "metadata": {},
     "output_type": "execute_result"
    }
   ],
   "source": [
    "# data = data[0] + data[1] + data[2]\n",
    "data2 = data[0] + data[1] + data[2]\n",
    "data2 = data2.reshape(1,3)\n",
    "\n",
    "result = np.concatenate([data,data2], axis = 0)\n",
    "result"
   ]
  },
  {
   "cell_type": "markdown",
   "metadata": {},
   "source": [
    "### 11. 10번문제의 결과로 나온 행렬데이터에서 평균값을 출력하고 평균값보다 큰 숫자들만 유니크한 리스트로 나열하세요 (평균값은 소수 둘째 자리까지만 나타내세요)"
   ]
  },
  {
   "cell_type": "code",
   "execution_count": 115,
   "metadata": {},
   "outputs": [
    {
     "name": "stdout",
     "output_type": "stream",
     "text": [
      "avg : 8.333333333333334\n",
      "[ 9 19 19 12]\n"
     ]
    }
   ],
   "source": [
    "avg = result.mean()\n",
    "print(\"avg : {}\".format(avg))\n",
    "# np.unique(result > avg)\n",
    "print(result[result > avg] )"
   ]
  },
  {
   "cell_type": "markdown",
   "metadata": {},
   "source": [
    "### 12. 1부터 20까지의 랜덤숫자를 가지는 5*5 행렬을 만드시고 최대값에는 숫자(MAX), 최소값에는 숫자(MIN)으로 행렬을 바꾸세요"
   ]
  },
  {
   "cell_type": "code",
   "execution_count": 3,
   "metadata": {},
   "outputs": [
    {
     "data": {
      "text/plain": [
       "array([[ 8, 11,  6, 19, 16],\n",
       "       [ 2,  6, 14, 11,  9],\n",
       "       [ 7,  5, 18,  7, 20],\n",
       "       [ 4,  8, 19, 17, 12],\n",
       "       [10,  8, 14, 18, 15]])"
      ]
     },
     "execution_count": 3,
     "metadata": {},
     "output_type": "execute_result"
    }
   ],
   "source": [
    "mat = np.random.randint(1,21, size = 25).reshape(5,5);mat"
   ]
  },
  {
   "cell_type": "code",
   "execution_count": 22,
   "metadata": {},
   "outputs": [],
   "source": [
    "tmp_mat = []\n",
    "for i in mat:\n",
    "    for j in range(5):\n",
    "        if i[j] == mat.max():\n",
    "            tmp_mat.append(\"{}({})\".format(i[j],\"MAX\"))\n",
    "        elif i[j] == mat.min():\n",
    "            tmp_mat.append(\"{}({})\".format(i[j],\"MIN\"))\n",
    "        else:\n",
    "            tmp_mat.append(i[j])"
   ]
  },
  {
   "cell_type": "code",
   "execution_count": 29,
   "metadata": {},
   "outputs": [
    {
     "data": {
      "text/plain": [
       "array([['8', '11', '6', '19', '16'],\n",
       "       ['2(MIN)', '6', '14', '11', '9'],\n",
       "       ['7', '5', '18', '7', '20(MAX)'],\n",
       "       ['4', '8', '19', '17', '12'],\n",
       "       ['10', '8', '14', '18', '15']],\n",
       "      dtype='<U21')"
      ]
     },
     "execution_count": 29,
     "metadata": {},
     "output_type": "execute_result"
    }
   ],
   "source": [
    "result = np.array(tmp_mat); result.reshape(5,5)"
   ]
  },
  {
   "cell_type": "markdown",
   "metadata": {},
   "source": [
    "### 13. 100에서 130까지의 랜덤 숫자를 가지는 8*8행렬을 만드시고 3의 배수에는 fiz, 5의 배수에는 buz, 3과 5의 배수는 fbz 문자를 출력하세요"
   ]
  },
  {
   "cell_type": "code",
   "execution_count": 30,
   "metadata": {},
   "outputs": [
    {
     "data": {
      "text/plain": [
       "array([[102, 108, 102, 102, 123, 117, 111, 129],\n",
       "       [120, 108, 124, 108, 108, 130, 115, 113],\n",
       "       [106, 121, 115, 126, 113, 125, 111, 129],\n",
       "       [112, 100, 119, 122, 118, 115, 107, 103],\n",
       "       [128, 113, 116, 127, 102, 104, 127, 115],\n",
       "       [129, 129, 122, 111, 122, 116, 107, 124],\n",
       "       [105, 121, 127, 109, 126, 119, 103, 106],\n",
       "       [112, 125, 129, 108, 106, 100, 113, 114]])"
      ]
     },
     "execution_count": 30,
     "metadata": {},
     "output_type": "execute_result"
    }
   ],
   "source": [
    "mat = np.random.randint(100,131, size = 64).reshape(8,8);mat"
   ]
  },
  {
   "cell_type": "code",
   "execution_count": 44,
   "metadata": {},
   "outputs": [
    {
     "data": {
      "text/plain": [
       "array([['fiz', 'fiz', 'fiz', 'fiz', 'fiz', 'fiz', 'fiz', 'fiz'],\n",
       "       ['fbz', 'fiz', '124', 'fiz', 'fiz', 'buz', 'buz', '113'],\n",
       "       ['106', '121', 'buz', 'fiz', '113', 'buz', 'fiz', 'fiz'],\n",
       "       ['112', 'buz', '119', '122', '118', 'buz', '107', '103'],\n",
       "       ['128', '113', '116', '127', 'fiz', '104', '127', 'buz'],\n",
       "       ['fiz', 'fiz', '122', 'fiz', '122', '116', '107', '124'],\n",
       "       ['fbz', '121', '127', '109', 'fiz', '119', '103', '106'],\n",
       "       ['112', 'buz', 'fiz', 'fiz', '106', 'buz', '113', 'fiz']],\n",
       "      dtype='<U3')"
      ]
     },
     "execution_count": 44,
     "metadata": {},
     "output_type": "execute_result"
    }
   ],
   "source": [
    "tmp = []\n",
    "for i in mat:\n",
    "    for j in range(8):\n",
    "        if i[j] % 3 == 0 and i[j] % 5 == 0:\n",
    "            tmp.append(\"fbz\")\n",
    "        elif i[j] % 3 == 0:\n",
    "            tmp.append(\"fiz\")\n",
    "        elif i[j] % 5 == 0:\n",
    "            tmp.append(\"buz\")\n",
    "        else:\n",
    "            tmp.append(str(i[j]))\n",
    "mat_1 = np.array(tmp).reshape(8,8)\n",
    "mat_1"
   ]
  },
  {
   "cell_type": "markdown",
   "metadata": {},
   "source": [
    "### 14. 리스트 컴프리헨션을 이용하여 아래와 같은 규칙은 갖는 행렬을 만드세요"
   ]
  },
  {
   "cell_type": "code",
   "execution_count": 149,
   "metadata": {},
   "outputs": [
    {
     "name": "stdout",
     "output_type": "stream",
     "text": [
      "number :7\n",
      "[[ 1  2  3  4  5  6  7]\n",
      " [ 2  4  6  8 10 12 14]\n",
      " [ 3  6  9 12 15 18 21]\n",
      " [ 4  8 12 16 20 24 28]\n",
      " [ 5 10 15 20 25 30 35]\n",
      " [ 6 12 18 24 30 36 42]\n",
      " [ 7 14 21 28 35 42 49]]\n"
     ]
    }
   ],
   "source": [
    "number = int(input(\"number :\"))\n",
    "data = np.arange(1,number+1);data\n",
    "result = np.stack([data*i for i in range(1,number+1)], axis =0)\n",
    "print(result)"
   ]
  },
  {
   "cell_type": "code",
   "execution_count": null,
   "metadata": {},
   "outputs": [],
   "source": []
  }
 ],
 "metadata": {
  "kernelspec": {
   "display_name": "Python 3",
   "language": "python",
   "name": "python3"
  },
  "language_info": {
   "codemirror_mode": {
    "name": "ipython",
    "version": 3
   },
   "file_extension": ".py",
   "mimetype": "text/x-python",
   "name": "python",
   "nbconvert_exporter": "python",
   "pygments_lexer": "ipython3",
   "version": "3.5.0"
  }
 },
 "nbformat": 4,
 "nbformat_minor": 2
}
