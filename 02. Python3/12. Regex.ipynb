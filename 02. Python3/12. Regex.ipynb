{
 "cells": [
  {
   "cell_type": "markdown",
   "metadata": {},
   "source": [
    "# 정규표현식 (Regex)\n",
    "\n",
    "- match\n",
    "- search\n",
    "- findall\n",
    "- split\n",
    "- sub\n",
    "- pattern\n",
    "\n",
    "\n",
    "findall 과 sub를 많이 쓸 것임"
   ]
  },
  {
   "cell_type": "code",
   "execution_count": 1,
   "metadata": {},
   "outputs": [],
   "source": [
    "import re"
   ]
  },
  {
   "cell_type": "code",
   "execution_count": 2,
   "metadata": {},
   "outputs": [],
   "source": [
    "s = \"fast campus datascience fighting. datascience fighting. fast campus fighting.\""
   ]
  },
  {
   "cell_type": "markdown",
   "metadata": {},
   "source": [
    "## match\n",
    "\n",
    "- 문자열의 가장 앞에서 부터 일치하는 패턴찾기"
   ]
  },
  {
   "cell_type": "code",
   "execution_count": 4,
   "metadata": {},
   "outputs": [
    {
     "name": "stdout",
     "output_type": "stream",
     "text": [
      "result1: <_sre.SRE_Match object; span=(0, 4), match='fast'>\n",
      "result2: None\n"
     ]
    }
   ],
   "source": [
    "result1 = re.match('fast', s)  # 결과값이 object 형태로\n",
    "result2 = re.match('campus',s)\n",
    "print(\"result1:\", result1)\n",
    "print(\"result2:\", result2)"
   ]
  },
  {
   "cell_type": "code",
   "execution_count": 6,
   "metadata": {},
   "outputs": [
    {
     "name": "stdout",
     "output_type": "stream",
     "text": [
      "fast 0 4 (0, 4)\n"
     ]
    }
   ],
   "source": [
    "if result1:\n",
    "    print(result1.group(), result1.start(), result1.end(), result1.span())"
   ]
  },
  {
   "cell_type": "code",
   "execution_count": 8,
   "metadata": {},
   "outputs": [],
   "source": [
    "if result2:\n",
    "    print(result2.group(), result2.start(), result2.end(), result2.span())"
   ]
  },
  {
   "cell_type": "markdown",
   "metadata": {},
   "source": [
    "## search\n",
    "\n",
    "- 문자열에서 가장 첫번째로 일치하는 패턴 찾기"
   ]
  },
  {
   "cell_type": "code",
   "execution_count": 9,
   "metadata": {},
   "outputs": [
    {
     "name": "stdout",
     "output_type": "stream",
     "text": [
      "result3: <_sre.SRE_Match object; span=(0, 4), match='fast'>\n",
      "result4: <_sre.SRE_Match object; span=(5, 11), match='campus'>\n"
     ]
    }
   ],
   "source": [
    "# 긴 문자열 안에 해당하는 문자가 들어 있는지 확인할 때 사용\n",
    "\n",
    "result3 = re.search('fast', s)\n",
    "result4 = re.search('campus', s)\n",
    "print(\"result3:\", result3)\n",
    "print(\"result4:\", result4)"
   ]
  },
  {
   "cell_type": "code",
   "execution_count": 12,
   "metadata": {},
   "outputs": [
    {
     "name": "stdout",
     "output_type": "stream",
     "text": [
      "fast 0 4 (0, 4)\n"
     ]
    }
   ],
   "source": [
    "if result3:\n",
    "    print(result3.group(), result3.start(), result3.end(), result3.span())"
   ]
  },
  {
   "cell_type": "code",
   "execution_count": 13,
   "metadata": {},
   "outputs": [
    {
     "name": "stdout",
     "output_type": "stream",
     "text": [
      "campus 5 11 (5, 11)\n"
     ]
    }
   ],
   "source": [
    "if result4:\n",
    "    print(result4.group(), result4.start(), result4.end(), result4.span())"
   ]
  },
  {
   "cell_type": "markdown",
   "metadata": {},
   "source": [
    "## findall\n",
    "\n",
    "- 일치하는 모든 패턴찾기"
   ]
  },
  {
   "cell_type": "code",
   "execution_count": 14,
   "metadata": {},
   "outputs": [
    {
     "name": "stdout",
     "output_type": "stream",
     "text": [
      "result5: ['fast', 'fast'] 2\n",
      "result6: ['campus', 'campus'] 2\n"
     ]
    }
   ],
   "source": [
    "result5 = re.findall('fast', s)\n",
    "result6 = re.findall('campus', s)\n",
    "print(\"result5:\", result5, len(result5))\n",
    "print(\"result6:\", result6, len(result6))"
   ]
  },
  {
   "cell_type": "markdown",
   "metadata": {},
   "source": [
    "## split\n",
    "\n",
    "- 패턴으로 나누기\n",
    "- 문자열을 특정 패턴으로 나누기"
   ]
  },
  {
   "cell_type": "code",
   "execution_count": 15,
   "metadata": {},
   "outputs": [
    {
     "name": "stdout",
     "output_type": "stream",
     "text": [
      "result7: ['fast ', 'mpus datascience school fighting!']\n"
     ]
    }
   ],
   "source": [
    "s1 = \"fast campus datascience school fighting!\"\n",
    "result7 = re.split('ca',s1)    # c가 사라지고 나눈다\n",
    "print(\"result7:\", result7)"
   ]
  },
  {
   "cell_type": "markdown",
   "metadata": {},
   "source": [
    "## sub\n",
    "\n",
    "- 일치하는 패턴 대체하기"
   ]
  },
  {
   "cell_type": "code",
   "execution_count": 16,
   "metadata": {},
   "outputs": [
    {
     "name": "stdout",
     "output_type": "stream",
     "text": [
      "result8: fast campus datascience school fighting! fast campus datascience school fighting!\n"
     ]
    }
   ],
   "source": [
    "s2 = \"slow campus datascience school fighting! slow campus datascience school fighting!\"\n",
    "result8 = re.sub('slow', 'fast', s2)\n",
    "print('result8:', result8)\n"
   ]
  },
  {
   "cell_type": "markdown",
   "metadata": {},
   "source": [
    "## pattern\n",
    "\n",
    "문자\n",
    "\n",
    "- `\\d`: 숫자\n",
    "- `\\D`: 비숫자\n",
    "- `\\w`: 숫자 문자 _(언더스코어)\n",
    "- `\\W`: 비알파벳 문자\n",
    "- `\\s`: 공백 문자\n",
    "- `\\S`: 비공백 문자\n",
    "\n",
    "지정자\n",
    "\n",
    "- `[]`: 문자\n",
    "- `-`: 범위\n",
    "- `.`: 하나만 문자\n",
    "- `?`: 0회 또는 1회 반복\n",
    "- `*`: 0회 이상 반복\n",
    "- `+`: 1회 이상 반복\n",
    "- `{m,n}`: m-n회 반복\n",
    "- `()`: 그룹핑\n",
    "\n",
    "패턴에 해당되는 문자열만!!!!"
   ]
  },
  {
   "cell_type": "code",
   "execution_count": 17,
   "metadata": {},
   "outputs": [],
   "source": [
    "import string"
   ]
  },
  {
   "cell_type": "code",
   "execution_count": 18,
   "metadata": {},
   "outputs": [
    {
     "data": {
      "text/plain": [
       "(100,\n",
       " '0123456789abcdefghijklmnopqrstuvwxyzABCDEFGHIJKLMNOPQRSTUVWXYZ!\"#$%&\\'()*+,-./:;<=>?@[\\\\]^_`{|}~ \\t\\n\\r\\x0b\\x0c')"
      ]
     },
     "execution_count": 18,
     "metadata": {},
     "output_type": "execute_result"
    }
   ],
   "source": [
    "# 사용가능한 모든 문자\n",
    "pt = string.printable\n",
    "len(pt), pt"
   ]
  },
  {
   "cell_type": "code",
   "execution_count": 19,
   "metadata": {},
   "outputs": [
    {
     "name": "stdout",
     "output_type": "stream",
     "text": [
      "0123456789\n",
      "abcdefghijklmnopqrstuvwxyzABCDEFGHIJKLMNOPQRSTUVWXYZ!\"#$%&'()*+,-./:;<=>?@[\\]^_`{|}~ \t\n",
      "\r",
      "\u000b",
      "\f",
      "\n"
     ]
    }
   ],
   "source": [
    "# 숫자와 비숫자를 모두 찾기\n",
    "result = re.findall('\\d', pt) # 숫자\n",
    "print(''.join(result))\n",
    "result = re.findall('\\D', pt) # 비숫자\n",
    "print(''.join(result))"
   ]
  },
  {
   "cell_type": "code",
   "execution_count": 20,
   "metadata": {},
   "outputs": [
    {
     "name": "stdout",
     "output_type": "stream",
     "text": [
      "0123456789abcdefghijklmnopqrstuvwxyzABCDEFGHIJKLMNOPQRSTUVWXYZ_\n",
      "!\"#$%&'()*+,-./:;<=>?@[\\]^`{|}~ \t\n",
      "\r",
      "\u000b",
      "\f",
      "\n"
     ]
    }
   ],
   "source": [
    "result = re.findall('\\w', pt) # 문자 + _ : 식별자로 사용할 수 있는 문자들\n",
    "print(''.join(result))\n",
    "result = re.findall('\\W', pt) # 비문자 + _\n",
    "print(''.join(result))"
   ]
  },
  {
   "cell_type": "code",
   "execution_count": 22,
   "metadata": {},
   "outputs": [
    {
     "name": "stdout",
     "output_type": "stream",
     "text": [
      "[' ', '\\t', '\\n', '\\r', '\\x0b', '\\x0c']\n",
      "['0', '1', '2', '3', '4', '5', '6', '7', '8', '9', 'a', 'b', 'c', 'd', 'e', 'f', 'g', 'h', 'i', 'j', 'k', 'l', 'm', 'n', 'o', 'p', 'q', 'r', 's', 't', 'u', 'v', 'w', 'x', 'y', 'z', 'A', 'B', 'C', 'D', 'E', 'F', 'G', 'H', 'I', 'J', 'K', 'L', 'M', 'N', 'O', 'P', 'Q', 'R', 'S', 'T', 'U', 'V', 'W', 'X', 'Y', 'Z', '!', '\"', '#', '$', '%', '&', \"'\", '(', ')', '*', '+', ',', '-', '.', '/', ':', ';', '<', '=', '>', '?', '@', '[', '\\\\', ']', '^', '_', '`', '{', '|', '}', '~']\n"
     ]
    }
   ],
   "source": [
    "result = re.findall('\\s', pt)   # 공백문자\n",
    "print(result)\n",
    "result = re.findall('\\S', pt)    # 비공백문자\n",
    "print(result)"
   ]
  },
  {
   "cell_type": "markdown",
   "metadata": {},
   "source": [
    "### `-` 범위 (지정자)"
   ]
  },
  {
   "cell_type": "code",
   "execution_count": 23,
   "metadata": {},
   "outputs": [
    {
     "name": "stdout",
     "output_type": "stream",
     "text": [
      "0123456789\n"
     ]
    }
   ],
   "source": [
    "# [0-9] : 숫자 모두\n",
    "result = re.findall('[0-9]', pt)\n",
    "print(''.join(result))"
   ]
  },
  {
   "cell_type": "code",
   "execution_count": 25,
   "metadata": {},
   "outputs": [
    {
     "name": "stdout",
     "output_type": "stream",
     "text": [
      "345\n"
     ]
    }
   ],
   "source": [
    "# [3-5] : 해당 숫자만\n",
    "result = re.findall('[3-5]', pt)\n",
    "print(''.join(result))"
   ]
  },
  {
   "cell_type": "code",
   "execution_count": 26,
   "metadata": {},
   "outputs": [
    {
     "name": "stdout",
     "output_type": "stream",
     "text": [
      "abcdefghijklmnopqrstuvwxyz\n"
     ]
    }
   ],
   "source": [
    "# [a-z] : 알파벳 소문자\n",
    "result = re.findall('[a-z]', pt)\n",
    "print(''.join(result))"
   ]
  },
  {
   "cell_type": "code",
   "execution_count": 28,
   "metadata": {},
   "outputs": [
    {
     "name": "stdout",
     "output_type": "stream",
     "text": [
      "abcdefghijklmnopqrstuvwxyzABCDEFGHIJKLMNOPQRSTUVWXYZ\n",
      "\n"
     ]
    }
   ],
   "source": [
    "# [a-zA-Z] : 알파벳 모두\n",
    "result = re.findall('[a-zA-Z]', pt)\n",
    "print(''.join(result), end = '\\n\\n')"
   ]
  },
  {
   "cell_type": "code",
   "execution_count": 30,
   "metadata": {},
   "outputs": [
    {
     "name": "stdout",
     "output_type": "stream",
     "text": [
      "012345\n",
      "234789\n",
      "\n"
     ]
    }
   ],
   "source": [
    "# [012345] : 알파벳 모두\n",
    "result = re.findall('[012345]', pt)\n",
    "print(''.join(result))\n",
    "result = re.findall('[2-47-9]', pt)\n",
    "print(''.join(result), end = '\\n\\n')"
   ]
  },
  {
   "cell_type": "code",
   "execution_count": 31,
   "metadata": {},
   "outputs": [
    {
     "name": "stdout",
     "output_type": "stream",
     "text": [
      "bcde\n",
      "bcde\n",
      "bcde\n",
      "\n"
     ]
    }
   ],
   "source": [
    "# [bcde] = [bc-e] = [b-e]\n",
    "result = re.findall('[bcde]', pt)\n",
    "print(''.join(result))\n",
    "result = re.findall('[bc-e]', pt)\n",
    "print(''.join(result))\n",
    "result = re.findall('[b-e]', pt)\n",
    "print(''.join(result), end='\\n\\n')"
   ]
  },
  {
   "cell_type": "markdown",
   "metadata": {},
   "source": [
    "### `.` 문자 하나"
   ]
  },
  {
   "cell_type": "code",
   "execution_count": 32,
   "metadata": {},
   "outputs": [
    {
     "name": "stdout",
     "output_type": "stream",
     "text": [
      "aab ['aab']\n",
      "a0b ['a0b']\n",
      "abc []\n"
     ]
    }
   ],
   "source": [
    "ls = ['aab', 'a0b', 'abc']\n",
    "for s in ls:\n",
    "    result = re.findall('a.b', s)  # a + 모든문자하나 + b\n",
    "    print(s, result)"
   ]
  },
  {
   "cell_type": "markdown",
   "metadata": {},
   "source": [
    "### `?` 0회 또는 1회 반복"
   ]
  },
  {
   "cell_type": "code",
   "execution_count": 34,
   "metadata": {},
   "outputs": [
    {
     "name": "stdout",
     "output_type": "stream",
     "text": [
      "aab ['aab']\n",
      "a3b ['a3b']\n",
      "abc ['ab']\n",
      "accb []\n"
     ]
    }
   ],
   "source": [
    "l = ['aab', 'a3b','abc', 'accb']\n",
    "for s in l:\n",
    "    result = re.findall('a.?b', s)  # a + 모든문자 0개 또는 1개 + b\n",
    "    print(s, result)"
   ]
  },
  {
   "cell_type": "code",
   "execution_count": 36,
   "metadata": {},
   "outputs": [
    {
     "name": "stdout",
     "output_type": "stream",
     "text": [
      "aab ['ab']\n",
      "a3b ['a3b']\n",
      "a8b []\n",
      "abc ['ab']\n",
      "accb []\n"
     ]
    }
   ],
   "source": [
    "l = ['aab', 'a3b', 'a8b', 'abc', 'accb']\n",
    "for s in l:\n",
    "    result = re.findall('a[0-4]?b', s)  # a + 0-4숫자 0개 또는 1개 + b\n",
    "    print(s, result)"
   ]
  },
  {
   "cell_type": "markdown",
   "metadata": {},
   "source": [
    "### `*`: 0회 이상 반복"
   ]
  },
  {
   "cell_type": "code",
   "execution_count": 37,
   "metadata": {},
   "outputs": [
    {
     "name": "stdout",
     "output_type": "stream",
     "text": [
      "ac ['ac']\n",
      "abc ['abc']\n",
      "abbbbc ['abbbbc']\n",
      "a3bec []\n"
     ]
    }
   ],
   "source": [
    "l = [\"ac\", 'abc', 'abbbbc', 'a3bec']\n",
    "for s in l:\n",
    "    result = re.findall('ab*c', s)  # a + (b 가 0회이상 반복) + c\n",
    "    print(s, result)"
   ]
  },
  {
   "cell_type": "markdown",
   "metadata": {},
   "source": [
    "### `+` : 1회 이상 반복"
   ]
  },
  {
   "cell_type": "code",
   "execution_count": 38,
   "metadata": {},
   "outputs": [
    {
     "name": "stdout",
     "output_type": "stream",
     "text": [
      "ac []\n",
      "abc ['abc']\n",
      "abbbbc ['abbbbc']\n",
      "a3bec []\n"
     ]
    }
   ],
   "source": [
    "l = ['ac', 'abc', 'abbbbc', 'a3bec']\n",
    "for s in l:\n",
    "    result = re.findall('ab+c', s)  # a + b가 1회이상 반복 + c\n",
    "    print(s, result)"
   ]
  },
  {
   "cell_type": "markdown",
   "metadata": {},
   "source": [
    "### `{m-n}` : m-n회 반복"
   ]
  },
  {
   "cell_type": "code",
   "execution_count": 39,
   "metadata": {},
   "outputs": [
    {
     "name": "stdout",
     "output_type": "stream",
     "text": [
      "ac []\n",
      "abcasd ['abc']\n",
      "abbc ['abbc']\n",
      "abbbc ['abbbc']\n",
      "abbbbbbbc []\n"
     ]
    }
   ],
   "source": [
    "l = ['ac', 'abcasd', 'abbc', 'abbbc', 'abbbbbbbc']\n",
    "for s in l:\n",
    "    result = re.findall('ab{1,3}c', s)   # a + b가 1회-3회 반복 + c\n",
    "    print(s, result)\n",
    "    \n",
    "# 범위로도 지정할 수 있고 특정 횟수로 지정할 수 있다."
   ]
  },
  {
   "cell_type": "markdown",
   "metadata": {},
   "source": [
    "### `()` : 그룹핑"
   ]
  },
  {
   "cell_type": "code",
   "execution_count": 42,
   "metadata": {},
   "outputs": [
    {
     "name": "stdout",
     "output_type": "stream",
     "text": [
      "aaa5.djfi [('5', 'dj')]\n",
      "abdddc5 []\n",
      "labbbbc []\n",
      "a3.bec [('3', 'be')]\n"
     ]
    }
   ],
   "source": [
    "l = ['aaa5.djfi', 'abdddc5', 'labbbbc', 'a3.bec']\n",
    "for s in l:\n",
    "    result = re.findall('([0-9]+)[.]([a-z]{2})', s)\n",
    "    print(s, result)"
   ]
  },
  {
   "cell_type": "markdown",
   "metadata": {},
   "source": [
    "### example"
   ]
  },
  {
   "cell_type": "code",
   "execution_count": 44,
   "metadata": {},
   "outputs": [
    {
     "name": "stdout",
     "output_type": "stream",
     "text": [
      "True ['eoghks319@gmail.com', 'eoghks319@nave.com']\n",
      "False []\n"
     ]
    }
   ],
   "source": [
    "# 이메일주소 찾기\n",
    "s = \"저의 이메일 주소는 eoghks319@gmail.com 입니다. 또한 eoghks319@nave.com 역시 마찬가지 입니다.\" \n",
    "p = \"[0-9a-zA-Z]+@[0-9a-z]+\\.[0-9a-z]+\"  # \\. excape\n",
    "result = True if re.search(p,s) else False\n",
    "print(result, re.findall(p,s)) \n",
    "\n",
    "s = \"저의 이메일 주소는 eoghks319naver.com 입니다. 또한 eoghks319@gmailcom 역시 마찬가지 입니다.\" \n",
    "p = \"[0-9a-zA-Z]+@[0-9a-z]+\\.[0-9a-z]+\"\n",
    "result = True if re.search(p,s) else False\n",
    "print(result, re.findall(p,s))"
   ]
  },
  {
   "cell_type": "code",
   "execution_count": 45,
   "metadata": {},
   "outputs": [
    {
     "data": {
      "text/plain": [
       "'저의 전화번호는 010-1234-1234이고 주민등록번호는 940831-******* 입니다'"
      ]
     },
     "execution_count": 45,
     "metadata": {},
     "output_type": "execute_result"
    }
   ],
   "source": [
    "# 주민등록번호 : group으로 나눠서 변경하기\n",
    "s = \"저의 전화번호는 010-1234-1234이고 주민등록번호는 940831-5423123 입니다\"\n",
    "p = '([0-9]{6})-([0-9]{7})'  # 0-9까지 6개의 숫자가 온다\n",
    "re.sub(p, \"\\g<1>-*******\", s)   # \\g<1> : 그룹핑 첫번째 데이터 사용"
   ]
  },
  {
   "cell_type": "code",
   "execution_count": 46,
   "metadata": {},
   "outputs": [
    {
     "data": {
      "text/plain": [
       "['영일공-48구삼삼7이사', '010사팔구삼삼구삼일']"
      ]
     },
     "execution_count": 46,
     "metadata": {},
     "output_type": "execute_result"
    }
   ],
   "source": [
    "# 전화번호 추출해서 밖기\n",
    "s = \"안녕하세요. 저의 전화번호는 영일공-48구삼삼7이사 입니다. 또한 010사팔구삼삼구삼일 입니다.\"\n",
    "p = '[0-9영공일이둘삼사오육칠팔구빵]{3}[-]?[0-9영공일이둘삼사오육칠팔구빵]{3,4}[-]?[0-9영공일이둘삼사오육칠팔구빵]{4}'\n",
    "numbers = re.findall(p,s)\n",
    "numbers"
   ]
  },
  {
   "cell_type": "code",
   "execution_count": 72,
   "metadata": {},
   "outputs": [],
   "source": [
    "def change_phone_str(s):\n",
    "    # 문자열 패턴\n",
    "    p = '[0-9영공일이둘삼사오육칠팔구빵]{3}[-]?[0-9영공일이둘삼사오육칠팔구빵]{3,4}[-]?[0-9영공일이둘삼사오육칠팔구빵]{4}'\n",
    "    \n",
    "    # 찾아 놓은 패턴 number에 저장\n",
    "    numbers = re.findall(p,s)\n",
    "    \n",
    "    # 패턴에 맞는 데이터 문자로된 숫자 숫자로 바꾸기\n",
    "    result = []\n",
    "    preprocess_dict = {\n",
    "            \"공\": 0,\n",
    "            \"영\": 0,\n",
    "            \"일\": 1,\n",
    "            \"둘\": 2,\n",
    "            \"이\": 2,\n",
    "            \"삼\": 3,\n",
    "            \"사\": 4,\n",
    "            \"오\": 5,\n",
    "            \"육\": 6,\n",
    "            \"칠\": 7,\n",
    "            \"팔\": 8,\n",
    "            \"구\": 9,\n",
    "            \"-\": \"\",\n",
    "    }\n",
    "    \n",
    "    for number in numbers:\n",
    "        mod_numbers = number\n",
    "        for key,value in preprocess_dict.items():\n",
    "            mod_numbers = mod_numbers.replace(key, str(value))\n",
    "        result.append(mod_numbers)\n",
    "        \n",
    "    # 결과값을 replace 하기\n",
    "    \n",
    "    result_str = s\n",
    "    \n",
    "    for idx, number in enumerate(numbers):\n",
    "        result_str = result_str.replace(number,result[idx])\n",
    "        \n",
    "    return result_str"
   ]
  },
  {
   "cell_type": "code",
   "execution_count": 73,
   "metadata": {},
   "outputs": [
    {
     "data": {
      "text/plain": [
       "('안녕하세요. 저의 전화번호는 영일공-48구삼삼7이사 입니다. 또한 010사팔구삼삼구삼일 입니다.',\n",
       " '안녕하세요. 저의 전화번호는 01048933724 입니다. 또한 01048933931 입니다.')"
      ]
     },
     "execution_count": 73,
     "metadata": {},
     "output_type": "execute_result"
    }
   ],
   "source": [
    "s, change_phone_str(s)"
   ]
  }
 ],
 "metadata": {
  "kernelspec": {
   "display_name": "Python 3",
   "language": "python",
   "name": "python3"
  },
  "language_info": {
   "codemirror_mode": {
    "name": "ipython",
    "version": 3
   },
   "file_extension": ".py",
   "mimetype": "text/x-python",
   "name": "python",
   "nbconvert_exporter": "python",
   "pygments_lexer": "ipython3",
   "version": "3.5.0"
  }
 },
 "nbformat": 4,
 "nbformat_minor": 2
}
