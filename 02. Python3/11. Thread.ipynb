{
 "cells": [
  {
   "cell_type": "markdown",
   "metadata": {},
   "source": [
    "## Thread\n",
    "\n",
    "프로그램을 실행하면서 시간이 걸린다면 대부분 아래 두가지 중 한가지의 이유이다\n",
    "\n",
    "- I/O 바운드 : 대부분의 경우 (data input/Output)\n",
    "- CPU 바운드 : 계산량이 굉장히 많을 경우\n",
    "\n",
    "\n",
    "Synchronous(동기)\n",
    "\n",
    "- 한가지가 끝나야 다음작업을 수행한다\n",
    "\n",
    "```\n",
    "code  컴퓨터\n",
    "1     보내고 받고 보내고 받고 반복, 1번 시해 중 2번이 시행되지 않는다\n",
    "2\n",
    "3\n",
    "4\n",
    "5\n",
    "```\n",
    "\n",
    "Asynchronous(비동기)\n",
    "\n",
    "- 작업이 독립적으로 수행된다\n",
    "\n",
    "```\n",
    "code   컴퓨터\n",
    "1      던지기만 한다 순서에 상관없이 첫번째 코드가 더 느리더라도 여유가 되면 2번째 코드가 뜰어간다 하지만 output에 대한 순서는 정해지지 않는다.\n",
    "2\n",
    "3\n",
    "4\n",
    "5\n",
    "```\n",
    "\n",
    "thread를 이용하면"
   ]
  },
  {
   "cell_type": "markdown",
   "metadata": {},
   "source": [
    "## import threading"
   ]
  },
  {
   "cell_type": "code",
   "execution_count": 5,
   "metadata": {},
   "outputs": [],
   "source": [
    "ls1 = []\n",
    "ls2 = []\n",
    "\n",
    "def threading_func_1(number=1000):\n",
    "    for idx in range(nnumber):\n",
    "        ls1.append(idx)\n",
    "        if idx % 100 == 0:\n",
    "            print(\"ls1:\", idx) # 진행상황을 확인\n",
    "            \n",
    "def threading_func_2(number=1000):\n",
    "    for idx in range(number):\n",
    "        ls2.append(idx)\n",
    "        if idx % 100 == 0:\n",
    "            print(\"ls2:\", idx)"
   ]
  },
  {
   "cell_type": "code",
   "execution_count": null,
   "metadata": {
    "scrolled": false
   },
   "outputs": [],
   "source": [
    "import threading\n",
    "\n",
    "th1 = threading.Thread(target=threading_func_1, args = (2000,))\n",
    "th1.start()\n",
    "\n",
    "th2 = threading.Thread(target=threading_func_2, args = (13000,))\n",
    "th2.start()"
   ]
  },
  {
   "cell_type": "code",
   "execution_count": null,
   "metadata": {},
   "outputs": [],
   "source": []
  }
 ],
 "metadata": {
  "kernelspec": {
   "display_name": "Python 3",
   "language": "python",
   "name": "python3"
  },
  "language_info": {
   "codemirror_mode": {
    "name": "ipython",
    "version": 3
   },
   "file_extension": ".py",
   "mimetype": "text/x-python",
   "name": "python",
   "nbconvert_exporter": "python",
   "pygments_lexer": "ipython3",
   "version": "3.5.0"
  }
 },
 "nbformat": 4,
 "nbformat_minor": 2
}
