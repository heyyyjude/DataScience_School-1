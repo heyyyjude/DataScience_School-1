{
 "cells": [
  {
   "cell_type": "markdown",
   "metadata": {},
   "source": [
    "# Class\n",
    "\n",
    "- 클래스는 변수들과 함수를 묶는 사용자 정의 데이터 타입이라고 할수 있다.\n",
    "- 클래스는 청사진, 설계도 라고 할 수 있고, 객체가 실제 설계도 대로 만들어진 물건이라고 할 수 있다.\n",
    "- 클래스를 이용하여 객체를 만든다고 할 수 있고 객체가 선언이 되어야 메모리에 자원이 할당된다.\n",
    "- 객체 지향\n",
    "    - 실제 세계를 모델링하여 공통적인 기능을 묶어서 개발\n",
    "    - 다형성 : 같은 이름으로 파라미터에 따라 다른 코드를 수행 하거나 객체에 따라서 다른 함수를 수행\n",
    "    - 캡슐화 : 외부에 변수나 함수를 감춤으로 정보 은닉의 효과가 있는 개념\n",
    "    - 추상화 : 여러가지 요소를 하나로 통합하여 사용자가 코드를 몰라도 간단하게 사용할 수 있는 개념\n",
    "    - 상속 : 기존에 있던 클래스의 기능을 수정하거나 추가\n",
    "\n",
    "\n",
    "1. structure\n",
    "2. constructor\n",
    "3. inheritance\n",
    "4. super\n",
    "5. get, set\n",
    "6. private\n",
    "7. is a / has a\n",
    "8. magic method\n",
    "9. namedtuple"
   ]
  },
  {
   "cell_type": "markdown",
   "metadata": {},
   "source": [
    "## 1. Structure\n",
    "\n",
    "- class 내부에 self를 이용하여 변수를 할당하고, def를 이용하여 함수를 선언한다.\n",
    "- self는 객체 자신을 의미 한다.\n",
    "- 함수선언시에는 항상 argument로 self를 넣어주어야 한다."
   ]
  },
  {
   "cell_type": "code",
   "execution_count": 4,
   "metadata": {},
   "outputs": [],
   "source": [
    "# 변수를 사용하진 않더라도 self는 항상 적어주는게 맞음 그래야 class로 접근할 수 있다.\n",
    "\n",
    "class calculator:\n",
    "    \n",
    "    def setData(self, num1, num2):\n",
    "        self.num1 = num1\n",
    "        self.num2 = num2\n",
    "        # 두 개의 변수를 넣어주는 부분\n",
    "        \n",
    "    def add(self):\n",
    "        return self.num1 + self.num2\n",
    "    \n",
    "    def sub(self):\n",
    "        return self.num1 - self.num2\n",
    "    \n",
    "    def mul(self):\n",
    "        return self.num1 * self.num2\n",
    "    \n",
    "    def div(self):\n",
    "        return self.num1 * self.num2"
   ]
  },
  {
   "cell_type": "code",
   "execution_count": 5,
   "metadata": {},
   "outputs": [
    {
     "name": "stdout",
     "output_type": "stream",
     "text": [
      "12\n",
      "-2\n"
     ]
    }
   ],
   "source": [
    "c1 = calculator()\n",
    "# 객체를 만들게 된다. 이렇게 하는 순간 메모리상에 올라간다\n",
    "# c1 이라는 변수를 통해서 선언된 기능들을 사용할 수 있게 된 것.\n",
    "\n",
    "c1.setData(5,7) # .을 이ㅛㅇ하여 해당 객체의 함수에 접근한다.\n",
    "# self.num1, self.num2에 5와 7이 들어간 것\n",
    "\n",
    "result = c1.add()\n",
    "print(result)\n",
    "result = c1.sub()\n",
    "print(result)"
   ]
  },
  {
   "cell_type": "markdown",
   "metadata": {},
   "source": [
    "## 2. Constructor (생성자)\n",
    "\n",
    "- 생성자는 함수가 객체가 될 떄 초기 값을 설정하는 역할을 함\n",
    "- `__init__`으로 함수명을 작성하여 초기값을 넣어줌\n",
    "- 생성자에 들어갈 초기 데이터가 없으면 에러 발생(초기값이 없으면 객체 생성이 안됨)\n",
    "- 생성자를 사용하는 이유\n",
    "    - 생성자는 초기 데이터가 없으면 아얘 객체를 만들 수 없도록 하면서 객체가 만들어진 상태에서 작동이 안되게 하는 것. (보다 메모리 절약 가능)"
   ]
  },
  {
   "cell_type": "code",
   "execution_count": 6,
   "metadata": {},
   "outputs": [
    {
     "ename": "AttributeError",
     "evalue": "'calculator' object has no attribute 'num1'",
     "output_type": "error",
     "traceback": [
      "\u001b[0;31m---------------------------------------------------------------------------\u001b[0m",
      "\u001b[0;31mAttributeError\u001b[0m                            Traceback (most recent call last)",
      "\u001b[0;32m<ipython-input-6-fb2a2b8f9619>\u001b[0m in \u001b[0;36m<module>\u001b[0;34m()\u001b[0m\n\u001b[1;32m      1\u001b[0m \u001b[0;31m# 클래스에 사용하는 변수값이 설정되지 않아 에러가 발생\u001b[0m\u001b[0;34m\u001b[0m\u001b[0;34m\u001b[0m\u001b[0m\n\u001b[1;32m      2\u001b[0m \u001b[0mc3\u001b[0m \u001b[0;34m=\u001b[0m \u001b[0mcalculator\u001b[0m\u001b[0;34m(\u001b[0m\u001b[0;34m)\u001b[0m\u001b[0;34m\u001b[0m\u001b[0m\n\u001b[0;32m----> 3\u001b[0;31m \u001b[0mresult\u001b[0m \u001b[0;34m=\u001b[0m \u001b[0mc3\u001b[0m\u001b[0;34m.\u001b[0m\u001b[0madd\u001b[0m\u001b[0;34m(\u001b[0m\u001b[0;34m)\u001b[0m\u001b[0;34m\u001b[0m\u001b[0m\n\u001b[0m\u001b[1;32m      4\u001b[0m \u001b[0mprint\u001b[0m\u001b[0;34m(\u001b[0m\u001b[0mresult\u001b[0m\u001b[0;34m)\u001b[0m\u001b[0;34m\u001b[0m\u001b[0m\n\u001b[1;32m      5\u001b[0m \u001b[0;34m\u001b[0m\u001b[0m\n",
      "\u001b[0;32m<ipython-input-4-3257f5a99f96>\u001b[0m in \u001b[0;36madd\u001b[0;34m(self)\u001b[0m\n\u001b[1;32m      9\u001b[0m \u001b[0;34m\u001b[0m\u001b[0m\n\u001b[1;32m     10\u001b[0m     \u001b[0;32mdef\u001b[0m \u001b[0madd\u001b[0m\u001b[0;34m(\u001b[0m\u001b[0mself\u001b[0m\u001b[0;34m)\u001b[0m\u001b[0;34m:\u001b[0m\u001b[0;34m\u001b[0m\u001b[0m\n\u001b[0;32m---> 11\u001b[0;31m         \u001b[0;32mreturn\u001b[0m \u001b[0mself\u001b[0m\u001b[0;34m.\u001b[0m\u001b[0mnum1\u001b[0m \u001b[0;34m+\u001b[0m \u001b[0mself\u001b[0m\u001b[0;34m.\u001b[0m\u001b[0mnum2\u001b[0m\u001b[0;34m\u001b[0m\u001b[0m\n\u001b[0m\u001b[1;32m     12\u001b[0m \u001b[0;34m\u001b[0m\u001b[0m\n\u001b[1;32m     13\u001b[0m     \u001b[0;32mdef\u001b[0m \u001b[0msub\u001b[0m\u001b[0;34m(\u001b[0m\u001b[0mself\u001b[0m\u001b[0;34m)\u001b[0m\u001b[0;34m:\u001b[0m\u001b[0;34m\u001b[0m\u001b[0m\n",
      "\u001b[0;31mAttributeError\u001b[0m: 'calculator' object has no attribute 'num1'"
     ]
    }
   ],
   "source": [
    "# 클래스에 사용하는 변수값이 설정되지 않아 에러가 발생\n",
    "c3 = calculator()\n",
    "result = c3.add()\n",
    "print(result)\n",
    "\n",
    "# 메모리상에 올라갔다. add에 num1, num2가 필요하지만 없어서 에러가 발생함.\n",
    "# 생성자를 안쓰면 이런 에러가 발생하게 된다.\n",
    "# 생성자를 선언해주면?\n",
    "# 다음과 같은 에러 발생"
   ]
  },
  {
   "cell_type": "code",
   "execution_count": 7,
   "metadata": {},
   "outputs": [],
   "source": [
    "# 생성자 필요\n",
    "# 객체를 생성할 때, 숫자 필요\n",
    "# 메모리 절약\n",
    "class calculator:\n",
    "    \n",
    "    def __init__(self, num1, num2):\n",
    "        self.num1 = num1\n",
    "        self.num2 = num2\n",
    "        \n",
    "    def setData(self, num1, num2):\n",
    "        self.num1 = num1\n",
    "        self.num2 = num2\n",
    "        \n",
    "    def add(self):\n",
    "        return self.num1 + self.num2\n",
    "    \n",
    "    def sub(self):\n",
    "        return self.num1 - self.num2\n",
    "    \n",
    "    def mul(self):\n",
    "        return self.num1 * self.num2\n",
    "    \n",
    "    def div(self):\n",
    "        return self.num1 / self.num2"
   ]
  },
  {
   "cell_type": "code",
   "execution_count": 8,
   "metadata": {},
   "outputs": [
    {
     "ename": "TypeError",
     "evalue": "__init__() missing 2 required positional arguments: 'num1' and 'num2'",
     "output_type": "error",
     "traceback": [
      "\u001b[0;31m---------------------------------------------------------------------------\u001b[0m",
      "\u001b[0;31mTypeError\u001b[0m                                 Traceback (most recent call last)",
      "\u001b[0;32m<ipython-input-8-e7596fdeab5b>\u001b[0m in \u001b[0;36m<module>\u001b[0;34m()\u001b[0m\n\u001b[0;32m----> 1\u001b[0;31m \u001b[0mc3\u001b[0m \u001b[0;34m=\u001b[0m \u001b[0mcalculator\u001b[0m\u001b[0;34m(\u001b[0m\u001b[0;34m)\u001b[0m\u001b[0;34m\u001b[0m\u001b[0m\n\u001b[0m\u001b[1;32m      2\u001b[0m \u001b[0;34m\u001b[0m\u001b[0m\n\u001b[1;32m      3\u001b[0m \u001b[0;31m# 초기값을 넣어주지 않으면 에러가 발생\u001b[0m\u001b[0;34m\u001b[0m\u001b[0;34m\u001b[0m\u001b[0m\n\u001b[1;32m      4\u001b[0m \u001b[0;31m# 초기값을 넣어서 만들어줘야 에러가 나지 않음\u001b[0m\u001b[0;34m\u001b[0m\u001b[0;34m\u001b[0m\u001b[0m\n\u001b[1;32m      5\u001b[0m \u001b[0;31m# 생성할 때 초기값이 없으면 메모리상에 올라가지 않는다.\u001b[0m\u001b[0;34m\u001b[0m\u001b[0;34m\u001b[0m\u001b[0m\n",
      "\u001b[0;31mTypeError\u001b[0m: __init__() missing 2 required positional arguments: 'num1' and 'num2'"
     ]
    }
   ],
   "source": [
    "c3 = calculator()\n",
    "\n",
    "# 초기값을 넣어주지 않으면 에러가 발생\n",
    "# 초기값을 넣어서 만들어줘야 에러가 나지 않음\n",
    "# 생성할 때 초기값이 없으면 메모리상에 올라가지 않는다.\n",
    "# 즉, 코드할 때 메모리를 세이브할 수 있냐 없냐?\n",
    "# 사용할 수 없는 객체가 메모리에 올라가는 상황을 방지해줌"
   ]
  },
  {
   "cell_type": "code",
   "execution_count": 9,
   "metadata": {},
   "outputs": [
    {
     "name": "stdout",
     "output_type": "stream",
     "text": [
      "12\n",
      "7\n"
     ]
    }
   ],
   "source": [
    "c3 = calculator(5,7)\n",
    "result = c3.add()\n",
    "print(result)\n",
    "\n",
    "c3.setData(3,4)\n",
    "result = c3.add()\n",
    "print(result)\n",
    "\n",
    "# 결론 : Class를 생성할 때 생성잘ㄹ 넣어주는 것이 좋다"
   ]
  },
  {
   "cell_type": "markdown",
   "metadata": {},
   "source": [
    "## 3. Inheritance (상속)\n",
    "\n",
    "- 상속은 기존의 클래스에 새로운 변수나 함수를 추가하거나 변경하는 것을 의미\n",
    "- `overiding` & `overloading` 차이점 : 다형성의 특징\n",
    "    - overiding : 상위 클래스가 가지고 있는 함수를 하위 클래스가 함수를 재정의 해서 사용\n",
    "    - overloading : 함수 이름은 같으나 arguments의 갯수 차이로 함수를 구분해주는 방법 - 파이썬에서는 default argument로 조건문을 사용하여 구현"
   ]
  },
  {
   "cell_type": "code",
   "execution_count": 10,
   "metadata": {},
   "outputs": [],
   "source": [
    "class improvedCalculator(calculator):\n",
    "    \n",
    "    def __init__(self, num1, num2):\n",
    "        self.num1 = num1\n",
    "        self.num2 = num2\n",
    "    \n",
    "    def setData(self, num1, num2):\n",
    "        self.num1 = num1\n",
    "        self.num2 = num2\n",
    "        \n",
    "    def add(self):\n",
    "        return self.num1 + self.num2\n",
    "    \n",
    "    def sub(self):\n",
    "        return self.num1 - self.num2\n",
    "    \n",
    "    def mul(self):\n",
    "        return self.num1 * self.num2\n",
    "    \n",
    "    def div(self):\n",
    "        return self.num1 / self.num2\n",
    "    \n",
    "    def pow(self):\n",
    "        return self.num1 ** self.num2\n",
    "    \n",
    "# 만약 상속이라는 개념이 ㅇ벗다면 위처럼 전부 다 작성을 해줘야 한다.\n",
    "# 객체지향의 특징 중 하나가 상속 (= 확장 편리)"
   ]
  },
  {
   "cell_type": "code",
   "execution_count": 11,
   "metadata": {},
   "outputs": [],
   "source": [
    "# calculator 클래스를 상속 받아 제곱근 기능을 추가\n",
    "# 상속기능을 통해 편리하게 작성하여 기능 추가\n",
    "\n",
    "# class를 넣어준다\n",
    "class improvedCalculator(calculator):\n",
    "    def pow(self):\n",
    "        return self.num1 ** self.num2"
   ]
  },
  {
   "cell_type": "code",
   "execution_count": 14,
   "metadata": {},
   "outputs": [
    {
     "name": "stdout",
     "output_type": "stream",
     "text": [
      "243\n",
      "8\n"
     ]
    }
   ],
   "source": [
    "ic = improvedCalculator(3,5)\n",
    "result = ic.pow()\n",
    "print(result)\n",
    "\n",
    "result = ic.add()\n",
    "print(result)\n",
    "\n",
    "# improvedCalculator 에는 없는 기능이지만 사용 가능"
   ]
  },
  {
   "cell_type": "markdown",
   "metadata": {},
   "source": [
    "### 3 - 1. 다중상속"
   ]
  },
  {
   "cell_type": "code",
   "execution_count": 16,
   "metadata": {},
   "outputs": [],
   "source": [
    "# multiful inheritance\n",
    "\n",
    "class human():\n",
    "    def walk(self):\n",
    "        print(\"walking\")\n",
    "        \n",
    "class korean():\n",
    "    def eat(self):\n",
    "        print(\"eat kimchi\")\n",
    "        \n",
    "class indian():\n",
    "    def eat(self):\n",
    "        print(\"eat curry\")"
   ]
  },
  {
   "cell_type": "code",
   "execution_count": 17,
   "metadata": {},
   "outputs": [],
   "source": [
    "# jin은 사람과 한국인을 상속받음\n",
    "# coding 스킬이 있고 noodle을 먹음\n",
    "\n",
    "# jin이라는 클라스에 대해서 추가를 할 수 있게됨.\n",
    "\n",
    "class jin(human, korean):\n",
    "    \n",
    "    def skill(self):\n",
    "        print(\"coding\")\n",
    "        \n",
    "    def eat(self):  # 오버라이딩 : 상위 클래스의 함수를 새롭게 정의 ( 덮어쓰기 )\n",
    "        print(\"eat noodle\")"
   ]
  },
  {
   "cell_type": "code",
   "execution_count": 25,
   "metadata": {},
   "outputs": [],
   "source": [
    "# anchal은 사람과 인도인을 상속받음\n",
    "# speaking english 스킬이 있음\n",
    "\n",
    "class anchal(human, indian):\n",
    "    def skill(self):\n",
    "        print(\"speak English\")\n",
    "        \n",
    "    def eat(self, place = None):  # 오버로딩 : argument의 갯수 차이로 다르게 코드 실행\n",
    "        if place is None:\n",
    "            print(\"eat noodle\")\n",
    "        else:\n",
    "            print(\"eat noodle in {}\".format(place))\n",
    "            # 하나가 추가된다면 이게 추가됨"
   ]
  },
  {
   "cell_type": "code",
   "execution_count": 26,
   "metadata": {},
   "outputs": [],
   "source": [
    "j = jin()\n",
    "a = anchal()"
   ]
  },
  {
   "cell_type": "code",
   "execution_count": 27,
   "metadata": {},
   "outputs": [
    {
     "name": "stdout",
     "output_type": "stream",
     "text": [
      "walking\n",
      "eat noodle\n",
      "coding\n"
     ]
    }
   ],
   "source": [
    "j.walk()\n",
    "j.eat()\n",
    "j.skill()"
   ]
  },
  {
   "cell_type": "code",
   "execution_count": 28,
   "metadata": {},
   "outputs": [
    {
     "name": "stdout",
     "output_type": "stream",
     "text": [
      "eat kimchi\n"
     ]
    }
   ],
   "source": [
    "k = korean()\n",
    "k.eat()\n",
    "\n",
    "# 위와는 다른 결과 이것이 오버라이딩\n",
    "# 오버로딩은 함수 이름은 같으나 파라민터의 개수의 차이로 함수를 구별해주는 것"
   ]
  },
  {
   "cell_type": "code",
   "execution_count": 31,
   "metadata": {},
   "outputs": [
    {
     "name": "stdout",
     "output_type": "stream",
     "text": [
      "walking\n",
      "eat noodle\n",
      "speak English\n",
      "eat noodle in Delhi\n"
     ]
    }
   ],
   "source": [
    "a.walk()\n",
    "a.eat()\n",
    "a.skill()\n",
    "a.eat(\"Delhi\")"
   ]
  },
  {
   "cell_type": "markdown",
   "metadata": {},
   "source": [
    "## 4. super\n",
    "\n",
    "- 상위 클래스의 생성자를 받아옴\n",
    "- starcraft 예제"
   ]
  },
  {
   "cell_type": "code",
   "execution_count": 32,
   "metadata": {},
   "outputs": [],
   "source": [
    "# 생성자안에 있는 변수들을 받아올 때\n",
    "\n",
    "class human():\n",
    "    \n",
    "    def __init__(self):\n",
    "        self.health = 40\n",
    "        \n",
    "    def set_health(self, var):\n",
    "        self.health += var"
   ]
  },
  {
   "cell_type": "code",
   "execution_count": 33,
   "metadata": {},
   "outputs": [],
   "source": [
    "class marin(human):\n",
    "    \n",
    "    def __init__(self):\n",
    "        super(marin, self).__init__()  # 이게 들어오게 됨\n",
    "    #   self.health = 40\n",
    "        self.attack_power = 5\n",
    "        self.kill = 0\n",
    "        \n",
    "# 휴먼이라는 클래스를 상속받아서 어택이라는 기능을 추가한 것\n",
    "    def attack(self, obj):\n",
    "        \n",
    "        obj.set_health(-self.attack_power)\n",
    "        \n",
    "        if obj.health <= 0:\n",
    "            obj.health = 0\n",
    "            self.kill += 1\n",
    "            return \"die\"  # killed\n",
    "        \n",
    "        return \"alive [health:{}]\".format(obj.health) # alive"
   ]
  },
  {
   "cell_type": "code",
   "execution_count": 35,
   "metadata": {},
   "outputs": [],
   "source": [
    "class medic(human):\n",
    "    \n",
    "    def __init__(self):\n",
    "        self.health = 20\n",
    "        self.heal_power = 6\n",
    "        \n",
    "    def heal(self, obj):\n",
    "        \n",
    "        if obj.health == 0:\n",
    "            print(\"already die!\")\n",
    "            return \n",
    "            \n",
    "        obj.set_health(+self.heal_power)\n",
    "\n",
    "        if obj.health > 40:\n",
    "            obj.health = 40"
   ]
  },
  {
   "cell_type": "code",
   "execution_count": 37,
   "metadata": {},
   "outputs": [],
   "source": [
    "# make marin objects\n",
    "marin1 = marin()\n",
    "marin2 = marin()"
   ]
  },
  {
   "cell_type": "code",
   "execution_count": 42,
   "metadata": {},
   "outputs": [
    {
     "data": {
      "text/plain": [
       "'alive [health:30]'"
      ]
     },
     "execution_count": 42,
     "metadata": {},
     "output_type": "execute_result"
    }
   ],
   "source": [
    "# attack marin1 to marin2\n",
    "marin1.attack(marin2)"
   ]
  },
  {
   "cell_type": "code",
   "execution_count": 43,
   "metadata": {},
   "outputs": [
    {
     "data": {
      "text/plain": [
       "(40, 30, 0, 0)"
      ]
     },
     "execution_count": 43,
     "metadata": {},
     "output_type": "execute_result"
    }
   ],
   "source": [
    "# check status\n",
    "marin1.health, marin2.health, marin1.kill, marin2.kill"
   ]
  },
  {
   "cell_type": "code",
   "execution_count": 44,
   "metadata": {},
   "outputs": [
    {
     "data": {
      "text/plain": [
       "(40, 30)"
      ]
     },
     "execution_count": 44,
     "metadata": {},
     "output_type": "execute_result"
    }
   ],
   "source": [
    "marin1.health, marin2.health"
   ]
  },
  {
   "cell_type": "code",
   "execution_count": 45,
   "metadata": {},
   "outputs": [],
   "source": [
    "# make medic object\n",
    "medic1 = medic()"
   ]
  },
  {
   "cell_type": "markdown",
   "metadata": {},
   "source": [
    "### Quiz 3\n",
    "\n",
    "- 아래의 데이터를 리스트, 딕셔너리, 클래스로 나타내어라\n",
    "- 클래스에서는 타율(안타/타석) 정보를 볼 수 있는 기능 추가\n",
    "- 김선빈 - 타석 : 476, 안타 : 176\n",
    "- 박건우 - 타석 : 483, 안타 : 177\n",
    "- 박민우 - 타석 : 388, 안타 : 141\n",
    "- 나성법 - 타석 : 498, 안타 : 173\n",
    "- 박용택 - 타석 : 509, 안타 : 175"
   ]
  },
  {
   "cell_type": "code",
   "execution_count": 48,
   "metadata": {},
   "outputs": [],
   "source": [
    "# list\n",
    "ksb = [476, 176]\n",
    "pgw = [483, 177]\n",
    "\n",
    "# dict\n",
    "ksb = {\"타석\" : 476, \"안타\" : 176}\n",
    "pgw = {\"타석\" : 483, \"안타\" : 177}"
   ]
  },
  {
   "cell_type": "code",
   "execution_count": 49,
   "metadata": {},
   "outputs": [],
   "source": [
    "# class, object\n",
    "class baseball_player:\n",
    "        \n",
    "        def __init__(self, ts, at):\n",
    "            self.ts = ts\n",
    "            self.at = at\n",
    "            \n",
    "        def avg(self):    # 타율\n",
    "            return self.at / self.ts"
   ]
  },
  {
   "cell_type": "code",
   "execution_count": 50,
   "metadata": {},
   "outputs": [],
   "source": [
    "ksb = baseball_player(476,176)"
   ]
  },
  {
   "cell_type": "code",
   "execution_count": 51,
   "metadata": {},
   "outputs": [
    {
     "data": {
      "text/plain": [
       "(476, 176, 0.3697478991596639)"
      ]
     },
     "execution_count": 51,
     "metadata": {},
     "output_type": "execute_result"
    }
   ],
   "source": [
    "ksb.ts, ksb.at, ksb.avg()"
   ]
  }
 ],
 "metadata": {
  "kernelspec": {
   "display_name": "Python 3",
   "language": "python",
   "name": "python3"
  },
  "language_info": {
   "codemirror_mode": {
    "name": "ipython",
    "version": 3
   },
   "file_extension": ".py",
   "mimetype": "text/x-python",
   "name": "python",
   "nbconvert_exporter": "python",
   "pygments_lexer": "ipython3",
   "version": "3.5.0"
  }
 },
 "nbformat": 4,
 "nbformat_minor": 2
}
