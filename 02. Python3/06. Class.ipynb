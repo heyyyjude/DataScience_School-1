{
 "cells": [
  {
   "cell_type": "markdown",
   "metadata": {},
   "source": [
    "# Class\n",
    "\n",
    "- 클래스는 변수들과 함수를 묶는 사용자 정의 데이터 타입이라고 할수 있다.\n",
    "- 클래스는 청사진, 설계도 라고 할 수 있고, 객체가 실제 설계도 대로 만들어진 물건이라고 할 수 있다.\n",
    "- 클래스를 이용하여 객체를 만든다고 할 수 있고 객체가 선언이 되어야 메모리에 자원이 할당된다.\n",
    "- 객체 지향\n",
    "    - 실제 세계를 모델링하여 공통적인 기능을 묶어서 개발\n",
    "    - 다형성 : 같은 이름으로 파라미터에 따라 다른 코드를 수행 하거나 객체에 따라서 다른 함수를 수행\n",
    "    - 캡슐화 : 외부에 변수나 함수를 감춤으로 정보 은닉의 효과가 있는 개념\n",
    "    - 추상화 : 여러가지 요소를 하나로 통합하여 사용자가 코드를 몰라도 간단하게 사용할 수 있는 개념\n",
    "    - 상속 : 기존에 있던 클래스의 기능을 수정하거나 추가\n",
    "\n",
    "\n",
    "1. structure\n",
    "2. constructor\n",
    "3. inheritance\n",
    "4. super\n",
    "5. get, set\n",
    "6. private\n",
    "7. is a / has a\n",
    "8. magic method\n",
    "9. namedtuple"
   ]
  },
  {
   "cell_type": "markdown",
   "metadata": {},
   "source": [
    "## 1. Structure\n",
    "\n",
    "- class 내부에 self를 이용하여 변수를 할당하고, def를 이용하여 함수를 선언한다.\n",
    "- self는 객체 자신을 의미 한다.\n",
    "- 함수선언시에는 항상 argument로 self를 넣어주어야 한다."
   ]
  },
  {
   "cell_type": "code",
   "execution_count": 4,
   "metadata": {},
   "outputs": [],
   "source": [
    "# 변수를 사용하진 않더라도 self는 항상 적어주는게 맞음 그래야 class로 접근할 수 있다.\n",
    "\n",
    "class calculator:\n",
    "    \n",
    "    def setData(self, num1, num2):\n",
    "        self.num1 = num1\n",
    "        self.num2 = num2\n",
    "        # 두 개의 변수를 넣어주는 부분\n",
    "        \n",
    "    def add(self):\n",
    "        return self.num1 + self.num2\n",
    "    \n",
    "    def sub(self):\n",
    "        return self.num1 - self.num2\n",
    "    \n",
    "    def mul(self):\n",
    "        return self.num1 * self.num2\n",
    "    \n",
    "    def div(self):\n",
    "        return self.num1 * self.num2"
   ]
  },
  {
   "cell_type": "code",
   "execution_count": 5,
   "metadata": {},
   "outputs": [
    {
     "name": "stdout",
     "output_type": "stream",
     "text": [
      "12\n",
      "-2\n"
     ]
    }
   ],
   "source": [
    "c1 = calculator()\n",
    "# 객체를 만들게 된다. 이렇게 하는 순간 메모리상에 올라간다\n",
    "# c1 이라는 변수를 통해서 선언된 기능들을 사용할 수 있게 된 것.\n",
    "\n",
    "c1.setData(5,7) # .을 이ㅛㅇ하여 해당 객체의 함수에 접근한다.\n",
    "# self.num1, self.num2에 5와 7이 들어간 것\n",
    "\n",
    "result = c1.add()\n",
    "print(result)\n",
    "result = c1.sub()\n",
    "print(result)"
   ]
  },
  {
   "cell_type": "markdown",
   "metadata": {},
   "source": [
    "## 2. Constructor (생성자)\n",
    "\n",
    "- 생성자는 함수가 객체가 될 떄 초기 값을 설정하는 역할을 함\n",
    "- `__init__`으로 함수명을 작성하여 초기값을 넣어줌\n",
    "- 생성자에 들어갈 초기 데이터가 없으면 에러 발생(초기값이 없으면 객체 생성이 안됨)\n",
    "- 생성자를 사용하는 이유\n",
    "    - 생성자는 초기 데이터가 없으면 아얘 객체를 만들 수 없도록 하면서 객체가 만들어진 상태에서 작동이 안되게 하는 것. (보다 메모리 절약 가능)"
   ]
  },
  {
   "cell_type": "code",
   "execution_count": 6,
   "metadata": {},
   "outputs": [
    {
     "ename": "AttributeError",
     "evalue": "'calculator' object has no attribute 'num1'",
     "output_type": "error",
     "traceback": [
      "\u001b[0;31m---------------------------------------------------------------------------\u001b[0m",
      "\u001b[0;31mAttributeError\u001b[0m                            Traceback (most recent call last)",
      "\u001b[0;32m<ipython-input-6-fb2a2b8f9619>\u001b[0m in \u001b[0;36m<module>\u001b[0;34m()\u001b[0m\n\u001b[1;32m      1\u001b[0m \u001b[0;31m# 클래스에 사용하는 변수값이 설정되지 않아 에러가 발생\u001b[0m\u001b[0;34m\u001b[0m\u001b[0;34m\u001b[0m\u001b[0m\n\u001b[1;32m      2\u001b[0m \u001b[0mc3\u001b[0m \u001b[0;34m=\u001b[0m \u001b[0mcalculator\u001b[0m\u001b[0;34m(\u001b[0m\u001b[0;34m)\u001b[0m\u001b[0;34m\u001b[0m\u001b[0m\n\u001b[0;32m----> 3\u001b[0;31m \u001b[0mresult\u001b[0m \u001b[0;34m=\u001b[0m \u001b[0mc3\u001b[0m\u001b[0;34m.\u001b[0m\u001b[0madd\u001b[0m\u001b[0;34m(\u001b[0m\u001b[0;34m)\u001b[0m\u001b[0;34m\u001b[0m\u001b[0m\n\u001b[0m\u001b[1;32m      4\u001b[0m \u001b[0mprint\u001b[0m\u001b[0;34m(\u001b[0m\u001b[0mresult\u001b[0m\u001b[0;34m)\u001b[0m\u001b[0;34m\u001b[0m\u001b[0m\n\u001b[1;32m      5\u001b[0m \u001b[0;34m\u001b[0m\u001b[0m\n",
      "\u001b[0;32m<ipython-input-4-3257f5a99f96>\u001b[0m in \u001b[0;36madd\u001b[0;34m(self)\u001b[0m\n\u001b[1;32m      9\u001b[0m \u001b[0;34m\u001b[0m\u001b[0m\n\u001b[1;32m     10\u001b[0m     \u001b[0;32mdef\u001b[0m \u001b[0madd\u001b[0m\u001b[0;34m(\u001b[0m\u001b[0mself\u001b[0m\u001b[0;34m)\u001b[0m\u001b[0;34m:\u001b[0m\u001b[0;34m\u001b[0m\u001b[0m\n\u001b[0;32m---> 11\u001b[0;31m         \u001b[0;32mreturn\u001b[0m \u001b[0mself\u001b[0m\u001b[0;34m.\u001b[0m\u001b[0mnum1\u001b[0m \u001b[0;34m+\u001b[0m \u001b[0mself\u001b[0m\u001b[0;34m.\u001b[0m\u001b[0mnum2\u001b[0m\u001b[0;34m\u001b[0m\u001b[0m\n\u001b[0m\u001b[1;32m     12\u001b[0m \u001b[0;34m\u001b[0m\u001b[0m\n\u001b[1;32m     13\u001b[0m     \u001b[0;32mdef\u001b[0m \u001b[0msub\u001b[0m\u001b[0;34m(\u001b[0m\u001b[0mself\u001b[0m\u001b[0;34m)\u001b[0m\u001b[0;34m:\u001b[0m\u001b[0;34m\u001b[0m\u001b[0m\n",
      "\u001b[0;31mAttributeError\u001b[0m: 'calculator' object has no attribute 'num1'"
     ]
    }
   ],
   "source": [
    "# 클래스에 사용하는 변수값이 설정되지 않아 에러가 발생\n",
    "c3 = calculator()\n",
    "result = c3.add()\n",
    "print(result)\n",
    "\n",
    "# 메모리상에 올라갔다. add에 num1, num2가 필요하지만 없어서 에러가 발생함.\n",
    "# 생성자를 안쓰면 이런 에러가 발생하게 된다.\n",
    "# 생성자를 선언해주면?\n",
    "# 다음과 같은 에러 발생"
   ]
  },
  {
   "cell_type": "code",
   "execution_count": 7,
   "metadata": {},
   "outputs": [],
   "source": [
    "# 생성자 필요\n",
    "# 객체를 생성할 때, 숫자 필요\n",
    "# 메모리 절약\n",
    "class calculator:\n",
    "    \n",
    "    def __init__(self, num1, num2):\n",
    "        self.num1 = num1\n",
    "        self.num2 = num2\n",
    "        \n",
    "    def setData(self, num1, num2):\n",
    "        self.num1 = num1\n",
    "        self.num2 = num2\n",
    "        \n",
    "    def add(self):\n",
    "        return self.num1 + self.num2\n",
    "    \n",
    "    def sub(self):\n",
    "        return self.num1 - self.num2\n",
    "    \n",
    "    def mul(self):\n",
    "        return self.num1 * self.num2\n",
    "    \n",
    "    def div(self):\n",
    "        return self.num1 / self.num2"
   ]
  },
  {
   "cell_type": "code",
   "execution_count": 8,
   "metadata": {},
   "outputs": [
    {
     "ename": "TypeError",
     "evalue": "__init__() missing 2 required positional arguments: 'num1' and 'num2'",
     "output_type": "error",
     "traceback": [
      "\u001b[0;31m---------------------------------------------------------------------------\u001b[0m",
      "\u001b[0;31mTypeError\u001b[0m                                 Traceback (most recent call last)",
      "\u001b[0;32m<ipython-input-8-e7596fdeab5b>\u001b[0m in \u001b[0;36m<module>\u001b[0;34m()\u001b[0m\n\u001b[0;32m----> 1\u001b[0;31m \u001b[0mc3\u001b[0m \u001b[0;34m=\u001b[0m \u001b[0mcalculator\u001b[0m\u001b[0;34m(\u001b[0m\u001b[0;34m)\u001b[0m\u001b[0;34m\u001b[0m\u001b[0m\n\u001b[0m\u001b[1;32m      2\u001b[0m \u001b[0;34m\u001b[0m\u001b[0m\n\u001b[1;32m      3\u001b[0m \u001b[0;31m# 초기값을 넣어주지 않으면 에러가 발생\u001b[0m\u001b[0;34m\u001b[0m\u001b[0;34m\u001b[0m\u001b[0m\n\u001b[1;32m      4\u001b[0m \u001b[0;31m# 초기값을 넣어서 만들어줘야 에러가 나지 않음\u001b[0m\u001b[0;34m\u001b[0m\u001b[0;34m\u001b[0m\u001b[0m\n\u001b[1;32m      5\u001b[0m \u001b[0;31m# 생성할 때 초기값이 없으면 메모리상에 올라가지 않는다.\u001b[0m\u001b[0;34m\u001b[0m\u001b[0;34m\u001b[0m\u001b[0m\n",
      "\u001b[0;31mTypeError\u001b[0m: __init__() missing 2 required positional arguments: 'num1' and 'num2'"
     ]
    }
   ],
   "source": [
    "c3 = calculator()\n",
    "\n",
    "# 초기값을 넣어주지 않으면 에러가 발생\n",
    "# 초기값을 넣어서 만들어줘야 에러가 나지 않음\n",
    "# 생성할 때 초기값이 없으면 메모리상에 올라가지 않는다.\n",
    "# 즉, 코드할 때 메모리를 세이브할 수 있냐 없냐?\n",
    "# 사용할 수 없는 객체가 메모리에 올라가는 상황을 방지해줌"
   ]
  },
  {
   "cell_type": "code",
   "execution_count": 9,
   "metadata": {},
   "outputs": [
    {
     "name": "stdout",
     "output_type": "stream",
     "text": [
      "12\n",
      "7\n"
     ]
    }
   ],
   "source": [
    "c3 = calculator(5,7)\n",
    "result = c3.add()\n",
    "print(result)\n",
    "\n",
    "c3.setData(3,4)\n",
    "result = c3.add()\n",
    "print(result)\n",
    "\n",
    "# 결론 : Class를 생성할 때 생성잘ㄹ 넣어주는 것이 좋다"
   ]
  },
  {
   "cell_type": "markdown",
   "metadata": {},
   "source": [
    "## 3. Inheritance (상속)\n",
    "\n",
    "- 상속은 기존의 클래스에 새로운 변수나 함수를 추가하거나 변경하는 것을 의미\n",
    "- `overiding` & `overloading` 차이점 : 다형성의 특징\n",
    "    - overiding : 상위 클래스가 가지고 있는 함수를 하위 클래스가 함수를 재정의 해서 사용\n",
    "    - overloading : 함수 이름은 같으나 arguments의 갯수 차이로 함수를 구분해주는 방법 - 파이썬에서는 default argument로 조건문을 사용하여 구현"
   ]
  },
  {
   "cell_type": "code",
   "execution_count": 10,
   "metadata": {},
   "outputs": [],
   "source": [
    "class improvedCalculator(calculator):\n",
    "    \n",
    "    def __init__(self, num1, num2):\n",
    "        self.num1 = num1\n",
    "        self.num2 = num2\n",
    "    \n",
    "    def setData(self, num1, num2):\n",
    "        self.num1 = num1\n",
    "        self.num2 = num2\n",
    "        \n",
    "    def add(self):\n",
    "        return self.num1 + self.num2\n",
    "    \n",
    "    def sub(self):\n",
    "        return self.num1 - self.num2\n",
    "    \n",
    "    def mul(self):\n",
    "        return self.num1 * self.num2\n",
    "    \n",
    "    def div(self):\n",
    "        return self.num1 / self.num2\n",
    "    \n",
    "    def pow(self):\n",
    "        return self.num1 ** self.num2\n",
    "    \n",
    "# 만약 상속이라는 개념이 ㅇ벗다면 위처럼 전부 다 작성을 해줘야 한다.\n",
    "# 객체지향의 특징 중 하나가 상속 (= 확장 편리)"
   ]
  },
  {
   "cell_type": "code",
   "execution_count": 11,
   "metadata": {},
   "outputs": [],
   "source": [
    "# calculator 클래스를 상속 받아 제곱근 기능을 추가\n",
    "# 상속기능을 통해 편리하게 작성하여 기능 추가\n",
    "\n",
    "# class를 넣어준다\n",
    "class improvedCalculator(calculator):\n",
    "    def pow(self):\n",
    "        return self.num1 ** self.num2"
   ]
  },
  {
   "cell_type": "code",
   "execution_count": 14,
   "metadata": {},
   "outputs": [
    {
     "name": "stdout",
     "output_type": "stream",
     "text": [
      "243\n",
      "8\n"
     ]
    }
   ],
   "source": [
    "ic = improvedCalculator(3,5)\n",
    "result = ic.pow()\n",
    "print(result)\n",
    "\n",
    "result = ic.add()\n",
    "print(result)\n",
    "\n",
    "# improvedCalculator 에는 없는 기능이지만 사용 가능"
   ]
  },
  {
   "cell_type": "markdown",
   "metadata": {},
   "source": [
    "### 3 - 1. 다중상속"
   ]
  },
  {
   "cell_type": "code",
   "execution_count": 16,
   "metadata": {},
   "outputs": [],
   "source": [
    "# multiful inheritance\n",
    "\n",
    "class human():\n",
    "    def walk(self):\n",
    "        print(\"walking\")\n",
    "        \n",
    "class korean():\n",
    "    def eat(self):\n",
    "        print(\"eat kimchi\")\n",
    "        \n",
    "class indian():\n",
    "    def eat(self):\n",
    "        print(\"eat curry\")"
   ]
  },
  {
   "cell_type": "code",
   "execution_count": 17,
   "metadata": {},
   "outputs": [],
   "source": [
    "# jin은 사람과 한국인을 상속받음\n",
    "# coding 스킬이 있고 noodle을 먹음\n",
    "\n",
    "# jin이라는 클라스에 대해서 추가를 할 수 있게됨.\n",
    "\n",
    "class jin(human, korean):\n",
    "    \n",
    "    def skill(self):\n",
    "        print(\"coding\")\n",
    "        \n",
    "    def eat(self):  # 오버라이딩 : 상위 클래스의 함수를 새롭게 정의 ( 덮어쓰기 )\n",
    "        print(\"eat noodle\")"
   ]
  },
  {
   "cell_type": "code",
   "execution_count": 25,
   "metadata": {},
   "outputs": [],
   "source": [
    "# anchal은 사람과 인도인을 상속받음\n",
    "# speaking english 스킬이 있음\n",
    "\n",
    "class anchal(human, indian):\n",
    "    def skill(self):\n",
    "        print(\"speak English\")\n",
    "        \n",
    "    def eat(self, place = None):  # 오버로딩 : argument의 갯수 차이로 다르게 코드 실행\n",
    "        if place is None:\n",
    "            print(\"eat noodle\")\n",
    "        else:\n",
    "            print(\"eat noodle in {}\".format(place))\n",
    "            # 하나가 추가된다면 이게 추가됨"
   ]
  },
  {
   "cell_type": "code",
   "execution_count": 26,
   "metadata": {},
   "outputs": [],
   "source": [
    "j = jin()\n",
    "a = anchal()"
   ]
  },
  {
   "cell_type": "code",
   "execution_count": 27,
   "metadata": {},
   "outputs": [
    {
     "name": "stdout",
     "output_type": "stream",
     "text": [
      "walking\n",
      "eat noodle\n",
      "coding\n"
     ]
    }
   ],
   "source": [
    "j.walk()\n",
    "j.eat()\n",
    "j.skill()"
   ]
  },
  {
   "cell_type": "code",
   "execution_count": 28,
   "metadata": {},
   "outputs": [
    {
     "name": "stdout",
     "output_type": "stream",
     "text": [
      "eat kimchi\n"
     ]
    }
   ],
   "source": [
    "k = korean()\n",
    "k.eat()\n",
    "\n",
    "# 위와는 다른 결과 이것이 오버라이딩\n",
    "# 오버로딩은 함수 이름은 같으나 파라민터의 개수의 차이로 함수를 구별해주는 것"
   ]
  },
  {
   "cell_type": "code",
   "execution_count": 31,
   "metadata": {},
   "outputs": [
    {
     "name": "stdout",
     "output_type": "stream",
     "text": [
      "walking\n",
      "eat noodle\n",
      "speak English\n",
      "eat noodle in Delhi\n"
     ]
    }
   ],
   "source": [
    "a.walk()\n",
    "a.eat()\n",
    "a.skill()\n",
    "a.eat(\"Delhi\")"
   ]
  },
  {
   "cell_type": "markdown",
   "metadata": {},
   "source": [
    "## 4. super\n",
    "\n",
    "- 상위 클래스의 생성자를 받아옴\n",
    "- starcraft 예제"
   ]
  },
  {
   "cell_type": "code",
   "execution_count": 32,
   "metadata": {},
   "outputs": [],
   "source": [
    "# 생성자안에 있는 변수들을 받아올 때\n",
    "\n",
    "class human():\n",
    "    \n",
    "    def __init__(self):\n",
    "        self.health = 40\n",
    "        \n",
    "    def set_health(self, var):\n",
    "        self.health += var"
   ]
  },
  {
   "cell_type": "code",
   "execution_count": 33,
   "metadata": {},
   "outputs": [],
   "source": [
    "class marin(human):\n",
    "    \n",
    "    def __init__(self):\n",
    "        super(marin, self).__init__()  # 이게 들어오게 됨\n",
    "    #   self.health = 40\n",
    "        self.attack_power = 5\n",
    "        self.kill = 0\n",
    "        \n",
    "# 휴먼이라는 클래스를 상속받아서 어택이라는 기능을 추가한 것\n",
    "    def attack(self, obj):\n",
    "        \n",
    "        obj.set_health(-self.attack_power)\n",
    "        \n",
    "        if obj.health <= 0:\n",
    "            obj.health = 0\n",
    "            self.kill += 1\n",
    "            return \"die\"  # killed\n",
    "        \n",
    "        return \"alive [health:{}]\".format(obj.health) # alive"
   ]
  },
  {
   "cell_type": "code",
   "execution_count": 35,
   "metadata": {},
   "outputs": [],
   "source": [
    "class medic(human):\n",
    "    \n",
    "    def __init__(self):\n",
    "        self.health = 20\n",
    "        self.heal_power = 6\n",
    "        \n",
    "    def heal(self, obj):\n",
    "        \n",
    "        if obj.health == 0:\n",
    "            print(\"already die!\")\n",
    "            return \n",
    "            \n",
    "        obj.set_health(+self.heal_power)\n",
    "\n",
    "        if obj.health > 40:\n",
    "            obj.health = 40"
   ]
  },
  {
   "cell_type": "code",
   "execution_count": 37,
   "metadata": {},
   "outputs": [],
   "source": [
    "# make marin objects\n",
    "marin1 = marin()\n",
    "marin2 = marin()"
   ]
  },
  {
   "cell_type": "code",
   "execution_count": 42,
   "metadata": {},
   "outputs": [
    {
     "data": {
      "text/plain": [
       "'alive [health:30]'"
      ]
     },
     "execution_count": 42,
     "metadata": {},
     "output_type": "execute_result"
    }
   ],
   "source": [
    "# attack marin1 to marin2\n",
    "marin1.attack(marin2)"
   ]
  },
  {
   "cell_type": "code",
   "execution_count": 43,
   "metadata": {},
   "outputs": [
    {
     "data": {
      "text/plain": [
       "(40, 30, 0, 0)"
      ]
     },
     "execution_count": 43,
     "metadata": {},
     "output_type": "execute_result"
    }
   ],
   "source": [
    "# check status\n",
    "marin1.health, marin2.health, marin1.kill, marin2.kill"
   ]
  },
  {
   "cell_type": "code",
   "execution_count": 44,
   "metadata": {},
   "outputs": [
    {
     "data": {
      "text/plain": [
       "(40, 30)"
      ]
     },
     "execution_count": 44,
     "metadata": {},
     "output_type": "execute_result"
    }
   ],
   "source": [
    "marin1.health, marin2.health"
   ]
  },
  {
   "cell_type": "code",
   "execution_count": 45,
   "metadata": {},
   "outputs": [],
   "source": [
    "# make medic object\n",
    "medic1 = medic()"
   ]
  },
  {
   "cell_type": "markdown",
   "metadata": {},
   "source": [
    "### Quiz 3\n",
    "\n",
    "- 아래의 데이터를 리스트, 딕셔너리, 클래스로 나타내어라\n",
    "- 클래스에서는 타율(안타/타석) 정보를 볼 수 있는 기능 추가\n",
    "- 김선빈 - 타석 : 476, 안타 : 176\n",
    "- 박건우 - 타석 : 483, 안타 : 177\n",
    "- 박민우 - 타석 : 388, 안타 : 141\n",
    "- 나성법 - 타석 : 498, 안타 : 173\n",
    "- 박용택 - 타석 : 509, 안타 : 175"
   ]
  },
  {
   "cell_type": "code",
   "execution_count": 48,
   "metadata": {},
   "outputs": [],
   "source": [
    "# list\n",
    "ksb = [476, 176]\n",
    "pgw = [483, 177]\n",
    "\n",
    "# dict\n",
    "ksb = {\"타석\" : 476, \"안타\" : 176}\n",
    "pgw = {\"타석\" : 483, \"안타\" : 177}"
   ]
  },
  {
   "cell_type": "code",
   "execution_count": 49,
   "metadata": {},
   "outputs": [],
   "source": [
    "# class, object\n",
    "class baseball_player:\n",
    "        \n",
    "        def __init__(self, ts, at):\n",
    "            self.ts = ts\n",
    "            self.at = at\n",
    "            \n",
    "        def avg(self):    # 타율\n",
    "            return self.at / self.ts"
   ]
  },
  {
   "cell_type": "code",
   "execution_count": 50,
   "metadata": {},
   "outputs": [],
   "source": [
    "ksb = baseball_player(476,176)"
   ]
  },
  {
   "cell_type": "code",
   "execution_count": 51,
   "metadata": {},
   "outputs": [
    {
     "data": {
      "text/plain": [
       "(476, 176, 0.3697478991596639)"
      ]
     },
     "execution_count": 51,
     "metadata": {},
     "output_type": "execute_result"
    }
   ],
   "source": [
    "ksb.ts, ksb.at, ksb.avg()"
   ]
  },
  {
   "cell_type": "markdown",
   "metadata": {},
   "source": [
    "## get, set\n",
    "\n",
    "- 함수가 아니라 `.`을 통해 클래스 객체의 내부 변수에 접근할 수 있도록 한다.\n",
    "- property를 이용한 get,set\n",
    "- decorator를 이용한 get,set"
   ]
  },
  {
   "cell_type": "code",
   "execution_count": 20,
   "metadata": {},
   "outputs": [],
   "source": [
    "# property 를 이용\n",
    "\n",
    "class Person1():\n",
    "    \n",
    "    def __init__(self, input_name):\n",
    "        self.hidden_name = input_name\n",
    "        \n",
    "    def get_name(self):\n",
    "        print(\"inside the getter\")\n",
    "        return self.hidden_name\n",
    "    \n",
    "    def set_name(self, input_name):\n",
    "        print(\"inside the setter\")\n",
    "        self.hidden_name = input_name\n",
    "        \n",
    "    name = property(get_name, set_name) # 이런식으로\n",
    "\n",
    "# property는 get, set과 함수를 연결해주는 역할을 한다."
   ]
  },
  {
   "cell_type": "code",
   "execution_count": 21,
   "metadata": {},
   "outputs": [],
   "source": [
    "p1 = Person1(\"daehwan\")"
   ]
  },
  {
   "cell_type": "code",
   "execution_count": 22,
   "metadata": {},
   "outputs": [
    {
     "name": "stdout",
     "output_type": "stream",
     "text": [
      "inside the getter\n",
      "daehwan\n",
      "inside the getter\n",
      "daehwan\n"
     ]
    }
   ],
   "source": [
    "# get\n",
    "\n",
    "print(p1.name) # property를 이용하여 . 을 통해 객체의 변수를 가져올 수 있다.\n",
    "print(p1.get_name())"
   ]
  },
  {
   "cell_type": "code",
   "execution_count": 23,
   "metadata": {},
   "outputs": [
    {
     "name": "stdout",
     "output_type": "stream",
     "text": [
      "inside the setter\n",
      "inside the setter\n"
     ]
    }
   ],
   "source": [
    "# set\n",
    "# property를 이용하여 .을 통해 객체의 변수를 설정할 수 있다.\n",
    "# property가 설정되어 있지 않으면 클래스 내부 변수가 아니라 그냥 변수로 설정된다.\n",
    "\n",
    "class Person1():\n",
    "    \n",
    "    def __init__(self, input_name):\n",
    "        self.hidden_name = input_name\n",
    "        \n",
    "    def get_name(self):\n",
    "        print(\"inside the getter\")\n",
    "        return self.hidden_name\n",
    "    \n",
    "    def set_name(self, input_name):\n",
    "        print(\"inside the setter\")\n",
    "        self.hidden_name = input_name\n",
    "        \n",
    "    #name = property(get_name, set_name)\n",
    "    \n",
    "p1.name = 'shin1'\n",
    "p1.set_name('shin2')"
   ]
  },
  {
   "cell_type": "code",
   "execution_count": 24,
   "metadata": {},
   "outputs": [
    {
     "name": "stdout",
     "output_type": "stream",
     "text": [
      "inside the getter\n",
      "shin2\n",
      "inside the getter\n",
      "shin2\n"
     ]
    }
   ],
   "source": [
    "# getter\n",
    "print(p1.name)  # property를 이용하여 . 을 통해 객체의 변수를 가져올 수 있다.\n",
    "print(p1.get_name())"
   ]
  },
  {
   "cell_type": "code",
   "execution_count": 25,
   "metadata": {},
   "outputs": [],
   "source": [
    "# decorator\n",
    "\n",
    "class Person2():\n",
    "    \n",
    "    def __init__(self, input_name):\n",
    "        self.hidden_name = input_name\n",
    "        \n",
    "    @property # getter를 선언\n",
    "    def name(self):\n",
    "        print(\"inside the getter\")\n",
    "        return self.hidden_name        # getter 함수 사용\n",
    "    \n",
    "    @name.setter\n",
    "    def name(self, input_name):\n",
    "        print(\"inside the setter\")\n",
    "        self.hidden_name = input_name"
   ]
  },
  {
   "cell_type": "code",
   "execution_count": 26,
   "metadata": {},
   "outputs": [],
   "source": [
    "p2 = Person2(\"daehwan\")"
   ]
  },
  {
   "cell_type": "code",
   "execution_count": 27,
   "metadata": {},
   "outputs": [
    {
     "name": "stdout",
     "output_type": "stream",
     "text": [
      "inside the getter\n",
      "daehwan\n"
     ]
    }
   ],
   "source": [
    "# get\n",
    "print(p2.name)"
   ]
  },
  {
   "cell_type": "code",
   "execution_count": 28,
   "metadata": {},
   "outputs": [
    {
     "name": "stdout",
     "output_type": "stream",
     "text": [
      "inside the setter\n"
     ]
    }
   ],
   "source": [
    "# set\n",
    "p2.name = 'shin'"
   ]
  },
  {
   "cell_type": "code",
   "execution_count": 29,
   "metadata": {},
   "outputs": [
    {
     "name": "stdout",
     "output_type": "stream",
     "text": [
      "inside the getter\n",
      "shin\n"
     ]
    }
   ],
   "source": [
    "# get\n",
    "print(p2.name)"
   ]
  },
  {
   "cell_type": "markdown",
   "metadata": {},
   "source": [
    "## private\n",
    "\n",
    "- mangling : 캡슐화\n",
    "- class 내부변수를 다이렉트로 접근하지 못하게 함\n",
    "- 변수명 앞에 `__`를 붙이면 다이렉트로 접근하지 못함\n",
    "- 완벽한 방법은 아니고 변수명 앞에 `_`(클래스명)을 붙이면 접근이 가능"
   ]
  },
  {
   "cell_type": "code",
   "execution_count": 30,
   "metadata": {},
   "outputs": [
    {
     "data": {
      "text/plain": [
       "'shin'"
      ]
     },
     "execution_count": 30,
     "metadata": {},
     "output_type": "execute_result"
    }
   ],
   "source": [
    "# 클래스 내부 변수에 .을 이용하면 접근이 가능\n",
    "p2.hidden_name"
   ]
  },
  {
   "cell_type": "code",
   "execution_count": 46,
   "metadata": {},
   "outputs": [],
   "source": [
    "class Person3():\n",
    "    \n",
    "    def __init__(self, input_name):\n",
    "        self.__hidden_name = input_name # hidden 앞에 __2개\n",
    "    #   self.__hidden_name = ~~~ 가능\n",
    "    @property\n",
    "    def name(self):\n",
    "        print(\"inside the getter\")\n",
    "        return self.__hidden_name\n",
    "    \n",
    "    @name.setter\n",
    "    def name(self, input_name):\n",
    "        print(\"inside the setter\")\n",
    "        self.__hidden_name = input_name"
   ]
  },
  {
   "cell_type": "code",
   "execution_count": 47,
   "metadata": {},
   "outputs": [],
   "source": [
    "p3 = Person3(\"daehwan\")"
   ]
  },
  {
   "cell_type": "code",
   "execution_count": 48,
   "metadata": {},
   "outputs": [
    {
     "name": "stdout",
     "output_type": "stream",
     "text": [
      "inside the getter\n",
      "daehwan\n"
     ]
    }
   ],
   "source": [
    "# get\n",
    "print(p3.name)"
   ]
  },
  {
   "cell_type": "code",
   "execution_count": 49,
   "metadata": {},
   "outputs": [
    {
     "name": "stdout",
     "output_type": "stream",
     "text": [
      "inside the setter\n"
     ]
    }
   ],
   "source": [
    "# set\n",
    "p3.name = 'shin'"
   ]
  },
  {
   "cell_type": "code",
   "execution_count": 50,
   "metadata": {},
   "outputs": [
    {
     "name": "stdout",
     "output_type": "stream",
     "text": [
      "inside the getter\n",
      "shin\n"
     ]
    }
   ],
   "source": [
    "# get\n",
    "print(p3.name)"
   ]
  },
  {
   "cell_type": "code",
   "execution_count": 51,
   "metadata": {},
   "outputs": [
    {
     "ename": "AttributeError",
     "evalue": "'Person3' object has no attribute 'person3_hidden_name'",
     "output_type": "error",
     "traceback": [
      "\u001b[0;31m---------------------------------------------------------------------------\u001b[0m",
      "\u001b[0;31mAttributeError\u001b[0m                            Traceback (most recent call last)",
      "\u001b[0;32m<ipython-input-51-1c1fb83452c3>\u001b[0m in \u001b[0;36m<module>\u001b[0;34m()\u001b[0m\n\u001b[1;32m      1\u001b[0m \u001b[0;31m# mangling을 통해 접근이 불가능\u001b[0m\u001b[0;34m\u001b[0m\u001b[0;34m\u001b[0m\u001b[0m\n\u001b[0;32m----> 2\u001b[0;31m \u001b[0mp3\u001b[0m\u001b[0;34m.\u001b[0m\u001b[0mperson3_hidden_name\u001b[0m\u001b[0;34m\u001b[0m\u001b[0m\n\u001b[0m\u001b[1;32m      3\u001b[0m \u001b[0;31m# 속성에러가 뜬다\u001b[0m\u001b[0;34m\u001b[0m\u001b[0;34m\u001b[0m\u001b[0m\n",
      "\u001b[0;31mAttributeError\u001b[0m: 'Person3' object has no attribute 'person3_hidden_name'"
     ]
    }
   ],
   "source": [
    "# mangling을 통해 접근이 불가능\n",
    "p3.person3_hidden_name\n",
    "# 속성에러가 뜬다"
   ]
  },
  {
   "cell_type": "code",
   "execution_count": 54,
   "metadata": {},
   "outputs": [
    {
     "data": {
      "text/plain": [
       "'shin'"
      ]
     },
     "execution_count": 54,
     "metadata": {},
     "output_type": "execute_result"
    }
   ],
   "source": [
    "# _class 명을 앞에 추가시켜 접근이 가능\n",
    "# 완벽한 private는 아님, 하지만 접근을 어렵게 만들어줌\n",
    "\n",
    "p3._Person3__hidden_name"
   ]
  },
  {
   "cell_type": "markdown",
   "metadata": {},
   "source": [
    "## is a / has a\n",
    "\n",
    "- has a : composition, aggregation"
   ]
  },
  {
   "cell_type": "code",
   "execution_count": 57,
   "metadata": {},
   "outputs": [
    {
     "name": "stdout",
     "output_type": "stream",
     "text": [
      "daehwan eoghks319@gmail.com\n"
     ]
    }
   ],
   "source": [
    "# is a\n",
    "# person5 is a person4\n",
    "# person5는 Person4 dlek\n",
    "\n",
    "class Person4():\n",
    "    \n",
    "    def __init__(self, name, email):\n",
    "        self.name = name\n",
    "        self.email = email\n",
    "        \n",
    "class Person5(Person4):\n",
    "    \n",
    "    def about(self):\n",
    "        print(self.name, self.email)\n",
    "        \n",
    "p5 = Person5(\"daehwan\", \"eoghks319@gmail.com\")\n",
    "p5.about()"
   ]
  },
  {
   "cell_type": "code",
   "execution_count": 58,
   "metadata": {},
   "outputs": [
    {
     "name": "stdout",
     "output_type": "stream",
     "text": [
      "daehwan eoghks319@gmail.com\n"
     ]
    }
   ],
   "source": [
    "# has a\n",
    "# 클래스의 변수를 객체로 받아서 클래스를 선언하는 개념 (클래스는 객체를 가지고 있다.)\n",
    "# 사람은 이름과 메일을 가지고 있다.\n",
    "# person has a name, email\n",
    "# 이 사람의 이름은 daehwan, 메일은 eoghks319@gmail.com을 가지고 있다.\n",
    "\n",
    "class Name():\n",
    "    def __init__(self, name):\n",
    "        self.name_str = name\n",
    "        \n",
    "class Email():\n",
    "    def __init__(self, email):\n",
    "        self.email_str = email\n",
    "        \n",
    "class Person6():\n",
    "    def __init__(self,name, email):\n",
    "        self.name = name\n",
    "        self.email = email\n",
    "        \n",
    "    def about(self):\n",
    "        print(self.name.name_str, self.email.email_str)\n",
    "        \n",
    "name = Name(\"daehwan\")\n",
    "email = Email(\"eoghks319@gmail.com\")\n",
    "p6 = Person6(name, email)\n",
    "p6.about()"
   ]
  },
  {
   "cell_type": "markdown",
   "metadata": {},
   "source": [
    "## magic method\n",
    "- https://docs.python.org/3/reference/datamodel.html#specialnames\n",
    "- compare\n",
    "    - `__eq__` : ==\n",
    "    - `__ne__` : !=\n",
    "    - `__lt__` : <\n",
    "    - `__gt__` : >\n",
    "    - `__le__` : <=\n",
    "    - `__ge__` : >=\n",
    "- calculate\n",
    "    - `__add__` : +\n",
    "    - `__sub__` : -\n",
    "    - `__mul__` : *\n",
    "    - `__floordiv__` : //\n",
    "    - `__truediv__` : /\n",
    "    - `__mod__` : %\n",
    "    - `__pow__` : **\n",
    "- `__repr__`\n",
    "- `__str__`\n",
    "- `__len__`"
   ]
  },
  {
   "cell_type": "code",
   "execution_count": 59,
   "metadata": {},
   "outputs": [],
   "source": [
    "class Txt():\n",
    "    def __init__(self, txt):\n",
    "        self.txt = txt\n",
    "    def equals(self, txt_obj):\n",
    "        return self.txt.lower() == txt_obj.txt.lower()\n",
    "    \n",
    "txt1 = Txt(\"fastcampus\")\n",
    "txt2 = Txt(\"FastCampus\")\n",
    "txt3 = Txt(\"dataScience\")\n",
    "txt4 = Txt(\"fastcampus\")\n",
    "txt5 = txt1"
   ]
  },
  {
   "cell_type": "code",
   "execution_count": 60,
   "metadata": {},
   "outputs": [
    {
     "name": "stdout",
     "output_type": "stream",
     "text": [
      "True\n",
      "False\n",
      "True\n",
      "True\n",
      "False\n"
     ]
    }
   ],
   "source": [
    "print( txt1.equals(txt2) )\n",
    "print( txt1.equals(txt3) )\n",
    "print( txt1.equals(txt4) )\n",
    "print( txt1.equals(txt5) )\n",
    "print( txt2.equals(txt3) )"
   ]
  },
  {
   "cell_type": "code",
   "execution_count": 61,
   "metadata": {},
   "outputs": [
    {
     "data": {
      "text/plain": [
       "(False, False, False, True)"
      ]
     },
     "execution_count": 61,
     "metadata": {},
     "output_type": "execute_result"
    }
   ],
   "source": [
    "# object는 비교연산에서 주소값을 비교한다.\n",
    "\n",
    "txt1 == txt2, txt1 == txt3, txt1 == txt4, txt1 == txt5"
   ]
  },
  {
   "cell_type": "code",
   "execution_count": 62,
   "metadata": {},
   "outputs": [
    {
     "data": {
      "text/plain": [
       "(<__main__.Txt at 0x1069dd4a8>,\n",
       " <__main__.Txt at 0x1069dd198>,\n",
       " <__main__.Txt at 0x1069dd4a8>)"
      ]
     },
     "execution_count": 62,
     "metadata": {},
     "output_type": "execute_result"
    }
   ],
   "source": [
    "# txt1과 txt5는 주소값이 같지만 txt4는 주소값이 다르다.\n",
    "\n",
    "txt1, txt4, txt5"
   ]
  },
  {
   "cell_type": "code",
   "execution_count": 66,
   "metadata": {},
   "outputs": [],
   "source": [
    "# __eq__를 정의\n",
    "# __eq__를 정의하면 클래스 비교연산에서 __eq__를 수행한다.\n",
    "\n",
    "class Txt():\n",
    "    def __init__(self, txt):\n",
    "        self.txt = txt\n",
    "    def __eq__(self, txt_obj): # 오버라이딩\n",
    "        \"\"\"\n",
    "            return self.txt.lower() == txt_obj.txt.lower()\n",
    "        \"\"\"\n",
    "        return self.txt.lower() == txt_obj.txt.lower()\n",
    "    \n",
    "txt1 = Txt(\"fastcampus\")\n",
    "txt2 = Txt(\"FastCampus\")\n",
    "txt3 = Txt(\"dataScience\")\n",
    "txt4 = Txt(\"fastcampus\")\n",
    "txt5 = txt1"
   ]
  },
  {
   "cell_type": "code",
   "execution_count": 67,
   "metadata": {},
   "outputs": [
    {
     "data": {
      "text/plain": [
       "(True, False, True, True)"
      ]
     },
     "execution_count": 67,
     "metadata": {},
     "output_type": "execute_result"
    }
   ],
   "source": [
    "# 주소값을 비교하던걸 문자열을 비교하도록 바꿈\n",
    "# 앞에있는게 self 뒤에 있는게 txt_obj\n",
    "# 하지만 다른 메소드를 사용한 것들은 적용되지 않음...\n",
    "\n",
    "txt1 == txt2, txt1 == txt3, txt1 == txt4, txt1 == txt5"
   ]
  },
  {
   "cell_type": "code",
   "execution_count": 68,
   "metadata": {},
   "outputs": [],
   "source": [
    "Txt.__eq__??"
   ]
  },
  {
   "cell_type": "code",
   "execution_count": 69,
   "metadata": {},
   "outputs": [
    {
     "data": {
      "text/plain": [
       "False"
      ]
     },
     "execution_count": 69,
     "metadata": {},
     "output_type": "execute_result"
    }
   ],
   "source": [
    "1 == 3"
   ]
  },
  {
   "cell_type": "markdown",
   "metadata": {},
   "source": [
    "### Quiz\n",
    "\n",
    "- 리스트에 있는 특정 값을 모두 삭제하는 방법. (밑에 두가지 방법으로 구현해보자)\n",
    "    - for문\n",
    "    - comprehension"
   ]
  },
  {
   "cell_type": "code",
   "execution_count": 71,
   "metadata": {},
   "outputs": [
    {
     "data": {
      "text/plain": [
       "['Hello', 'Hello', 'Hello']"
      ]
     },
     "execution_count": 71,
     "metadata": {},
     "output_type": "execute_result"
    }
   ],
   "source": [
    "# for 문으로\n",
    "\n",
    "def del_all(ls, string):\n",
    "    result = []\n",
    "    for data in ls:\n",
    "        if data != string:\n",
    "            result.append(data)\n",
    "    return result\n",
    "\n",
    "ls = [\"Hello\",\"Python\",\"Hello\",\"Python\",\"Hello\",\"Python\"]\n",
    "string = \"Python\"\n",
    "del_all(ls, string)\n",
    "        "
   ]
  },
  {
   "cell_type": "code",
   "execution_count": 73,
   "metadata": {},
   "outputs": [
    {
     "data": {
      "text/plain": [
       "['Hello', 'Hello', 'Hello']"
      ]
     },
     "execution_count": 73,
     "metadata": {},
     "output_type": "execute_result"
    }
   ],
   "source": [
    "# comprehension 으로\n",
    "\n",
    "def del_all(ls, string):\n",
    "    return [data for data in ls if data != string]\n",
    "\n",
    "ls = [\"Hello\",\"Python\",\"Hello\",\"Python\",\"Hello\",\"Python\"]\n",
    "string = \"Python\"  # string은 변수이름이 됨과 동시에 객체가 된 것.\n",
    "del_all(ls, string)"
   ]
  },
  {
   "cell_type": "code",
   "execution_count": 74,
   "metadata": {},
   "outputs": [],
   "source": [
    "int.__lt__??\n",
    "\n",
    "# 이 int를 설계도라고 생각하자.\n",
    "# lt 는 셀프가 value값보다 작으면 True를 리턴하고, value보다 크면 False를 리턴한다."
   ]
  },
  {
   "cell_type": "code",
   "execution_count": 75,
   "metadata": {},
   "outputs": [
    {
     "name": "stdout",
     "output_type": "stream",
     "text": [
      "[4, 5]\n"
     ]
    }
   ],
   "source": [
    "ls = [1,2,3,4,5]\n",
    "\n",
    "print(list(filter((3).__lt__,ls)))"
   ]
  },
  {
   "cell_type": "markdown",
   "metadata": {},
   "source": [
    "- `__add__`"
   ]
  },
  {
   "cell_type": "code",
   "execution_count": 76,
   "metadata": {},
   "outputs": [],
   "source": [
    "int.__add__??"
   ]
  },
  {
   "cell_type": "code",
   "execution_count": 77,
   "metadata": {},
   "outputs": [
    {
     "data": {
      "text/plain": [
       "5"
      ]
     },
     "execution_count": 77,
     "metadata": {},
     "output_type": "execute_result"
    }
   ],
   "source": [
    "(2).__add__(3)"
   ]
  },
  {
   "cell_type": "code",
   "execution_count": 78,
   "metadata": {},
   "outputs": [],
   "source": [
    "# add를 정의해서 객체간의 덧셈을 정의할 수 있다. (뺄셈으로 변경)\n",
    "\n",
    "class number:\n",
    "    \n",
    "    def __init__(self,num):\n",
    "        self.num = num\n",
    "    def __add__(self, other):           # add를 오버라이딩한 것.\n",
    "        return self.num - other.num"
   ]
  },
  {
   "cell_type": "code",
   "execution_count": 79,
   "metadata": {},
   "outputs": [
    {
     "data": {
      "text/plain": [
       "-2"
      ]
     },
     "execution_count": 79,
     "metadata": {},
     "output_type": "execute_result"
    }
   ],
   "source": [
    "n1 = number(5)\n",
    "n2 = number(7)\n",
    "n1 + n2"
   ]
  },
  {
   "cell_type": "code",
   "execution_count": 80,
   "metadata": {},
   "outputs": [],
   "source": [
    "# 앞에 있는 클래스의 함수를 따른다.\n",
    "\n",
    "class number2:\n",
    "    def __init__(self, num):\n",
    "        self.num = num\n",
    "    def __add__(self, other):        # add를 오버라이딩\n",
    "        return self.num * other.num "
   ]
  },
  {
   "cell_type": "code",
   "execution_count": 85,
   "metadata": {},
   "outputs": [
    {
     "name": "stdout",
     "output_type": "stream",
     "text": [
      "35\n",
      "-2\n"
     ]
    }
   ],
   "source": [
    "n1 = number2(5)\n",
    "n2 = number(7)\n",
    "print(n1 + n2)\n",
    "\n",
    "n1 = number(5)\n",
    "n2 = number2(7)\n",
    "print(n1 + n2)"
   ]
  },
  {
   "cell_type": "markdown",
   "metadata": {},
   "source": [
    "- `__repr__`: 클래스를 정의\n",
    "- `__str__`: 클래스명으로 print출력시 나오는 문자열"
   ]
  },
  {
   "cell_type": "code",
   "execution_count": 86,
   "metadata": {},
   "outputs": [],
   "source": [
    "# __repr__, __str__\n",
    "\n",
    "class Txt():\n",
    "    def __init__(self, txt):\n",
    "        self.txt = txt\n",
    "t1 = Txt(\"Python\")    # 객체를 만들었다."
   ]
  },
  {
   "cell_type": "code",
   "execution_count": 87,
   "metadata": {},
   "outputs": [
    {
     "data": {
      "text/plain": [
       "<__main__.Txt at 0x1069dfac8>"
      ]
     },
     "execution_count": 87,
     "metadata": {},
     "output_type": "execute_result"
    }
   ],
   "source": [
    "t1 # call __repr__"
   ]
  },
  {
   "cell_type": "code",
   "execution_count": 88,
   "metadata": {},
   "outputs": [
    {
     "name": "stdout",
     "output_type": "stream",
     "text": [
      "<__main__.Txt object at 0x1069dfac8>\n"
     ]
    }
   ],
   "source": [
    "print(t1) # call __str__ # 여기엔 object가 나타남"
   ]
  },
  {
   "cell_type": "code",
   "execution_count": 92,
   "metadata": {},
   "outputs": [],
   "source": [
    "# __repr__, __str__\n",
    "\n",
    "class Txt2():\n",
    "    def __init__(self, txt):\n",
    "        self.txt = txt\n",
    "    def __repr__(self):\n",
    "        print(\"call '__repr__'\")\n",
    "        return \"Txt2(txt=\"' + self.txt + '\")\"\n",
    "    def __str__(self):\n",
    "        print(\"call '__str__'\")\n",
    "        return self.txt\n",
    "\n",
    "t2 = Txt2(\"Python\")"
   ]
  },
  {
   "cell_type": "code",
   "execution_count": 93,
   "metadata": {},
   "outputs": [
    {
     "name": "stdout",
     "output_type": "stream",
     "text": [
      "call '__repr__'\n"
     ]
    },
    {
     "data": {
      "text/plain": [
       "Txt2(txt= + self.txt + )"
      ]
     },
     "execution_count": 93,
     "metadata": {},
     "output_type": "execute_result"
    }
   ],
   "source": [
    "t2"
   ]
  },
  {
   "cell_type": "code",
   "execution_count": 94,
   "metadata": {},
   "outputs": [
    {
     "name": "stdout",
     "output_type": "stream",
     "text": [
      "call '__str__'\n",
      "Python\n"
     ]
    }
   ],
   "source": [
    "print(t2)"
   ]
  },
  {
   "cell_type": "markdown",
   "metadata": {},
   "source": [
    "- `__len__`"
   ]
  },
  {
   "cell_type": "code",
   "execution_count": 95,
   "metadata": {},
   "outputs": [],
   "source": [
    "list.__len__??"
   ]
  },
  {
   "cell_type": "code",
   "execution_count": 96,
   "metadata": {},
   "outputs": [],
   "source": [
    "def len(x):\n",
    "    return x.__len__()"
   ]
  },
  {
   "cell_type": "code",
   "execution_count": 97,
   "metadata": {},
   "outputs": [
    {
     "data": {
      "text/plain": [
       "[1, 2, 4]"
      ]
     },
     "execution_count": 97,
     "metadata": {},
     "output_type": "execute_result"
    }
   ],
   "source": [
    "somelist = [[1],[2,3],[4,5,6,7]]\n",
    "list(map(len, somelist))"
   ]
  },
  {
   "cell_type": "code",
   "execution_count": 98,
   "metadata": {},
   "outputs": [
    {
     "data": {
      "text/plain": [
       "[1, 2, 4]"
      ]
     },
     "execution_count": 98,
     "metadata": {},
     "output_type": "execute_result"
    }
   ],
   "source": [
    "list(map(list.__len__, somelist))"
   ]
  },
  {
   "cell_type": "code",
   "execution_count": 99,
   "metadata": {},
   "outputs": [
    {
     "data": {
      "text/plain": [
       "3"
      ]
     },
     "execution_count": 99,
     "metadata": {},
     "output_type": "execute_result"
    }
   ],
   "source": [
    "somelist.__len__()"
   ]
  },
  {
   "cell_type": "code",
   "execution_count": 100,
   "metadata": {},
   "outputs": [
    {
     "data": {
      "text/plain": [
       "3"
      ]
     },
     "execution_count": 100,
     "metadata": {},
     "output_type": "execute_result"
    }
   ],
   "source": [
    "len(somelist)"
   ]
  },
  {
   "cell_type": "markdown",
   "metadata": {},
   "source": [
    "## namedtuple\n",
    "\n",
    "- 튜플의 서브 클래스\n",
    "- 튜플에 key 값을 추가하나 데이터 타입\n",
    "- `.`과 `offset`으로 접근이 가능\n",
    "- 불변하는 객체로 사용가능\n",
    "- 객체보다 공간과 시간효율서잉 좋음\n",
    "- `key`값과 `index`를 함께 사용이 가능\n",
    "- 딕셔너리 형식의 `[]`가 아닌 `.`으로 접근이 가능"
   ]
  },
  {
   "cell_type": "code",
   "execution_count": 101,
   "metadata": {},
   "outputs": [],
   "source": [
    "from collections import namedtuple"
   ]
  },
  {
   "cell_type": "code",
   "execution_count": 105,
   "metadata": {},
   "outputs": [
    {
     "data": {
      "text/plain": [
       "Car(wheel='white', door ='black')"
      ]
     },
     "execution_count": 105,
     "metadata": {},
     "output_type": "execute_result"
    }
   ],
   "source": [
    "class Car():\n",
    "    \n",
    "    def __init__(self, wheel, door):\n",
    "        self.wheel = wheel\n",
    "        self.door = door\n",
    "        \n",
    "    def __str__(self):\n",
    "        return self.wheel + \" \" + self.door\n",
    "    \n",
    "    def __repr__(self):\n",
    "        return \"Car(wheel='\" + self.wheel + \"', door ='\" + self.door + \"')\"\n",
    "\n",
    "car_obj = Car(\"white\", \"black\")\n",
    "car_obj"
   ]
  },
  {
   "cell_type": "code",
   "execution_count": 106,
   "metadata": {},
   "outputs": [
    {
     "data": {
      "text/plain": [
       "('white', 'black')"
      ]
     },
     "execution_count": 106,
     "metadata": {},
     "output_type": "execute_result"
    }
   ],
   "source": [
    "car_obj.wheel, car_obj.door"
   ]
  },
  {
   "cell_type": "code",
   "execution_count": 109,
   "metadata": {},
   "outputs": [
    {
     "name": "stdout",
     "output_type": "stream",
     "text": [
      "56\n"
     ]
    }
   ],
   "source": [
    "import sys\n",
    "print(sys.getsizeof(car_obj))"
   ]
  },
  {
   "cell_type": "code",
   "execution_count": 110,
   "metadata": {},
   "outputs": [],
   "source": [
    "# namedtuple class\n",
    "Car = namedtuple(\"Car\", \"wheel door\") # 공백으로 구분해줘서 변수값이 생성이 된다"
   ]
  },
  {
   "cell_type": "code",
   "execution_count": 111,
   "metadata": {},
   "outputs": [
    {
     "data": {
      "text/plain": [
       "Car(wheel='white', door='black')"
      ]
     },
     "execution_count": 111,
     "metadata": {},
     "output_type": "execute_result"
    }
   ],
   "source": [
    "# namedtuple object\n",
    "car_obj = Car(\"white\", \"black\")\n",
    "car_obj"
   ]
  },
  {
   "cell_type": "code",
   "execution_count": 113,
   "metadata": {},
   "outputs": [
    {
     "data": {
      "text/plain": [
       "Car(wheel='white', door='black')"
      ]
     },
     "execution_count": 113,
     "metadata": {},
     "output_type": "execute_result"
    }
   ],
   "source": [
    "Car = namedtuple(\"Car\", \"wheel door\") # 공백으로 구분해줘서 변수값이 생성이 된다\n",
    "car = Car(\"white\", \"black\")\n",
    "car"
   ]
  },
  {
   "cell_type": "code",
   "execution_count": 114,
   "metadata": {},
   "outputs": [
    {
     "data": {
      "text/plain": [
       "('white', 'black', 'white', 'black')"
      ]
     },
     "execution_count": 114,
     "metadata": {},
     "output_type": "execute_result"
    }
   ],
   "source": [
    "car.wheel, car.door, car[0], car[1]"
   ]
  },
  {
   "cell_type": "code",
   "execution_count": 115,
   "metadata": {},
   "outputs": [
    {
     "name": "stdout",
     "output_type": "stream",
     "text": [
      "64\n"
     ]
    }
   ],
   "source": [
    "print(sys.getsizeof(car))"
   ]
  },
  {
   "cell_type": "code",
   "execution_count": 116,
   "metadata": {},
   "outputs": [
    {
     "data": {
      "text/plain": [
       "Car(wheel='pink', door='red')"
      ]
     },
     "execution_count": 116,
     "metadata": {},
     "output_type": "execute_result"
    }
   ],
   "source": [
    "# 딕셔너리를 네임드 튜플로 만들기\n",
    "\n",
    "dic = {\"wheel\": \"pink\", \"door\": \"red\"}\n",
    "dic_car = Car(**dic)  # 앞에 ** 를 반드시 붙여줘야 함\n",
    "dic_car"
   ]
  },
  {
   "cell_type": "code",
   "execution_count": 117,
   "metadata": {},
   "outputs": [
    {
     "data": {
      "text/plain": [
       "('pink', 'red')"
      ]
     },
     "execution_count": 117,
     "metadata": {},
     "output_type": "execute_result"
    }
   ],
   "source": [
    "dic_car.wheel, dic_car.door"
   ]
  },
  {
   "cell_type": "code",
   "execution_count": 118,
   "metadata": {},
   "outputs": [
    {
     "data": {
      "text/plain": [
       "'red'"
      ]
     },
     "execution_count": 118,
     "metadata": {},
     "output_type": "execute_result"
    }
   ],
   "source": [
    "dic_car[1]"
   ]
  },
  {
   "cell_type": "code",
   "execution_count": 119,
   "metadata": {},
   "outputs": [
    {
     "data": {
      "text/plain": [
       "Car(wheel='pink', door='red')"
      ]
     },
     "execution_count": 119,
     "metadata": {},
     "output_type": "execute_result"
    }
   ],
   "source": [
    "# 리스트를 네임드 튜플 만들기\n",
    "ls = [\"pink\", \"red\"]\n",
    "ls_car = car._make(ls)     # 네임드 튜플은 순서가 있다. 여기서는 pink가 첫번쨰로 들어가는 것\n",
    "ls_car\n",
    "\n",
    "# _make를 함"
   ]
  }
 ],
 "metadata": {
  "kernelspec": {
   "display_name": "Python 3",
   "language": "python",
   "name": "python3"
  },
  "language_info": {
   "codemirror_mode": {
    "name": "ipython",
    "version": 3
   },
   "file_extension": ".py",
   "mimetype": "text/x-python",
   "name": "python",
   "nbconvert_exporter": "python",
   "pygments_lexer": "ipython3",
   "version": "3.5.0"
  }
 },
 "nbformat": 4,
 "nbformat_minor": 2
}
