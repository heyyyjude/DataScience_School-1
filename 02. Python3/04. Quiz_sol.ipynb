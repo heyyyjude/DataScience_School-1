{
 "cells": [
  {
   "cell_type": "markdown",
   "metadata": {},
   "source": [
    "### Quiz 1 - sol.1"
   ]
  },
  {
   "cell_type": "code",
   "execution_count": null,
   "metadata": {},
   "outputs": [],
   "source": [
    "names = []\n",
    "result = 0\n",
    "\n",
    "for name in range(5):\n",
    "    name = input(\"insert name : \")\n",
    "    names.append(name)\n",
    "    \n",
    "    if name[:3] == \"kim\":\n",
    "        result += 1\n",
    "    elif name[:3] == 'Kim':\n",
    "        result += 1\n",
    "    else:\n",
    "        continue\n",
    "result"
   ]
  },
  {
   "cell_type": "markdown",
   "metadata": {},
   "source": [
    "### Quiz 1 - sol.2"
   ]
  },
  {
   "cell_type": "code",
   "execution_count": null,
   "metadata": {},
   "outputs": [],
   "source": [
    "names = []\n",
    "\n",
    "for _ in range(5):\n",
    "    name = input(\"insert name : \")\n",
    "    names.append(name)\n",
    "\n",
    "count = 0\n",
    "\n",
    "for name in names:\n",
    "    \n",
    "    family_name = name.split(\" \")[0].lower()\n",
    "    \n",
    "    if family_name == \"kim\":\n",
    "        count += 1\n",
    "\n",
    "names, count"
   ]
  },
  {
   "cell_type": "markdown",
   "metadata": {},
   "source": [
    "### Quiz2 - sol.1\n",
    "\n",
    "- 가로로 출력"
   ]
  },
  {
   "cell_type": "code",
   "execution_count": 59,
   "metadata": {
    "collapsed": true
   },
   "outputs": [
    {
     "name": "stdout",
     "output_type": "stream",
     "text": [
      "2단\n",
      "2*1=2\n",
      "2*2=4\n",
      "2*3=6\n",
      "2*4=8\n",
      "2*5=10\n",
      "2*6=12\n",
      "2*7=14\n",
      "2*8=16\n",
      "2*9=18\n",
      "\n",
      "\n",
      "3단\n",
      "3*1=3\n",
      "3*2=6\n",
      "3*3=9\n",
      "3*4=12\n",
      "3*5=15\n",
      "3*6=18\n",
      "3*7=21\n",
      "3*8=24\n",
      "3*9=27\n",
      "\n",
      "\n",
      "4단\n",
      "4*1=4\n",
      "4*2=8\n",
      "4*3=12\n",
      "4*4=16\n",
      "4*5=20\n",
      "4*6=24\n",
      "4*7=28\n",
      "4*8=32\n",
      "4*9=36\n",
      "\n",
      "\n",
      "5단\n",
      "5*1=5\n",
      "5*2=10\n",
      "5*3=15\n",
      "5*4=20\n",
      "5*5=25\n",
      "5*6=30\n",
      "5*7=35\n",
      "5*8=40\n",
      "5*9=45\n",
      "\n",
      "\n",
      "6단\n",
      "6*1=6\n",
      "6*2=12\n",
      "6*3=18\n",
      "6*4=24\n",
      "6*5=30\n",
      "6*6=36\n",
      "6*7=42\n",
      "6*8=48\n",
      "6*9=54\n",
      "\n",
      "\n",
      "7단\n",
      "7*1=7\n",
      "7*2=14\n",
      "7*3=21\n",
      "7*4=28\n",
      "7*5=35\n",
      "7*6=42\n",
      "7*7=49\n",
      "7*8=56\n",
      "7*9=63\n",
      "\n",
      "\n",
      "8단\n",
      "8*1=8\n",
      "8*2=16\n",
      "8*3=24\n",
      "8*4=32\n",
      "8*5=40\n",
      "8*6=48\n",
      "8*7=56\n",
      "8*8=64\n",
      "8*9=72\n",
      "\n",
      "\n",
      "9단\n",
      "9*1=9\n",
      "9*2=18\n",
      "9*3=27\n",
      "9*4=36\n",
      "9*5=45\n",
      "9*6=54\n",
      "9*7=63\n",
      "9*8=72\n",
      "9*9=81\n",
      "\n",
      "\n"
     ]
    }
   ],
   "source": [
    "start_num = 2\n",
    "\n",
    "for i in range(2,10):\n",
    "    print(str(i) + \"단\")\n",
    "    for j in range(1,10):\n",
    "        print(str(i) + \"*\" + str(j) + \"=\" + str(start_num * j))\n",
    "    \n",
    "    print(\"\\n\")\n",
    "    start_num += 1 "
   ]
  },
  {
   "cell_type": "markdown",
   "metadata": {},
   "source": [
    "### Quiz2 - sol.2\n",
    "\n",
    "- 가로로 출력"
   ]
  },
  {
   "cell_type": "code",
   "execution_count": 60,
   "metadata": {
    "scrolled": true
   },
   "outputs": [
    {
     "name": "stdout",
     "output_type": "stream",
     "text": [
      "2단\n",
      "2*1=2\n",
      "2*2=4\n",
      "2*3=6\n",
      "2*4=8\n",
      "2*5=10\n",
      "2*6=12\n",
      "2*7=14\n",
      "2*8=16\n",
      "2*9=18\n",
      "\n",
      "3단\n",
      "3*1=3\n",
      "3*2=6\n",
      "3*3=9\n",
      "3*4=12\n",
      "3*5=15\n",
      "3*6=18\n",
      "3*7=21\n",
      "3*8=24\n",
      "3*9=27\n",
      "\n",
      "4단\n",
      "4*1=4\n",
      "4*2=8\n",
      "4*3=12\n",
      "4*4=16\n",
      "4*5=20\n",
      "4*6=24\n",
      "4*7=28\n",
      "4*8=32\n",
      "4*9=36\n",
      "\n",
      "5단\n",
      "5*1=5\n",
      "5*2=10\n",
      "5*3=15\n",
      "5*4=20\n",
      "5*5=25\n",
      "5*6=30\n",
      "5*7=35\n",
      "5*8=40\n",
      "5*9=45\n",
      "\n",
      "6단\n",
      "6*1=6\n",
      "6*2=12\n",
      "6*3=18\n",
      "6*4=24\n",
      "6*5=30\n",
      "6*6=36\n",
      "6*7=42\n",
      "6*8=48\n",
      "6*9=54\n",
      "\n",
      "7단\n",
      "7*1=7\n",
      "7*2=14\n",
      "7*3=21\n",
      "7*4=28\n",
      "7*5=35\n",
      "7*6=42\n",
      "7*7=49\n",
      "7*8=56\n",
      "7*9=63\n",
      "\n",
      "8단\n",
      "8*1=8\n",
      "8*2=16\n",
      "8*3=24\n",
      "8*4=32\n",
      "8*5=40\n",
      "8*6=48\n",
      "8*7=56\n",
      "8*8=64\n",
      "8*9=72\n",
      "\n",
      "9단\n",
      "9*1=9\n",
      "9*2=18\n",
      "9*3=27\n",
      "9*4=36\n",
      "9*5=45\n",
      "9*6=54\n",
      "9*7=63\n",
      "9*8=72\n",
      "9*9=81\n",
      "\n"
     ]
    }
   ],
   "source": [
    "for num1 in range(2, 10):\n",
    "    print(\"{}단\".format(num1))\n",
    "    for num2 in range(1,10):\n",
    "        print(\"{}*{}={}\".format(num1, num2,num1*num2))\n",
    "    print()"
   ]
  },
  {
   "cell_type": "markdown",
   "metadata": {},
   "source": [
    "### sol.1\n",
    "\n",
    "- 세로로 출력"
   ]
  },
  {
   "cell_type": "code",
   "execution_count": 34,
   "metadata": {
    "scrolled": true
   },
   "outputs": [
    {
     "name": "stdout",
     "output_type": "stream",
     "text": [
      "2*1=2\t3*1=3\t4*1=4\t5*1=5\t6*1=6\t7*1=7\t8*1=8\t9*1=9\t\n",
      "2*2=4\t3*2=6\t4*2=8\t5*2=10\t6*2=12\t7*2=14\t8*2=16\t9*2=18\t\n",
      "2*3=6\t3*3=9\t4*3=12\t5*3=15\t6*3=18\t7*3=21\t8*3=24\t9*3=27\t\n",
      "2*4=8\t3*4=12\t4*4=16\t5*4=20\t6*4=24\t7*4=28\t8*4=32\t9*4=36\t\n",
      "2*5=10\t3*5=15\t4*5=20\t5*5=25\t6*5=30\t7*5=35\t8*5=40\t9*5=45\t\n",
      "2*6=12\t3*6=18\t4*6=24\t5*6=30\t6*6=36\t7*6=42\t8*6=48\t9*6=54\t\n",
      "2*7=14\t3*7=21\t4*7=28\t5*7=35\t6*7=42\t7*7=49\t8*7=56\t9*7=63\t\n",
      "2*8=16\t3*8=24\t4*8=32\t5*8=40\t6*8=48\t7*8=56\t8*8=64\t9*8=72\t\n",
      "2*9=18\t3*9=27\t4*9=36\t5*9=45\t6*9=54\t7*9=63\t8*9=72\t9*9=81\t\n"
     ]
    }
   ],
   "source": [
    "start_num = 0\n",
    "\n",
    "for i in range(1,10):\n",
    "    start_num += 1\n",
    "    \n",
    "    for j in range(2,10):\n",
    "        \n",
    "        print(str(j) + \"*\" + str(start_num) + \"=\" + str(start_num * j), end = '\\t')\n",
    "        \n",
    "        if j == 9:\n",
    "            print(\"\")"
   ]
  },
  {
   "cell_type": "markdown",
   "metadata": {},
   "source": [
    "### sol.2\n",
    "\n",
    "- 세로로 출력"
   ]
  },
  {
   "cell_type": "code",
   "execution_count": 62,
   "metadata": {},
   "outputs": [
    {
     "name": "stdout",
     "output_type": "stream",
     "text": [
      "2*1=*\t3*1=*\t4*1=*\t5*1=*\t6*1=*\t7*1=*\t8*1=*\t9*1=*\t\n",
      "2*2=*\t3*2=*\t4*2=*\t5*2=*\t6*2=*\t7*2=*\t8*2=*\t9*2=*\t\n",
      "2*3=*\t3*3=*\t4*3=*\t5*3=*\t6*3=*\t7*3=*\t8*3=*\t9*3=*\t\n",
      "2*4=*\t3*4=*\t4*4=*\t5*4=*\t6*4=*\t7*4=*\t8*4=*\t9*4=*\t\n",
      "2*5=*\t3*5=*\t4*5=*\t5*5=*\t6*5=*\t7*5=*\t8*5=*\t9*5=*\t\n",
      "2*6=*\t3*6=*\t4*6=*\t5*6=*\t6*6=*\t7*6=*\t8*6=*\t9*6=*\t\n",
      "2*7=*\t3*7=*\t4*7=*\t5*7=*\t6*7=*\t7*7=*\t8*7=*\t9*7=*\t\n",
      "2*8=*\t3*8=*\t4*8=*\t5*8=*\t6*8=*\t7*8=*\t8*8=*\t9*8=*\t\n",
      "2*9=*\t3*9=*\t4*9=*\t5*9=*\t6*9=*\t7*9=*\t8*9=*\t9*9=*\t\n"
     ]
    }
   ],
   "source": [
    "for num2 in range(1,10):\n",
    "    for num1 in range(2,10):\n",
    "        print(\"{}*{}=*\".format(num1,num2,num1*num2), end = '\\t')\n",
    "    print()"
   ]
  },
  {
   "cell_type": "markdown",
   "metadata": {},
   "source": [
    "### sol.1\n",
    "\n",
    "- 입력받은 단수의 구구단을 출력"
   ]
  },
  {
   "cell_type": "code",
   "execution_count": 37,
   "metadata": {
    "scrolled": true
   },
   "outputs": [
    {
     "name": "stdout",
     "output_type": "stream",
     "text": [
      "insert number (2-9) : 7\n",
      "7*1=7\n",
      "7*2=14\n",
      "7*3=21\n",
      "7*4=28\n",
      "7*5=35\n",
      "7*6=42\n",
      "7*7=49\n",
      "7*8=56\n",
      "7*9=63\n"
     ]
    }
   ],
   "source": [
    "number = int(input(\"insert number (2-9) : \"))\n",
    "\n",
    "for i in range(1,10):\n",
    "    print(str(number) + \"*\" + str(i) + \"=\" + str(number*i))"
   ]
  },
  {
   "cell_type": "markdown",
   "metadata": {},
   "source": [
    "### sol.2\n",
    "\n",
    "- 입력받은 단수의 구구단을 출력"
   ]
  },
  {
   "cell_type": "code",
   "execution_count": 64,
   "metadata": {},
   "outputs": [
    {
     "name": "stdout",
     "output_type": "stream",
     "text": [
      "insert number : 7\n",
      "7*1=7\n",
      "7*2=14\n",
      "7*3=21\n",
      "7*4=28\n",
      "7*5=35\n",
      "7*6=42\n",
      "7*7=49\n",
      "7*8=56\n",
      "7*9=63\n"
     ]
    }
   ],
   "source": [
    "num1 = int(input(\"insert number : \"))\n",
    "\n",
    "for num2 in range(1,10):\n",
    "    print(\"{}*{}={}\".format(num1,num2,num1*num2))"
   ]
  },
  {
   "cell_type": "markdown",
   "metadata": {},
   "source": [
    "### Quiz 4 - sol.1"
   ]
  },
  {
   "cell_type": "code",
   "execution_count": 65,
   "metadata": {},
   "outputs": [
    {
     "name": "stdout",
     "output_type": "stream",
     "text": [
      "insert number : 50\n",
      "Up\n",
      "insert number : 75\n",
      "Down\n",
      "insert number : 60\n",
      "Up\n",
      "insert number : 65\n",
      "Up\n",
      "insert number : 69\n",
      "Down\n",
      "insert number : 68\n",
      "Down\n",
      "insert number : 67\n",
      "7\n"
     ]
    }
   ],
   "source": [
    "import random\n",
    "random_number = random.randint(1,101)\n",
    "\n",
    "insert_list = []\n",
    "\n",
    "for i in range(100):\n",
    "    \n",
    "    number = int(input(\"insert number : \"))\n",
    "    insert_list.append(number)\n",
    "    \n",
    "    if int(insert_list[i]) < random_number:\n",
    "        print(\"Up\")\n",
    "    elif int(insert_list[i]) > random_number:\n",
    "        print(\"Down\")\n",
    "    else:\n",
    "        int(insert_list[i]) == random_number\n",
    "        print(len(insert_list))\n",
    "        break\n",
    "        "
   ]
  },
  {
   "cell_type": "markdown",
   "metadata": {},
   "source": [
    "### Quiz 4 - sol.2"
   ]
  },
  {
   "cell_type": "code",
   "execution_count": 67,
   "metadata": {},
   "outputs": [
    {
     "name": "stdout",
     "output_type": "stream",
     "text": [
      "insert number : 50\n",
      "Up\n",
      "insert number : 75\n",
      "Down\n",
      "insert number : 60\n",
      "Down\n",
      "insert number : 55\n",
      "Up\n",
      "insert number : 57\n",
      "5번 만에 맞추셨습니다\n"
     ]
    }
   ],
   "source": [
    "import random\n",
    "\n",
    "random_number = random.randint(1,100)\n",
    "random_number\n",
    "\n",
    "count = 0\n",
    "\n",
    "while True:\n",
    "    \n",
    "    input_number = int(input(\"insert number : \"))\n",
    "    \n",
    "    count += 1\n",
    "    \n",
    "    if random_number < input_number:\n",
    "        print(\"Down\")\n",
    "    elif random_number > input_number:\n",
    "        print(\"Up\")        \n",
    "    else:\n",
    "        print(\"{}번 만에 맞추셨습니다\".format(count))\n",
    "        break\n",
    "        "
   ]
  },
  {
   "cell_type": "markdown",
   "metadata": {},
   "source": [
    "### Quiz5 - sol.1"
   ]
  },
  {
   "cell_type": "code",
   "execution_count": 2,
   "metadata": {},
   "outputs": [
    {
     "name": "stdout",
     "output_type": "stream",
     "text": [
      "[11, 19, 38, 44, 13, 5]\n"
     ]
    }
   ],
   "source": [
    "import random\n",
    "\n",
    "number_list = []\n",
    "\n",
    "for i in range(45):\n",
    "    \n",
    "    number_list.append(i)\n",
    "    \n",
    "random.shuffle(number_list)\n",
    "print(number_list[:6])"
   ]
  },
  {
   "cell_type": "markdown",
   "metadata": {},
   "source": [
    "### Quiz5 - sol.2"
   ]
  },
  {
   "cell_type": "code",
   "execution_count": 4,
   "metadata": {},
   "outputs": [
    {
     "data": {
      "text/plain": [
       "[3, 19, 31, 32, 36, 37]"
      ]
     },
     "execution_count": 4,
     "metadata": {},
     "output_type": "execute_result"
    }
   ],
   "source": [
    "import random\n",
    "\n",
    "result = []\n",
    "\n",
    "while len(result) < 6:\n",
    "    random_number = random.randint(1,45)\n",
    "    if random_number not in result:\n",
    "        result.append(random_number)\n",
    "        \n",
    "result.sort()\n",
    "result"
   ]
  },
  {
   "cell_type": "markdown",
   "metadata": {},
   "source": [
    "### Quiz6 - sol.1"
   ]
  },
  {
   "cell_type": "code",
   "execution_count": 8,
   "metadata": {
    "scrolled": false
   },
   "outputs": [
    {
     "name": "stdout",
     "output_type": "stream",
     "text": [
      "insert number : 20\n",
      "20\n",
      "1\n",
      "2\n",
      "Fizz\n",
      "4\n",
      "Buzz\n",
      "Fizz\n",
      "7\n",
      "8\n",
      "Fizz\n",
      "Buzz\n",
      "11\n",
      "Fizz\n",
      "13\n",
      "14\n",
      "FizzBuzz\n",
      "16\n",
      "17\n",
      "Fizz\n",
      "19\n",
      "Buzz\n"
     ]
    }
   ],
   "source": [
    "end_number = int(input(\"insert number : \"))\n",
    "\n",
    "print(end_number)\n",
    "\n",
    "for i in range(1,end_number+1):\n",
    "    \n",
    "    if i % 15 == 0:\n",
    "        print(\"FizzBuzz\")\n",
    "        continue\n",
    "    elif i % 3 == 0:\n",
    "        print(\"Fizz\")\n",
    "    elif i % 5 == 0:\n",
    "        print(\"Buzz\")\n",
    "    else:\n",
    "        print(i)"
   ]
  },
  {
   "cell_type": "markdown",
   "metadata": {},
   "source": [
    "### Quiz6 - sol.2"
   ]
  },
  {
   "cell_type": "code",
   "execution_count": 7,
   "metadata": {},
   "outputs": [
    {
     "name": "stdout",
     "output_type": "stream",
     "text": [
      "1\n",
      "2\n",
      "FiZZ\n",
      "4\n",
      "Buzz\n",
      "FiZZ\n",
      "7\n",
      "8\n",
      "FiZZ\n",
      "Buzz\n",
      "11\n",
      "FiZZ\n",
      "13\n",
      "14\n",
      "FizzBuzz\n",
      "16\n",
      "17\n",
      "FiZZ\n",
      "19\n",
      "Buzz\n"
     ]
    }
   ],
   "source": [
    "number = 20\n",
    "\n",
    "for num in range(1, number +1):\n",
    "\n",
    "    if (num % 3 ==0) & (num % 5 == 0):\n",
    "        print(\"FizzBuzz\")\n",
    "    elif num % 3 == 0:\n",
    "        print(\"FiZZ\")\n",
    "    elif num % 5 == 0:\n",
    "        print(\"Buzz\")\n",
    "    else:\n",
    "        print(num)"
   ]
  },
  {
   "cell_type": "markdown",
   "metadata": {},
   "source": [
    "### Quiz7 - sol.1"
   ]
  },
  {
   "cell_type": "code",
   "execution_count": 47,
   "metadata": {
    "scrolled": true
   },
   "outputs": [
    {
     "name": "stdout",
     "output_type": "stream",
     "text": [
      "insert number : 10\n",
      "*\n",
      "**\n",
      "***\n",
      "****\n",
      "*****\n",
      "******\n",
      "*******\n",
      "********\n",
      "*********\n",
      "**********\n"
     ]
    }
   ],
   "source": [
    "number = int(input(\"insert number : \"))\n",
    "\n",
    "for i in range(1,number+1):\n",
    "    print(\"*\"*i)"
   ]
  },
  {
   "cell_type": "code",
   "execution_count": 49,
   "metadata": {
    "scrolled": true
   },
   "outputs": [
    {
     "name": "stdout",
     "output_type": "stream",
     "text": [
      "insert number : 10\n",
      "         *\n",
      "        **\n",
      "       ***\n",
      "      ****\n",
      "     *****\n",
      "    ******\n",
      "   *******\n",
      "  ********\n",
      " *********\n",
      "**********\n"
     ]
    }
   ],
   "source": [
    "number = int(input(\"insert number : \"))\n",
    "\n",
    "for i in range(1,number+1):\n",
    "    print(\" \" * (number - i) + \"*\" * i)"
   ]
  },
  {
   "cell_type": "markdown",
   "metadata": {},
   "source": [
    "### Quiz 7 - sol.2"
   ]
  },
  {
   "cell_type": "code",
   "execution_count": 1,
   "metadata": {},
   "outputs": [
    {
     "name": "stdout",
     "output_type": "stream",
     "text": [
      "      *\n",
      "     **\n",
      "    ***\n",
      "   ****\n",
      "  *****\n",
      " ******\n",
      "*******\n"
     ]
    }
   ],
   "source": [
    "number = 7\n",
    "space = number - 1\n",
    "\n",
    "for star in range(1, number + 1):\n",
    "    print(\" \" * space + \"*\" * star)\n",
    "    space -= 1"
   ]
  },
  {
   "cell_type": "markdown",
   "metadata": {},
   "source": [
    "### Quiz 7 - sol.1"
   ]
  },
  {
   "cell_type": "code",
   "execution_count": 57,
   "metadata": {
    "scrolled": true
   },
   "outputs": [
    {
     "name": "stdout",
     "output_type": "stream",
     "text": [
      "insert odd number : 9\n",
      "    *\n",
      "   ***\n",
      "  *****\n",
      " *******\n",
      "*********\n"
     ]
    }
   ],
   "source": [
    "number = int(input(\"insert odd number : \"))\n",
    "\n",
    "for i in range(1,number + 1,2):\n",
    "    print(\" \"* ((number - i)//2)  + \"*\" * i)"
   ]
  },
  {
   "cell_type": "markdown",
   "metadata": {},
   "source": [
    "### sol.2"
   ]
  },
  {
   "cell_type": "code",
   "execution_count": 2,
   "metadata": {},
   "outputs": [
    {
     "name": "stdout",
     "output_type": "stream",
     "text": [
      "    *\n",
      "   ***\n",
      "  *****\n",
      " *******\n",
      "*********\n"
     ]
    }
   ],
   "source": [
    "number = 9\n",
    "space = number // 2\n",
    "\n",
    "for star in range(1, number + 1 , 2):\n",
    "    print(\" \" * space + \"*\" * star)\n",
    "    space -= 1"
   ]
  },
  {
   "cell_type": "markdown",
   "metadata": {},
   "source": [
    "### sol.1"
   ]
  },
  {
   "cell_type": "code",
   "execution_count": 104,
   "metadata": {},
   "outputs": [
    {
     "name": "stdout",
     "output_type": "stream",
     "text": [
      "insert odd number : 7\n",
      "*******\n",
      " *****\n",
      "  ***\n",
      "   *\n"
     ]
    }
   ],
   "source": [
    "number = int(input(\"insert odd number : \"))\n",
    "\n",
    "for i in range(1,number + 1,2):\n",
    "    print(\" \"* (i//2) +  \"*\"*(number-i+1))"
   ]
  },
  {
   "cell_type": "markdown",
   "metadata": {},
   "source": [
    "### sol.2"
   ]
  },
  {
   "cell_type": "code",
   "execution_count": 3,
   "metadata": {},
   "outputs": [
    {
     "name": "stdout",
     "output_type": "stream",
     "text": [
      "*******\n",
      " *****\n",
      "  ***\n",
      "   *\n"
     ]
    }
   ],
   "source": [
    "number = 7\n",
    "space = 0\n",
    "\n",
    "for star in range(number, 0, -2):\n",
    "    print(\" \" * space + \"*\" * star)\n",
    "    space += 1"
   ]
  },
  {
   "cell_type": "markdown",
   "metadata": {},
   "source": [
    "### sol.1"
   ]
  },
  {
   "cell_type": "code",
   "execution_count": 114,
   "metadata": {},
   "outputs": [
    {
     "name": "stdout",
     "output_type": "stream",
     "text": [
      "insert odd number : 9\n",
      "    *\n",
      "   ***\n",
      "  *****\n",
      " *******\n",
      "*********\n",
      " *******\n",
      "  *****\n",
      "   ***\n",
      "    *\n",
      "     \n"
     ]
    }
   ],
   "source": [
    "number = int(input(\"insert odd number : \"))\n",
    "\n",
    "for i in range(1,number + 1,2):\n",
    "    print(\" \" * ((number-i)//2) + \"*\" * i)\n",
    "for i in range(1,number +1,2):\n",
    "    print(\" \" * (i//2+1) + \"*\"*(number-i-1))"
   ]
  },
  {
   "cell_type": "markdown",
   "metadata": {},
   "source": [
    "### sol.2"
   ]
  },
  {
   "cell_type": "code",
   "execution_count": 5,
   "metadata": {},
   "outputs": [
    {
     "name": "stdout",
     "output_type": "stream",
     "text": [
      "     *\n",
      "    ***\n",
      "   *****\n",
      "  *******\n",
      " *********\n",
      "***********\n",
      " *********\n",
      "  *******\n",
      "   *****\n",
      "    ***\n",
      "     *\n"
     ]
    }
   ],
   "source": [
    "number = 11\n",
    "space = number // 2\n",
    "\n",
    "for star in range(1, number , 2):\n",
    "    print(\" \" * space + \"*\" * star)\n",
    "    space -= 1\n",
    "    \n",
    "    \n",
    "for star in range(number, 0, -2):\n",
    "    print(\" \" * space + \"*\" * star)\n",
    "    space += 1"
   ]
  },
  {
   "cell_type": "markdown",
   "metadata": {},
   "source": [
    "### Quiz 8 - sol.1"
   ]
  },
  {
   "cell_type": "code",
   "execution_count": 57,
   "metadata": {},
   "outputs": [
    {
     "name": "stdout",
     "output_type": "stream",
     "text": [
      "insert number : 100\n"
     ]
    },
    {
     "data": {
      "text/plain": [
       "27"
      ]
     },
     "execution_count": 57,
     "metadata": {},
     "output_type": "execute_result"
    }
   ],
   "source": [
    "number = int(input(\"insert number : \"))\n",
    "\n",
    "f_num = bin(number)\n",
    "f_num = list(f_num)\n",
    "tmp_list = []\n",
    "\n",
    "for i in range(len(f_num)):\n",
    "    \n",
    "    if i < 2:\n",
    "        tmp_list.append(f_num[i])\n",
    "    else:\n",
    "        if f_num[i] == \"0\":\n",
    "            tmp_list.append(\"1\")\n",
    "        else:\n",
    "            tmp_list.append(\"0\")\n",
    "\n",
    "result = \"\".join(tmp_list)\n",
    "int(result,2)"
   ]
  },
  {
   "cell_type": "markdown",
   "metadata": {},
   "source": [
    "### Quiz 8 - sol.2"
   ]
  },
  {
   "cell_type": "code",
   "execution_count": 11,
   "metadata": {},
   "outputs": [
    {
     "data": {
      "text/plain": [
       "13"
      ]
     },
     "execution_count": 11,
     "metadata": {},
     "output_type": "execute_result"
    }
   ],
   "source": [
    "# string \n",
    "number = 50\n",
    "number = bin(number)[2:]  # 2진수로 변환\n",
    "number = [\"0\" if num == \"1\"else \"1\" for num in number] # 보어를 만듦\n",
    "number = \"\".join(number)  # 리스트를 합쳐줌\n",
    "number = int(number, 2)   # 2진수를 10진수로 변환\n",
    "number"
   ]
  },
  {
   "cell_type": "markdown",
   "metadata": {},
   "source": [
    "### sol.2"
   ]
  },
  {
   "cell_type": "code",
   "execution_count": 13,
   "metadata": {},
   "outputs": [
    {
     "data": {
      "text/plain": [
       "13"
      ]
     },
     "execution_count": 13,
     "metadata": {},
     "output_type": "execute_result"
    }
   ],
   "source": [
    "# XOR 비트연산자\n",
    "# 4 라는 숫자를 2진수로 바꾸면 100, 13은 1101\n",
    "# xor은 같으면 0이되고 다르면 1이된다.\n",
    "\n",
    "number = 50\n",
    "data, num = 0, 0 # data = 111, 1111 로 만들꺼다\n",
    "\n",
    "while data < number:\n",
    "    data += 2**num\n",
    "    num += 1\n",
    "    \n",
    "number^data"
   ]
  },
  {
   "cell_type": "markdown",
   "metadata": {},
   "source": [
    "### Quiz 9 -sol.1"
   ]
  },
  {
   "cell_type": "code",
   "execution_count": 22,
   "metadata": {},
   "outputs": [
    {
     "name": "stdout",
     "output_type": "stream",
     "text": [
      "1 2\n",
      "2 3\n",
      "3 2\n",
      "5 1\n",
      "9 1\n"
     ]
    },
    {
     "data": {
      "text/plain": [
       "[5, 9]"
      ]
     },
     "execution_count": 22,
     "metadata": {},
     "output_type": "execute_result"
    }
   ],
   "source": [
    "from collections import Counter\n",
    "\n",
    "ls = [1,1,2,5,2,2,3,3,9]\n",
    "d = dict(Counter(ls))\n",
    "d\n",
    "\n",
    "result = []\n",
    "for key,value in d.items():\n",
    "    if value == 1:\n",
    "        result.append(key)\n",
    "    print(key, value)\n",
    "result\n",
    "\n",
    "# items 사용"
   ]
  },
  {
   "cell_type": "markdown",
   "metadata": {},
   "source": [
    "### Quiz 10 - sol.1"
   ]
  },
  {
   "cell_type": "code",
   "execution_count": 29,
   "metadata": {},
   "outputs": [
    {
     "name": "stdout",
     "output_type": "stream",
     "text": [
      "[0, 1, 1, 2, 3, 5, 8, 13, 21, 34]\n",
      "[1, 2, 3, 4, 5, 6, 7, 8, 9, 10]\n",
      "34\n"
     ]
    }
   ],
   "source": [
    "# n 번째 피보나치 수열의 숫자\n",
    "\n",
    "n = 10\n",
    "a, b = 0, 1\n",
    "\n",
    "\n",
    "fibo = []\n",
    "index = []\n",
    "\n",
    "for idx in range(1,n+1):\n",
    "    index.append(idx)\n",
    "        \n",
    "for i in range(1,n+1):\n",
    "    \n",
    "    if i == 1:\n",
    "        fibo.append(0)\n",
    "    elif i == 2:\n",
    "        fibo.append(1)\n",
    "    #elif fibo[i] > n:\n",
    "    #   break\n",
    "    else:\n",
    "        fibo.append(fibo[i-3] + fibo[i-2])\n",
    "print(fibo)\n",
    "print(index)\n",
    "print(fibo[n-1])"
   ]
  },
  {
   "cell_type": "markdown",
   "metadata": {},
   "source": [
    "### sol.2"
   ]
  },
  {
   "cell_type": "code",
   "execution_count": 25,
   "metadata": {},
   "outputs": [
    {
     "data": {
      "text/plain": [
       "55"
      ]
     },
     "execution_count": 25,
     "metadata": {},
     "output_type": "execute_result"
    }
   ],
   "source": [
    "n = 10\n",
    "a, b = 0, 1\n",
    "\n",
    "result = 0\n",
    "\n",
    "for _ in range(n):\n",
    "    a, b = b, a + b\n",
    "    result = a\n",
    "result"
   ]
  },
  {
   "cell_type": "markdown",
   "metadata": {},
   "source": [
    "### sol.1"
   ]
  },
  {
   "cell_type": "code",
   "execution_count": 45,
   "metadata": {},
   "outputs": [
    {
     "name": "stdout",
     "output_type": "stream",
     "text": [
      "[0, 1, 1, 2, 3, 5, 8, 13, 21, 34, 55, 89, 144, 233, 377, 610]\n"
     ]
    }
   ],
   "source": [
    "# n 까지 피보나치 수열의 숫자들\n",
    "\n",
    "n = 980\n",
    "a, b = 0, 1\n",
    "\n",
    "fibo =[]\n",
    "index = []\n",
    "\n",
    "for i in range(0,n):\n",
    "    if i == 0:\n",
    "        fibo.append(a)\n",
    "    elif i == 1:\n",
    "        fibo.append(b)            \n",
    "    elif i >= 2:\n",
    "        \n",
    "        if fibo[i-2] + fibo[i-1] > n:\n",
    "            break\n",
    "        else:\n",
    "            fibo.append(fibo[i-2] + fibo[i-1])\n",
    "        \n",
    "print(fibo)"
   ]
  },
  {
   "cell_type": "markdown",
   "metadata": {},
   "source": [
    "### sol.2"
   ]
  },
  {
   "cell_type": "code",
   "execution_count": 23,
   "metadata": {},
   "outputs": [
    {
     "name": "stdout",
     "output_type": "stream",
     "text": [
      "0 1 1 2 3 5 8 13 21 34 55 89 144 233 377 610 987 \n"
     ]
    }
   ],
   "source": [
    "def fib(n):\n",
    "    a, b = 0, 1\n",
    "    while a < n:\n",
    "        print(a, end=' ')\n",
    "        a, b = b, a+b\n",
    "    print()\n",
    "fib(1000)"
   ]
  }
 ],
 "metadata": {
  "kernelspec": {
   "display_name": "Python 3",
   "language": "python",
   "name": "python3"
  },
  "language_info": {
   "codemirror_mode": {
    "name": "ipython",
    "version": 3
   },
   "file_extension": ".py",
   "mimetype": "text/x-python",
   "name": "python",
   "nbconvert_exporter": "python",
   "pygments_lexer": "ipython3",
   "version": "3.5.0"
  }
 },
 "nbformat": 4,
 "nbformat_minor": 2
}
