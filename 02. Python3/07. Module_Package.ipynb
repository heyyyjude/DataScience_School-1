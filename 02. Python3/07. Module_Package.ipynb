{
 "cells": [
  {
   "cell_type": "markdown",
   "metadata": {},
   "source": [
    "# Module\n",
    "\n",
    "- 함수, 변수, 클래스를 모아놓은 파일\n",
    "- pep8 module name\n",
    "    - 모듈(Module)명은 짧은 소문자로 구성되며 필요하다면 밑줄로 나눕니다.\n",
    "    - C/C++ 확장 모듈은 밑줄로 시작합니다."
   ]
  },
  {
   "cell_type": "markdown",
   "metadata": {},
   "source": [
    "## make module"
   ]
  },
  {
   "cell_type": "code",
   "execution_count": 2,
   "metadata": {},
   "outputs": [
    {
     "name": "stdout",
     "output_type": "stream",
     "text": [
      "Writing dsm_f.py\n"
     ]
    }
   ],
   "source": [
    "%%writefile dsm_f.py\n",
    "\n",
    "var = 1234\n",
    "\n",
    "def disp1(s):\n",
    "    print(\"dsm_f1: \", s)\n",
    "\n",
    "def disp2(s):\n",
    "    print(\"dsm_f2: \", s)\n",
    "    \n",
    "def disp3(s):\n",
    "    print(\"dsm_f3: \", s)\n",
    "    \n",
    "class calc:\n",
    "    def plus(self, *args):\n",
    "        return sum(args)"
   ]
  },
  {
   "cell_type": "markdown",
   "metadata": {},
   "source": [
    "## 모듈 호출\n",
    "\n",
    "- import"
   ]
  },
  {
   "cell_type": "code",
   "execution_count": 3,
   "metadata": {},
   "outputs": [],
   "source": [
    "# 모듈 호출하기\n",
    "import dsm_f"
   ]
  },
  {
   "cell_type": "code",
   "execution_count": 4,
   "metadata": {},
   "outputs": [
    {
     "name": "stdout",
     "output_type": "stream",
     "text": [
      "Variable   Type      Data/Info\n",
      "------------------------------\n",
      "dsm_f      module    <module 'dsm_f' from '/Us<...>ol/02. Python3/dsm_f.py'>\n"
     ]
    }
   ],
   "source": [
    "%whos"
   ]
  },
  {
   "cell_type": "code",
   "execution_count": 6,
   "metadata": {},
   "outputs": [
    {
     "name": "stdout",
     "output_type": "stream",
     "text": [
      "dsm_f1:  test\n"
     ]
    }
   ],
   "source": [
    "# 모듈 함수 호출\n",
    "dsm_f.disp1(\"test\")  # dsm_f. 써주자"
   ]
  },
  {
   "cell_type": "code",
   "execution_count": 7,
   "metadata": {},
   "outputs": [
    {
     "data": {
      "text/plain": [
       "1234"
      ]
     },
     "execution_count": 7,
     "metadata": {},
     "output_type": "execute_result"
    }
   ],
   "source": [
    "# 모듈 변수 호출\n",
    "dsm_f.var"
   ]
  },
  {
   "cell_type": "code",
   "execution_count": 9,
   "metadata": {},
   "outputs": [
    {
     "data": {
      "text/plain": [
       "14"
      ]
     },
     "execution_count": 9,
     "metadata": {},
     "output_type": "execute_result"
    }
   ],
   "source": [
    "# 모듈 클래스 호출\n",
    "dsm_f.calc.plus(1,2,3,4,5)"
   ]
  },
  {
   "cell_type": "markdown",
   "metadata": {},
   "source": [
    "- alias\n",
    "    - 모듈 호출해서 이름 바꿔주기"
   ]
  },
  {
   "cell_type": "code",
   "execution_count": 10,
   "metadata": {},
   "outputs": [
    {
     "name": "stdout",
     "output_type": "stream",
     "text": [
      "dsm_f1:  test1\n",
      "dsm_f2:  test2\n",
      "dsm_f2:  test3\n"
     ]
    }
   ],
   "source": [
    "import dsm_f as dsm\n",
    "\n",
    "dsm.disp1(\"test1\")\n",
    "dsm.disp2(\"test2\")\n",
    "dsm.disp2(\"test3\")"
   ]
  },
  {
   "cell_type": "code",
   "execution_count": 11,
   "metadata": {},
   "outputs": [],
   "source": [
    "from dsm_f import disp1, disp2"
   ]
  },
  {
   "cell_type": "markdown",
   "metadata": {},
   "source": [
    "- 모듈에 있는 함수만 호출하기"
   ]
  },
  {
   "cell_type": "code",
   "execution_count": 12,
   "metadata": {},
   "outputs": [
    {
     "name": "stdout",
     "output_type": "stream",
     "text": [
      "Variable   Type        Data/Info\n",
      "--------------------------------\n",
      "disp1      function    <function disp1 at 0x10d571488>\n",
      "disp2      function    <function disp2 at 0x10f012ea0>\n",
      "dsm        module      <module 'dsm_f' from '/Us<...>ol/02. Python3/dsm_f.py'>\n",
      "dsm_f      module      <module 'dsm_f' from '/Us<...>ol/02. Python3/dsm_f.py'>\n"
     ]
    }
   ],
   "source": [
    "%whos"
   ]
  },
  {
   "cell_type": "code",
   "execution_count": 13,
   "metadata": {},
   "outputs": [
    {
     "name": "stdout",
     "output_type": "stream",
     "text": [
      "dsm_f1:  test1\n",
      "dsm_f2:  test2\n"
     ]
    }
   ],
   "source": [
    "disp1(\"test1\")\n",
    "disp2(\"test2\")"
   ]
  },
  {
   "cell_type": "code",
   "execution_count": 14,
   "metadata": {},
   "outputs": [
    {
     "ename": "NameError",
     "evalue": "name 'disp3' is not defined",
     "output_type": "error",
     "traceback": [
      "\u001b[0;31m---------------------------------------------------------------------------\u001b[0m",
      "\u001b[0;31mNameError\u001b[0m                                 Traceback (most recent call last)",
      "\u001b[0;32m<ipython-input-14-84aebff5bba2>\u001b[0m in \u001b[0;36m<module>\u001b[0;34m()\u001b[0m\n\u001b[0;32m----> 1\u001b[0;31m \u001b[0mdisp3\u001b[0m\u001b[0;34m(\u001b[0m\u001b[0;34m\"test3\"\u001b[0m\u001b[0;34m)\u001b[0m \u001b[0;31m# 얜 선언되어 있지 않음\u001b[0m\u001b[0;34m\u001b[0m\u001b[0m\n\u001b[0m",
      "\u001b[0;31mNameError\u001b[0m: name 'disp3' is not defined"
     ]
    }
   ],
   "source": [
    "disp3(\"test3\") # 얜 선언되어 있지 않음"
   ]
  },
  {
   "cell_type": "markdown",
   "metadata": {},
   "source": [
    "- 모듈의 모든 함수 호출"
   ]
  },
  {
   "cell_type": "code",
   "execution_count": 15,
   "metadata": {},
   "outputs": [],
   "source": [
    "from dsm_f import *\n",
    "\n",
    "# 모든 함수와 변수와 클래스를 가져오는 것\n",
    "# from으로 가져오면 밑에서 이것을 사용할 때 dsm_f. 을 써주지 않아도 됨"
   ]
  },
  {
   "cell_type": "code",
   "execution_count": 16,
   "metadata": {},
   "outputs": [
    {
     "name": "stdout",
     "output_type": "stream",
     "text": [
      "Variable   Type        Data/Info\n",
      "--------------------------------\n",
      "calc       type        <class 'dsm_f.calc'>\n",
      "disp1      function    <function disp1 at 0x10d571488>\n",
      "disp2      function    <function disp2 at 0x10f012ea0>\n",
      "disp3      function    <function disp3 at 0x10f012598>\n",
      "dsm        module      <module 'dsm_f' from '/Us<...>ol/02. Python3/dsm_f.py'>\n",
      "dsm_f      module      <module 'dsm_f' from '/Us<...>ol/02. Python3/dsm_f.py'>\n",
      "var        int         1234\n"
     ]
    }
   ],
   "source": [
    "%whos"
   ]
  },
  {
   "cell_type": "code",
   "execution_count": 17,
   "metadata": {},
   "outputs": [
    {
     "name": "stdout",
     "output_type": "stream",
     "text": [
      "dsm_f1:  test1\n",
      "dsm_f2:  test2\n",
      "dsm_f3:  test3\n"
     ]
    }
   ],
   "source": [
    "disp1(\"test1\")\n",
    "disp2(\"test2\")\n",
    "disp3(\"test3\")"
   ]
  },
  {
   "cell_type": "code",
   "execution_count": 18,
   "metadata": {},
   "outputs": [
    {
     "data": {
      "text/plain": [
       "1234"
      ]
     },
     "execution_count": 18,
     "metadata": {},
     "output_type": "execute_result"
    }
   ],
   "source": [
    "# 모듈 변수 호출\n",
    "var"
   ]
  },
  {
   "cell_type": "code",
   "execution_count": 19,
   "metadata": {},
   "outputs": [
    {
     "data": {
      "text/plain": [
       "9"
      ]
     },
     "execution_count": 19,
     "metadata": {},
     "output_type": "execute_result"
    }
   ],
   "source": [
    "# 모듈 클래스 호출\n",
    "calc.plus(1,2,3,4)\n"
   ]
  },
  {
   "cell_type": "markdown",
   "metadata": {},
   "source": [
    "## Package\n",
    "- 디렉토리와 모듈로 이루어짐\n",
    "\n",
    "```\n",
    "quiz\n",
    "└── game\n",
    "│   ├── lotto.py\n",
    "│   ├── random_number.py\n",
    "└── star\n",
    "    ├── disp.py\n",
    "```"
   ]
  },
  {
   "cell_type": "code",
   "execution_count": 20,
   "metadata": {},
   "outputs": [],
   "source": [
    "# import 뒤에는 디렉토리가 올 수 없다.\n",
    "import quiz.game.lotto"
   ]
  },
  {
   "cell_type": "code",
   "execution_count": 21,
   "metadata": {},
   "outputs": [
    {
     "data": {
      "text/plain": [
       "[11, 12, 20, 27, 29, 36]"
      ]
     },
     "execution_count": 21,
     "metadata": {},
     "output_type": "execute_result"
    }
   ],
   "source": [
    "quiz.game.lotto.get_lotto_number()"
   ]
  },
  {
   "cell_type": "markdown",
   "metadata": {},
   "source": [
    "- alias\n",
    "    - 너무 긴 패키지는 alias를 사용해 줄일 수 있다."
   ]
  },
  {
   "cell_type": "code",
   "execution_count": 22,
   "metadata": {},
   "outputs": [],
   "source": [
    "import quiz.game.lotto as lotto"
   ]
  },
  {
   "cell_type": "code",
   "execution_count": 23,
   "metadata": {},
   "outputs": [
    {
     "data": {
      "text/plain": [
       "[13, 15, 17, 19, 41, 43]"
      ]
     },
     "execution_count": 23,
     "metadata": {},
     "output_type": "execute_result"
    }
   ],
   "source": [
    "lotto.get_lotto_number()"
   ]
  },
  {
   "cell_type": "markdown",
   "metadata": {},
   "source": [
    "- import시 가장 마지막은 module이어야 한다"
   ]
  },
  {
   "cell_type": "code",
   "execution_count": 25,
   "metadata": {},
   "outputs": [],
   "source": [
    "import quiz.game as game"
   ]
  },
  {
   "cell_type": "code",
   "execution_count": 26,
   "metadata": {},
   "outputs": [
    {
     "data": {
      "text/plain": [
       "[16, 27, 33, 37, 42, 43]"
      ]
     },
     "execution_count": 26,
     "metadata": {},
     "output_type": "execute_result"
    }
   ],
   "source": [
    "game.lotto.get_lotto_number()"
   ]
  },
  {
   "cell_type": "code",
   "execution_count": 27,
   "metadata": {},
   "outputs": [],
   "source": [
    "import quiz.game as game"
   ]
  },
  {
   "cell_type": "code",
   "execution_count": 28,
   "metadata": {},
   "outputs": [
    {
     "data": {
      "text/plain": [
       "[6, 7, 8, 15, 36, 43]"
      ]
     },
     "execution_count": 28,
     "metadata": {},
     "output_type": "execute_result"
    }
   ],
   "source": [
    "game.lotto.get_lotto_number()"
   ]
  },
  {
   "cell_type": "markdown",
   "metadata": {},
   "source": [
    "- 특정 모듈만 호출"
   ]
  },
  {
   "cell_type": "code",
   "execution_count": 29,
   "metadata": {},
   "outputs": [],
   "source": [
    "from quiz.star import disp"
   ]
  },
  {
   "cell_type": "code",
   "execution_count": 30,
   "metadata": {},
   "outputs": [
    {
     "name": "stdout",
     "output_type": "stream",
     "text": [
      "*\n",
      "**\n",
      "***\n",
      "****\n",
      "*****\n"
     ]
    }
   ],
   "source": [
    "disp.disp_star1(5)"
   ]
  },
  {
   "cell_type": "markdown",
   "metadata": {},
   "source": [
    "- 특정 함수만 호출"
   ]
  },
  {
   "cell_type": "code",
   "execution_count": 31,
   "metadata": {},
   "outputs": [],
   "source": [
    "from quiz.star.disp import disp_star3, disp_star4"
   ]
  },
  {
   "cell_type": "code",
   "execution_count": 32,
   "metadata": {},
   "outputs": [
    {
     "name": "stdout",
     "output_type": "stream",
     "text": [
      "  *\n",
      " ***\n",
      "*****\n"
     ]
    }
   ],
   "source": [
    "disp_star3(5)"
   ]
  },
  {
   "cell_type": "code",
   "execution_count": 33,
   "metadata": {
    "scrolled": true
   },
   "outputs": [
    {
     "name": "stdout",
     "output_type": "stream",
     "text": [
      "*******\n",
      " *****\n",
      "  ***\n",
      "   *\n"
     ]
    }
   ],
   "source": [
    "disp_star4(7)"
   ]
  },
  {
   "cell_type": "code",
   "execution_count": 1,
   "metadata": {},
   "outputs": [],
   "source": [
    "import sys"
   ]
  },
  {
   "cell_type": "code",
   "execution_count": 2,
   "metadata": {},
   "outputs": [
    {
     "name": "stdout",
     "output_type": "stream",
     "text": [
      "\n",
      "/Users/kimdh/.pyenv/versions/3.5.0/lib/python35.zip\n",
      "/Users/kimdh/.pyenv/versions/3.5.0/lib/python3.5\n",
      "/Users/kimdh/.pyenv/versions/3.5.0/lib/python3.5/plat-darwin\n",
      "/Users/kimdh/.pyenv/versions/3.5.0/lib/python3.5/lib-dynload\n",
      "/Users/kimdh/.pyenv/versions/3.5.0/envs/mv_env350/lib/python3.5/site-packages\n",
      "/Users/kimdh/.pyenv/versions/3.5.0/envs/mv_env350/lib/python3.5/site-packages/IPython/extensions\n",
      "/Users/kimdh/.ipython\n"
     ]
    }
   ],
   "source": [
    "for place in sys.path:\n",
    "    print(place)\n",
    "    \n",
    "# 경로에 있는 모듈들은 글로벌하게 선언되어 있어서 바로 사용 가능"
   ]
  },
  {
   "cell_type": "code",
   "execution_count": null,
   "metadata": {},
   "outputs": [],
   "source": []
  }
 ],
 "metadata": {
  "kernelspec": {
   "display_name": "Python 3",
   "language": "python",
   "name": "python3"
  },
  "language_info": {
   "codemirror_mode": {
    "name": "ipython",
    "version": 3
   },
   "file_extension": ".py",
   "mimetype": "text/x-python",
   "name": "python",
   "nbconvert_exporter": "python",
   "pygments_lexer": "ipython3",
   "version": "3.5.0"
  }
 },
 "nbformat": 4,
 "nbformat_minor": 2
}
