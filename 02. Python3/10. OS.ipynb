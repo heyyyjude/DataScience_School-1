{
 "cells": [
  {
   "cell_type": "markdown",
   "metadata": {},
   "source": [
    "# OS"
   ]
  },
  {
   "cell_type": "code",
   "execution_count": 20,
   "metadata": {},
   "outputs": [],
   "source": [
    "import os"
   ]
  },
  {
   "cell_type": "markdown",
   "metadata": {},
   "source": [
    "## 디렉토리 만들기\n",
    "\n",
    "- os_dir 이라는 디렉토리를 만든다"
   ]
  },
  {
   "cell_type": "code",
   "execution_count": 43,
   "metadata": {},
   "outputs": [],
   "source": [
    "os.makedirs(\"os_dir\")\n",
    "\n",
    "# 경로 설정 가능"
   ]
  },
  {
   "cell_type": "code",
   "execution_count": 44,
   "metadata": {},
   "outputs": [
    {
     "name": "stdout",
     "output_type": "stream",
     "text": [
      "01. Python3_Basic_syntax.ipynb 08. Try_&_Except.ipynb\r\n",
      "02. Condition_syntax.ipynb     09. File.ipynb\r\n",
      "03. Function.ipynb             Untitled.ipynb\r\n",
      "04. Quiz_sol.ipynb             dsm_f.py\r\n",
      "05. Quiz_pro.ipynb             \u001b[1m\u001b[36mfile\u001b[m\u001b[m\r\n",
      "06. Class.ipynb                \u001b[1m\u001b[36mos_dir\u001b[m\u001b[m\r\n",
      "07. Module_Package.ipynb       \u001b[30m\u001b[43mquiz\u001b[m\u001b[m\r\n"
     ]
    }
   ],
   "source": [
    "!ls"
   ]
  },
  {
   "cell_type": "markdown",
   "metadata": {},
   "source": [
    "## write\n",
    "\n",
    "- 파일 스기\n",
    "- 앞에서 배운 방법으로 tx와 csv파일을 작성한다"
   ]
  },
  {
   "cell_type": "code",
   "execution_count": 45,
   "metadata": {},
   "outputs": [],
   "source": [
    "s = \"data science\"\n",
    "with open(\"os_dir/test.txt\", 'wt') as f:\n",
    "    f.write(s)\n",
    "    \n",
    "s2 = \"data science2\"\n",
    "with open(\"os_dir/test2.txt\", 'wt') as f:\n",
    "    f.write(s2)\n",
    "    \n",
    "s3 = \"data, science\"\n",
    "with open(\"os_dir/test3.csv\", 'wt') as f:\n",
    "    f.write(s3)     \n",
    "# csv ,로 value를 나눠주는 파일을 뜻함"
   ]
  },
  {
   "cell_type": "code",
   "execution_count": 46,
   "metadata": {},
   "outputs": [
    {
     "name": "stdout",
     "output_type": "stream",
     "text": [
      "test.txt  test2.txt test3.csv\r\n"
     ]
    }
   ],
   "source": [
    "!ls os_dir"
   ]
  },
  {
   "cell_type": "markdown",
   "metadata": {},
   "source": [
    "## listdir\n",
    "\n",
    "- 파일 리스트 읽기\n",
    "- 특정 확장자를 가진 파일을 뽑아낸다"
   ]
  },
  {
   "cell_type": "code",
   "execution_count": 25,
   "metadata": {},
   "outputs": [
    {
     "name": "stdout",
     "output_type": "stream",
     "text": [
      "['test2.txt', 'test3.csv', 'test.txt']\n"
     ]
    }
   ],
   "source": [
    "# 파일 리스트 읽기    (문자형 데이터가 들어있는 리스트 형태로 가져옴)\n",
    "file_list = os.listdir(\"os_dir\")\n",
    "print(file_list)"
   ]
  },
  {
   "cell_type": "code",
   "execution_count": 26,
   "metadata": {},
   "outputs": [
    {
     "name": "stdout",
     "output_type": "stream",
     "text": [
      "['test2.txt', 'test.txt']\n"
     ]
    }
   ],
   "source": [
    "# txt 파일 리스트만 호출    (리스트 컴프리핸션을 응용해서 원하는 파일 목록만 가져올 수 있음)\n",
    "result_1 = [file_name for file_name in file_list if file_name.endswith(\".txt\")]\n",
    "print(result_1)"
   ]
  },
  {
   "cell_type": "code",
   "execution_count": 27,
   "metadata": {},
   "outputs": [
    {
     "name": "stdout",
     "output_type": "stream",
     "text": [
      "['test2.txt', 'test.txt']\n"
     ]
    }
   ],
   "source": [
    "# txt 파일이 아닌 파일 리스트만 호출\n",
    "result_2 = [file_name for file_name in file_list if not file_name.endswith(\".csv\")]\n",
    "print(result_2)"
   ]
  },
  {
   "cell_type": "markdown",
   "metadata": {},
   "source": [
    "## remove\n",
    "\n",
    "- 파일 삭제"
   ]
  },
  {
   "cell_type": "code",
   "execution_count": 28,
   "metadata": {},
   "outputs": [],
   "source": [
    "file_name = \"test3.csv\"\n",
    "os.remove(\"os_dir/\" + file_name)"
   ]
  },
  {
   "cell_type": "code",
   "execution_count": 29,
   "metadata": {},
   "outputs": [
    {
     "name": "stdout",
     "output_type": "stream",
     "text": [
      "test.txt  test2.txt\r\n"
     ]
    }
   ],
   "source": [
    "!ls os_dir"
   ]
  },
  {
   "cell_type": "code",
   "execution_count": 30,
   "metadata": {},
   "outputs": [
    {
     "name": "stdout",
     "output_type": "stream",
     "text": [
      "['test2.txt', 'test.txt']\n"
     ]
    }
   ],
   "source": [
    "# for 반복문을 사용하여 모든 파일을 삭제할 수 있다\n",
    "file_list = os.listdir(\"os_dir\")\n",
    "print(file_list)\n",
    "\n",
    "for file_name in file_list:\n",
    "    os.remove(\"os_dir/\" + file_name)"
   ]
  },
  {
   "cell_type": "code",
   "execution_count": 31,
   "metadata": {},
   "outputs": [],
   "source": [
    "!ls os_dir/"
   ]
  },
  {
   "cell_type": "code",
   "execution_count": 32,
   "metadata": {},
   "outputs": [],
   "source": [
    "# 함수로 작성해서 사용할 수 있다\n",
    "\n",
    "def remove_all_flles(path):\n",
    "    file_list = os.listdir(\"os_dir\")\n",
    "    for file_name in file_list:\n",
    "        os.remove(\"os_dir/\" + file_name)"
   ]
  },
  {
   "cell_type": "code",
   "execution_count": 33,
   "metadata": {},
   "outputs": [],
   "source": [
    "!ls os_dir"
   ]
  },
  {
   "cell_type": "markdown",
   "metadata": {},
   "source": [
    "## removedirs\n",
    "\n",
    "- 디렉토리 삭제"
   ]
  },
  {
   "cell_type": "code",
   "execution_count": 34,
   "metadata": {},
   "outputs": [],
   "source": [
    "!ls os_dir"
   ]
  },
  {
   "cell_type": "code",
   "execution_count": 35,
   "metadata": {},
   "outputs": [],
   "source": [
    "# 내부에 파일이 있으면 삭제되지 않는다.\n",
    "os.removedirs(\"os_dir\")"
   ]
  },
  {
   "cell_type": "code",
   "execution_count": 40,
   "metadata": {},
   "outputs": [],
   "source": [
    "# 파일과 디렉토리 모두 삭제\n",
    "import shutil\n",
    "shutil.rmtree('os_dir')"
   ]
  },
  {
   "cell_type": "code",
   "execution_count": 41,
   "metadata": {},
   "outputs": [
    {
     "name": "stdout",
     "output_type": "stream",
     "text": [
      "ls: os_dir: No such file or directory\r\n"
     ]
    }
   ],
   "source": [
    "!ls os_dir"
   ]
  },
  {
   "cell_type": "markdown",
   "metadata": {},
   "source": [
    "## exists\n",
    "\n",
    "- 존재여부 확인하기"
   ]
  },
  {
   "cell_type": "code",
   "execution_count": 47,
   "metadata": {},
   "outputs": [
    {
     "name": "stdout",
     "output_type": "stream",
     "text": [
      "test.txt  test2.txt test3.csv\r\n"
     ]
    }
   ],
   "source": [
    "!ls os_dir"
   ]
  },
  {
   "cell_type": "code",
   "execution_count": 48,
   "metadata": {},
   "outputs": [
    {
     "data": {
      "text/plain": [
       "True"
      ]
     },
     "execution_count": 48,
     "metadata": {},
     "output_type": "execute_result"
    }
   ],
   "source": [
    "os.path.exists(\"os_dir/test.txt\")"
   ]
  },
  {
   "cell_type": "code",
   "execution_count": 49,
   "metadata": {},
   "outputs": [
    {
     "data": {
      "text/plain": [
       "False"
      ]
     },
     "execution_count": 49,
     "metadata": {},
     "output_type": "execute_result"
    }
   ],
   "source": [
    "os.path.exists(\"os_dir/test4.txt\")"
   ]
  },
  {
   "cell_type": "markdown",
   "metadata": {},
   "source": [
    "## isfile\n",
    "\n",
    "- 타입이 파일인지 확인하기"
   ]
  },
  {
   "cell_type": "code",
   "execution_count": 50,
   "metadata": {},
   "outputs": [
    {
     "data": {
      "text/plain": [
       "True"
      ]
     },
     "execution_count": 50,
     "metadata": {},
     "output_type": "execute_result"
    }
   ],
   "source": [
    "os.path.isfile(\"os_dir/test.txt\")"
   ]
  },
  {
   "cell_type": "code",
   "execution_count": 51,
   "metadata": {},
   "outputs": [
    {
     "data": {
      "text/plain": [
       "False"
      ]
     },
     "execution_count": 51,
     "metadata": {},
     "output_type": "execute_result"
    }
   ],
   "source": [
    "os.path.isfile(\"os_dir\")"
   ]
  },
  {
   "cell_type": "markdown",
   "metadata": {},
   "source": [
    "## isdir\n",
    "\n",
    "- 타이비 디렉토리인지 확인하기"
   ]
  },
  {
   "cell_type": "code",
   "execution_count": 52,
   "metadata": {},
   "outputs": [
    {
     "data": {
      "text/plain": [
       "False"
      ]
     },
     "execution_count": 52,
     "metadata": {},
     "output_type": "execute_result"
    }
   ],
   "source": [
    "os.path.isdir(\"os_dir/test.txt\")"
   ]
  },
  {
   "cell_type": "code",
   "execution_count": 53,
   "metadata": {},
   "outputs": [
    {
     "data": {
      "text/plain": [
       "True"
      ]
     },
     "execution_count": 53,
     "metadata": {},
     "output_type": "execute_result"
    }
   ],
   "source": [
    "os.path.isdir(\"os_dir\")"
   ]
  },
  {
   "cell_type": "markdown",
   "metadata": {},
   "source": [
    "## copy\n",
    "\n",
    "- 복사하기"
   ]
  },
  {
   "cell_type": "code",
   "execution_count": 54,
   "metadata": {},
   "outputs": [
    {
     "data": {
      "text/plain": [
       "'os_dir/copy.txt'"
      ]
     },
     "execution_count": 54,
     "metadata": {},
     "output_type": "execute_result"
    }
   ],
   "source": [
    "import shutil\n",
    "shutil.copy(\"os_dir/test.txt\", \"os_dir/copy.txt\")"
   ]
  },
  {
   "cell_type": "code",
   "execution_count": 55,
   "metadata": {},
   "outputs": [
    {
     "data": {
      "text/plain": [
       "True"
      ]
     },
     "execution_count": 55,
     "metadata": {},
     "output_type": "execute_result"
    }
   ],
   "source": [
    "os.path.isfile(\"os_dir/copy.txt\")"
   ]
  },
  {
   "cell_type": "code",
   "execution_count": 56,
   "metadata": {},
   "outputs": [
    {
     "name": "stdout",
     "output_type": "stream",
     "text": [
      "copy.txt  test.txt  test2.txt test3.csv\r\n"
     ]
    }
   ],
   "source": [
    "!ls os_dir"
   ]
  },
  {
   "cell_type": "markdown",
   "metadata": {},
   "source": [
    "## rename\n",
    "\n",
    "- 이름바꾸기"
   ]
  },
  {
   "cell_type": "code",
   "execution_count": 57,
   "metadata": {},
   "outputs": [],
   "source": [
    "os.rename(\"os_dir/copy.txt\", \"os_dir/rename.txt\")"
   ]
  },
  {
   "cell_type": "code",
   "execution_count": 58,
   "metadata": {},
   "outputs": [
    {
     "data": {
      "text/plain": [
       "False"
      ]
     },
     "execution_count": 58,
     "metadata": {},
     "output_type": "execute_result"
    }
   ],
   "source": [
    "os.path.isfile(\"os_dir/copy.txt\")"
   ]
  },
  {
   "cell_type": "code",
   "execution_count": 59,
   "metadata": {},
   "outputs": [
    {
     "data": {
      "text/plain": [
       "True"
      ]
     },
     "execution_count": 59,
     "metadata": {},
     "output_type": "execute_result"
    }
   ],
   "source": [
    "os.path.isfile(\"os_dir/rename.txt\")"
   ]
  },
  {
   "cell_type": "code",
   "execution_count": 60,
   "metadata": {},
   "outputs": [
    {
     "name": "stdout",
     "output_type": "stream",
     "text": [
      "rename.txt test.txt   test2.txt  test3.csv\r\n"
     ]
    }
   ],
   "source": [
    "!ls os_dir"
   ]
  },
  {
   "cell_type": "markdown",
   "metadata": {},
   "source": [
    "## chmod\n",
    "\n",
    "- 권한 설정\n",
    "- 타입[:1], 소유자[1:4], 그룹[4:7], 공개[7:]\n",
    "- r(read0, w(write), x(exxcute)\n",
    "\n",
    "`- --- --- ---`\n",
    "\n",
    "1번째 타입 (디렉토리 or 파일)\n",
    "\n",
    "2번째 소유자에 대한 권한\n",
    "\n",
    "3번째 그룹에 대한 권한\n",
    "\n",
    "4번째 공개된 권한 (누구나 쓸 수 있는)\n",
    "\n",
    "8진수\n",
    "```\n",
    "0 - 7 깢지\n",
    "rwx\n",
    "000 = 0 `---`\n",
    "111 = 7 `rwx`\n",
    "101 = 5 `r-x`\n",
    "```"
   ]
  },
  {
   "cell_type": "code",
   "execution_count": 61,
   "metadata": {},
   "outputs": [],
   "source": [
    "# 8진수 octec : 7(8) -> 111(2), 4(8) -> 100(2)\n",
    "\n",
    "os.chmod(\"os_dir/rename.txt\", 0o444)\n",
    "\n",
    "# 모든 사용자 read 권한만 갖도록 (-rw-r--r--) -> (-r--r--r--)\n",
    "\n",
    "# 0o 8진수의 약자\n",
    "# 0b 2진수의 약자"
   ]
  },
  {
   "cell_type": "code",
   "execution_count": 62,
   "metadata": {},
   "outputs": [],
   "source": [
    "os.chmod(\"os_dir/rename.txt\", 0o644)  # 파일 소유자는 작성권하늘 갖도록 (-rw-r--r--)"
   ]
  },
  {
   "cell_type": "code",
   "execution_count": null,
   "metadata": {},
   "outputs": [],
   "source": [
    "os.chmod(\"os_dir/rename.txt\", 0o000)  # 모든 권한제거 (-rw-r--r--) -> (----------)"
   ]
  }
 ],
 "metadata": {
  "kernelspec": {
   "display_name": "Python 3",
   "language": "python",
   "name": "python3"
  },
  "language_info": {
   "codemirror_mode": {
    "name": "ipython",
    "version": 3
   },
   "file_extension": ".py",
   "mimetype": "text/x-python",
   "name": "python",
   "nbconvert_exporter": "python",
   "pygments_lexer": "ipython3",
   "version": "3.5.0"
  }
 },
 "nbformat": 4,
 "nbformat_minor": 2
}
