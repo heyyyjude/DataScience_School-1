{
 "cells": [
  {
   "cell_type": "markdown",
   "metadata": {},
   "source": [
    "# Function\n",
    "\n",
    "- function structure\n",
    "```\n",
    "def <function_name>(<parameter_name_1.,<parameter_name_2> ...):\n",
    "    code_1\n",
    "    code_2\n",
    "```\n",
    "\n",
    "- return\n",
    "- parameter & argument\n",
    "- *args\n",
    "- **kwargs\n",
    "- docstring\n",
    "- global (scope)\n",
    "- inner function (closure)\n",
    "- lambda function\n",
    "- map\n",
    "- filter\n",
    "- reduce\n",
    "- decorator\n"
   ]
  },
  {
   "cell_type": "markdown",
   "metadata": {},
   "source": [
    "## basic function\n",
    "\n",
    "- 반복적인 기능을 묶어주는 개념\n",
    "- 반복적인 기능 함수를 통해 묶음으로 더 깔끔한 코딩이 가능하다"
   ]
  },
  {
   "cell_type": "code",
   "execution_count": 3,
   "metadata": {
    "scrolled": true
   },
   "outputs": [
    {
     "name": "stdout",
     "output_type": "stream",
     "text": [
      "dss\n",
      "dss\n",
      "dss\n",
      "data\n",
      "data\n",
      "data\n",
      "science\n",
      "science\n",
      "science\n"
     ]
    }
   ],
   "source": [
    "# 각 요소들을 3번씩 출력한다고 했을 때\n",
    "# 원시적인 방법 Bad\n",
    "\n",
    "l = [\"dss\", \"data\", \"science\"]\n",
    "print(l[0])\n",
    "print(l[0])\n",
    "print(l[0])\n",
    "print(l[1])\n",
    "print(l[1])\n",
    "print(l[1])\n",
    "print(l[2])\n",
    "print(l[2])\n",
    "print(l[2])"
   ]
  },
  {
   "cell_type": "code",
   "execution_count": 5,
   "metadata": {},
   "outputs": [],
   "source": [
    "# 입력 받은 데이터를 세번 출력해주는 함수를 만들어서\n",
    "\n",
    "def three_disp(data):\n",
    "    print(data)\n",
    "    print(data)\n",
    "    print(data)"
   ]
  },
  {
   "cell_type": "code",
   "execution_count": 8,
   "metadata": {},
   "outputs": [
    {
     "name": "stdout",
     "output_type": "stream",
     "text": [
      "dss\n",
      "dss\n",
      "dss\n",
      "data\n",
      "data\n",
      "data\n",
      "science\n",
      "science\n",
      "science\n"
     ]
    }
   ],
   "source": [
    "# 귀찮음을 덜 수 있다는 것\n",
    "\n",
    "three_disp(l[0])\n",
    "three_disp(l[1])\n",
    "three_disp(l[2])"
   ]
  },
  {
   "cell_type": "markdown",
   "metadata": {},
   "source": [
    "## Return"
   ]
  },
  {
   "cell_type": "code",
   "execution_count": 9,
   "metadata": {},
   "outputs": [
    {
     "name": "stdout",
     "output_type": "stream",
     "text": [
      "data\n"
     ]
    }
   ],
   "source": [
    "def test_func():\n",
    "    return \"data\"\n",
    "\n",
    "s = test_func() # test_func()의 결과값을 s 라는 변수에 저장한다.!\n",
    "print(s)"
   ]
  },
  {
   "cell_type": "code",
   "execution_count": 1,
   "metadata": {},
   "outputs": [],
   "source": [
    "# 리턴은 함수의 마지막을 의미한다. 고로 return아래에 있는 코드들은 실행되지 않는다\n",
    "\n",
    "def test_func(a):\n",
    "    if a < 10:\n",
    "        return\n",
    "        print(a)\n",
    "    else:\n",
    "        print(\"\")"
   ]
  },
  {
   "cell_type": "code",
   "execution_count": 2,
   "metadata": {},
   "outputs": [],
   "source": [
    "test_func(7)  \n",
    "# 출력이 되지 않는다. return아래에 print(a) 코드는 실행되지 않은 것이다."
   ]
  },
  {
   "cell_type": "code",
   "execution_count": 3,
   "metadata": {},
   "outputs": [],
   "source": [
    "# 문제 숫자 리스트를 받아서 평균을 구해주는 함수를 작성\n",
    "\n",
    "def avg(points):\n",
    "    total = 0\n",
    "    for point in points:\n",
    "        total += point\n",
    "    return total / len(points)"
   ]
  },
  {
   "cell_type": "code",
   "execution_count": 4,
   "metadata": {},
   "outputs": [
    {
     "data": {
      "text/plain": [
       "82.5"
      ]
     },
     "execution_count": 4,
     "metadata": {},
     "output_type": "execute_result"
    }
   ],
   "source": [
    "points = [100, 90, 80, 60]\n",
    "avg(points)"
   ]
  },
  {
   "cell_type": "markdown",
   "metadata": {},
   "source": [
    "## parameter & argument\n",
    "\n",
    "- 데이터를 넘길 때 넘기는 데이터를 parameter라고 함\n",
    "- 데이터를 받을 때 받는 데이터를 argument라고 함\n",
    "\n",
    "```\n",
    "parameter (매개변수) : 함수를 정의 할 때 외부로부터 받아들이는 임의의 값을 의미한다.\n",
    "argument (인수) : 함수를 호출할 때, 이 때 사용하게 되는 일련의 값들을 argument라고 부름\n",
    "\n",
    "def function(x,y):\n",
    "    return x+y\n",
    "가 있다면, x,y는 파라미터라 할 수 있고, function(3,4)일 때 3,4가 아규먼트이다.\n",
    "\n",
    "즉, \"parameter의 값으로 argument 3, 4 를 대입하겠다\" 라는 의미\n",
    "```"
   ]
  },
  {
   "cell_type": "code",
   "execution_count": 5,
   "metadata": {},
   "outputs": [],
   "source": [
    "# no parameter and no return function\n",
    "# 보통 pass를 해주는 이유는 처음 알고리즘 짤 때 함수 정의만 해놓을 때 사용한다\n",
    "\n",
    "def test_func(): \n",
    "    pass"
   ]
  },
  {
   "cell_type": "code",
   "execution_count": 6,
   "metadata": {},
   "outputs": [
    {
     "name": "stdout",
     "output_type": "stream",
     "text": [
      "fast_campus\n"
     ]
    }
   ],
   "source": [
    "# one parameter and no return function\n",
    "\n",
    "def print_func(s):\n",
    "    print(s)\n",
    "    \n",
    "print_func(\"fast_campus\")"
   ]
  },
  {
   "cell_type": "code",
   "execution_count": 7,
   "metadata": {},
   "outputs": [
    {
     "name": "stdout",
     "output_type": "stream",
     "text": [
      "fast_campus dss data\n"
     ]
    }
   ],
   "source": [
    "# three parameter and no return function\n",
    "\n",
    "def print_func(s, s1, s2): \n",
    "    print(s, s1, s2)\n",
    "    \n",
    "print_func(\"fast_campus\", \"dss\", \"data\")"
   ]
  },
  {
   "cell_type": "code",
   "execution_count": 8,
   "metadata": {},
   "outputs": [
    {
     "name": "stdout",
     "output_type": "stream",
     "text": [
      "fast_campus no_data\n",
      "fast_campus data_science\n",
      "science data\n"
     ]
    }
   ],
   "source": [
    "def print_func(s1, s2 = \"no_data\"):    # s2 : set basic parameter \n",
    "    print(\"{} {}\".format(s1,s2))\n",
    "    \n",
    "print_func(\"fast_campus\")\n",
    "print_func(\"fast_campus\", \"data_science\") # position arguments\n",
    "print_func(s2 = \"data\", s1 = \"science\")   # keyword arguments\n",
    "\n",
    "# 출력된 것을 잘 보자!!!"
   ]
  },
  {
   "cell_type": "code",
   "execution_count": null,
   "metadata": {},
   "outputs": [],
   "source": [
    "# default argument가 맨 앞에 온 경우\n",
    "\n",
    "def print_func(s1, s3 = \"nodata\", s2 = \"no_data\"):   # 원래는 이게 맞으나\n",
    "    pass\n",
    "\n",
    "def print_func(s3 = \"nodata\", s1, s2 = \"no_data\"):   \n",
    "    pass\n",
    "\n",
    "# 이처럼 앞에 온다면 에러가 발생한다."
   ]
  },
  {
   "cell_type": "code",
   "execution_count": 16,
   "metadata": {},
   "outputs": [],
   "source": [
    "# 연산자 우선순위 () 사용에 주의하자\n",
    "\n",
    "def avg_func(korean, english, math):\n",
    "    return (korean + english + math) / 3   "
   ]
  },
  {
   "cell_type": "code",
   "execution_count": 21,
   "metadata": {},
   "outputs": [
    {
     "name": "stdout",
     "output_type": "stream",
     "text": [
      "avg : 83.33\n"
     ]
    }
   ],
   "source": [
    "a = avg_func(100, 70, 80)\n",
    "print(\"avg : {}\".format(round(a,2)))     # round 를 활용해 소수점 자릿수 설정"
   ]
  },
  {
   "cell_type": "code",
   "execution_count": 22,
   "metadata": {},
   "outputs": [],
   "source": [
    "def total_func(korea, english, math):\n",
    "    return korea + english + math"
   ]
  },
  {
   "cell_type": "code",
   "execution_count": 27,
   "metadata": {},
   "outputs": [
    {
     "name": "stdout",
     "output_type": "stream",
     "text": [
      "250\n"
     ]
    }
   ],
   "source": [
    "def func_param(func):                   \n",
    "    result = func(100, 70, 80)\n",
    "    print(result)\n",
    "\n",
    "func_param(total_func)"
   ]
  },
  {
   "cell_type": "markdown",
   "metadata": {},
   "source": [
    "## *args\n",
    "\n",
    "- arguments\n",
    "- 함수에서 여러개의 파라미터를 한꺼번에 받을 때 사용\n",
    "- 받는 arguments 데이터는 tuple 데이터 타입으로 받는다\n",
    "- `*`의 의미는 모든 value를 받는다는 의미"
   ]
  },
  {
   "cell_type": "code",
   "execution_count": 28,
   "metadata": {},
   "outputs": [
    {
     "name": "stdout",
     "output_type": "stream",
     "text": [
      "(1, 2, 3, 'fast', 'campus', ['data', 'science'])\n",
      "<class 'tuple'>\n",
      "campus\n",
      "science\n"
     ]
    }
   ],
   "source": [
    "def print_args(*args):\n",
    "    print(args)\n",
    "    print(type(args))\n",
    "    print(args[4])\n",
    "    print(args[5][1])\n",
    "    \n",
    "print_args(1, 2, 3, \"fast\", \"campus\", [\"data\", \"science\"])\n",
    "\n",
    "# 출력 값을 잘 보면 전반적인 이해 가능"
   ]
  },
  {
   "cell_type": "code",
   "execution_count": 30,
   "metadata": {},
   "outputs": [],
   "source": [
    "def avg_func(*args):          \n",
    "    for data in args:\n",
    "        print(data)\n",
    "    return sum(args) / len(args)\n",
    "\n",
    "# *args 를 해줌으로써 데이터가 늘어남에 따라 그때마다 파라미터를 추가해줄 수고를 없애줌"
   ]
  },
  {
   "cell_type": "code",
   "execution_count": 33,
   "metadata": {},
   "outputs": [
    {
     "name": "stdout",
     "output_type": "stream",
     "text": [
      "100\n",
      "70\n",
      "80\n",
      "avg : 83.33\n"
     ]
    }
   ],
   "source": [
    "a = avg_func(100, 70, 80)\n",
    "print(\"avg : {}\".format(round(a,2)))"
   ]
  },
  {
   "cell_type": "markdown",
   "metadata": {},
   "source": [
    "## **kwargs\n",
    "\n",
    "- keyword arguments\n",
    "- 여러개의 파라미터를 key-value 형태로 받을 때 사용\n",
    "- 함수에서 받는 keyword argument의 데이터는 dictionary 데이터 타입으로 받는다\n",
    "- `**`의 의미는 모든 key, value를 받는 다는 의미"
   ]
  },
  {
   "cell_type": "code",
   "execution_count": 34,
   "metadata": {},
   "outputs": [],
   "source": [
    "def avg_func(**kwargs):\n",
    "    print(kwargs)\n",
    "    print(type(kwargs))\n",
    "    total, count = 0, 0\n",
    "    for subject, point in kwargs.items():\n",
    "        print(subject, point)\n",
    "        total += point\n",
    "        count += 1\n",
    "    return total / count"
   ]
  },
  {
   "cell_type": "code",
   "execution_count": 36,
   "metadata": {
    "scrolled": true
   },
   "outputs": [
    {
     "name": "stdout",
     "output_type": "stream",
     "text": [
      "{'english': 70, 'korean': 100, 'math': 80}\n",
      "<class 'dict'>\n",
      "english 70\n",
      "korean 100\n",
      "math 80\n",
      "avg : 83.33\n"
     ]
    }
   ],
   "source": [
    "a = avg_func(korean = 100, english = 70, math = 80)\n",
    "print(\"avg : {}\".format(round(a,2)))\n",
    "\n",
    "# 일단 딕셔너리형태로 받아오고 key와 value 값 둘다 동시에 가져오는 것을 알 수 있다."
   ]
  },
  {
   "cell_type": "code",
   "execution_count": 38,
   "metadata": {},
   "outputs": [],
   "source": [
    "def test_func(*args, **kwargs):\n",
    "    print(args)\n",
    "    print(kwargs)"
   ]
  },
  {
   "cell_type": "code",
   "execution_count": 39,
   "metadata": {},
   "outputs": [
    {
     "name": "stdout",
     "output_type": "stream",
     "text": [
      "(1, 2, 3, 'fastcampus', 'datascience')\n",
      "{}\n"
     ]
    }
   ],
   "source": [
    "test_func(1,2,3, \"fastcampus\", \"datascience\")  # tuple 타입"
   ]
  },
  {
   "cell_type": "code",
   "execution_count": 40,
   "metadata": {},
   "outputs": [
    {
     "name": "stdout",
     "output_type": "stream",
     "text": [
      "()\n",
      "{'english': 70, 'korean': 100, 'math': 80}\n"
     ]
    }
   ],
   "source": [
    "test_func(korean = 100, english = 70, math = 80)   # dict 타입"
   ]
  },
  {
   "cell_type": "code",
   "execution_count": 42,
   "metadata": {},
   "outputs": [
    {
     "name": "stdout",
     "output_type": "stream",
     "text": [
      "(1, 2, 3, 'fastcampus', ' datascience')\n",
      "{'english': 70, 'korean': 100, 'math': 80}\n"
     ]
    }
   ],
   "source": [
    "test_func(1,2,3,\"fastcampus\", \" datascience\", korean = 100, english = 70, math = 80)\n",
    "\n",
    "\n",
    "# dict형태는 자동으로 **kwargs에 할당되고, tuple형태는 *args로 할당된다는 것을 알 수 있다"
   ]
  },
  {
   "cell_type": "markdown",
   "metadata": {},
   "source": [
    "## docstring\n",
    "\n",
    "- readability counts (PEP 20: Zen to Python)\n",
    "- 가독성은 중요하다"
   ]
  },
  {
   "cell_type": "code",
   "execution_count": 52,
   "metadata": {},
   "outputs": [],
   "source": [
    "def echo(anything):\n",
    "    'echo returns its input argument'\n",
    "    return anything\n",
    "\n",
    "def echo2(anything):\n",
    "    '''\n",
    "    echo returns its input argument\n",
    "    The operation is:\n",
    "        1. print anything parameter\n",
    "        2. return anything parameter\n",
    "    '''\n",
    "    print(\"echo2 function : {}\".format(anything))\n",
    "    return anything\n",
    "\n",
    "# 함수와 코드 사이에 작성하며 이것을 작성하는 이유는\n",
    "# 협업을 할 때 이 함수가 어떤 함수인지 대략적으로 알 필요가 있기 때문"
   ]
  },
  {
   "cell_type": "code",
   "execution_count": 53,
   "metadata": {},
   "outputs": [
    {
     "name": "stdout",
     "output_type": "stream",
     "text": [
      "echo2 function : data_science\n",
      "data_science data_science\n"
     ]
    }
   ],
   "source": [
    "result1 = echo(\"data_science\")\n",
    "result2 = echo2(\"data_science\")\n",
    "print(result1, result2)"
   ]
  },
  {
   "cell_type": "code",
   "execution_count": 54,
   "metadata": {},
   "outputs": [
    {
     "name": "stdout",
     "output_type": "stream",
     "text": [
      "Help on function echo in module __main__:\n",
      "\n",
      "echo(anything)\n",
      "    echo returns its input argument\n",
      "\n"
     ]
    }
   ],
   "source": [
    "help(echo)          #echo, echo2 이 함수가 뭔지 잘 모를 때"
   ]
  },
  {
   "cell_type": "code",
   "execution_count": 55,
   "metadata": {},
   "outputs": [
    {
     "name": "stdout",
     "output_type": "stream",
     "text": [
      "echo returns its input argument\n"
     ]
    }
   ],
   "source": [
    "print(echo.__doc__)         # doc string만 보고싶을 때\n",
    "                            # __doc__는 함수가 x, 하나의 예약된 변수"
   ]
  },
  {
   "cell_type": "code",
   "execution_count": 56,
   "metadata": {},
   "outputs": [
    {
     "data": {
      "text/plain": [
       "<function __main__.echo>"
      ]
     },
     "execution_count": 56,
     "metadata": {},
     "output_type": "execute_result"
    }
   ],
   "source": [
    "echo # shift + tab 누르면 설명 나옴"
   ]
  },
  {
   "cell_type": "code",
   "execution_count": 60,
   "metadata": {},
   "outputs": [],
   "source": [
    "echo2?\n",
    "\n",
    "# ?눌러서도 확인 가능"
   ]
  },
  {
   "cell_type": "markdown",
   "metadata": {},
   "source": [
    "## global (scope)\n",
    "\n",
    "- function scope\n",
    "    - locals (지역변수)\n",
    "    - globals (전역변수)\n",
    "- how to change global variable ?"
   ]
  },
  {
   "cell_type": "code",
   "execution_count": 62,
   "metadata": {},
   "outputs": [
    {
     "name": "stdout",
     "output_type": "stream",
     "text": [
      "10\n"
     ]
    }
   ],
   "source": [
    "gv = 10        # 밖에서 선언하므로 global 변수\n",
    "\n",
    "def print_gv():\n",
    "    print(gv)\n",
    "print(gv)"
   ]
  },
  {
   "cell_type": "code",
   "execution_count": 67,
   "metadata": {},
   "outputs": [],
   "source": [
    "gv1 = 1\n",
    "gv2 = 2\n",
    "\n",
    "def print_globals():\n",
    "    gv1 = 10\n",
    "    gv2 = 20\n",
    "    print(globals())"
   ]
  },
  {
   "cell_type": "code",
   "execution_count": 64,
   "metadata": {},
   "outputs": [],
   "source": [
    "gv1 = 1\n",
    "gv2 = 2\n",
    "\n",
    "def print_locals():\n",
    "    gv1 = 10\n",
    "    gv2 = 20\n",
    "    print(locals())"
   ]
  },
  {
   "cell_type": "code",
   "execution_count": 65,
   "metadata": {},
   "outputs": [
    {
     "name": "stdout",
     "output_type": "stream",
     "text": [
      "{'gv1': 10, 'gv2': 20}\n"
     ]
    }
   ],
   "source": [
    "print_locals()"
   ]
  },
  {
   "cell_type": "code",
   "execution_count": 70,
   "metadata": {},
   "outputs": [
    {
     "name": "stdout",
     "output_type": "stream",
     "text": [
      "10\n",
      "10\n"
     ]
    }
   ],
   "source": [
    "gv = 10\n",
    "def change_gv(data):\n",
    "    gv = data\n",
    "    \n",
    "print(gv)\n",
    "change_gv(100)\n",
    "print(gv)"
   ]
  },
  {
   "cell_type": "code",
   "execution_count": 71,
   "metadata": {},
   "outputs": [
    {
     "name": "stdout",
     "output_type": "stream",
     "text": [
      "10\n",
      "100\n"
     ]
    }
   ],
   "source": [
    "gv = 10\n",
    "def change_gv(data):\n",
    "    global gv                  # 전역변수에 접근하고 싶을 때\n",
    "    gv = data\n",
    "    \n",
    "print(gv)\n",
    "change_gv(100)\n",
    "print(gv)"
   ]
  },
  {
   "cell_type": "markdown",
   "metadata": {},
   "source": [
    "## inner function\n",
    "\n",
    "- 함수 안에 함수\n",
    "- 안에 있는 함수를 호출 가능\n",
    "- 익명함수를 사용하기 위함. 일반적으로 inner()를 사용해서 접근할 수 없음.\n",
    "- inner()라는 함수를 outer() 함수 속에서만 존재하게 하고 싶을 때 inner function사용\n",
    "- 컴퓨터의 메모리를 차지하는 것에서도 효율적이라 할 수 있음."
   ]
  },
  {
   "cell_type": "code",
   "execution_count": 73,
   "metadata": {},
   "outputs": [],
   "source": [
    "def outer(a,b):\n",
    "    def inner(c,d):\n",
    "        return c + d\n",
    "    return inner(a,b)"
   ]
  },
  {
   "cell_type": "code",
   "execution_count": 74,
   "metadata": {},
   "outputs": [
    {
     "data": {
      "text/plain": [
       "11"
      ]
     },
     "execution_count": 74,
     "metadata": {},
     "output_type": "execute_result"
    }
   ],
   "source": [
    "outer(4,7)"
   ]
  },
  {
   "cell_type": "markdown",
   "metadata": {},
   "source": [
    "## lambda function\n",
    "\n",
    "- anonymouns function\n",
    "- 1회용 함수"
   ]
  },
  {
   "cell_type": "code",
   "execution_count": 78,
   "metadata": {},
   "outputs": [],
   "source": [
    "def sum_func(x,y):\n",
    "    return x,y"
   ]
  },
  {
   "cell_type": "code",
   "execution_count": 79,
   "metadata": {},
   "outputs": [
    {
     "data": {
      "text/plain": [
       "(5, 6)"
      ]
     },
     "execution_count": 79,
     "metadata": {},
     "output_type": "execute_result"
    }
   ],
   "source": [
    "sum_func(5,6)"
   ]
  },
  {
   "cell_type": "code",
   "execution_count": 80,
   "metadata": {},
   "outputs": [],
   "source": [
    "sum_func2 = lambda x,y : x + y \n",
    "\n",
    "# 메모리를 사용하는 측면에서 유리하다\n",
    "# 현재 argument를 받는 상태"
   ]
  },
  {
   "cell_type": "code",
   "execution_count": 81,
   "metadata": {},
   "outputs": [
    {
     "data": {
      "text/plain": [
       "11"
      ]
     },
     "execution_count": 81,
     "metadata": {},
     "output_type": "execute_result"
    }
   ],
   "source": [
    "sum_func2(5,6)"
   ]
  },
  {
   "cell_type": "code",
   "execution_count": 82,
   "metadata": {},
   "outputs": [],
   "source": [
    "sum_func3 = lambda x =1, y=2 : x+y\n",
    "# keyword argument를 받음"
   ]
  },
  {
   "cell_type": "code",
   "execution_count": 88,
   "metadata": {},
   "outputs": [
    {
     "name": "stdout",
     "output_type": "stream",
     "text": [
      "3\n",
      "7\n",
      "14\n"
     ]
    }
   ],
   "source": [
    "print(sum_func3())\n",
    "print(sum_func3(5))         # y = 2 인것은 살아있다\n",
    "print(sum_func3(5,9))\n",
    "\n",
    "# 이 출력 값들을 잘보자"
   ]
  },
  {
   "cell_type": "code",
   "execution_count": 89,
   "metadata": {},
   "outputs": [],
   "source": [
    "def sum_func4(f,x,y):\n",
    "    return f(x,y)"
   ]
  },
  {
   "cell_type": "code",
   "execution_count": 90,
   "metadata": {
    "scrolled": true
   },
   "outputs": [
    {
     "data": {
      "text/plain": [
       "12"
      ]
     },
     "execution_count": 90,
     "metadata": {},
     "output_type": "execute_result"
    }
   ],
   "source": [
    "# lambda 함수도 파라미터로 넘길 수 있다.\n",
    "\n",
    "sum_func4(lambda x,y: x+y, 5,7)   \n",
    "\n",
    "# 5, 7 이라는 argument를 x,y 라는 파라미터에 할당했다"
   ]
  },
  {
   "cell_type": "code",
   "execution_count": null,
   "metadata": {},
   "outputs": [],
   "source": []
  }
 ],
 "metadata": {
  "kernelspec": {
   "display_name": "Python 3",
   "language": "python",
   "name": "python3"
  },
  "language_info": {
   "codemirror_mode": {
    "name": "ipython",
    "version": 3
   },
   "file_extension": ".py",
   "mimetype": "text/x-python",
   "name": "python",
   "nbconvert_exporter": "python",
   "pygments_lexer": "ipython3",
   "version": "3.5.0"
  }
 },
 "nbformat": 4,
 "nbformat_minor": 2
}
