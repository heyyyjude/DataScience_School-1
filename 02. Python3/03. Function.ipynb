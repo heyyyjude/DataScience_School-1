{
 "cells": [
  {
   "cell_type": "markdown",
   "metadata": {},
   "source": [
    "# Function\n",
    "\n",
    "- function structure\n",
    "```\n",
    "def <function_name>(<parameter_name_1.,<parameter_name_2> ...):\n",
    "    code_1\n",
    "    code_2\n",
    "```\n",
    "\n",
    "- return\n",
    "- parameter & argument\n",
    "- *args\n",
    "- **kwargs\n",
    "- docstring\n",
    "- global (scope)\n",
    "- inner function (closure)\n",
    "- lambda function\n",
    "- map\n",
    "- filter\n",
    "- reduce\n",
    "- decorator\n"
   ]
  },
  {
   "cell_type": "markdown",
   "metadata": {},
   "source": [
    "## basic function\n",
    "\n",
    "- 반복적인 기능을 묶어주는 개념\n",
    "- 반복적인 기능 함수를 통해 묶음으로 더 깔끔한 코딩이 가능하다"
   ]
  },
  {
   "cell_type": "code",
   "execution_count": 3,
   "metadata": {
    "scrolled": true
   },
   "outputs": [
    {
     "name": "stdout",
     "output_type": "stream",
     "text": [
      "dss\n",
      "dss\n",
      "dss\n",
      "data\n",
      "data\n",
      "data\n",
      "science\n",
      "science\n",
      "science\n"
     ]
    }
   ],
   "source": [
    "# 각 요소들을 3번씩 출력한다고 했을 때\n",
    "# 원시적인 방법 Bad\n",
    "\n",
    "l = [\"dss\", \"data\", \"science\"]\n",
    "print(l[0])\n",
    "print(l[0])\n",
    "print(l[0])\n",
    "print(l[1])\n",
    "print(l[1])\n",
    "print(l[1])\n",
    "print(l[2])\n",
    "print(l[2])\n",
    "print(l[2])"
   ]
  },
  {
   "cell_type": "code",
   "execution_count": 5,
   "metadata": {},
   "outputs": [],
   "source": [
    "# 입력 받은 데이터를 세번 출력해주는 함수를 만들어서\n",
    "\n",
    "def three_disp(data):\n",
    "    print(data)\n",
    "    print(data)\n",
    "    print(data)"
   ]
  },
  {
   "cell_type": "code",
   "execution_count": 8,
   "metadata": {},
   "outputs": [
    {
     "name": "stdout",
     "output_type": "stream",
     "text": [
      "dss\n",
      "dss\n",
      "dss\n",
      "data\n",
      "data\n",
      "data\n",
      "science\n",
      "science\n",
      "science\n"
     ]
    }
   ],
   "source": [
    "# 귀찮음을 덜 수 있다는 것\n",
    "\n",
    "three_disp(l[0])\n",
    "three_disp(l[1])\n",
    "three_disp(l[2])"
   ]
  },
  {
   "cell_type": "markdown",
   "metadata": {},
   "source": [
    "## Return"
   ]
  },
  {
   "cell_type": "code",
   "execution_count": 9,
   "metadata": {},
   "outputs": [
    {
     "name": "stdout",
     "output_type": "stream",
     "text": [
      "data\n"
     ]
    }
   ],
   "source": [
    "def test_func():\n",
    "    return \"data\"\n",
    "\n",
    "s = test_func() # test_func()의 결과값을 s 라는 변수에 저장한다.!\n",
    "print(s)"
   ]
  },
  {
   "cell_type": "code",
   "execution_count": 1,
   "metadata": {},
   "outputs": [],
   "source": [
    "# 리턴은 함수의 마지막을 의미한다. 고로 return아래에 있는 코드들은 실행되지 않는다\n",
    "\n",
    "def test_func(a):\n",
    "    if a < 10:\n",
    "        return\n",
    "        print(a)\n",
    "    else:\n",
    "        print(\"\")"
   ]
  },
  {
   "cell_type": "code",
   "execution_count": 2,
   "metadata": {},
   "outputs": [],
   "source": [
    "test_func(7)  \n",
    "# 출력이 되지 않는다. return아래에 print(a) 코드는 실행되지 않은 것이다."
   ]
  },
  {
   "cell_type": "code",
   "execution_count": 3,
   "metadata": {},
   "outputs": [],
   "source": [
    "# 문제 숫자 리스트를 받아서 평균을 구해주는 함수를 작성\n",
    "\n",
    "def avg(points):\n",
    "    total = 0\n",
    "    for point in points:\n",
    "        total += point\n",
    "    return total / len(points)"
   ]
  },
  {
   "cell_type": "code",
   "execution_count": 4,
   "metadata": {},
   "outputs": [
    {
     "data": {
      "text/plain": [
       "82.5"
      ]
     },
     "execution_count": 4,
     "metadata": {},
     "output_type": "execute_result"
    }
   ],
   "source": [
    "points = [100, 90, 80, 60]\n",
    "avg(points)"
   ]
  },
  {
   "cell_type": "markdown",
   "metadata": {},
   "source": [
    "## parameter & argument\n",
    "\n",
    "- 데이터를 넘길 때 넘기는 데이터를 parameter라고 함\n",
    "- 데이터를 받을 때 받는 데이터를 argument라고 함\n",
    "\n",
    "```\n",
    "parameter (매개변수) : 함수를 정의 할 때 외부로부터 받아들이는 임의의 값을 의미한다.\n",
    "argument (인수) : 함수를 호출할 때, 이 때 사용하게 되는 일련의 값들을 argument라고 부름\n",
    "\n",
    "def function(x,y):\n",
    "    return x+y\n",
    "가 있다면, x,y는 파라미터라 할 수 있고, function(3,4)일 때 3,4가 아규먼트이다.\n",
    "\n",
    "즉, \"parameter의 값으로 argument 3, 4 를 대입하겠다\" 라는 의미\n",
    "```"
   ]
  },
  {
   "cell_type": "code",
   "execution_count": 5,
   "metadata": {},
   "outputs": [],
   "source": [
    "# no parameter and no return function\n",
    "# 보통 pass를 해주는 이유는 처음 알고리즘 짤 때 함수 정의만 해놓을 때 사용한다\n",
    "\n",
    "def test_func(): \n",
    "    pass"
   ]
  },
  {
   "cell_type": "code",
   "execution_count": 6,
   "metadata": {},
   "outputs": [
    {
     "name": "stdout",
     "output_type": "stream",
     "text": [
      "fast_campus\n"
     ]
    }
   ],
   "source": [
    "# one parameter and no return function\n",
    "\n",
    "def print_func(s):\n",
    "    print(s)\n",
    "    \n",
    "print_func(\"fast_campus\")"
   ]
  },
  {
   "cell_type": "code",
   "execution_count": 7,
   "metadata": {},
   "outputs": [
    {
     "name": "stdout",
     "output_type": "stream",
     "text": [
      "fast_campus dss data\n"
     ]
    }
   ],
   "source": [
    "# three parameter and no return function\n",
    "\n",
    "def print_func(s, s1, s2): \n",
    "    print(s, s1, s2)\n",
    "    \n",
    "print_func(\"fast_campus\", \"dss\", \"data\")"
   ]
  },
  {
   "cell_type": "code",
   "execution_count": 8,
   "metadata": {},
   "outputs": [
    {
     "name": "stdout",
     "output_type": "stream",
     "text": [
      "fast_campus no_data\n",
      "fast_campus data_science\n",
      "science data\n"
     ]
    }
   ],
   "source": [
    "def print_func(s1, s2 = \"no_data\"):    # s2 : set basic parameter \n",
    "    print(\"{} {}\".format(s1,s2))\n",
    "    \n",
    "print_func(\"fast_campus\")\n",
    "print_func(\"fast_campus\", \"data_science\") # position arguments\n",
    "print_func(s2 = \"data\", s1 = \"science\")   # keyword arguments\n",
    "\n",
    "# 출력된 것을 잘 보자!!!"
   ]
  },
  {
   "cell_type": "code",
   "execution_count": null,
   "metadata": {},
   "outputs": [],
   "source": [
    "# default argument가 맨 앞에 온 경우\n",
    "\n",
    "def print_func(s1, s3 = \"nodata\", s2 = \"no_data\"):   # 원래는 이게 맞으나\n",
    "    pass\n",
    "\n",
    "def print_func(s3 = \"nodata\", s1, s2 = \"no_data\"):   \n",
    "    pass\n",
    "\n",
    "# 이처럼 앞에 온다면 에러가 발생한다."
   ]
  },
  {
   "cell_type": "code",
   "execution_count": 16,
   "metadata": {},
   "outputs": [],
   "source": [
    "# 연산자 우선순위 () 사용에 주의하자\n",
    "\n",
    "def avg_func(korean, english, math):\n",
    "    return (korean + english + math) / 3   "
   ]
  },
  {
   "cell_type": "code",
   "execution_count": 21,
   "metadata": {},
   "outputs": [
    {
     "name": "stdout",
     "output_type": "stream",
     "text": [
      "avg : 83.33\n"
     ]
    }
   ],
   "source": [
    "a = avg_func(100, 70, 80)\n",
    "print(\"avg : {}\".format(round(a,2)))     # round 를 활용해 소수점 자릿수 설정"
   ]
  },
  {
   "cell_type": "code",
   "execution_count": 22,
   "metadata": {},
   "outputs": [],
   "source": [
    "def total_func(korea, english, math):\n",
    "    return korea + english + math"
   ]
  },
  {
   "cell_type": "code",
   "execution_count": 27,
   "metadata": {},
   "outputs": [
    {
     "name": "stdout",
     "output_type": "stream",
     "text": [
      "250\n"
     ]
    }
   ],
   "source": [
    "def func_param(func):                   \n",
    "    result = func(100, 70, 80)\n",
    "    print(result)\n",
    "\n",
    "func_param(total_func)"
   ]
  },
  {
   "cell_type": "markdown",
   "metadata": {},
   "source": [
    "## *args\n",
    "\n",
    "- arguments\n",
    "- 함수에서 여러개의 파라미터를 한꺼번에 받을 때 사용\n",
    "- 받는 arguments 데이터는 tuple 데이터 타입으로 받는다\n",
    "- `*`의 의미는 모든 value를 받는다는 의미"
   ]
  },
  {
   "cell_type": "code",
   "execution_count": 28,
   "metadata": {},
   "outputs": [
    {
     "name": "stdout",
     "output_type": "stream",
     "text": [
      "(1, 2, 3, 'fast', 'campus', ['data', 'science'])\n",
      "<class 'tuple'>\n",
      "campus\n",
      "science\n"
     ]
    }
   ],
   "source": [
    "def print_args(*args):\n",
    "    print(args)\n",
    "    print(type(args))\n",
    "    print(args[4])\n",
    "    print(args[5][1])\n",
    "    \n",
    "print_args(1, 2, 3, \"fast\", \"campus\", [\"data\", \"science\"])\n",
    "\n",
    "# 출력 값을 잘 보면 전반적인 이해 가능"
   ]
  },
  {
   "cell_type": "code",
   "execution_count": 30,
   "metadata": {},
   "outputs": [],
   "source": [
    "def avg_func(*args):          \n",
    "    for data in args:\n",
    "        print(data)\n",
    "    return sum(args) / len(args)\n",
    "\n",
    "# *args 를 해줌으로써 데이터가 늘어남에 따라 그때마다 파라미터를 추가해줄 수고를 없애줌"
   ]
  },
  {
   "cell_type": "code",
   "execution_count": 33,
   "metadata": {},
   "outputs": [
    {
     "name": "stdout",
     "output_type": "stream",
     "text": [
      "100\n",
      "70\n",
      "80\n",
      "avg : 83.33\n"
     ]
    }
   ],
   "source": [
    "a = avg_func(100, 70, 80)\n",
    "print(\"avg : {}\".format(round(a,2)))"
   ]
  },
  {
   "cell_type": "markdown",
   "metadata": {},
   "source": [
    "## **kwargs\n",
    "\n",
    "- keyword arguments\n",
    "- 여러개의 파라미터를 key-value 형태로 받을 때 사용\n",
    "- 함수에서 받는 keyword argument의 데이터는 dictionary 데이터 타입으로 받는다\n",
    "- `**`의 의미는 모든 key, value를 받는 다는 의미"
   ]
  },
  {
   "cell_type": "code",
   "execution_count": 34,
   "metadata": {},
   "outputs": [],
   "source": [
    "def avg_func(**kwargs):\n",
    "    print(kwargs)\n",
    "    print(type(kwargs))\n",
    "    total, count = 0, 0\n",
    "    for subject, point in kwargs.items():\n",
    "        print(subject, point)\n",
    "        total += point\n",
    "        count += 1\n",
    "    return total / count"
   ]
  },
  {
   "cell_type": "code",
   "execution_count": 36,
   "metadata": {
    "scrolled": true
   },
   "outputs": [
    {
     "name": "stdout",
     "output_type": "stream",
     "text": [
      "{'english': 70, 'korean': 100, 'math': 80}\n",
      "<class 'dict'>\n",
      "english 70\n",
      "korean 100\n",
      "math 80\n",
      "avg : 83.33\n"
     ]
    }
   ],
   "source": [
    "a = avg_func(korean = 100, english = 70, math = 80)\n",
    "print(\"avg : {}\".format(round(a,2)))\n",
    "\n",
    "# 일단 딕셔너리형태로 받아오고 key와 value 값 둘다 동시에 가져오는 것을 알 수 있다."
   ]
  },
  {
   "cell_type": "code",
   "execution_count": 38,
   "metadata": {},
   "outputs": [],
   "source": [
    "def test_func(*args, **kwargs):\n",
    "    print(args)\n",
    "    print(kwargs)"
   ]
  },
  {
   "cell_type": "code",
   "execution_count": 39,
   "metadata": {},
   "outputs": [
    {
     "name": "stdout",
     "output_type": "stream",
     "text": [
      "(1, 2, 3, 'fastcampus', 'datascience')\n",
      "{}\n"
     ]
    }
   ],
   "source": [
    "test_func(1,2,3, \"fastcampus\", \"datascience\")  # tuple 타입"
   ]
  },
  {
   "cell_type": "code",
   "execution_count": 40,
   "metadata": {},
   "outputs": [
    {
     "name": "stdout",
     "output_type": "stream",
     "text": [
      "()\n",
      "{'english': 70, 'korean': 100, 'math': 80}\n"
     ]
    }
   ],
   "source": [
    "test_func(korean = 100, english = 70, math = 80)   # dict 타입"
   ]
  },
  {
   "cell_type": "code",
   "execution_count": 42,
   "metadata": {},
   "outputs": [
    {
     "name": "stdout",
     "output_type": "stream",
     "text": [
      "(1, 2, 3, 'fastcampus', ' datascience')\n",
      "{'english': 70, 'korean': 100, 'math': 80}\n"
     ]
    }
   ],
   "source": [
    "test_func(1,2,3,\"fastcampus\", \" datascience\", korean = 100, english = 70, math = 80)\n",
    "\n",
    "\n",
    "# dict형태는 자동으로 **kwargs에 할당되고, tuple형태는 *args로 할당된다는 것을 알 수 있다"
   ]
  },
  {
   "cell_type": "markdown",
   "metadata": {},
   "source": [
    "## docstring\n",
    "\n",
    "- readability counts (PEP 20: Zen to Python)\n",
    "- 가독성은 중요하다"
   ]
  },
  {
   "cell_type": "code",
   "execution_count": 52,
   "metadata": {},
   "outputs": [],
   "source": [
    "def echo(anything):\n",
    "    'echo returns its input argument'\n",
    "    return anything\n",
    "\n",
    "def echo2(anything):\n",
    "    '''\n",
    "    echo returns its input argument\n",
    "    The operation is:\n",
    "        1. print anything parameter\n",
    "        2. return anything parameter\n",
    "    '''\n",
    "    print(\"echo2 function : {}\".format(anything))\n",
    "    return anything\n",
    "\n",
    "# 함수와 코드 사이에 작성하며 이것을 작성하는 이유는\n",
    "# 협업을 할 때 이 함수가 어떤 함수인지 대략적으로 알 필요가 있기 때문"
   ]
  },
  {
   "cell_type": "code",
   "execution_count": 53,
   "metadata": {},
   "outputs": [
    {
     "name": "stdout",
     "output_type": "stream",
     "text": [
      "echo2 function : data_science\n",
      "data_science data_science\n"
     ]
    }
   ],
   "source": [
    "result1 = echo(\"data_science\")\n",
    "result2 = echo2(\"data_science\")\n",
    "print(result1, result2)"
   ]
  },
  {
   "cell_type": "code",
   "execution_count": 54,
   "metadata": {},
   "outputs": [
    {
     "name": "stdout",
     "output_type": "stream",
     "text": [
      "Help on function echo in module __main__:\n",
      "\n",
      "echo(anything)\n",
      "    echo returns its input argument\n",
      "\n"
     ]
    }
   ],
   "source": [
    "help(echo)          #echo, echo2 이 함수가 뭔지 잘 모를 때"
   ]
  },
  {
   "cell_type": "code",
   "execution_count": 55,
   "metadata": {},
   "outputs": [
    {
     "name": "stdout",
     "output_type": "stream",
     "text": [
      "echo returns its input argument\n"
     ]
    }
   ],
   "source": [
    "print(echo.__doc__)         # doc string만 보고싶을 때\n",
    "                            # __doc__는 함수가 x, 하나의 예약된 변수"
   ]
  },
  {
   "cell_type": "code",
   "execution_count": 56,
   "metadata": {},
   "outputs": [
    {
     "data": {
      "text/plain": [
       "<function __main__.echo>"
      ]
     },
     "execution_count": 56,
     "metadata": {},
     "output_type": "execute_result"
    }
   ],
   "source": [
    "echo # shift + tab 누르면 설명 나옴"
   ]
  },
  {
   "cell_type": "code",
   "execution_count": 60,
   "metadata": {},
   "outputs": [],
   "source": [
    "echo2?\n",
    "\n",
    "# ?눌러서도 확인 가능"
   ]
  },
  {
   "cell_type": "markdown",
   "metadata": {},
   "source": [
    "## global (scope)\n",
    "\n",
    "- function scope\n",
    "    - locals (지역변수)\n",
    "    - globals (전역변수)\n",
    "- how to change global variable ?"
   ]
  },
  {
   "cell_type": "code",
   "execution_count": 62,
   "metadata": {},
   "outputs": [
    {
     "name": "stdout",
     "output_type": "stream",
     "text": [
      "10\n"
     ]
    }
   ],
   "source": [
    "gv = 10        # 밖에서 선언하므로 global 변수\n",
    "\n",
    "def print_gv():\n",
    "    print(gv)\n",
    "print(gv)"
   ]
  },
  {
   "cell_type": "code",
   "execution_count": 67,
   "metadata": {},
   "outputs": [],
   "source": [
    "gv1 = 1\n",
    "gv2 = 2\n",
    "\n",
    "def print_globals():\n",
    "    gv1 = 10\n",
    "    gv2 = 20\n",
    "    print(globals())"
   ]
  },
  {
   "cell_type": "code",
   "execution_count": 64,
   "metadata": {},
   "outputs": [],
   "source": [
    "gv1 = 1\n",
    "gv2 = 2\n",
    "\n",
    "def print_locals():\n",
    "    gv1 = 10\n",
    "    gv2 = 20\n",
    "    print(locals())"
   ]
  },
  {
   "cell_type": "code",
   "execution_count": 65,
   "metadata": {},
   "outputs": [
    {
     "name": "stdout",
     "output_type": "stream",
     "text": [
      "{'gv1': 10, 'gv2': 20}\n"
     ]
    }
   ],
   "source": [
    "print_locals()"
   ]
  },
  {
   "cell_type": "code",
   "execution_count": 70,
   "metadata": {},
   "outputs": [
    {
     "name": "stdout",
     "output_type": "stream",
     "text": [
      "10\n",
      "10\n"
     ]
    }
   ],
   "source": [
    "gv = 10\n",
    "def change_gv(data):\n",
    "    gv = data\n",
    "    \n",
    "print(gv)\n",
    "change_gv(100)\n",
    "print(gv)"
   ]
  },
  {
   "cell_type": "code",
   "execution_count": 71,
   "metadata": {},
   "outputs": [
    {
     "name": "stdout",
     "output_type": "stream",
     "text": [
      "10\n",
      "100\n"
     ]
    }
   ],
   "source": [
    "gv = 10\n",
    "def change_gv(data):\n",
    "    global gv                  # 전역변수에 접근하고 싶을 때\n",
    "    gv = data\n",
    "    \n",
    "print(gv)\n",
    "change_gv(100)\n",
    "print(gv)"
   ]
  },
  {
   "cell_type": "markdown",
   "metadata": {},
   "source": [
    "## inner function\n",
    "\n",
    "- 함수 안에 함수\n",
    "- 안에 있는 함수를 호출 가능\n",
    "- 익명함수를 사용하기 위함. 일반적으로 inner()를 사용해서 접근할 수 없음.\n",
    "- inner()라는 함수를 outer() 함수 속에서만 존재하게 하고 싶을 때 inner function사용\n",
    "- 컴퓨터의 메모리를 차지하는 것에서도 효율적이라 할 수 있음."
   ]
  },
  {
   "cell_type": "code",
   "execution_count": 73,
   "metadata": {},
   "outputs": [],
   "source": [
    "def outer(a,b):\n",
    "    def inner(c,d):\n",
    "        return c + d\n",
    "    return inner(a,b)"
   ]
  },
  {
   "cell_type": "code",
   "execution_count": 74,
   "metadata": {},
   "outputs": [
    {
     "data": {
      "text/plain": [
       "11"
      ]
     },
     "execution_count": 74,
     "metadata": {},
     "output_type": "execute_result"
    }
   ],
   "source": [
    "outer(4,7)"
   ]
  },
  {
   "cell_type": "markdown",
   "metadata": {},
   "source": [
    "## lambda function\n",
    "\n",
    "- anonymouns function\n",
    "- 1회용 함수"
   ]
  },
  {
   "cell_type": "code",
   "execution_count": 78,
   "metadata": {},
   "outputs": [],
   "source": [
    "def sum_func(x,y):\n",
    "    return x,y"
   ]
  },
  {
   "cell_type": "code",
   "execution_count": 79,
   "metadata": {},
   "outputs": [
    {
     "data": {
      "text/plain": [
       "(5, 6)"
      ]
     },
     "execution_count": 79,
     "metadata": {},
     "output_type": "execute_result"
    }
   ],
   "source": [
    "sum_func(5,6)"
   ]
  },
  {
   "cell_type": "code",
   "execution_count": 80,
   "metadata": {},
   "outputs": [],
   "source": [
    "sum_func2 = lambda x,y : x + y \n",
    "\n",
    "# 메모리를 사용하는 측면에서 유리하다\n",
    "# 현재 argument를 받는 상태"
   ]
  },
  {
   "cell_type": "code",
   "execution_count": 81,
   "metadata": {},
   "outputs": [
    {
     "data": {
      "text/plain": [
       "11"
      ]
     },
     "execution_count": 81,
     "metadata": {},
     "output_type": "execute_result"
    }
   ],
   "source": [
    "sum_func2(5,6)"
   ]
  },
  {
   "cell_type": "code",
   "execution_count": 82,
   "metadata": {},
   "outputs": [],
   "source": [
    "sum_func3 = lambda x =1, y=2 : x+y\n",
    "# keyword argument를 받음"
   ]
  },
  {
   "cell_type": "code",
   "execution_count": 88,
   "metadata": {},
   "outputs": [
    {
     "name": "stdout",
     "output_type": "stream",
     "text": [
      "3\n",
      "7\n",
      "14\n"
     ]
    }
   ],
   "source": [
    "print(sum_func3())\n",
    "print(sum_func3(5))         # y = 2 인것은 살아있다\n",
    "print(sum_func3(5,9))\n",
    "\n",
    "# 이 출력 값들을 잘보자"
   ]
  },
  {
   "cell_type": "code",
   "execution_count": 89,
   "metadata": {},
   "outputs": [],
   "source": [
    "def sum_func4(f,x,y):\n",
    "    return f(x,y)"
   ]
  },
  {
   "cell_type": "code",
   "execution_count": 90,
   "metadata": {
    "scrolled": true
   },
   "outputs": [
    {
     "data": {
      "text/plain": [
       "12"
      ]
     },
     "execution_count": 90,
     "metadata": {},
     "output_type": "execute_result"
    }
   ],
   "source": [
    "# lambda 함수도 파라미터로 넘길 수 있다.\n",
    "\n",
    "sum_func4(lambda x,y: x+y, 5,7)   \n",
    "\n",
    "# 5, 7 이라는 argument를 x,y 라는 파라미터에 할당했다"
   ]
  },
  {
   "cell_type": "markdown",
   "metadata": {},
   "source": [
    "## map\n",
    "\n",
    "- map은 함수의 반ㄴ복가능한 자료형을 받아 각 요소가 함수에 의해 수행된 결과를 리스트 형태의 자료형으로 리턴하는 함수\n",
    "- map(f, iterable) 형태로 사용 (f : 함수, iterable : 반복가능한 자료형)\n",
    "- 각 요소별로 반복문을 만들어서"
   ]
  },
  {
   "cell_type": "code",
   "execution_count": 3,
   "metadata": {},
   "outputs": [],
   "source": [
    "# 일반 함수로 구현\n",
    "\n",
    "def sum_two(number_list):\n",
    "    result = []\n",
    "    \n",
    "    for number in number_list:\n",
    "        result.append(number + 2)\n",
    "    return result"
   ]
  },
  {
   "cell_type": "code",
   "execution_count": 4,
   "metadata": {},
   "outputs": [
    {
     "name": "stdout",
     "output_type": "stream",
     "text": [
      "number_list :  [1, 2, 3, 4, 5, 6, 7, 8, 9]\n"
     ]
    },
    {
     "data": {
      "text/plain": [
       "[3, 4, 5, 6, 7, 8, 9, 10, 11]"
      ]
     },
     "execution_count": 4,
     "metadata": {},
     "output_type": "execute_result"
    }
   ],
   "source": [
    "number_list = range(1,10)\n",
    "print(\"number_list : \", list(number_list))\n",
    "sum_two(number_list)"
   ]
  },
  {
   "cell_type": "code",
   "execution_count": 5,
   "metadata": {},
   "outputs": [
    {
     "name": "stdout",
     "output_type": "stream",
     "text": [
      "number_list :  [1, 2, 3, 4, 5, 6, 7, 8, 9]\n"
     ]
    },
    {
     "data": {
      "text/plain": [
       "[3, 4, 5, 6, 7, 8, 9, 10, 11]"
      ]
     },
     "execution_count": 5,
     "metadata": {},
     "output_type": "execute_result"
    }
   ],
   "source": [
    "# map으로 구현\n",
    "# map은 입력데이터와 출력 데이터의 길이가 길다. 반면 filter는??\n",
    "\n",
    "def sum_two(number):\n",
    "    return number + 2\n",
    "\n",
    "number_list = range(1,10)\n",
    "print(\"number_list : \", list(number_list))\n",
    "list(map(sum_two, number_list))"
   ]
  },
  {
   "cell_type": "code",
   "execution_count": 6,
   "metadata": {},
   "outputs": [
    {
     "name": "stdout",
     "output_type": "stream",
     "text": [
      "number_list :  [1, 2, 3, 4, 5, 6, 7, 8, 9]\n"
     ]
    },
    {
     "data": {
      "text/plain": [
       "[3, 4, 5, 6, 7, 8, 9, 10, 11]"
      ]
     },
     "execution_count": 6,
     "metadata": {},
     "output_type": "execute_result"
    }
   ],
   "source": [
    "# map과 lambda로 구현\n",
    "\n",
    "number_list = range(1,10)\n",
    "print(\"number_list : \", list(number_list))\n",
    "list(map(lambda number : number + 2, number_list))"
   ]
  },
  {
   "cell_type": "code",
   "execution_count": 7,
   "metadata": {},
   "outputs": [
    {
     "name": "stdout",
     "output_type": "stream",
     "text": [
      "number_list :  [1, 2, 3, 4, 5, 6, 7, 8, 9]\n"
     ]
    },
    {
     "data": {
      "text/plain": [
       "[2, 4, 6, 6, 10, 8, 14, 10, 18]"
      ]
     },
     "execution_count": 7,
     "metadata": {},
     "output_type": "execute_result"
    }
   ],
   "source": [
    "# lambda에 if else 추가\n",
    "# 홀수에는 곱하기 2, 짝수에는 더하기 2\n",
    "\n",
    "number_list = range(1,10)\n",
    "print(\"number_list : \", list(number_list))\n",
    "list(map(lambda number : number + 2 if number % 2 ==0 else number * 2, number_list))"
   ]
  },
  {
   "cell_type": "code",
   "execution_count": 8,
   "metadata": {},
   "outputs": [
    {
     "name": "stdout",
     "output_type": "stream",
     "text": [
      "[0, 1, 2, 3, 4] [5, 6, 7, 8, 9, 10, 11]\n"
     ]
    },
    {
     "data": {
      "text/plain": [
       "[5, 7, 9, 11, 13]"
      ]
     },
     "execution_count": 8,
     "metadata": {},
     "output_type": "execute_result"
    }
   ],
   "source": [
    "# lambda에서 여러개의 리스트를 받아서 데이터 처리\n",
    "# 리스트의 수가 작은 데이터길이로 결과가 잘린다.\n",
    "numbers_1, numbers_2 = range(5), range(5,12)\n",
    "print(list(numbers_1), list(numbers_2))\n",
    "list(map(lambda n1, n2 : n1 + n2, numbers_1, numbers_2))"
   ]
  },
  {
   "cell_type": "markdown",
   "metadata": {},
   "source": [
    "### Quiz\n",
    "- map을 사용하여 사람이름에서 성만 결과로 출력하는 코드를 작성"
   ]
  },
  {
   "cell_type": "code",
   "execution_count": 9,
   "metadata": {},
   "outputs": [
    {
     "data": {
      "text/plain": [
       "['Kim', 'Lee', 'Park', 'Kim', 'Lee']"
      ]
     },
     "execution_count": 9,
     "metadata": {},
     "output_type": "execute_result"
    }
   ],
   "source": [
    "name_list = [\"Kim kildong\", \"Lee jeawoo\", \"Park sangjin\", \"Kim kilsoo\", \"Lee sungsim\"]\n",
    "\n",
    "result = list(map(lambda name : name.split(\" \")[0], name_list))\n",
    "result"
   ]
  },
  {
   "cell_type": "code",
   "execution_count": 10,
   "metadata": {},
   "outputs": [
    {
     "data": {
      "text/plain": [
       "['Kim', 'Lee', 'Park', 'Kim', 'Lee']"
      ]
     },
     "execution_count": 10,
     "metadata": {},
     "output_type": "execute_result"
    }
   ],
   "source": [
    "# 간단한 기능으로 map을 함수로 구현한다면\n",
    "\n",
    "def mp(func, data_list):\n",
    "    for idx, data in enumerate(data_list):\n",
    "        data_list[idx] = func(data)\n",
    "    return data_list\n",
    "\n",
    "list(mp(lambda name : name.split(\" \")[0], name_list))"
   ]
  },
  {
   "cell_type": "markdown",
   "metadata": {},
   "source": [
    "## filter\n",
    "\n",
    "- 특정 조건에 맞는 데이터만 가져오는 함수"
   ]
  },
  {
   "cell_type": "code",
   "execution_count": 12,
   "metadata": {},
   "outputs": [
    {
     "data": {
      "text/plain": [
       "[0, 2, 4, 6, 8]"
      ]
     },
     "execution_count": 12,
     "metadata": {},
     "output_type": "execute_result"
    }
   ],
   "source": [
    "# 리스트에서 짝수 데이터만 가져오기\n",
    "# 원래 있는 데이터의 길이보다 같거나 적다. map 과의 차이점?\n",
    "\n",
    "def get_even(number_list):\n",
    "    result = []\n",
    "    for number in number_list:\n",
    "        if number % 2 == 0:\n",
    "            result.append(number)\n",
    "    return result\n",
    "\n",
    "number_list = range(10)\n",
    "get_even(number_list)"
   ]
  },
  {
   "cell_type": "code",
   "execution_count": 14,
   "metadata": {},
   "outputs": [
    {
     "name": "stdout",
     "output_type": "stream",
     "text": [
      "[0, 1, 2, 3, 4, 5, 6, 7, 8, 9]\n"
     ]
    },
    {
     "data": {
      "text/plain": [
       "([0, 2, 4, 6, 8], [0, 2, 4, 6, 8])"
      ]
     },
     "execution_count": 14,
     "metadata": {},
     "output_type": "execute_result"
    }
   ],
   "source": [
    "def even1(number):\n",
    "    if number % 2 == 0:\n",
    "        return True\n",
    "    return False\n",
    "\n",
    "def even2(number):\n",
    "    return True if number % 2 == 0 else False\n",
    "\n",
    "number_list = range(10)\n",
    "print(list(number_list))\n",
    "list(filter(even1, number_list)), list(filter(even2, number_list))\n",
    "\n",
    "# even1 쪽에는 반드시 True False 형태로 들어가야 한다.\n",
    "# True인 데이터만 남게 되는 것."
   ]
  },
  {
   "cell_type": "code",
   "execution_count": 16,
   "metadata": {},
   "outputs": [
    {
     "data": {
      "text/plain": [
       "[0, 2, 4, 6, 8]"
      ]
     },
     "execution_count": 16,
     "metadata": {},
     "output_type": "execute_result"
    }
   ],
   "source": [
    "number_list = range(10)\n",
    "list(filter(lambda number : number % 2 == 0, number_list))"
   ]
  },
  {
   "cell_type": "markdown",
   "metadata": {},
   "source": [
    "## 문제\n",
    "- filter를 사용하여 사람 이름에서 성이 Lee인 사람의 이름만 결과로 출력하는 코드 작성"
   ]
  },
  {
   "cell_type": "code",
   "execution_count": 20,
   "metadata": {},
   "outputs": [
    {
     "data": {
      "text/plain": [
       "['Lee jeawoo', 'Lee sungsim']"
      ]
     },
     "execution_count": 20,
     "metadata": {},
     "output_type": "execute_result"
    }
   ],
   "source": [
    "name_list = [\"Kim kildong\", \"Lee jeawoo\", \"Park sangjin\", \"Kim kilsoo\", \"Lee sungsim\"]\n",
    "\n",
    "result = list(filter(lambda name : name.split(\" \")[0] == \"Lee\", name_list))\n",
    "result"
   ]
  },
  {
   "cell_type": "code",
   "execution_count": 22,
   "metadata": {},
   "outputs": [
    {
     "data": {
      "text/plain": [
       "['Lee jeawoo', 'Lee sungsim']"
      ]
     },
     "execution_count": 22,
     "metadata": {},
     "output_type": "execute_result"
    }
   ],
   "source": [
    "result = list(filter(lambda name : True if name.split(\" \")[0] == \"Lee\"\n",
    "                    else False, name_list))\n",
    "result"
   ]
  },
  {
   "cell_type": "code",
   "execution_count": 23,
   "metadata": {},
   "outputs": [
    {
     "data": {
      "text/plain": [
       "['Lee jeawoo', 'Lee sungsim']"
      ]
     },
     "execution_count": 23,
     "metadata": {},
     "output_type": "execute_result"
    }
   ],
   "source": [
    "# filter를 직접 구현\n",
    "\n",
    "def ft(func, data_list):\n",
    "    result = []\n",
    "    for data in data_list:\n",
    "        if func(data):\n",
    "            result.append(data)\n",
    "    return result\n",
    "\n",
    "list(ft(lambda name : name.split(\" \")[0] == \"Lee\", name_list))"
   ]
  },
  {
   "cell_type": "markdown",
   "metadata": {},
   "source": [
    "## reduce\n",
    "\n",
    "- 처음 값부터 순차적으로 지정된 함수를 처리해주는 함수\n",
    "- 결과값이 하나\n",
    "- `from functools import reduce`"
   ]
  },
  {
   "cell_type": "code",
   "execution_count": 24,
   "metadata": {},
   "outputs": [],
   "source": [
    "from functools import reduce"
   ]
  },
  {
   "cell_type": "code",
   "execution_count": 25,
   "metadata": {},
   "outputs": [
    {
     "data": {
      "text/plain": [
       "15"
      ]
     },
     "execution_count": 25,
     "metadata": {},
     "output_type": "execute_result"
    }
   ],
   "source": [
    "a = [3,1,5,2,4]\n",
    "reduce(lambda x, y : x + y, a)"
   ]
  },
  {
   "cell_type": "code",
   "execution_count": 26,
   "metadata": {},
   "outputs": [
    {
     "data": {
      "text/plain": [
       "5"
      ]
     },
     "execution_count": 26,
     "metadata": {},
     "output_type": "execute_result"
    }
   ],
   "source": [
    "# 가장 큰 수 구하기\n",
    "a = [3,1,5,2,4]\n",
    "reduce(lambda x, y: x if x > y else y, a)"
   ]
  },
  {
   "cell_type": "markdown",
   "metadata": {},
   "source": [
    "### Quiz\n",
    "- reduce를 사용하여 이름의 길이가 가장 긴 사람을 출력하는 코드 작성"
   ]
  },
  {
   "cell_type": "code",
   "execution_count": 27,
   "metadata": {},
   "outputs": [
    {
     "name": "stdout",
     "output_type": "stream",
     "text": [
      "Park sangjin\n"
     ]
    }
   ],
   "source": [
    "name_list = [\"Kim kildong\", \"Lee jeawoo\", \"Park sangjin\", \"Kim kilsoo\", \"Lee sungsim\"]\n",
    "\n",
    "result = reduce(lambda name1, name2 : name1 if len(name1) > len(name2)\n",
    "                                               else name2, name_list)\n",
    "print(result)"
   ]
  },
  {
   "cell_type": "code",
   "execution_count": 29,
   "metadata": {},
   "outputs": [
    {
     "data": {
      "text/plain": [
       "['Kim kildong : 11',\n",
       " 'Lee jeawoo : 10',\n",
       " 'Park sangjin : 12',\n",
       " 'Kim kilsoo : 10',\n",
       " 'Lee sungsim : 11']"
      ]
     },
     "execution_count": 29,
     "metadata": {},
     "output_type": "execute_result"
    }
   ],
   "source": [
    "# map 을 이용하여 이름과 이름의 글자수를 출력하는 코드작성\n",
    "list(map(lambda name : name + \" : \" + str(len(name)), name_list ))"
   ]
  },
  {
   "cell_type": "code",
   "execution_count": 31,
   "metadata": {},
   "outputs": [
    {
     "data": {
      "text/plain": [
       "'Park sangjin'"
      ]
     },
     "execution_count": 31,
     "metadata": {},
     "output_type": "execute_result"
    }
   ],
   "source": [
    "# reduce를 직접 구현\n",
    "name_list = [\"Kim kildong\", \"Lee jeawoo\", \"Park sangjin\", \"Kim kilsoo\", \"Lee sungsim\"]\n",
    "\n",
    "def rd(func, data_list):\n",
    "    result = data_list[0]\n",
    "    del data_list[0]\n",
    "    for data in data_list:\n",
    "        result = func(result, data)\n",
    "    return result\n",
    "\n",
    "rd(lambda name1, name2 : name1 if len(name1) > len(name2) else name2, name_list)\n"
   ]
  },
  {
   "cell_type": "markdown",
   "metadata": {},
   "source": [
    "## 3가지\n",
    "\n",
    "1. map = [a,b,c] \n",
    "-> return [f(a), f(b), f(c)]\n",
    "\n",
    "2. filter = [a,b,c]\n",
    "-> f() = True or False\n",
    "-> [f(a), f(b), f(c)] -> [f(a), f(c)]\n",
    "\n",
    "3. reduce = [a,b,c]\n",
    "-> return f(f(a,b), c)\n",
    "\n",
    "- 굳이 for문을 안써도 3가지를 적절하게 사용하면 간단하게 작성할 수 있다. "
   ]
  },
  {
   "cell_type": "markdown",
   "metadata": {},
   "source": [
    "## decorator\n",
    "\n",
    "- 코드를 바꾸지 않고 사용하고 있는 함수를 수정하고 싶을 때 사용\n",
    "- `*args`, `**kwargs`, 내부함수, 함수인자 사용"
   ]
  },
  {
   "cell_type": "code",
   "execution_count": null,
   "metadata": {},
   "outputs": [],
   "source": [
    "def A():\n",
    "    return\n",
    "\n",
    "def B(A):\n",
    "    code0\n",
    "    code1 (A)\n",
    "    code2 \n",
    "    return"
   ]
  },
  {
   "cell_type": "code",
   "execution_count": 32,
   "metadata": {},
   "outputs": [
    {
     "data": {
      "text/plain": [
       "12"
      ]
     },
     "execution_count": 32,
     "metadata": {},
     "output_type": "execute_result"
    }
   ],
   "source": [
    "# A\n",
    "def sum_int(a, b):\n",
    "    return a + b\n",
    "sum_int(5,7)"
   ]
  },
  {
   "cell_type": "code",
   "execution_count": 34,
   "metadata": {},
   "outputs": [],
   "source": [
    "# B\n",
    "def disp_func(func):\n",
    "    def new_func(*args, **kwargs):\n",
    "        print(\"running function :\", func.__name__)\n",
    "        print(\"args :\", args)\n",
    "        print(\"kwargs :\", kwargs)\n",
    "        result = func(*args, **kwargs)\n",
    "        print(\"result :\", result)\n",
    "        return result\n",
    "    return new_func"
   ]
  },
  {
   "cell_type": "code",
   "execution_count": 35,
   "metadata": {},
   "outputs": [
    {
     "name": "stdout",
     "output_type": "stream",
     "text": [
      "running function : sum_int2\n",
      "args : (5, 7)\n",
      "kwargs : {}\n",
      "result : 12\n"
     ]
    },
    {
     "data": {
      "text/plain": [
       "12"
      ]
     },
     "execution_count": 35,
     "metadata": {},
     "output_type": "execute_result"
    }
   ],
   "source": [
    "@disp_func\n",
    "def sum_int2(a,b):\n",
    "    return a + b\n",
    "sum_int2(5,7)\n"
   ]
  },
  {
   "cell_type": "code",
   "execution_count": 36,
   "metadata": {},
   "outputs": [
    {
     "name": "stdout",
     "output_type": "stream",
     "text": [
      "running function : sum_int\n",
      "args : (5, 7)\n",
      "kwargs : {}\n",
      "result : 12\n"
     ]
    },
    {
     "data": {
      "text/plain": [
       "12"
      ]
     },
     "execution_count": 36,
     "metadata": {},
     "output_type": "execute_result"
    }
   ],
   "source": [
    "# 수동으로 선언\n",
    "new_sum_int = disp_func(sum_int)\n",
    "new_sum_int(5,7)"
   ]
  },
  {
   "cell_type": "markdown",
   "metadata": {},
   "source": [
    "## 함수의 실행 시간을 알려주는 decorator"
   ]
  },
  {
   "cell_type": "code",
   "execution_count": 37,
   "metadata": {},
   "outputs": [],
   "source": [
    "import time\n",
    "def timer(func):\n",
    "    def wrapper(*args, **kwargs): # 함수 정의부 packing\n",
    "        print(\"function name :\", func.__name__)\n",
    "        start_time = time.time()\n",
    "        result = func(*args, **kwargs) # 함수 호출부 unpacking\n",
    "        print(\"result :\", result)\n",
    "        end_time = time.time()\n",
    "        print(\"time : {time}\".format(time = end_time - start_time))\n",
    "        return result\n",
    "    return wrapper # 새로운 함수를 만들고, 그 함수를 return 하는 함수 => decorator 함수"
   ]
  },
  {
   "cell_type": "code",
   "execution_count": 42,
   "metadata": {},
   "outputs": [],
   "source": [
    "@timer\n",
    "def sum_func_1(start_number, last_number):\n",
    "    data = range(start_number, last_number + 1)\n",
    "    return sum(data)\n",
    "\n",
    "@timer\n",
    "def sum_func_2(start_number, last_number):\n",
    "    result = 0\n",
    "    for num in range(start_number, last_number + 1):\n",
    "        result += num\n",
    "    return result\n",
    "\n",
    "@timer\n",
    "def sum_func_3(start_number, last_number):\n",
    "    number_list = [num for num in range(start_number, last_number + 1)]\n",
    "    return sum(number_list)"
   ]
  },
  {
   "cell_type": "code",
   "execution_count": 43,
   "metadata": {
    "scrolled": true
   },
   "outputs": [
    {
     "name": "stdout",
     "output_type": "stream",
     "text": [
      "function name : sum_func_1\n",
      "result : 50000005000000\n",
      "time : 0.20020103454589844\n",
      "function name : sum_func_2\n",
      "result : 50000005000000\n",
      "time : 1.617542028427124\n",
      "function name : sum_func_3\n",
      "result : 50000005000000\n",
      "time : 1.451185941696167\n"
     ]
    },
    {
     "data": {
      "text/plain": [
       "50000005000000"
      ]
     },
     "execution_count": 43,
     "metadata": {},
     "output_type": "execute_result"
    }
   ],
   "source": [
    "start_number, last_number = 1, 10000000\n",
    "sum_func_1(start_number, last_number)\n",
    "sum_func_2(start_number, last_number)\n",
    "sum_func_3(start_number, last_number)"
   ]
  },
  {
   "cell_type": "code",
   "execution_count": null,
   "metadata": {
    "scrolled": true
   },
   "outputs": [],
   "source": [
    "@admin\n",
    "def A():\n",
    "    pass\n",
    "# A 는 admin 권한이 있어야 실행이 된다는 뜻\n",
    "\n",
    "def B():\n",
    "    pass\n",
    "# admin 권한이 없어도 실행"
   ]
  },
  {
   "cell_type": "code",
   "execution_count": null,
   "metadata": {},
   "outputs": [],
   "source": []
  }
 ],
 "metadata": {
  "kernelspec": {
   "display_name": "Python 3",
   "language": "python",
   "name": "python3"
  },
  "language_info": {
   "codemirror_mode": {
    "name": "ipython",
    "version": 3
   },
   "file_extension": ".py",
   "mimetype": "text/x-python",
   "name": "python",
   "nbconvert_exporter": "python",
   "pygments_lexer": "ipython3",
   "version": "3.5.0"
  }
 },
 "nbformat": 4,
 "nbformat_minor": 2
}
