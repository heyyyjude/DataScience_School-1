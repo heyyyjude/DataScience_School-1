{
 "cells": [
  {
   "cell_type": "markdown",
   "metadata": {},
   "source": [
    "# File\n",
    "\n",
    "- 파일 쓰기 (w) : 파일이 존재하면 덮어씀\n",
    "- 파일 쓰기 (w) : 파일이 존재하지 않을때만 생성\n",
    "- 파일 읽기 (r) \n",
    "- 파일 추가 (a)\n",
    "\n",
    "\n",
    "- 텍스트 타입(t)\n",
    "- 이전 타입(b)"
   ]
  },
  {
   "cell_type": "markdown",
   "metadata": {},
   "source": [
    "### 파일 쓰기\n",
    "\n",
    "- 텍스트"
   ]
  },
  {
   "cell_type": "code",
   "execution_count": 2,
   "metadata": {},
   "outputs": [],
   "source": [
    "# write\n",
    "\n",
    "s = \"\"\"datascience\n",
    "fast campus write\"\"\"\n",
    "f = open(\"file/test1.txt\", 'wt')\n",
    "f.write(s)\n",
    "f.close()  # 닫아줘야 리소스를 안먹음"
   ]
  },
  {
   "cell_type": "code",
   "execution_count": 3,
   "metadata": {},
   "outputs": [],
   "source": [
    "# print\n",
    "s = \"\"\"datascience\n",
    "fast campus print\"\"\"\n",
    "f = open(\"file/test2.txt\", 'wt')\n",
    "print(s, file = f, end = \"\")\n",
    "f.close()"
   ]
  },
  {
   "cell_type": "code",
   "execution_count": 4,
   "metadata": {},
   "outputs": [
    {
     "ename": "FileExistsError",
     "evalue": "[Errno 17] File exists: 'file/test1.txt'",
     "output_type": "error",
     "traceback": [
      "\u001b[0;31m---------------------------------------------------------------------------\u001b[0m",
      "\u001b[0;31mFileExistsError\u001b[0m                           Traceback (most recent call last)",
      "\u001b[0;32m<ipython-input-4-8f449e28e322>\u001b[0m in \u001b[0;36m<module>\u001b[0;34m()\u001b[0m\n\u001b[1;32m      2\u001b[0m s = \"\"\"datascience\n\u001b[1;32m      3\u001b[0m fast campus write x\"\"\"\n\u001b[0;32m----> 4\u001b[0;31m \u001b[0mf\u001b[0m \u001b[0;34m=\u001b[0m \u001b[0mopen\u001b[0m\u001b[0;34m(\u001b[0m\u001b[0;34m\"file/test1.txt\"\u001b[0m\u001b[0;34m,\u001b[0m \u001b[0;34m\"xt\"\u001b[0m\u001b[0;34m)\u001b[0m  \u001b[0;31m# 파일이 존재하지 않을 때만 생성한다.\u001b[0m\u001b[0;34m\u001b[0m\u001b[0m\n\u001b[0m\u001b[1;32m      5\u001b[0m \u001b[0mf\u001b[0m\u001b[0;34m.\u001b[0m\u001b[0mwrite\u001b[0m\u001b[0;34m(\u001b[0m\u001b[0ms\u001b[0m\u001b[0;34m)\u001b[0m\u001b[0;34m\u001b[0m\u001b[0m\n\u001b[1;32m      6\u001b[0m \u001b[0mf\u001b[0m\u001b[0;34m.\u001b[0m\u001b[0mclose\u001b[0m\u001b[0;34m(\u001b[0m\u001b[0;34m)\u001b[0m\u001b[0;34m\u001b[0m\u001b[0m\n",
      "\u001b[0;31mFileExistsError\u001b[0m: [Errno 17] File exists: 'file/test1.txt'"
     ]
    }
   ],
   "source": [
    "# write\n",
    "s = \"\"\"datascience\n",
    "fast campus write x\"\"\"\n",
    "f = open(\"file/test1.txt\", \"xt\")  # 파일이 존재하지 않을 때만 생성한다.\n",
    "f.write(s)\n",
    "f.close()"
   ]
  },
  {
   "cell_type": "markdown",
   "metadata": {},
   "source": [
    "- 이진\n",
    "    - bytes : 이진데이터로 형변환 시켜줌"
   ]
  },
  {
   "cell_type": "code",
   "execution_count": 5,
   "metadata": {},
   "outputs": [],
   "source": [
    "# 스트링 형태가 아닌 다른 타입의 리스트나 모듈 등을 저장할 때\n",
    "\n",
    "data = bytes(range(0, 10))\n",
    "f = open(\"file/b_range.b\", \"wb\") # write binary\n",
    "f.write(data)\n",
    "f.close()"
   ]
  },
  {
   "cell_type": "code",
   "execution_count": 6,
   "metadata": {},
   "outputs": [
    {
     "data": {
      "text/plain": [
       "b'\\x00\\x01\\x02\\x03\\x04\\x05\\x06\\x07\\x08\\t'"
      ]
     },
     "execution_count": 6,
     "metadata": {},
     "output_type": "execute_result"
    }
   ],
   "source": [
    "data"
   ]
  },
  {
   "cell_type": "markdown",
   "metadata": {},
   "source": [
    "### 파이 읽기\n",
    "- 텍스트"
   ]
  },
  {
   "cell_type": "code",
   "execution_count": 7,
   "metadata": {},
   "outputs": [
    {
     "name": "stdout",
     "output_type": "stream",
     "text": [
      "datascience\n",
      "fast campus write\n"
     ]
    }
   ],
   "source": [
    "# 모두 읽기\n",
    "f = open(\"file/test1.txt\", \"rt\")\n",
    "s = f.read()\n",
    "print(s)\n",
    "f.close()"
   ]
  },
  {
   "cell_type": "code",
   "execution_count": 8,
   "metadata": {},
   "outputs": [
    {
     "name": "stdout",
     "output_type": "stream",
     "text": [
      "datascienc\n"
     ]
    }
   ],
   "source": [
    "# 일부만 읽기\n",
    "f = open(\"file/test1.txt\", 'rt')\n",
    "s = f.read(10) # 10자만 읽어옴\n",
    "print(s)\n",
    "f.close()"
   ]
  },
  {
   "cell_type": "code",
   "execution_count": 12,
   "metadata": {},
   "outputs": [
    {
     "name": "stdout",
     "output_type": "stream",
     "text": [
      "datascience\n",
      "fast campus write"
     ]
    }
   ],
   "source": [
    "# 2줄 읽기\n",
    "f = open(\"file/test1.txt\", 'rt')\n",
    "for idx in range(2):\n",
    "    s = f.readline()\n",
    "    print(s, end=\"\")\n",
    "f.close()"
   ]
  },
  {
   "cell_type": "code",
   "execution_count": 13,
   "metadata": {},
   "outputs": [
    {
     "name": "stdout",
     "output_type": "stream",
     "text": [
      "datascience\n",
      "fast campus write"
     ]
    }
   ],
   "source": [
    "# 끝까지 읽기\n",
    "f = open(\"file/test1.txt\", 'rt')\n",
    "while True:\n",
    "    s = f.readline()\n",
    "    if not s:\n",
    "        break\n",
    "    print(s, end=\"\")\n",
    "f.close()"
   ]
  },
  {
   "cell_type": "code",
   "execution_count": 14,
   "metadata": {},
   "outputs": [
    {
     "name": "stdout",
     "output_type": "stream",
     "text": [
      "['datascience\\n', 'fast campus write']\n"
     ]
    }
   ],
   "source": [
    "# 여러줄을 리스트로 읽어오기\n",
    "f = open(\"file/test1.txt\", 'rt')\n",
    "s = f.readlines()\n",
    "print(s)\n",
    "f.close()"
   ]
  },
  {
   "cell_type": "markdown",
   "metadata": {},
   "source": [
    "- 이진"
   ]
  },
  {
   "cell_type": "code",
   "execution_count": 15,
   "metadata": {},
   "outputs": [
    {
     "name": "stdout",
     "output_type": "stream",
     "text": [
      "[0, 1, 2, 3, 4, 5, 6, 7, 8, 9]\n"
     ]
    }
   ],
   "source": [
    "f = open(\"file/b_range.b\", 'rb')\n",
    "data = f.read()\n",
    "print(list(data))\n",
    "f.close()"
   ]
  },
  {
   "cell_type": "markdown",
   "metadata": {},
   "source": [
    "### 파일내용 추가"
   ]
  },
  {
   "cell_type": "code",
   "execution_count": 16,
   "metadata": {},
   "outputs": [],
   "source": [
    "s = \"\\nschool\"\n",
    "f = open(\"file/test1.txt\",'at')   # add text\n",
    "f.write(s)\n",
    "f.close()"
   ]
  },
  {
   "cell_type": "markdown",
   "metadata": {},
   "source": [
    "### with\n",
    "- 자동으로 파일 닫기"
   ]
  },
  {
   "cell_type": "code",
   "execution_count": 17,
   "metadata": {},
   "outputs": [
    {
     "name": "stdout",
     "output_type": "stream",
     "text": [
      "datascience\n",
      "fast campus write\n",
      "school\n"
     ]
    }
   ],
   "source": [
    "# close를 안써도 됨\n",
    "with open(\"file/test1.txt\", \"rt\") as f:\n",
    "    s = f.read()\n",
    "    print(s)"
   ]
  },
  {
   "cell_type": "markdown",
   "metadata": {},
   "source": [
    "### Pickle\n",
    "\n",
    "- 객체를 파일로 저장하는 것을 직렬화(serialization) 이라고 함\n",
    "- 파이썬에서 직렬화를 통해 바이너리 형태의 데이터를 저장하고 복원하는 모듈"
   ]
  },
  {
   "cell_type": "code",
   "execution_count": 18,
   "metadata": {},
   "outputs": [],
   "source": [
    "import pickle"
   ]
  },
  {
   "cell_type": "code",
   "execution_count": 19,
   "metadata": {},
   "outputs": [],
   "source": [
    "class A():\n",
    "    def __init__(self, data):\n",
    "        self.data = data\n",
    "    def disp(self):\n",
    "        print(self.data)"
   ]
  },
  {
   "cell_type": "code",
   "execution_count": 20,
   "metadata": {},
   "outputs": [
    {
     "name": "stdout",
     "output_type": "stream",
     "text": [
      "Pickle test\n"
     ]
    }
   ],
   "source": [
    "a = A(\"Pickle test\")\n",
    "a.disp()"
   ]
  },
  {
   "cell_type": "code",
   "execution_count": 21,
   "metadata": {},
   "outputs": [],
   "source": [
    "# 저장\n",
    "f = open(\"file/obj.b\", 'wb')\n",
    "pickle.dump(a, f) # dump를 이용해서 저장\n",
    "f.close()  # 닫아준다"
   ]
  },
  {
   "cell_type": "code",
   "execution_count": 22,
   "metadata": {},
   "outputs": [],
   "source": [
    "f = open(\"file/obj.b\", \"rb\")\n",
    "load_a = pickle.load(f)\n",
    "f.close()"
   ]
  },
  {
   "cell_type": "code",
   "execution_count": 23,
   "metadata": {},
   "outputs": [
    {
     "name": "stdout",
     "output_type": "stream",
     "text": [
      "Pickle test\n"
     ]
    }
   ],
   "source": [
    "load_a.disp()"
   ]
  },
  {
   "cell_type": "code",
   "execution_count": 24,
   "metadata": {},
   "outputs": [
    {
     "data": {
      "text/plain": [
       "'Pickle test'"
      ]
     },
     "execution_count": 24,
     "metadata": {},
     "output_type": "execute_result"
    }
   ],
   "source": [
    "load_a.data"
   ]
  }
 ],
 "metadata": {
  "kernelspec": {
   "display_name": "Python 3",
   "language": "python",
   "name": "python3"
  },
  "language_info": {
   "codemirror_mode": {
    "name": "ipython",
    "version": 3
   },
   "file_extension": ".py",
   "mimetype": "text/x-python",
   "name": "python",
   "nbconvert_exporter": "python",
   "pygments_lexer": "ipython3",
   "version": "3.5.0"
  }
 },
 "nbformat": 4,
 "nbformat_minor": 2
}
