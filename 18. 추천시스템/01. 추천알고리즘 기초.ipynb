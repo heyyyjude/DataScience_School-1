{
 "cells": [
  {
   "cell_type": "markdown",
   "metadata": {},
   "source": [
    "   user기반\n",
    "-  movie\n",
    "-  user - 10,000\n",
    "-  item(movie) - 200개 영화를 평가\n",
    "-  (한 유저의 여러개 아이템)\n",
    "-  (user가 0이 많을 것)\n",
    "-  (user가 더 많으니까 user를 filtering) \n",
    "----------------------------------------\n",
    "\n",
    "   item기반\n",
    "-  user - 10,000\n",
    "-  itme(product) - 100,000개 상품 보유\n",
    "-  (한 유저가 적은 수의 아이템)\n",
    "-  (item이 0이 많을 것)\n",
    "-  (item가 더 많으니까 item을 filtering)"
   ]
  },
  {
   "cell_type": "markdown",
   "metadata": {},
   "source": [
    "### Euclidean Distance Similarity - 유클리드 거리 유사도"
   ]
  },
  {
   "cell_type": "code",
   "execution_count": 7,
   "metadata": {},
   "outputs": [],
   "source": [
    "import numpy as np"
   ]
  },
  {
   "cell_type": "code",
   "execution_count": 8,
   "metadata": {},
   "outputs": [],
   "source": [
    "# 샘플 데이터\n",
    "vector_1 = np.array([1,2,3,4,5]) \n",
    "vector_2 = np.array([5,4,3,2,1]) \n",
    "vector_3 = np.array([2,3,4,5,6])"
   ]
  },
  {
   "cell_type": "code",
   "execution_count": 6,
   "metadata": {},
   "outputs": [
    {
     "name": "stdout",
     "output_type": "stream",
     "text": [
      "[-4 -2  0  2  4]\n",
      "[16  4  0  4 16]\n",
      "40\n",
      "6.32455532034\n"
     ]
    }
   ],
   "source": [
    "print((vector_1 - vector_2))\n",
    "print((vector_1 - vector_2) ** 2)\n",
    "print(sum((vector_1 - vector_2) ** 2))\n",
    "print(np.sqrt(sum((vector_1 - vector_2) ** 2)))"
   ]
  },
  {
   "cell_type": "code",
   "execution_count": 11,
   "metadata": {},
   "outputs": [
    {
     "data": {
      "text/plain": [
       "(6.324555320336759, 2.2360679774997898, 6.7082039324993694)"
      ]
     },
     "execution_count": 11,
     "metadata": {},
     "output_type": "execute_result"
    }
   ],
   "source": [
    "np.linalg.norm(vector_1 - vector_2),\\\n",
    "np.linalg.norm(vector_1 - vector_3),\\\n",
    "np.linalg.norm(vector_2 - vector_3)"
   ]
  },
  {
   "cell_type": "markdown",
   "metadata": {},
   "source": [
    "### Cosine Similarity - 코사인 유사도"
   ]
  },
  {
   "cell_type": "code",
   "execution_count": 12,
   "metadata": {},
   "outputs": [],
   "source": [
    "import numpy as np\n",
    "from scipy import spatial"
   ]
  },
  {
   "cell_type": "code",
   "execution_count": 13,
   "metadata": {},
   "outputs": [],
   "source": [
    "vector_1 = np.array([1,2,3,4,5])\n",
    "vector_2 = np.array([5,4,3,2,1])\n",
    "vector_3 = np.array([11,19,28,32,47])"
   ]
  },
  {
   "cell_type": "code",
   "execution_count": 14,
   "metadata": {},
   "outputs": [
    {
     "name": "stdout",
     "output_type": "stream",
     "text": [
      "35\n",
      "35\n"
     ]
    }
   ],
   "source": [
    "# 분자 - 벡터의 내적\n",
    "print(sum(vector_1 * vector_2))\n",
    "print(np.dot(vector_1, vector_2)) # 내적 numpy 함수"
   ]
  },
  {
   "cell_type": "code",
   "execution_count": 15,
   "metadata": {},
   "outputs": [
    {
     "name": "stdout",
     "output_type": "stream",
     "text": [
      "[ 1  4  9 16 25] [25 16  9  4  1]\n",
      "55 55\n",
      "7.4161984871 7.4161984871\n"
     ]
    }
   ],
   "source": [
    "# 분모 - 벡터의 크기\n",
    "print(vector_1 * vector_1, vector_2 * vector_2)\n",
    "print(sum(vector_1 * vector_1), sum(vector_2 * vector_2))\n",
    "print(np.sqrt(sum(vector_1 * vector_1)), np.sqrt(sum(vector_2 * vector_2)))"
   ]
  },
  {
   "cell_type": "code",
   "execution_count": 16,
   "metadata": {},
   "outputs": [
    {
     "name": "stdout",
     "output_type": "stream",
     "text": [
      "55.0\n"
     ]
    }
   ],
   "source": [
    "print(np.sqrt(np.dot(vector_1, vector_1)) * np.sqrt(np.dot(vector_2, vector_2)))"
   ]
  },
  {
   "cell_type": "code",
   "execution_count": 17,
   "metadata": {},
   "outputs": [
    {
     "data": {
      "text/plain": [
       "(0.36363636363636365, 0.99710830870489031)"
      ]
     },
     "execution_count": 17,
     "metadata": {},
     "output_type": "execute_result"
    }
   ],
   "source": [
    "# scipy 함수 사용\n",
    "spatial.distance.cosine(vector_1, vector_2), 1 - spatial.distance.cosine(vector_1, vector_3)"
   ]
  },
  {
   "cell_type": "code",
   "execution_count": 18,
   "metadata": {},
   "outputs": [
    {
     "data": {
      "text/html": [
       "<div>\n",
       "<style scoped>\n",
       "    .dataframe tbody tr th:only-of-type {\n",
       "        vertical-align: middle;\n",
       "    }\n",
       "\n",
       "    .dataframe tbody tr th {\n",
       "        vertical-align: top;\n",
       "    }\n",
       "\n",
       "    .dataframe thead th {\n",
       "        text-align: right;\n",
       "    }\n",
       "</style>\n",
       "<table border=\"1\" class=\"dataframe\">\n",
       "  <thead>\n",
       "    <tr style=\"text-align: right;\">\n",
       "      <th></th>\n",
       "      <th>article_1</th>\n",
       "      <th>article_2</th>\n",
       "      <th>article_3</th>\n",
       "      <th>article_4</th>\n",
       "      <th>article_5</th>\n",
       "    </tr>\n",
       "  </thead>\n",
       "  <tbody>\n",
       "    <tr>\n",
       "      <th>user_1</th>\n",
       "      <td>5</td>\n",
       "      <td>3</td>\n",
       "      <td>0</td>\n",
       "      <td>0</td>\n",
       "      <td>2</td>\n",
       "    </tr>\n",
       "    <tr>\n",
       "      <th>user_2</th>\n",
       "      <td>2</td>\n",
       "      <td>0</td>\n",
       "      <td>0</td>\n",
       "      <td>1</td>\n",
       "      <td>4</td>\n",
       "    </tr>\n",
       "    <tr>\n",
       "      <th>user_3</th>\n",
       "      <td>0</td>\n",
       "      <td>0</td>\n",
       "      <td>4</td>\n",
       "      <td>3</td>\n",
       "      <td>1</td>\n",
       "    </tr>\n",
       "    <tr>\n",
       "      <th>user_4</th>\n",
       "      <td>4</td>\n",
       "      <td>0</td>\n",
       "      <td>4</td>\n",
       "      <td>5</td>\n",
       "      <td>0</td>\n",
       "    </tr>\n",
       "  </tbody>\n",
       "</table>\n",
       "</div>"
      ],
      "text/plain": [
       "        article_1  article_2  article_3  article_4  article_5\n",
       "user_1          5          3          0          0          2\n",
       "user_2          2          0          0          1          4\n",
       "user_3          0          0          4          3          1\n",
       "user_4          4          0          4          5          0"
      ]
     },
     "execution_count": 18,
     "metadata": {},
     "output_type": "execute_result"
    }
   ],
   "source": [
    "import numpy as np\n",
    "import pandas as pd\n",
    "from scipy import spatial\n",
    "\n",
    "# sample data set matrix\n",
    "columns = [\"article_1\",\"article_2\",\"article_3\",\"article_4\",\"article_5\"]\n",
    "index = [\"user_1\", \"user_2\", \"user_3\", \"user_4\"]\n",
    "data = np.array([ \n",
    "    [5,3,0,0,2], \n",
    "    [2,0,0,1,4], \n",
    "    [0,0,4,3,1], \n",
    "    [4,0,4,5,0],\n",
    "])\n",
    "\n",
    "sample_df = pd.DataFrame(data, columns=columns, index=index)\n",
    "sample_df\n"
   ]
  },
  {
   "cell_type": "code",
   "execution_count": 19,
   "metadata": {},
   "outputs": [],
   "source": [
    "def cosine_smimilarity(vector_1, vector_2):\n",
    "    # vector_1 데이터가 0인 index를 제거\n",
    "    idx = vector_1.nonzero()[0] \n",
    "    # vector에서 value가 0이 아닌 index를 구함 # index 값으로 vector의 요소를 필터링 함\n",
    "    vector_1, vector_2 = np.array(vector_1)[idx], np.array(vector_2)[idx]\n",
    "    return 1 - spatial.distance.cosine(vector_1, vector_2)"
   ]
  },
  {
   "cell_type": "code",
   "execution_count": 20,
   "metadata": {},
   "outputs": [
    {
     "data": {
      "text/plain": [
       "0.65292862509901051"
      ]
     },
     "execution_count": 20,
     "metadata": {},
     "output_type": "execute_result"
    }
   ],
   "source": [
    "cosine_smimilarity(sample_df.loc[\"user_1\"], sample_df.loc[\"user_2\"])"
   ]
  },
  {
   "cell_type": "code",
   "execution_count": 23,
   "metadata": {},
   "outputs": [
    {
     "data": {
      "text/html": [
       "<div>\n",
       "<style scoped>\n",
       "    .dataframe tbody tr th:only-of-type {\n",
       "        vertical-align: middle;\n",
       "    }\n",
       "\n",
       "    .dataframe tbody tr th {\n",
       "        vertical-align: top;\n",
       "    }\n",
       "\n",
       "    .dataframe thead th {\n",
       "        text-align: right;\n",
       "    }\n",
       "</style>\n",
       "<table border=\"1\" class=\"dataframe\">\n",
       "  <thead>\n",
       "    <tr style=\"text-align: right;\">\n",
       "      <th></th>\n",
       "      <th>user_1</th>\n",
       "      <th>user_2</th>\n",
       "      <th>user_3</th>\n",
       "      <th>user_4</th>\n",
       "    </tr>\n",
       "  </thead>\n",
       "  <tbody>\n",
       "    <tr>\n",
       "      <th>user_1</th>\n",
       "      <td>1.000000</td>\n",
       "      <td>0.652929</td>\n",
       "      <td>0.324443</td>\n",
       "      <td>0.811107</td>\n",
       "    </tr>\n",
       "    <tr>\n",
       "      <th>user_2</th>\n",
       "      <td>0.729397</td>\n",
       "      <td>1.000000</td>\n",
       "      <td>0.483046</td>\n",
       "      <td>0.443039</td>\n",
       "    </tr>\n",
       "    <tr>\n",
       "      <th>user_3</th>\n",
       "      <td>0.196116</td>\n",
       "      <td>0.332956</td>\n",
       "      <td>1.000000</td>\n",
       "      <td>0.949474</td>\n",
       "    </tr>\n",
       "    <tr>\n",
       "      <th>user_4</th>\n",
       "      <td>0.529813</td>\n",
       "      <td>0.770054</td>\n",
       "      <td>0.821210</td>\n",
       "      <td>1.000000</td>\n",
       "    </tr>\n",
       "  </tbody>\n",
       "</table>\n",
       "</div>"
      ],
      "text/plain": [
       "          user_1    user_2    user_3    user_4\n",
       "user_1  1.000000  0.652929  0.324443  0.811107\n",
       "user_2  0.729397  1.000000  0.483046  0.443039\n",
       "user_3  0.196116  0.332956  1.000000  0.949474\n",
       "user_4  0.529813  0.770054  0.821210  1.000000"
      ]
     },
     "execution_count": 23,
     "metadata": {},
     "output_type": "execute_result"
    }
   ],
   "source": [
    "# 유사도 행렬 함수\n",
    "def similarity_matrix(sample_df, similarity_func):\n",
    "    \n",
    "    # index 데이터 저장\n",
    "    index = sample_df.index\n",
    "    \n",
    "    # 데이터 프레임 전치 (index - article, columns - user) \n",
    "    df = sample_df.T\n",
    "    \n",
    "    # 모든 user 데이터 사이의 유사도를 구해 행렬 생성 \n",
    "    matrix = []\n",
    "    \n",
    "    for idx_1, value_1 in df.items(): \n",
    "        # row 데이터 저장\n",
    "        row = []\n",
    "        for idx_2, value_2 in df.items():\n",
    "            # 두 user 사이의 유사도 구함\n",
    "            row.append(similarity_func(value_1, value_2)) \n",
    "        matrix.append(row)\n",
    "        \n",
    "    return pd.DataFrame(matrix, columns=index, index=index)\n",
    "\n",
    "sm_df = similarity_matrix(sample_df, cosine_smimilarity)\n",
    "sm_df"
   ]
  },
  {
   "cell_type": "code",
   "execution_count": 29,
   "metadata": {},
   "outputs": [],
   "source": [
    "# 추천할 대상 및 추천 대상과 유사한 몇개의 데이터까지 사용할지에 대해 설정\n",
    "user, closer_count = \"user_1\", 2\n",
    "\n",
    "# 본인 데이터 제거\n",
    "ms_df = sm_df.drop(user)\n",
    "\n",
    "# 유사도가 높은 순으로 sorting\n",
    "ms_df = ms_df.sort_values(user, ascending=False)\n",
    "\n",
    "# 위의 설정 대로 컨텐츠를 추천할 사용자와 유사도가 높은 사용자 필터링\n",
    "ms_df = ms_df[:closer_count]"
   ]
  },
  {
   "cell_type": "code",
   "execution_count": 31,
   "metadata": {},
   "outputs": [
    {
     "data": {
      "text/html": [
       "<div>\n",
       "<style scoped>\n",
       "    .dataframe tbody tr th:only-of-type {\n",
       "        vertical-align: middle;\n",
       "    }\n",
       "\n",
       "    .dataframe tbody tr th {\n",
       "        vertical-align: top;\n",
       "    }\n",
       "\n",
       "    .dataframe thead th {\n",
       "        text-align: right;\n",
       "    }\n",
       "</style>\n",
       "<table border=\"1\" class=\"dataframe\">\n",
       "  <thead>\n",
       "    <tr style=\"text-align: right;\">\n",
       "      <th></th>\n",
       "      <th>article_1</th>\n",
       "      <th>article_2</th>\n",
       "      <th>article_3</th>\n",
       "      <th>article_4</th>\n",
       "      <th>article_5</th>\n",
       "    </tr>\n",
       "  </thead>\n",
       "  <tbody>\n",
       "    <tr>\n",
       "      <th>user_2</th>\n",
       "      <td>2</td>\n",
       "      <td>0</td>\n",
       "      <td>0</td>\n",
       "      <td>1</td>\n",
       "      <td>4</td>\n",
       "    </tr>\n",
       "    <tr>\n",
       "      <th>user_4</th>\n",
       "      <td>4</td>\n",
       "      <td>0</td>\n",
       "      <td>4</td>\n",
       "      <td>5</td>\n",
       "      <td>0</td>\n",
       "    </tr>\n",
       "  </tbody>\n",
       "</table>\n",
       "</div>"
      ],
      "text/plain": [
       "        article_1  article_2  article_3  article_4  article_5\n",
       "user_2          2          0          0          1          4\n",
       "user_4          4          0          4          5          0"
      ]
     },
     "execution_count": 31,
     "metadata": {},
     "output_type": "execute_result"
    }
   ],
   "source": [
    "# use_1과 가까운 상위 2개 데이터\n",
    "sample_df.loc[ms_df.index]"
   ]
  },
  {
   "cell_type": "code",
   "execution_count": 33,
   "metadata": {},
   "outputs": [
    {
     "data": {
      "text/html": [
       "<div>\n",
       "<style scoped>\n",
       "    .dataframe tbody tr th:only-of-type {\n",
       "        vertical-align: middle;\n",
       "    }\n",
       "\n",
       "    .dataframe tbody tr th {\n",
       "        vertical-align: top;\n",
       "    }\n",
       "\n",
       "    .dataframe thead th {\n",
       "        text-align: right;\n",
       "    }\n",
       "</style>\n",
       "<table border=\"1\" class=\"dataframe\">\n",
       "  <thead>\n",
       "    <tr style=\"text-align: right;\">\n",
       "      <th></th>\n",
       "      <th>article_1</th>\n",
       "      <th>article_2</th>\n",
       "      <th>article_3</th>\n",
       "      <th>article_4</th>\n",
       "      <th>article_5</th>\n",
       "    </tr>\n",
       "  </thead>\n",
       "  <tbody>\n",
       "    <tr>\n",
       "      <th>user</th>\n",
       "      <td>5</td>\n",
       "      <td>3</td>\n",
       "      <td>0</td>\n",
       "      <td>0</td>\n",
       "      <td>2</td>\n",
       "    </tr>\n",
       "    <tr>\n",
       "      <th>mean</th>\n",
       "      <td>3</td>\n",
       "      <td>0</td>\n",
       "      <td>2</td>\n",
       "      <td>3</td>\n",
       "      <td>2</td>\n",
       "    </tr>\n",
       "  </tbody>\n",
       "</table>\n",
       "</div>"
      ],
      "text/plain": [
       "     article_1 article_2 article_3 article_4 article_5\n",
       "user         5         3         0         0         2\n",
       "mean         3         0         2         3         2"
      ]
     },
     "execution_count": 33,
     "metadata": {},
     "output_type": "execute_result"
    }
   ],
   "source": [
    "mean = np.zeros(len(sample_df.columns))\n",
    "for ms_user, sms_value in ms_df[user].items():\n",
    "    mean += sample_df.loc[ms_user] \n",
    "mean /= len(ms_df[user])\n",
    "    \n",
    "pred_df = pd.DataFrame(columns=sample_df.columns) \n",
    "pred_df.loc[\"user\"] = sample_df.loc[user] \n",
    "pred_df.loc[\"mean\"] = mean\n",
    "pred_df"
   ]
  },
  {
   "cell_type": "code",
   "execution_count": 34,
   "metadata": {},
   "outputs": [],
   "source": [
    "def mean_score(sample_df, sm_df, target, closer_count):\n",
    "    # 유사도 행렬에서 추천 user와 가까운 user의 유사도 데이터 프레임 \n",
    "    ms_df = sm_df.drop(target)\n",
    "    ms_df = ms_df.sort_values(target, ascending=False) \n",
    "    ms_df = ms_df[target][:closer_count]\n",
    "    \n",
    "    # 유사도가 높은 user를 나타내는 데이터 프레임 \n",
    "    ms_df = sample_df.loc[ms_df.index]\n",
    "    \n",
    "    # 결과 데이터 프레임 생성\n",
    "    pred_df = pd.DataFrame(columns=sample_df.columns) \n",
    "    pred_df.loc[\"user\"] = sample_df.loc[target] \n",
    "    pred_df.loc[\"mean\"] = ms_df.mean()\n",
    "    \n",
    "    return pred_df"
   ]
  },
  {
   "cell_type": "code",
   "execution_count": 35,
   "metadata": {},
   "outputs": [
    {
     "data": {
      "text/html": [
       "<div>\n",
       "<style scoped>\n",
       "    .dataframe tbody tr th:only-of-type {\n",
       "        vertical-align: middle;\n",
       "    }\n",
       "\n",
       "    .dataframe tbody tr th {\n",
       "        vertical-align: top;\n",
       "    }\n",
       "\n",
       "    .dataframe thead th {\n",
       "        text-align: right;\n",
       "    }\n",
       "</style>\n",
       "<table border=\"1\" class=\"dataframe\">\n",
       "  <thead>\n",
       "    <tr style=\"text-align: right;\">\n",
       "      <th></th>\n",
       "      <th>article_1</th>\n",
       "      <th>article_2</th>\n",
       "      <th>article_3</th>\n",
       "      <th>article_4</th>\n",
       "      <th>article_5</th>\n",
       "    </tr>\n",
       "  </thead>\n",
       "  <tbody>\n",
       "    <tr>\n",
       "      <th>user</th>\n",
       "      <td>5</td>\n",
       "      <td>3</td>\n",
       "      <td>0</td>\n",
       "      <td>0</td>\n",
       "      <td>2</td>\n",
       "    </tr>\n",
       "    <tr>\n",
       "      <th>mean</th>\n",
       "      <td>3</td>\n",
       "      <td>0</td>\n",
       "      <td>2</td>\n",
       "      <td>3</td>\n",
       "      <td>2</td>\n",
       "    </tr>\n",
       "  </tbody>\n",
       "</table>\n",
       "</div>"
      ],
      "text/plain": [
       "     article_1 article_2 article_3 article_4 article_5\n",
       "user         5         3         0         0         2\n",
       "mean         3         0         2         3         2"
      ]
     },
     "execution_count": 35,
     "metadata": {},
     "output_type": "execute_result"
    }
   ],
   "source": [
    "target, closer_count = \"user_1\", 2\n",
    "pred_df = mean_score(sample_df, sm_df, target, closer_count)\n",
    "pred_df"
   ]
  },
  {
   "cell_type": "code",
   "execution_count": 36,
   "metadata": {},
   "outputs": [
    {
     "name": "stdout",
     "output_type": "stream",
     "text": [
      "['article_4', 'article_3']\n"
     ]
    },
    {
     "data": {
      "text/html": [
       "<div>\n",
       "<style scoped>\n",
       "    .dataframe tbody tr th:only-of-type {\n",
       "        vertical-align: middle;\n",
       "    }\n",
       "\n",
       "    .dataframe tbody tr th {\n",
       "        vertical-align: top;\n",
       "    }\n",
       "\n",
       "    .dataframe thead th {\n",
       "        text-align: right;\n",
       "    }\n",
       "</style>\n",
       "<table border=\"1\" class=\"dataframe\">\n",
       "  <thead>\n",
       "    <tr style=\"text-align: right;\">\n",
       "      <th></th>\n",
       "      <th>user</th>\n",
       "      <th>mean</th>\n",
       "    </tr>\n",
       "  </thead>\n",
       "  <tbody>\n",
       "    <tr>\n",
       "      <th>article_4</th>\n",
       "      <td>0</td>\n",
       "      <td>3</td>\n",
       "    </tr>\n",
       "    <tr>\n",
       "      <th>article_3</th>\n",
       "      <td>0</td>\n",
       "      <td>2</td>\n",
       "    </tr>\n",
       "  </tbody>\n",
       "</table>\n",
       "</div>"
      ],
      "text/plain": [
       "          user mean\n",
       "article_4    0    3\n",
       "article_3    0    2"
      ]
     },
     "execution_count": 36,
     "metadata": {},
     "output_type": "execute_result"
    }
   ],
   "source": [
    "# user가 읽지 않은 기사를 순서대로 나열 추천 기사 정렬 및 출력 \n",
    "recommand_df = pred_df.T\n",
    "recommand_df = recommand_df[recommand_df[\"user\"] == 0] \n",
    "recommand_df = recommand_df.sort_values(\"mean\", ascending=False) \n",
    "print(list(recommand_df.index))\n",
    "recommand_df"
   ]
  },
  {
   "cell_type": "code",
   "execution_count": 38,
   "metadata": {},
   "outputs": [
    {
     "data": {
      "text/plain": [
       "4.333333333333333"
      ]
     },
     "execution_count": 38,
     "metadata": {},
     "output_type": "execute_result"
    }
   ],
   "source": [
    "def mse(value, pred):\n",
    "    # user 데이터에서 0인 데이터 제거 \n",
    "    idx = value.nonzero()[0]\n",
    "    value, pred = np.array(value)[idx], np.array(pred)[idx]\n",
    "    # 수식 계산후 결과 리턴\n",
    "    return sum((value - pred)**2) / len(idx)\n",
    "\n",
    "mse(pred_df.loc[\"user\"], pred_df.loc[\"mean\"])"
   ]
  },
  {
   "cell_type": "code",
   "execution_count": 39,
   "metadata": {},
   "outputs": [
    {
     "data": {
      "text/plain": [
       "4.5"
      ]
     },
     "execution_count": 39,
     "metadata": {},
     "output_type": "execute_result"
    }
   ],
   "source": [
    "# 전체 user에 대한 평가\n",
    "def evaluate(df, sm_df, closer_count, algorithm):\n",
    "    # user 리스트 \n",
    "    users = df.index \n",
    "    evaluate_list = []\n",
    "    # 모든 user에 대해서 mae 값을 구함 \n",
    "    for target in users:\n",
    "        result_df = mean_score(df, sm_df, target, closer_count) \n",
    "        evaluate_list.append(algorithm(result_df.loc[\"user\"], result_df.loc[\"mean\"]))\n",
    "    # 모든 user의 mae값의 평균을 리턴 \n",
    "    return np.average(evaluate_list)\n",
    "\n",
    "evaluate(sample_df, sm_df, 2, mse)"
   ]
  },
  {
   "cell_type": "code",
   "execution_count": 40,
   "metadata": {},
   "outputs": [
    {
     "data": {
      "text/plain": [
       "2.0816659994661326"
      ]
     },
     "execution_count": 40,
     "metadata": {},
     "output_type": "execute_result"
    }
   ],
   "source": [
    "def rmse(value, pred):\n",
    "    \n",
    "    # user 데이터에서 0인 데이터 제거 \n",
    "    idx = value.nonzero()[0]\n",
    "    value, pred = np.array(value)[idx], np.array(pred)[idx]\n",
    "    \n",
    "    # 수식 계산후 결과 리턴\n",
    "    return np.sqrt(sum((value - pred)**2) / len(idx))\n",
    "\n",
    "rmse(pred_df.loc[\"user\"], pred_df.loc[\"mean\"])"
   ]
  },
  {
   "cell_type": "code",
   "execution_count": 41,
   "metadata": {},
   "outputs": [
    {
     "data": {
      "text/plain": [
       "2.0677918275480169"
      ]
     },
     "execution_count": 41,
     "metadata": {},
     "output_type": "execute_result"
    }
   ],
   "source": [
    "evaluate(sample_df, sm_df, closer_count, rmse)"
   ]
  },
  {
   "cell_type": "code",
   "execution_count": 45,
   "metadata": {},
   "outputs": [
    {
     "data": {
      "text/plain": [
       "1.6666666666666667"
      ]
     },
     "execution_count": 45,
     "metadata": {},
     "output_type": "execute_result"
    }
   ],
   "source": [
    "# 한명의 user에 대한 MAE 값\n",
    "def mae(value, pred):\n",
    "    \n",
    "    # user 데이터에서 0인 데이터 제거\n",
    "    idx = value.nonzero()[0]\n",
    "    value, pred = np.array(value)[idx], np.array(pred)[idx]\n",
    "    \n",
    "    # 수식 계산후 결과 리턴\n",
    "    return np.absolute(sum(value - pred)) / len(idx)\n",
    "\n",
    "mae(pred_df.loc[\"user\"], pred_df.loc[\"mean\"])"
   ]
  },
  {
   "cell_type": "code",
   "execution_count": 47,
   "metadata": {},
   "outputs": [
    {
     "data": {
      "text/plain": [
       "1.1666666666666667"
      ]
     },
     "execution_count": 47,
     "metadata": {},
     "output_type": "execute_result"
    }
   ],
   "source": [
    "evaluate(sample_df, sm_df, closer_count, mae)"
   ]
  },
  {
   "cell_type": "code",
   "execution_count": 48,
   "metadata": {},
   "outputs": [
    {
     "data": {
      "text/html": [
       "<div>\n",
       "<style scoped>\n",
       "    .dataframe tbody tr th:only-of-type {\n",
       "        vertical-align: middle;\n",
       "    }\n",
       "\n",
       "    .dataframe tbody tr th {\n",
       "        vertical-align: top;\n",
       "    }\n",
       "\n",
       "    .dataframe thead th {\n",
       "        text-align: right;\n",
       "    }\n",
       "</style>\n",
       "<table border=\"1\" class=\"dataframe\">\n",
       "  <thead>\n",
       "    <tr style=\"text-align: right;\">\n",
       "      <th></th>\n",
       "      <th>article_1</th>\n",
       "      <th>article_2</th>\n",
       "      <th>article_3</th>\n",
       "      <th>article_4</th>\n",
       "      <th>article_5</th>\n",
       "    </tr>\n",
       "  </thead>\n",
       "  <tbody>\n",
       "    <tr>\n",
       "      <th>user_1</th>\n",
       "      <td>5</td>\n",
       "      <td>3</td>\n",
       "      <td>0</td>\n",
       "      <td>0</td>\n",
       "      <td>2</td>\n",
       "    </tr>\n",
       "    <tr>\n",
       "      <th>user_2</th>\n",
       "      <td>2</td>\n",
       "      <td>0</td>\n",
       "      <td>0</td>\n",
       "      <td>1</td>\n",
       "      <td>4</td>\n",
       "    </tr>\n",
       "    <tr>\n",
       "      <th>user_3</th>\n",
       "      <td>0</td>\n",
       "      <td>0</td>\n",
       "      <td>4</td>\n",
       "      <td>3</td>\n",
       "      <td>1</td>\n",
       "    </tr>\n",
       "    <tr>\n",
       "      <th>user_4</th>\n",
       "      <td>4</td>\n",
       "      <td>0</td>\n",
       "      <td>4</td>\n",
       "      <td>5</td>\n",
       "      <td>0</td>\n",
       "    </tr>\n",
       "  </tbody>\n",
       "</table>\n",
       "</div>"
      ],
      "text/plain": [
       "        article_1  article_2  article_3  article_4  article_5\n",
       "user_1          5          3          0          0          2\n",
       "user_2          2          0          0          1          4\n",
       "user_3          0          0          4          3          1\n",
       "user_4          4          0          4          5          0"
      ]
     },
     "execution_count": 48,
     "metadata": {},
     "output_type": "execute_result"
    }
   ],
   "source": [
    "# Sample Dataset\n",
    "sample_df"
   ]
  },
  {
   "cell_type": "code",
   "execution_count": 49,
   "metadata": {},
   "outputs": [
    {
     "data": {
      "text/html": [
       "<div>\n",
       "<style scoped>\n",
       "    .dataframe tbody tr th:only-of-type {\n",
       "        vertical-align: middle;\n",
       "    }\n",
       "\n",
       "    .dataframe tbody tr th {\n",
       "        vertical-align: top;\n",
       "    }\n",
       "\n",
       "    .dataframe thead th {\n",
       "        text-align: right;\n",
       "    }\n",
       "</style>\n",
       "<table border=\"1\" class=\"dataframe\">\n",
       "  <thead>\n",
       "    <tr style=\"text-align: right;\">\n",
       "      <th></th>\n",
       "      <th>user_1</th>\n",
       "      <th>user_2</th>\n",
       "      <th>user_3</th>\n",
       "      <th>user_4</th>\n",
       "    </tr>\n",
       "  </thead>\n",
       "  <tbody>\n",
       "    <tr>\n",
       "      <th>user_1</th>\n",
       "      <td>1.000000</td>\n",
       "      <td>0.652929</td>\n",
       "      <td>0.324443</td>\n",
       "      <td>0.811107</td>\n",
       "    </tr>\n",
       "    <tr>\n",
       "      <th>user_2</th>\n",
       "      <td>0.729397</td>\n",
       "      <td>1.000000</td>\n",
       "      <td>0.483046</td>\n",
       "      <td>0.443039</td>\n",
       "    </tr>\n",
       "    <tr>\n",
       "      <th>user_3</th>\n",
       "      <td>0.196116</td>\n",
       "      <td>0.332956</td>\n",
       "      <td>1.000000</td>\n",
       "      <td>0.949474</td>\n",
       "    </tr>\n",
       "    <tr>\n",
       "      <th>user_4</th>\n",
       "      <td>0.529813</td>\n",
       "      <td>0.770054</td>\n",
       "      <td>0.821210</td>\n",
       "      <td>1.000000</td>\n",
       "    </tr>\n",
       "  </tbody>\n",
       "</table>\n",
       "</div>"
      ],
      "text/plain": [
       "          user_1    user_2    user_3    user_4\n",
       "user_1  1.000000  0.652929  0.324443  0.811107\n",
       "user_2  0.729397  1.000000  0.483046  0.443039\n",
       "user_3  0.196116  0.332956  1.000000  0.949474\n",
       "user_4  0.529813  0.770054  0.821210  1.000000"
      ]
     },
     "execution_count": 49,
     "metadata": {},
     "output_type": "execute_result"
    }
   ],
   "source": [
    "# Similarity Matrix\n",
    "sm_df"
   ]
  },
  {
   "cell_type": "code",
   "execution_count": 52,
   "metadata": {},
   "outputs": [
    {
     "data": {
      "text/html": [
       "<div>\n",
       "<style scoped>\n",
       "    .dataframe tbody tr th:only-of-type {\n",
       "        vertical-align: middle;\n",
       "    }\n",
       "\n",
       "    .dataframe tbody tr th {\n",
       "        vertical-align: top;\n",
       "    }\n",
       "\n",
       "    .dataframe thead th {\n",
       "        text-align: right;\n",
       "    }\n",
       "</style>\n",
       "<table border=\"1\" class=\"dataframe\">\n",
       "  <thead>\n",
       "    <tr style=\"text-align: right;\">\n",
       "      <th></th>\n",
       "      <th>article_1</th>\n",
       "      <th>article_2</th>\n",
       "      <th>article_3</th>\n",
       "      <th>article_4</th>\n",
       "      <th>article_5</th>\n",
       "    </tr>\n",
       "  </thead>\n",
       "  <tbody>\n",
       "    <tr>\n",
       "      <th>user_2</th>\n",
       "      <td>2</td>\n",
       "      <td>0</td>\n",
       "      <td>0</td>\n",
       "      <td>1</td>\n",
       "      <td>4</td>\n",
       "    </tr>\n",
       "    <tr>\n",
       "      <th>user_4</th>\n",
       "      <td>4</td>\n",
       "      <td>0</td>\n",
       "      <td>4</td>\n",
       "      <td>5</td>\n",
       "      <td>0</td>\n",
       "    </tr>\n",
       "  </tbody>\n",
       "</table>\n",
       "</div>"
      ],
      "text/plain": [
       "        article_1  article_2  article_3  article_4  article_5\n",
       "user_2          2          0          0          1          4\n",
       "user_4          4          0          4          5          0"
      ]
     },
     "execution_count": 52,
     "metadata": {},
     "output_type": "execute_result"
    }
   ],
   "source": [
    "# Closer User Dataset (for user_1)\n",
    "sample_df.loc[ms_df.index]"
   ]
  },
  {
   "cell_type": "code",
   "execution_count": 53,
   "metadata": {
    "scrolled": true
   },
   "outputs": [
    {
     "data": {
      "text/html": [
       "<div>\n",
       "<style scoped>\n",
       "    .dataframe tbody tr th:only-of-type {\n",
       "        vertical-align: middle;\n",
       "    }\n",
       "\n",
       "    .dataframe tbody tr th {\n",
       "        vertical-align: top;\n",
       "    }\n",
       "\n",
       "    .dataframe thead th {\n",
       "        text-align: right;\n",
       "    }\n",
       "</style>\n",
       "<table border=\"1\" class=\"dataframe\">\n",
       "  <thead>\n",
       "    <tr style=\"text-align: right;\">\n",
       "      <th></th>\n",
       "      <th>article_1</th>\n",
       "      <th>article_2</th>\n",
       "      <th>article_3</th>\n",
       "      <th>article_4</th>\n",
       "      <th>article_5</th>\n",
       "    </tr>\n",
       "  </thead>\n",
       "  <tbody>\n",
       "    <tr>\n",
       "      <th>user</th>\n",
       "      <td>5</td>\n",
       "      <td>3</td>\n",
       "      <td>0</td>\n",
       "      <td>0</td>\n",
       "      <td>2</td>\n",
       "    </tr>\n",
       "    <tr>\n",
       "      <th>mean</th>\n",
       "      <td>3</td>\n",
       "      <td>0</td>\n",
       "      <td>2</td>\n",
       "      <td>3</td>\n",
       "      <td>2</td>\n",
       "    </tr>\n",
       "  </tbody>\n",
       "</table>\n",
       "</div>"
      ],
      "text/plain": [
       "     article_1 article_2 article_3 article_4 article_5\n",
       "user         5         3         0         0         2\n",
       "mean         3         0         2         3         2"
      ]
     },
     "execution_count": 53,
     "metadata": {},
     "output_type": "execute_result"
    }
   ],
   "source": [
    "# Prediction Dataset (for user_1)\n",
    "pred_df"
   ]
  },
  {
   "cell_type": "code",
   "execution_count": null,
   "metadata": {},
   "outputs": [],
   "source": []
  }
 ],
 "metadata": {
  "kernelspec": {
   "display_name": "Python 3",
   "language": "python",
   "name": "python3"
  },
  "language_info": {
   "codemirror_mode": {
    "name": "ipython",
    "version": 3
   },
   "file_extension": ".py",
   "mimetype": "text/x-python",
   "name": "python",
   "nbconvert_exporter": "python",
   "pygments_lexer": "ipython3",
   "version": "3.5.0"
  }
 },
 "nbformat": 4,
 "nbformat_minor": 2
}
