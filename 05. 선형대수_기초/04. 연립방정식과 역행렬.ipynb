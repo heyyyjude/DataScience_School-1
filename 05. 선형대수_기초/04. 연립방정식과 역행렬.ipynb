{
 "cells": [
  {
   "cell_type": "markdown",
   "metadata": {
    "school_cell_uuid": "2b122ed65394470faafd57b03e46dd1d"
   },
   "source": [
    "# 연립 방정식과 역행렬"
   ]
  },
  {
   "cell_type": "markdown",
   "metadata": {
    "school_cell_uuid": "0f566d20727b4fd180f33155ca6c07c3"
   },
   "source": [
    "선형 예측 모형은 입력 데이터 벡터와 가중치 벡터의 내적으로 계산된 예측값이 실제 출력 데이터와 가장 비슷해지는 모형이다. 그럼 이 때 가중치 벡터는 어떻게 구할 수 있을까? 여기에서는 연립 방정식과 (의사) 역행렬을 이용하여 선형 예측 모형의 가중치 벡터를 구하는 방법을 알아본다."
   ]
  },
  {
   "cell_type": "markdown",
   "metadata": {
    "school_cell_uuid": "a36da57e7904462fa89e9c4adb1c4e5c"
   },
   "source": [
    "## 선형 연립 방정식"
   ]
  },
  {
   "cell_type": "markdown",
   "metadata": {
    "school_cell_uuid": "094df8daf2c94bf8a0bebd39a51fb826"
   },
   "source": [
    "$x_1, x_2, \\cdots, x_M$ 이라는 $M$ 개의 미지수를 가지는 $N$개의 선형 방정식을 **선형 연립 방정식(system of linear equations)**이라고 한다.\n",
    "\n",
    "$$\n",
    "\\begin{matrix}\n",
    "a_{11} x_1 & + \\;& a_{12} x_2   &\\; + \\cdots + \\;& a_{1M} x_M &\\; = \\;& b_1 \\\\\n",
    "a_{21} x_1 & + \\;& a_{22} x_2   &\\; + \\cdots + \\;& a_{2M} x_M &\\; = \\;& b_2 \\\\\n",
    "\\vdots\\;\\;\\; &   & \\vdots\\;\\;\\; &                & \\vdots\\;\\;\\; &     & \\;\\vdots \\\\\n",
    "a_{N1} x_1 & + \\;& a_{N2} x_2   &\\; + \\cdots + \\;& a_{NM} x_M &\\; = \\;& b_N \\\\\n",
    "\\end{matrix}\n",
    "$$\n"
   ]
  },
  {
   "cell_type": "markdown",
   "metadata": {
    "school_cell_uuid": "3b7ebaa2161e4efe8cf6f1b68264a2f3"
   },
   "source": [
    "행렬의 곱셈을 이용하면 이 선형 연립 방정식은 다음처럼 간단하게 쓸 수 있다.\n",
    "$$ Ax = b $$"
   ]
  },
  {
   "cell_type": "markdown",
   "metadata": {
    "school_cell_uuid": "d108adb7a427425fad3d4877327f391a"
   },
   "source": [
    "이 식에서 $A, x, b$ 는 각각 계수 행렬, 미지수 벡터, 상수 벡터라고 부른다.\n",
    "\n",
    "$$\n",
    "A = \n",
    "\\begin{bmatrix}\n",
    "a_{11} & a_{12} & \\cdots & a_{1M} \\\\\n",
    "a_{21} & a_{22} & \\cdots & a_{2M} \\\\\n",
    "\\vdots & \\vdots & \\ddots & \\vdots \\\\\n",
    "a_{N1} & a_{N2} & \\cdots & a_{NM} \\\\\n",
    "\\end{bmatrix}\n",
    "$$\n",
    "\n",
    "\n",
    "$$\n",
    "x = \n",
    "\\begin{bmatrix}\n",
    "x_1 \\\\ x_2 \\\\ \\vdots \\\\ x_M\n",
    "\\end{bmatrix}\n",
    "$$\n",
    "\n",
    "\n",
    "$$\n",
    "b=\n",
    "\\begin{bmatrix}\n",
    "b_1 \\\\ b_2 \\\\ \\vdots \\\\ b_N\n",
    "\\end{bmatrix}\n",
    "$$\n",
    "\n",
    "$$\n",
    "Ax = b \n",
    "\\;\\;\\;\\;\\;\n",
    "\\rightarrow\n",
    "\\;\\;\\;\\;\\;\n",
    "\\begin{bmatrix}\n",
    "a_{11} & a_{12} & \\cdots & a_{1M} \\\\\n",
    "a_{21} & a_{22} & \\cdots & a_{2M} \\\\\n",
    "\\vdots & \\vdots & \\ddots & \\vdots \\\\\n",
    "a_{N1} & a_{N2} & \\cdots & a_{NM} \\\\\n",
    "\\end{bmatrix}\n",
    "\\begin{bmatrix}\n",
    "x_1 \\\\ x_2 \\\\ \\vdots \\\\ x_M\n",
    "\\end{bmatrix}\n",
    "=\n",
    "\\begin{bmatrix}\n",
    "b_1 \\\\ b_2 \\\\ \\vdots \\\\ b_N\n",
    "\\end{bmatrix}\n",
    "$$\n"
   ]
  },
  {
   "cell_type": "markdown",
   "metadata": {
    "school_cell_uuid": "fa3cdca86a4e45adb21a880f4d2d5ca5"
   },
   "source": [
    "예를 들어 선형 연립 방정식\n",
    "\n",
    "$$\n",
    "\\begin{alignat}{7}\n",
    "3x_1 &&\\; + \\;&& 2x_2             &&\\; - \\;&& x_3  &&\\; = \\;&& 1 & \\\\\n",
    "2x_1 &&\\; - \\;&& 2x_2             &&\\; + \\;&& 4x_3 &&\\; = \\;&& -2 & \\\\\n",
    "-x_1 &&\\; + \\;&& \\tfrac{1}{2} x_2 &&\\; - \\;&& x_3  &&\\; = \\;&& 0 &\n",
    "\\end{alignat}\n",
    "$$\n",
    "\n",
    "은 다음처럼 쓸 수 있다.\n",
    "\n",
    "\n",
    "$$\n",
    "Ax = b, \\;\\;\\;\\;\n",
    "A = \n",
    "\\begin{bmatrix}\n",
    " 3 &  2 & -1 \\\\\n",
    " 2 & -2 &  4 \\\\\n",
    "-1 & \\tfrac{1}{2} & 1 \\\\\n",
    "\\end{bmatrix}, \\;\\;\\;\n",
    "b = \\begin{bmatrix}\n",
    "1 \\\\ -2 \\\\ 0\n",
    "\\end{bmatrix}\n",
    "$$\n"
   ]
  },
  {
   "cell_type": "markdown",
   "metadata": {
    "school_cell_uuid": "70e7bb4b9a614949aab7e6de381fa006"
   },
   "source": [
    "만약 $A, x, b$가 행렬이 아닌 실수라면 이 식은 나눗셈을 사용하여 쉽게 풀 수 있을 것이다.\n",
    "\n",
    "$$ x = \\dfrac{b}{A} $$\n",
    "\n",
    "그러나 행렬은 나눗셈이 정의되지 않으므로 이 식은 사용할 수 없다. 대신 역행렬(inverse)을 사용하여 이 식을 쉽게 풀 수 있다."
   ]
  },
  {
   "cell_type": "markdown",
   "metadata": {
    "school_cell_uuid": "8566ab82c8754af7ab62087c56ffa579"
   },
   "source": [
    "## 역행렬"
   ]
  },
  {
   "cell_type": "markdown",
   "metadata": {
    "school_cell_uuid": "cdd3e29fbd7140ffb50f413103966a8e"
   },
   "source": [
    "정방 행렬 $A$에 대한 **역행렬** $A^{-1}$은 원래의 행렬 $A$와 다음 관계를 만족하는 정방 행렬을 말한다. $I$는 단위 행렬(identity matrix)이다.\n",
    "\n",
    "$$ A^{-1} A = A A^{-1} = I $$\n",
    "\n",
    "역행렬은 항상 존재하는 것이 아니라 원래의 행렬에 따라서는 존재하지 않을 수도 있다. 역행렬이 존재하는 행렬을 **가역행렬(invertible matrix)**, 정칙행렬regular matrix) 또는 비특이행렬(non-singular matrix)이라고 한다. 반대로 역행렬이 존재하지 않는 행렬을 비가역행렬(non-invertible) 또는 **특이행렬(singular matrix)**, 퇴화행렬(degenerate matrxi)이라고 한다."
   ]
  },
  {
   "cell_type": "markdown",
   "metadata": {
    "school_cell_uuid": "90917773200c44e890be12fe4536ccdd"
   },
   "source": [
    "## 역행렬의 성질"
   ]
  },
  {
   "cell_type": "markdown",
   "metadata": {
    "school_cell_uuid": "d2de9de3c10b4f7bb0734d4e9e046f5e"
   },
   "source": [
    "역행렬은 다음 성질을 만족한다. 식에서 행렬 $A$, $B$, $C$는 모두 역행렬이 존재한다고 가정한다. \n",
    "\n",
    "* 전치 행렬의 역행렬은 역행렬의 전치 행렬과 같다.\n",
    "\n",
    "$$ (A^{T})^{-1} = (A^{-1})^{T} $$\n",
    "\n",
    "* 두 개 이상의 정방 행렬의 곱은 같은 크기의 정방 행렬이 되는데 이러한 행렬의 곱의 역행렬은 다음 성질이 성립한다.\n",
    "\n",
    "$$ (AB)^{-1} = B^{-1} A^{-1} $$\n",
    "\n",
    "$$ (ABC)^{-1} = C^{-1} B^{-1} A^{-1} $$\n",
    "\n",
    "* 또한 역행렬은 행렬식과 다음과 같은 관계가 있다. 이 식에서 코팩터로 이루어진 행렬 $C$을 코팩터 행렬(matrix of cofactors, 또는 cofactor matrix, comatrix)이라고 한다.  또한 코팩터 행렬의 전치 행렬 $C^T$를 어드조인트 행렬(adjoint matrix, adjugate matrix, 수반 행렬)이라고 하며 $\\text{adj}(A)$로 표기하기도 한다.\n",
    "\n",
    "$$ A^{-1} = \\dfrac{1}{\\det A} C^T = \\dfrac{1}{\\det A} \n",
    "\\begin{bmatrix}\n",
    "C_{1,1} &\\cdots& C_{N, 1}\\\\\n",
    "\\vdots &\\ddots &\\vdots\\\\\n",
    "C_{1,N} &\\cdots &C_{N,N}\\\\\n",
    "\\end{bmatrix}\n",
    "$$\n",
    "\n",
    "위 식을 이용하면 임의의 정방행렬의 역행렬을 구할 수 있고 **역행렬은 행렬식이 0이 아닌 경우에만 존재한다**는 것을 알 수 있다."
   ]
  },
  {
   "cell_type": "markdown",
   "metadata": {
    "bootstrap": {
     "panel": {
      "class": "panel-default"
     }
    },
    "school_cell_uuid": "d0e0cffb46fe47e395c44c2d8b984de6"
   },
   "source": [
    "#### 연습 문제 1\n",
    "\n",
    "코팩터 식을 사용하여 다음 역행렬을 계산해 보아라.\n",
    "\n",
    "1. $$\n",
    "\\begin{bmatrix} \n",
    "2 & 0 \\\\\n",
    "0 & 1  \n",
    "\\end{bmatrix}^{-1}\n",
    "$$\n",
    "\n",
    "2. $$\n",
    "\\begin{bmatrix} \n",
    "\\dfrac{1}{\\sqrt{2}} & -\\dfrac{1}{\\sqrt{2}} \\\\\n",
    "\\dfrac{1}{\\sqrt{2}} &  \\dfrac{1}{\\sqrt{2}} \n",
    "\\end{bmatrix}^{-1}\n",
    "$$"
   ]
  },
  {
   "cell_type": "markdown",
   "metadata": {
    "school_cell_uuid": "80d003de22bf40bcb4de83e748a1b64d"
   },
   "source": [
    "## 역행렬과 선형 연립 방정식의 해"
   ]
  },
  {
   "cell_type": "markdown",
   "metadata": {
    "school_cell_uuid": "ae56a2b4e21c42d5abe00dbb4d23896e"
   },
   "source": [
    "미지수의 수와 방정식의 수가 같다면 행렬 $A$는 정방 행렬이 된다. 만약 행렬 $A$의 역행렬 $A^{-1}$ 이 존재한다면 역행렬의 정의로부터 선형 연립 방정식의 해는 다음처럼 구한다.\n",
    "\n",
    "$$ Ax = b $$\n",
    "\n",
    "\n",
    "$$ A^{-1}Ax = A^{-1}b $$\n",
    "\n",
    "\n",
    "$$ Ix = A^{-1}b $$\n",
    "\n",
    "\n",
    "$$ x = A^{-1}b $$\n"
   ]
  },
  {
   "cell_type": "markdown",
   "metadata": {
    "school_cell_uuid": "cfe20d87a7714a7fb38322ea2f224fb6"
   },
   "source": [
    "## NumPy를 사용한 역행렬 계산"
   ]
  },
  {
   "cell_type": "markdown",
   "metadata": {
    "school_cell_uuid": "8325b4529a8046d5afeeaa75c650b742"
   },
   "source": [
    "NumPy의 linalg 서브패키지에는 역행렬을 구하는 `inv` 라는 명령어가 존재한다. 그러나 실제로 계산할 때는 수치 해석 상의 여러 가지 문제로 `inv` 명령어 보다는 `lstsq` (least square) 명령어를 사용한다."
   ]
  },
  {
   "cell_type": "code",
   "execution_count": 1,
   "metadata": {
    "school_cell_uuid": "03dae528c2b44fde84943eb24636aa35"
   },
   "outputs": [
    {
     "data": {
      "text/plain": [
       "array([[ 2,  3, -2],\n",
       "       [ 3,  5,  6],\n",
       "       [ 2,  4,  3]])"
      ]
     },
     "execution_count": 1,
     "metadata": {},
     "output_type": "execute_result"
    }
   ],
   "source": [
    "A = np.array([[2, 3, -2], [3, 5, 6], [2, 4, 3]])\n",
    "A"
   ]
  },
  {
   "cell_type": "code",
   "execution_count": 2,
   "metadata": {
    "school_cell_uuid": "2a3cf7fc5356482a9b7f35f548e8a39f"
   },
   "outputs": [
    {
     "data": {
      "text/plain": [
       "array([[-5],\n",
       "       [12],\n",
       "       [ 7]])"
      ]
     },
     "execution_count": 2,
     "metadata": {},
     "output_type": "execute_result"
    }
   ],
   "source": [
    "b = np.array([[-5], [12], [7]])\n",
    "b"
   ]
  },
  {
   "cell_type": "markdown",
   "metadata": {
    "school_cell_uuid": "0cd10d8ab29645118e0370bbccd5e4ec"
   },
   "source": [
    "`inv` 명령으로 역행렬을 구한다."
   ]
  },
  {
   "cell_type": "code",
   "execution_count": 3,
   "metadata": {
    "school_cell_uuid": "957d8ed805f44e91a5000657126af584"
   },
   "outputs": [
    {
     "data": {
      "text/plain": [
       "array([[ 0.69230769,  1.30769231, -2.15384615],\n",
       "       [-0.23076923, -0.76923077,  1.38461538],\n",
       "       [-0.15384615,  0.15384615, -0.07692308]])"
      ]
     },
     "execution_count": 3,
     "metadata": {},
     "output_type": "execute_result"
    }
   ],
   "source": [
    "Ainv = np.linalg.inv(A)\n",
    "Ainv"
   ]
  },
  {
   "cell_type": "markdown",
   "metadata": {
    "school_cell_uuid": "26403b5a095b43ac93692dad566d4b60"
   },
   "source": [
    "역행렬을 이용하여 연립방정식의 해를 구한다."
   ]
  },
  {
   "cell_type": "code",
   "execution_count": 4,
   "metadata": {
    "school_cell_uuid": "d3998c66a793467e9be557975195c796"
   },
   "outputs": [
    {
     "data": {
      "text/plain": [
       "array([[-2.84615385],\n",
       "       [ 1.61538462],\n",
       "       [ 2.07692308]])"
      ]
     },
     "execution_count": 4,
     "metadata": {},
     "output_type": "execute_result"
    }
   ],
   "source": [
    "x = np.dot(Ainv, b)\n",
    "x"
   ]
  },
  {
   "cell_type": "markdown",
   "metadata": {
    "school_cell_uuid": "84d5d0d1e3fe4460b126b16bd1b8536a"
   },
   "source": [
    "이렇게 구한 해를 원래 연립방정식에 대입하여 b와 값이 일치하는지 확인한다. "
   ]
  },
  {
   "cell_type": "code",
   "execution_count": 5,
   "metadata": {
    "school_cell_uuid": "3f7280e955b44bae95a4b9c20b32c8ba"
   },
   "outputs": [
    {
     "data": {
      "text/plain": [
       "array([[ -4.44089210e-15],\n",
       "       [ -3.55271368e-15],\n",
       "       [ -1.77635684e-15]])"
      ]
     },
     "execution_count": 5,
     "metadata": {},
     "output_type": "execute_result"
    }
   ],
   "source": [
    "np.dot(A, x) - b"
   ]
  },
  {
   "cell_type": "markdown",
   "metadata": {
    "school_cell_uuid": "a77c156fc0574728b9084485ef2329b4"
   },
   "source": [
    "원래 $b$ 값과 해 $x$를 사용하여 계산한 $Ax$는 $10^{-15}$ 수준의 오차내에서 일치한다. 이 오차는 부동소수점의 정밀도 및 계산 과정때문에 발생한 오차이다."
   ]
  },
  {
   "cell_type": "markdown",
   "metadata": {
    "school_cell_uuid": "88c91d1a5e5f4c6d80f07b6b6c82c7ab"
   },
   "source": [
    "`lstsq` 명령은 행렬 A와 b를 같이 받아 최소 자승 문제의 해 벡터 `x`, 잔차 제곱합 `resid`, 랭크 `rank`, 특이값 `s`를 반환한다. 역행렬이 존재하는 경우에는 잔차 제곱합 `resid`은 빈 배열이다. 랭크와 특이값에 대해서는 추후 설명한다. "
   ]
  },
  {
   "cell_type": "code",
   "execution_count": 6,
   "metadata": {
    "school_cell_uuid": "28c7be2eab0e4df796af4d115b907a12"
   },
   "outputs": [],
   "source": [
    "x, resid, rank, s = np.linalg.lstsq(A, b)"
   ]
  },
  {
   "cell_type": "code",
   "execution_count": 7,
   "metadata": {
    "school_cell_uuid": "22e2b16162c74573bf278974a52ea0f6"
   },
   "outputs": [
    {
     "data": {
      "text/plain": [
       "array([[-2.84615385],\n",
       "       [ 1.61538462],\n",
       "       [ 2.07692308]])"
      ]
     },
     "execution_count": 7,
     "metadata": {},
     "output_type": "execute_result"
    }
   ],
   "source": [
    "x"
   ]
  },
  {
   "cell_type": "markdown",
   "metadata": {
    "bootstrap": {
     "panel": {
      "class": "panel-default"
     }
    },
    "school_cell_uuid": "d0e0cffb46fe47e395c44c2d8b984de6"
   },
   "source": [
    "#### 연습 문제 2\n",
    "\n",
    "보스턴 집값 문제를 선형 예측 모형 $Xw=\\hat{y}$로 풀었을 때의 가중치 벡터 $w$를 구하라. 행렬과 벡터 데이터는 다음과 같이 얻을 수 있다. 여기에서는 문제를 간단하게 하기 위해 입력 데이터를 CRIM, NOX, RM, AGE의 4종류로 제한하였고 데이터도 4개만 사용하였다.\n",
    "\n",
    "```\n",
    "from sklearn.datasets import load_boston\n",
    "boston = load_boston()\n",
    "X = boston.data\n",
    "y = boston.target\n",
    "A = X[:4, [0, 4, 5, 6]]  # 'CRIM', 'NOX', 'RM', 'AGE'\n",
    "b = y[:4]\n",
    "```\n",
    "\n",
    "이렇게 구한 가중치의 크기나 부호가 우리의 직관이나 경험과 일치하는지 살펴보라."
   ]
  },
  {
   "cell_type": "markdown",
   "metadata": {
    "school_cell_uuid": "c36fae9c6255469baa42fd8c42f19d5a"
   },
   "source": [
    "## 역행렬의 존재"
   ]
  },
  {
   "cell_type": "markdown",
   "metadata": {
    "school_cell_uuid": "eb96ac6d79e141f6a74048cc55b1db76"
   },
   "source": [
    "연립 방적식을 풀 때 추가적으로 고려해야 하는 두가지 문제가 있다. \n",
    "\n",
    "* 역행렬이 존재하는가? 존재하는지 어떻게 알 수 있는가? \n",
    "* 미지수의 수와 방정식의 수가 다르다면 어떻게 하는가?"
   ]
  },
  {
   "cell_type": "markdown",
   "metadata": {
    "school_cell_uuid": "3d68ff59901e46e7b4343110d3cba3f3"
   },
   "source": [
    "위에서 말한 행렬식과 역행렬의 관계에서 다음을 알 수 있다.\n",
    "\n",
    "> 행렬식의 값이 0이 아니면 역행렬이 존재한다. 반대로 역행렬이 존재하면 행렬식의 값은 0이 아니다. \n",
    "\n",
    "따라서 행렬식의 값을 계산하여 역행렬의 존재 여부를 알 수 있다. 역행렬이 존재할 때만 선형 연립 방정식의 해를 구할 수 있다."
   ]
  },
  {
   "cell_type": "markdown",
   "metadata": {
    "school_cell_uuid": "db5d343694e2479e8f4370e418554e19"
   },
   "source": [
    "## 최소 자승 문제"
   ]
  },
  {
   "cell_type": "markdown",
   "metadata": {
    "school_cell_uuid": "7bae01ecc57740519652cf05c7108ae6"
   },
   "source": [
    "다음으로 미지수의 수와 방정식의 수를 고려해 볼 때 연립 방정식에는 다음과 같은 세 종류가 있을 수 있다.\n",
    "\n",
    "1. 방정식의 수가 미지수의 수와 같다. ($N = M$)\n",
    "2. 방정식의 수가 미지수의 수보다 적다. ($N < M$)\n",
    "3. 방정식의 수가 미지수의 수보다 많다. ($N > M$)\n",
    "\n",
    "1번의 경우는 앞에서 다루었다. 2번의 경우에는 무수히 많은 해가 존재할 수 있다. 3번의 경우에는 2번과 반대로 모든 조건을 만족하는 해가 하나도 존재할 수 없을 수 있다.\n",
    "\n",
    "그런데 데이터 분석 문제에서는 계수 행렬 $A$를 특징 행렬 $X$, 미지수 벡터 $x$를 가중치 벡터 $w$ 라고 보았을 때 데이터의 수가 가중치의 수보다 많을 때가 많다. 즉 3번과 같은 경우가 일반적이다. 일반적으로 데이터의 수가 가중치의 수보다 적을 때는 복수의 예측 모형이 있을 수 있으므로 추가적인 조건을 주지 않고서는 예측 모형을 만들기 어렵다.\n",
    "\n",
    "방정식의 수가 미지수의 수보다 많을 때(3번의 경우)는 정확한 해가 존재하지 않을 수 있으므로 방정식의 우변과 좌변이 정확하게 같기를 바라지 않는다. 대신 좌변과 우변을 비슷하게라도 만들 수 있는 미지수를 찾을 수 있다면 아예 아무런 숫자를 찾지 못하는 것보다는 훨씬 나을 것이다.\n",
    "\n",
    "$$ Ax \\approx b $$"
   ]
  },
  {
   "cell_type": "markdown",
   "metadata": {
    "school_cell_uuid": "89e8db7955504c3a8489fcdc60896d4a"
   },
   "source": [
    "이 경우는 선형 연립 방정식 문제를 좌변과 우변의 차이를 최소화하는 문제로 바꾸어 풀 수 있다. \n",
    "\n",
    "$$ e = Ax-b $$\n",
    "\n",
    "좌변과 우변의 차이 즉 잔차를 최소화 한다는 것은 잔차 벡터의 크기 즉, 놈을 최소화 하는 것과 같다.\n",
    "\n",
    "$$ e^Te = \\Vert e \\Vert^2 = (Ax-b)^T(Ax-b) $$\n",
    "\n",
    "이 값을 최소화 하는 $x$ 값을 찾는 식은 다음처럼 표현한다.\n",
    "\n",
    "$$ x = \\text{arg} \\min_x e^Te = \\text{arg} \\min_x  \\; (Ax-b)^T(Ax-b) $$\n",
    "\n",
    "위 식에서 $\\text{arg} \\min_x f(x)$ 는 함수 $f(x)$를 가장 작게 만드는 $x$ 값을 의미한다. \n",
    "\n",
    "이러한 문제를 **최소 자승(Least Square)** 문제라고 한다."
   ]
  },
  {
   "cell_type": "markdown",
   "metadata": {
    "school_cell_uuid": "81ff630de95041acb578560f1aa30a98"
   },
   "source": [
    "$A^TA$가 항상 정방 행렬이 된다는 점을 이용하여 다음과 같이 최소 자승 문제의 답이 어떤 형태가 되는지 살펴보자. 여기에서는 답의 형태만 살펴보고 엄밀한 증명은 하지 않을 것이다.\n",
    "\n",
    "$$ Ax \\approx b $$\n",
    "\n",
    "이 식의 양변에 $A^T$를 곱하면 각각 $A^TAx$와 $A^Tb$ 가 된다. 이 두 개의 벡터의 값이 같다고 일단 가정해 보자. (이러한 가정이 성립할 수 있는지는 추후에 공부하게 된다.)\n",
    "\n",
    "$$ A^TAx = A^Tb $$\n",
    "\n",
    "만약 정방 행렬 $A^TA$의 역행렬 $(A^TA)^{-1}$이 존재한다면\n",
    "\n",
    "$$ (A^TA)^{-1}(A^TA)x = (A^TA)^{-1}A^Tb $$\n",
    "\n",
    "$$ x = (A^TA)^{-1}A^T b $$\n",
    "\n",
    "이 식을 정리하면 다음과 같으며 이렇게 구한 값이 최소 자승 문제의 답이 된다.\n",
    "\n",
    "$$ x = ((A^TA)^{-1}A^T) b $$"
   ]
  },
  {
   "cell_type": "markdown",
   "metadata": {
    "school_cell_uuid": "692be64135494b30ba2820139f59d5d6"
   },
   "source": [
    " 여기에서 행렬 $(A^TA)^{-1}A^T$ 를 행렬 $A$의 **의사 역행렬(pseudo inverse)**이라고 하며 다음처럼 $ A^{+}$ 로 표기하기도 한다. \n",
    "\n",
    "$$ A^{+} = (A^TA)^{-1}A^T $$\n",
    "\n",
    "$$ x = A^+ b $$\n",
    "\n",
    "이 식이 최소 자승 문제의 답이 된다는 것은 나중에 행렬의 미분을 사용하여 증명할 것이다."
   ]
  },
  {
   "cell_type": "markdown",
   "metadata": {
    "school_cell_uuid": "944ee4ba92514eb594b3efc50772e85f"
   },
   "source": [
    "NumPy의 `lstsq` 명령은 사실 이러한 최소 자승 문제를 푸는 명령이다.\n",
    "다음 문제는 연립방정식의 해의 갯수보다 방정식(조건)의 갯수가 많으므로 일반적으로는 풀리지 않는 문제이다. 이 문제를 최소 자승 문제로 생각하여 풀면 다음과 같다."
   ]
  },
  {
   "cell_type": "code",
   "execution_count": 8,
   "metadata": {
    "school_cell_uuid": "20e43556f5e1490797d216e1f149da25"
   },
   "outputs": [
    {
     "data": {
      "text/plain": [
       "array([[ 2,  3, -2],\n",
       "       [ 3,  5,  6],\n",
       "       [ 2,  4,  3],\n",
       "       [ 0,  1,  2]])"
      ]
     },
     "execution_count": 8,
     "metadata": {},
     "output_type": "execute_result"
    }
   ],
   "source": [
    "A = np.array([[2, 3, -2], [3, 5, 6], [2, 4, 3], [0, 1, 2]])\n",
    "A"
   ]
  },
  {
   "cell_type": "code",
   "execution_count": 9,
   "metadata": {
    "run_control": {
     "marked": false
    },
    "school_cell_uuid": "f7841f7fee3a4154aa28b5c8c99d04d6"
   },
   "outputs": [
    {
     "data": {
      "text/plain": [
       "array([[-5],\n",
       "       [12],\n",
       "       [ 7],\n",
       "       [ 6]])"
      ]
     },
     "execution_count": 9,
     "metadata": {},
     "output_type": "execute_result"
    }
   ],
   "source": [
    "b = np.array([[-5], [12], [7], [6]])\n",
    "b"
   ]
  },
  {
   "cell_type": "markdown",
   "metadata": {
    "school_cell_uuid": "73d67dcd78f84dd28b2c755ef7f449f4"
   },
   "source": [
    "우선 의사 역행렬을 직접 계산하여 해를 구한다."
   ]
  },
  {
   "cell_type": "code",
   "execution_count": 10,
   "metadata": {
    "school_cell_uuid": "aa77a682007f47a2b816edf7a189f604"
   },
   "outputs": [
    {
     "data": {
      "text/plain": [
       "array([[ 0.04509804,  0.75294118, -0.6745098 , -1.20196078],\n",
       "       [ 0.15882353, -0.43529412,  0.49411765,  0.72352941],\n",
       "       [-0.16862745,  0.14117647, -0.04313725, -0.02745098]])"
      ]
     },
     "execution_count": 10,
     "metadata": {},
     "output_type": "execute_result"
    }
   ],
   "source": [
    "Apinv = np.dot(np.linalg.inv(np.dot(A.T, A)), A.T)\n",
    "Apinv"
   ]
  },
  {
   "cell_type": "code",
   "execution_count": 11,
   "metadata": {
    "school_cell_uuid": "a77798c4871040da9e036aea73b0d9c6"
   },
   "outputs": [
    {
     "data": {
      "text/plain": [
       "array([[-3.12352941],\n",
       "       [ 1.78235294],\n",
       "       [ 2.07058824]])"
      ]
     },
     "execution_count": 11,
     "metadata": {},
     "output_type": "execute_result"
    }
   ],
   "source": [
    "x = np.dot(Apinv, b)\n",
    "x"
   ]
  },
  {
   "cell_type": "markdown",
   "metadata": {
    "school_cell_uuid": "d39fd1f096a14c71930d9528e9073efa"
   },
   "source": [
    "이 해를 이용하여 b값을 구하면 다음처럼 소수점 아래 한자리 오차로 일치하는 것을 볼 수 있다."
   ]
  },
  {
   "cell_type": "code",
   "execution_count": 12,
   "metadata": {
    "school_cell_uuid": "e434374930354029962fbf535fe31294"
   },
   "outputs": [
    {
     "data": {
      "text/plain": [
       "array([[ -5.04117647],\n",
       "       [ 11.96470588],\n",
       "       [  7.09411765],\n",
       "       [  5.92352941]])"
      ]
     },
     "execution_count": 12,
     "metadata": {},
     "output_type": "execute_result"
    }
   ],
   "source": [
    "np.dot(A, x)"
   ]
  },
  {
   "cell_type": "markdown",
   "metadata": {
    "school_cell_uuid": "b7dc443c2f65400bb8183b2b530e1c57"
   },
   "source": [
    "`lstsq` 명령으로 구해도 같은 값이 나온다."
   ]
  },
  {
   "cell_type": "code",
   "execution_count": 13,
   "metadata": {
    "school_cell_uuid": "4d1e378932d9463fa667104c42524208"
   },
   "outputs": [
    {
     "data": {
      "text/plain": [
       "array([[-3.12352941],\n",
       "       [ 1.78235294],\n",
       "       [ 2.07058824]])"
      ]
     },
     "execution_count": 13,
     "metadata": {},
     "output_type": "execute_result"
    }
   ],
   "source": [
    "x, resid, rank, s = np.linalg.lstsq(A, b)\n",
    "x"
   ]
  },
  {
   "cell_type": "markdown",
   "metadata": {
    "school_cell_uuid": "d004909ed4124daead8870f454d9d20d"
   },
   "source": [
    "resid은 오차 벡터 $Ax-b$의 크기, 즉 제곱합이다."
   ]
  },
  {
   "cell_type": "code",
   "execution_count": 14,
   "metadata": {
    "school_cell_uuid": "74cc66e8dc654b18a87b633a6a691d3e"
   },
   "outputs": [
    {
     "data": {
      "text/plain": [
       "(array([ 0.01764706]), 0.017647058823529287)"
      ]
     },
     "execution_count": 14,
     "metadata": {},
     "output_type": "execute_result"
    }
   ],
   "source": [
    "resid, np.linalg.norm(np.dot(A, x) - b) ** 2"
   ]
  },
  {
   "cell_type": "markdown",
   "metadata": {
    "bootstrap": {
     "panel": {
      "class": "panel-default"
     }
    },
    "school_cell_uuid": "d0e0cffb46fe47e395c44c2d8b984de6"
   },
   "source": [
    "#### 연습 문제 3\n",
    "\n",
    "보스턴 집값 문제를 선형 예측 모형 $Xw=\\hat{y}$로 풀었을 때의 가중치 벡터 $w$를 최소 자승 방법으로 구하라. 행렬과 벡터 데이터는 다음과 같이 얻을 수 있다.\n",
    "\n",
    "```\n",
    "from sklearn.datasets import load_boston\n",
    "boston = load_boston()\n",
    "X = boston.data\n",
    "y = boston.target\n",
    "```\n",
    "\n",
    "이렇게 구한 가중치의 부호가 우리의 직관이나 경험과 일치하는지 살펴보라. 또  CRIM, NOX, RM, AGE의 가중치가 위에서 구한 값과 어떻게 달라지는지 살펴보라."
   ]
  }
 ],
 "metadata": {
  "celltoolbar": "Edit Metadata",
  "kernelspec": {
   "display_name": "Python 3",
   "language": "python",
   "name": "python3"
  },
  "language_info": {
   "codemirror_mode": {
    "name": "ipython",
    "version": 3
   },
   "file_extension": ".py",
   "mimetype": "text/x-python",
   "name": "python",
   "nbconvert_exporter": "python",
   "pygments_lexer": "ipython3",
   "version": "3.5.0"
  }
 },
 "nbformat": 4,
 "nbformat_minor": 1
}
