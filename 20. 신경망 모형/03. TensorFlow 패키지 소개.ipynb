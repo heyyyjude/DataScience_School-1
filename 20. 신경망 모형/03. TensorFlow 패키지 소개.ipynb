{
 "cells": [
  {
   "cell_type": "markdown",
   "metadata": {
    "school_cell_uuid": "c37e6568f63b480886e8e1a550191c70"
   },
   "source": [
    "# TensorFlow 패키지 소개"
   ]
  },
  {
   "cell_type": "markdown",
   "metadata": {
    "school_cell_uuid": "e556f440fe294f9bbb52d5949401d2de"
   },
   "source": [
    "TensorFlow 패키지는 Theano 패키지와 마찬가지로 선형 대수 심볼 컴파일러(Symbolic Linear Algebra Compiler)이다. Theano에 비해 분산처리 기능이 강화되어 있다."
   ]
  },
  {
   "cell_type": "markdown",
   "metadata": {
    "school_cell_uuid": "8078d0c97c1445378b13dd0238e93436"
   },
   "source": [
    "## TensorFlow 기본 사용법"
   ]
  },
  {
   "cell_type": "markdown",
   "metadata": {
    "school_cell_uuid": "8db959da8fe042b5b0ce4f3fc48fb8c4"
   },
   "source": [
    "Theano와 유사하게 TensorFlow도 다음과 같은 과정을 거쳐 사용한다.\n",
    "\n",
    "1. 심볼 변수 정의\n",
    "2. 심볼 관계 정의\n",
    "3. 세션 정의\n",
    "4. 세션 사용\n",
    "\n",
    "세션(Session)은 Theano의 함수와 유사한 역할을 하며 실제 심볼 변수의 관계를 분석하고 값을 계산해준다."
   ]
  },
  {
   "cell_type": "markdown",
   "metadata": {
    "school_cell_uuid": "9144a00d260148a2811c367364d805ba"
   },
   "source": [
    "### 심볼 변수 정의"
   ]
  },
  {
   "cell_type": "markdown",
   "metadata": {
    "school_cell_uuid": "3a24b2e396294beb87f378a26520ea72"
   },
   "source": [
    "TensorFlow는 `Variable` 명령으로 정의하며 Theano와 달리 각 심볼 변수의 형태를 스칼라, 벡터, 행렬 등으로 명시적으로 정의하지 않는 대신 초기값을 이용해서 형태를 지정한다. 심볼의 이름은 명시적으로 주지 않아도 된다."
   ]
  },
  {
   "cell_type": "code",
   "execution_count": 2,
   "metadata": {
    "school_cell_uuid": "3804c652ce924a038a0aa77760bbb2a5"
   },
   "outputs": [],
   "source": [
    "import tensorflow as tf"
   ]
  },
  {
   "cell_type": "code",
   "execution_count": 3,
   "metadata": {
    "school_cell_uuid": "558d42536bcf439984045e68cd95feb8"
   },
   "outputs": [],
   "source": [
    "x = tf.Variable(1.0)\n",
    "y = tf.Variable(2.0)"
   ]
  },
  {
   "cell_type": "code",
   "execution_count": 4,
   "metadata": {
    "school_cell_uuid": "ee5681a101594411959c623f30930e37"
   },
   "outputs": [
    {
     "data": {
      "text/plain": [
       "(tensorflow.python.ops.variables.Variable,\n",
       " tensorflow.python.ops.variables.Variable)"
      ]
     },
     "execution_count": 4,
     "metadata": {},
     "output_type": "execute_result"
    }
   ],
   "source": [
    "type(x), type(y)"
   ]
  },
  {
   "cell_type": "markdown",
   "metadata": {
    "school_cell_uuid": "266c842b94764d03b4772371c3f6fb81"
   },
   "source": [
    "### 심볼 관계 정의"
   ]
  },
  {
   "cell_type": "markdown",
   "metadata": {
    "school_cell_uuid": "eed3752148ee4b1e8db8056dd3966f98"
   },
   "source": [
    "이미 만들어진 심볼 변수에 일반 사칙연산이나 TensorFlow 수학 함수를 사용하여 종속 변수 역할을 하는 심볼 변수를 만들 수 있다."
   ]
  },
  {
   "cell_type": "code",
   "execution_count": 5,
   "metadata": {
    "school_cell_uuid": "6bb5438ad7544c928b681de6927d16a3"
   },
   "outputs": [],
   "source": [
    "z = x + y"
   ]
  },
  {
   "cell_type": "code",
   "execution_count": 6,
   "metadata": {
    "school_cell_uuid": "8fa06128553c49a2a63f505826767981"
   },
   "outputs": [
    {
     "data": {
      "text/plain": [
       "tensorflow.python.framework.ops.Tensor"
      ]
     },
     "execution_count": 6,
     "metadata": {},
     "output_type": "execute_result"
    }
   ],
   "source": [
    "type(z)"
   ]
  },
  {
   "cell_type": "code",
   "execution_count": 7,
   "metadata": {
    "school_cell_uuid": "678f70dd4d7748f3a48128226b8ed3d4"
   },
   "outputs": [],
   "source": [
    "u = tf.log(z)"
   ]
  },
  {
   "cell_type": "code",
   "execution_count": 8,
   "metadata": {
    "school_cell_uuid": "2d3875f03104404b9efe7ffc50daaed9"
   },
   "outputs": [
    {
     "data": {
      "text/plain": [
       "tensorflow.python.framework.ops.Tensor"
      ]
     },
     "execution_count": 8,
     "metadata": {},
     "output_type": "execute_result"
    }
   ],
   "source": [
    "type(u)"
   ]
  },
  {
   "cell_type": "markdown",
   "metadata": {
    "school_cell_uuid": "dc2fafc4f9a74b91a8e113123cc7f8f4"
   },
   "source": [
    "### 세션"
   ]
  },
  {
   "cell_type": "markdown",
   "metadata": {
    "school_cell_uuid": "f577dfc4bcfa43068f037daf044421f7"
   },
   "source": [
    "TensorFlow의 세션은 Theano의 함수와 유사한 역할을 하며 실제로 계산 그래프를 생성하고 값을 계산하기위한 환경을 제공한다. Theano의 함수와 달리 세션 생성과 실행 시작, 종료를 명시해야 한다.\n",
    "\n",
    "* 세션 생성: `Session` 객체 생성\n",
    "* 세션 사용: `run` 메서드. 그래프의 값을 실제로 계산한다.\n",
    "* 세션 종료: `close` 메서드. with 문으로 대체하기도 한다."
   ]
  },
  {
   "cell_type": "code",
   "execution_count": 9,
   "metadata": {
    "school_cell_uuid": "258c4aff475d405581db3dbab08dd78d"
   },
   "outputs": [
    {
     "name": "stdout",
     "output_type": "stream",
     "text": [
      "3.0\n",
      "1.0986123\n"
     ]
    }
   ],
   "source": [
    "sess = tf.Session()\n",
    "init = tf.global_variables_initializer()\n",
    "sess.run(init)\n",
    "print(sess.run(z)) \n",
    "print(sess.run(u)) \n",
    "sess.close()"
   ]
  },
  {
   "cell_type": "markdown",
   "metadata": {
    "school_cell_uuid": "c878fc07fcc14b6994e915f2c7fe77f5"
   },
   "source": [
    "### 미분"
   ]
  },
  {
   "cell_type": "markdown",
   "metadata": {
    "school_cell_uuid": "70e9d8ece68040349072fa52c2daea0b"
   },
   "source": [
    "TensorFlow 도 심볼릭 연산에 의한 미분 계산이 가능하다."
   ]
  },
  {
   "cell_type": "code",
   "execution_count": 10,
   "metadata": {
    "school_cell_uuid": "73ed72bac16748f79399f90cf7612a60"
   },
   "outputs": [
    {
     "name": "stdout",
     "output_type": "stream",
     "text": [
      "1.0\n",
      "[2.0]\n"
     ]
    }
   ],
   "source": [
    "f = x ** 2\n",
    "fx = tf.gradients(f, [x])\n",
    "\n",
    "with tf.Session() as sess:\n",
    "    init = tf.global_variables_initializer()\n",
    "    sess.run(init)\n",
    "    print(sess.run(f))    \n",
    "    print(sess.run(fx))"
   ]
  },
  {
   "cell_type": "markdown",
   "metadata": {
    "school_cell_uuid": "79f933d639584ac6ae312d040039a4c2"
   },
   "source": [
    "### 최적화"
   ]
  },
  {
   "cell_type": "markdown",
   "metadata": {
    "school_cell_uuid": "38ffdf244d0b4308b82a9ba7fad0b1ac"
   },
   "source": [
    "TensorFlow에는 Theano와 달리 최적화를 위한 `GradientDescentOptimizer` 등의 클래스가 미리 구현되어 있으므로 사용자가 구현할 필요가 없다."
   ]
  },
  {
   "cell_type": "markdown",
   "metadata": {
    "school_cell_uuid": "60ff836f6b4c43a6aaa7972526468170"
   },
   "source": [
    "### tensorboard 용 로그 생성"
   ]
  },
  {
   "cell_type": "markdown",
   "metadata": {
    "school_cell_uuid": "7b1241cb6ef04a88a765130a3d4a33e4"
   },
   "source": [
    "tensorflow 처리 과정에서 로그 파일을 만들면 추후 tensorboard 등의 프로그램에서 읽어서 웹 화면에 나타낼 뿐이다. 따라서 계산 코드에서 로그 생성을 위한 코드를 추가해 주어야 한다. \n",
    "\n",
    "로그 코드는 다음과 같은 순서로 추가한다.\n",
    "\n",
    "1. `summary.histogram` 명령으로 개별 변수 기록용 summary 생성\n",
    "2. `summary.merge` 명령으로 개별 변수 기록용 summary를 하나의 summary로 합침\n",
    "3. 세션 생성후 `tf.summary.FileWriter` 명령으로 기록용 writer 객체 생성(위 예제에서는 `writer`). 이 때 기록할 디렉토리 설정\n",
    "4. `sess.run` 명령으로 summary 객체(위 예제에서는 `merged`)를 보내면 기록 실시\n",
    "5. 기록용 write 객체의 `add_summary` 명령으로 summary를 실제 파일에 쓰기."
   ]
  },
  {
   "cell_type": "markdown",
   "metadata": {
    "school_cell_uuid": "7e9e38a710de4ee8a9b404fc61ebb99e"
   },
   "source": [
    "여기에서는 `/home/dockeruser/logs/`라는 디렉토리에 로그를 저장한다. 실행하기 전에 이 디렉토리에 있던 과거 로그를 삭제한다."
   ]
  },
  {
   "cell_type": "code",
   "execution_count": 11,
   "metadata": {
    "school_cell_uuid": "d8800f0a8abb492ca8d3d40a62b89534"
   },
   "outputs": [],
   "source": [
    "!rm /home/dockeruser/logs/*"
   ]
  },
  {
   "cell_type": "markdown",
   "metadata": {
    "school_cell_uuid": "581b252b81e24b78a8bf161e16479800"
   },
   "source": [
    "## 퍼셉트론"
   ]
  },
  {
   "cell_type": "code",
   "execution_count": 12,
   "metadata": {
    "school_cell_uuid": "a208a3840ab44bb8a13d5cc7822cf00d"
   },
   "outputs": [],
   "source": [
    "from sklearn.datasets import load_iris\n",
    "iris = load_iris()\n",
    "\n",
    "idx = np.in1d(iris.target, [0, 2])\n",
    "X_data = iris.data[idx, 0:2]\n",
    "y_data = (iris.target[idx] - 1.0)[:, np.newaxis]"
   ]
  },
  {
   "cell_type": "code",
   "execution_count": 13,
   "metadata": {
    "school_cell_uuid": "dca306ace07f41e78a167281fdfa9772",
    "scrolled": false
   },
   "outputs": [
    {
     "name": "stdout",
     "output_type": "stream",
     "text": [
      "   0:  0.5494091733308988\n",
      "  10:  0.4550718147888182\n",
      "  20:  0.3607278431087564\n",
      "  30:  0.2663786243415365\n",
      "  40:  0.17202552496054824\n",
      "  50:  0.07766991175203047\n",
      "  60:  0.0009515019028440592\n",
      "  70:  0.0003168280919044532\n",
      "  80:  0.0002921058755255818\n",
      "  90:  0.0002922898747369561\n"
     ]
    }
   ],
   "source": [
    "np.random.seed(0)\n",
    "w = tf.Variable(1e-3 * np.random.randn(2, 1))\n",
    "b = tf.Variable(1e-3 * np.random.randn(1)[0])\n",
    "d = tf.tanh(tf.matmul(X_data, w) + b)\n",
    "\n",
    "zero = np.zeros(1, dtype=np.float64)[0]\n",
    "cost = tf.reduce_sum(tf.maximum(zero, tf.multiply(-y_data, d)))\n",
    "optimizer = tf.train.GradientDescentOptimizer(1e-7)\n",
    "train = optimizer.minimize(cost)\n",
    "\n",
    "sess = tf.Session()\n",
    "\n",
    "w_summary = tf.summary.histogram(\"w\", w)\n",
    "b_summary = tf.summary.histogram(\"b\", b)\n",
    "d_summary = tf.summary.histogram(\"d\", d)\n",
    "cost_summary = tf.summary.histogram(\"cost\", cost)\n",
    "merged = tf.summary.merge([w_summary, b_summary, d_summary, cost_summary])\n",
    "\n",
    "init = tf.global_variables_initializer()\n",
    "sess.run(init)\n",
    "\n",
    "writer = tf.summary.FileWriter(\"/home/dockeruser/logs\", sess.graph)\n",
    "\n",
    "for i in range(100):\n",
    "    sess.run(train)\n",
    "    summary = sess.run(merged)\n",
    "    writer.add_summary(summary, i)\n",
    "    if i % 10 == 0:\n",
    "        print(\"{:4d}: \".format(i), sess.run(cost))"
   ]
  },
  {
   "cell_type": "code",
   "execution_count": 14,
   "metadata": {
    "school_cell_uuid": "03407d52261a472c9aeca6a32b93c1ac"
   },
   "outputs": [],
   "source": [
    "y_pred = sess.run(tf.sign(d))"
   ]
  },
  {
   "cell_type": "code",
   "execution_count": 15,
   "metadata": {
    "school_cell_uuid": "b33d15dcdd5b43fd8af768b6651b6080"
   },
   "outputs": [],
   "source": [
    "sess.close()"
   ]
  },
  {
   "cell_type": "code",
   "execution_count": 16,
   "metadata": {
    "school_cell_uuid": "fa766ad7bb7d45b69ae70400894f2dcb"
   },
   "outputs": [
    {
     "data": {
      "text/plain": [
       "array([[49,  1],\n",
       "       [ 1, 49]])"
      ]
     },
     "execution_count": 16,
     "metadata": {},
     "output_type": "execute_result"
    }
   ],
   "source": [
    "from sklearn.metrics import confusion_matrix\n",
    "\n",
    "confusion_matrix(y_data, y_pred)"
   ]
  },
  {
   "cell_type": "markdown",
   "metadata": {
    "collapsed": true,
    "school_cell_uuid": "527432ed8f6d4b3c84600f7f2227f119"
   },
   "source": [
    "## TensorBoard"
   ]
  },
  {
   "cell_type": "markdown",
   "metadata": {
    "collapsed": true,
    "school_cell_uuid": "30949be804524bee98824bbe76e66c90"
   },
   "source": [
    "TensorFlow는 theano와 달리 모형 내부와 결과를 모니터링 할 수 있는 TensorBoard 라는 웹서버를 제공한다."
   ]
  },
  {
   "cell_type": "markdown",
   "metadata": {
    "school_cell_uuid": "813cb64e4b4c4dc0b96da1aff4d5b559"
   },
   "source": [
    "TensorBoard 웹서버는 포트 6006을 사용하므로 만약 도커를 사용하는 경우에는 다음과 같이 포트를 열고 실행해야 한다.\n",
    "\n",
    "```\n",
    "docker run --name rpython -it -p 8888:8888 -p 6006:6006 datascienceschool/rpython\n",
    "```"
   ]
  },
  {
   "cell_type": "markdown",
   "metadata": {
    "school_cell_uuid": "89e4dfdaa3134a17abc476a8120dfea2"
   },
   "source": [
    "### tensorboard 가동"
   ]
  },
  {
   "cell_type": "markdown",
   "metadata": {
    "school_cell_uuid": "e6222b92af604a288a1a3b119feb22ee"
   },
   "source": [
    "TensorBoard를 가동하기 위해서는 콘솔에서 다음과 같이 로그 디렉토리를 설정하여 실행한다.\n",
    "\n",
    "```\n",
    "$ tensorboard --logdir=/home/dockeruser/logs\n",
    "```"
   ]
  },
  {
   "cell_type": "markdown",
   "metadata": {
    "school_cell_uuid": "b406e61bcdc64f8c81d1ae5b73f512be"
   },
   "source": [
    "위와 같이 실행한 다음에는 다음 주소로 연결하면 TensorBoard 화면을 볼 수 있다.\n",
    "\n",
    "http://localhost:6006\n",
    "\n",
    "또는\n",
    "\n",
    "http://192.168.99.100:6006  (도커 툴박스를 사용하는 경우)"
   ]
  },
  {
   "cell_type": "markdown",
   "metadata": {
    "school_cell_uuid": "804c09fa564143d89c4db46a43f9c290"
   },
   "source": [
    "<img src=\"https://datascienceschool.net/upfiles/3763526231d843b5a01775a8cae316a4.png\" style=\"width:100%;\">"
   ]
  },
  {
   "cell_type": "markdown",
   "metadata": {
    "bootstrap": {
     "panel": {
      "class": "panel-default"
     }
    },
    "school_cell_uuid": "e6bc75db94b74b66ba24d67504a25825"
   },
   "source": [
    "#### 연습 문제 1\n",
    "\n",
    "위 퍼셉트론 코드를 다음과 같이 고쳐라.\n",
    "\n",
    "1. y값은 0과 1이라는 값만 가진다.\n",
    "2. 활성화 함수는 로지스틱 함수를 사용한다.\n",
    "3. 코스트 함수는 다음과 같은 오차 제곱 합수를 사용한다.\n",
    "$$ C = \\sum_{i=1}^N (y - \\hat{y})^2 $$"
   ]
  }
 ],
 "metadata": {
  "anaconda-cloud": {},
  "kernelspec": {
   "display_name": "Python 3",
   "language": "python",
   "name": "python3"
  },
  "language_info": {
   "codemirror_mode": {
    "name": "ipython",
    "version": 3
   },
   "file_extension": ".py",
   "mimetype": "text/x-python",
   "name": "python",
   "nbconvert_exporter": "python",
   "pygments_lexer": "ipython3",
   "version": "3.6.5"
  }
 },
 "nbformat": 4,
 "nbformat_minor": 1
}