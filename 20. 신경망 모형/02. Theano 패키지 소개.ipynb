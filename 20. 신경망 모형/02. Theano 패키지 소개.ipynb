{
 "cells": [
  {
   "cell_type": "markdown",
   "metadata": {
    "school_cell_uuid": "7b7c00a72b2e4d549ffe29d40201f1ad"
   },
   "source": [
    "# Theano 패키지 소개"
   ]
  },
  {
   "cell_type": "markdown",
   "metadata": {
    "school_cell_uuid": "c763a9f26fca4281a017f7c7cec2326a"
   },
   "source": [
    "Theano 패키지는 GPU를 지원하는 선형 대수 심볼 컴파일러(Symbolic Linear Algebra Compiler)이다. 심볼 컴파일러란 수치적인 미분, 선형 대수 계산 뿐 아니라 symbolic expression을 통해 정의된 수식(주로 목적 함수)을 사람처럼 미분하거나 재정리하여 전체 계산에 대한 최적의 계산 경로를 찾아내는 소프트웨어를 말한다. 수치 미분을 사용한 연산에 비해 정확도나 속도가 빠르기 때문에 대용량 선형 대수 계산이나 몬테카를로 시뮬레이션, 또는 딥 러닝에 사용된다.\n",
    "Theano 패키지의 또다른 특징은 GPU와 CPU에 대해 동일한 파이썬 코드를 사용할 수 있다는 점이다. 아래는 GPU를 사용한 Theano 연산 결과를 비교한 것이다.\n",
    "\n",
    "<img src=\"http://deeplearning.net/software/theano/_images/mlp.png\">"
   ]
  },
  {
   "cell_type": "markdown",
   "metadata": {
    "school_cell_uuid": "6d36cf1798c14b998196487838775fc4"
   },
   "source": [
    "## GPGPU \n",
    "\n",
    "GPU는 GPGPU(General-Purpose computing on Graphics Processing Units: 범용 그래픽 연산 유니트)를 줄어서 쓰는 말이다. \n",
    "그래픽 작업은 다음 그림에서 보듯 상당한 병렬 연산을 필요로 하기 때문에 일반 CPU와 달리 성능이 낮은 다수의 코어를 동시에 사용할 수 있는 구조를 가지고 있다. 이러한 구조는 단순한 계산을 반복해야 하는 몬테카를로 시뮬레이션이나 딥 러닝에서 상당한 효과를 볼 수 있다.\n",
    "\n",
    "<img src=\"http://cdn.iopscience.com/images/1742-5468/2009/06/P06016/Full/1354202.jpg\">\n",
    "\n",
    "\n",
    "<img src=\"http://bioinfo-fr.net/wp-content/uploads/2012/02/cpugpu_1.png\"> "
   ]
  },
  {
   "cell_type": "markdown",
   "metadata": {
    "school_cell_uuid": "cf032020be51457a82de871121916273"
   },
   "source": [
    "## CUDA vs OpenCL"
   ]
  },
  {
   "cell_type": "markdown",
   "metadata": {
    "school_cell_uuid": "d2e6809e254244b99c159575c0d2cf34"
   },
   "source": [
    "GPU는 기본 구조가 일반적인 CPU와 다르기 때문에 저수준 명령어 체계가 다르므로 별도의 플랫폼과 라이브러리가 필요하다. 현재 많이 사용되는 GPU 연산용 플랫폼에는 nvidia 계열의 CUDA와 Apple, AMD, Intel 계열의 OpenCL 이 있다. 파이썬에서는 pyCUDA 패키지와 pyOpenCL 패키지를 사용할 수 있다."
   ]
  },
  {
   "cell_type": "markdown",
   "metadata": {
    "school_cell_uuid": "5b02800ee49a47948856df1db9834f57"
   },
   "source": [
    "## Theano 기본 사용법"
   ]
  },
  {
   "cell_type": "markdown",
   "metadata": {
    "school_cell_uuid": "8ce9c50211544424a0e0df78443765f8"
   },
   "source": [
    "Theano를 사용하기 위해서는 다음과 같은 과정을 거쳐야 한다. \n",
    "\n",
    "1. 심볼 변수 정의\n",
    "2. 심볼 관계 정의\n",
    "3. 심볼 함수 정의\n",
    "4. 심볼 함수 사용\n"
   ]
  },
  {
   "cell_type": "markdown",
   "metadata": {
    "school_cell_uuid": "0518b98b3aa24ed7848ff509e1246322"
   },
   "source": [
    "### 심볼 변수 정의"
   ]
  },
  {
   "cell_type": "markdown",
   "metadata": {
    "school_cell_uuid": "80d11e9afb6d4cc99488cd8bf3c6dda4"
   },
   "source": [
    "Theano의 모든 변수는 심볼 변수이므로 수치 변수와 혼동이 되지 않게 별도로 정의해야 한다. \n",
    "\n",
    "스칼라, 벡터, 행렬을 정의하기 위해 `theano.tensor.T` 서브패키지의 `dscalar`, `dvector`, `dmatrix` 명령을 사용하거나 이미 심볼로 정의된 변수의 연산을 통해 자동으로 정의된다. 명령어 앞에 붙은 `d`는 double 자료형을 나타낸다."
   ]
  },
  {
   "cell_type": "code",
   "execution_count": 1,
   "metadata": {
    "school_cell_uuid": "e5e98e024c3b42babe8dbc3d9abb1aa3"
   },
   "outputs": [],
   "source": [
    "# MKL 라이브러리가 설치되어 있으면 다음 코드를 우선 실행한다.\n",
    "import os\n",
    "os.environ['MKL_THREADING_LAYER'] = 'GNU'"
   ]
  },
  {
   "cell_type": "code",
   "execution_count": 2,
   "metadata": {
    "school_cell_uuid": "670357fd2d03477d9fae2f296cd0b29a",
    "scrolled": false
   },
   "outputs": [],
   "source": [
    "import theano\n",
    "import theano.tensor as T"
   ]
  },
  {
   "cell_type": "code",
   "execution_count": 3,
   "metadata": {
    "school_cell_uuid": "b7e9f316454a4c9686983cca46fc12fa"
   },
   "outputs": [],
   "source": [
    "x1 = T.dscalar('x1')\n",
    "y1 = T.dscalar('y1')"
   ]
  },
  {
   "cell_type": "code",
   "execution_count": 4,
   "metadata": {
    "school_cell_uuid": "2e3ccb1a64294a59aa0c1b05dfdc189a"
   },
   "outputs": [
    {
     "data": {
      "text/plain": [
       "(theano.tensor.var.TensorVariable, theano.tensor.var.TensorVariable)"
      ]
     },
     "execution_count": 4,
     "metadata": {},
     "output_type": "execute_result"
    }
   ],
   "source": [
    "type(x1), type(y1)"
   ]
  },
  {
   "cell_type": "markdown",
   "metadata": {
    "school_cell_uuid": "2d4e4fd48d8941eebfdc03781122a211"
   },
   "source": [
    "벡터와 행렬도 마찬가지 방법으로 정의한다."
   ]
  },
  {
   "cell_type": "code",
   "execution_count": 5,
   "metadata": {
    "school_cell_uuid": "3af051a3f5854489a64f93973f702962"
   },
   "outputs": [],
   "source": [
    "x2 = T.dvector('x2')\n",
    "y2 = T.dvector('y2')"
   ]
  },
  {
   "cell_type": "code",
   "execution_count": 6,
   "metadata": {
    "school_cell_uuid": "7dcab4a0ab0445dcbadfdc99acca3bfc"
   },
   "outputs": [],
   "source": [
    "x3 = T.dmatrix('x3')\n",
    "y3 = T.dmatrix('y3')"
   ]
  },
  {
   "cell_type": "markdown",
   "metadata": {
    "school_cell_uuid": "9a48960a9bbb4916ab21756963d01f70"
   },
   "source": [
    "### 심볼 관계 정의"
   ]
  },
  {
   "cell_type": "markdown",
   "metadata": {
    "school_cell_uuid": "de8197a04e1e498ab6091bc67c7e0051"
   },
   "source": [
    "이미 만들어진 심볼 변수에 일반 사칙연산이나 Theano 수학 함수를 사용하여 종속 변수 역할을 하는 심볼 변수를 만들 수 있다."
   ]
  },
  {
   "cell_type": "code",
   "execution_count": 7,
   "metadata": {
    "school_cell_uuid": "d3c088505581466a9e9549ea257636f5"
   },
   "outputs": [],
   "source": [
    "z1 = x1 + y1"
   ]
  },
  {
   "cell_type": "code",
   "execution_count": 8,
   "metadata": {
    "school_cell_uuid": "9ba4d859b6634431a6f6beac0c3a10dc"
   },
   "outputs": [
    {
     "data": {
      "text/plain": [
       "theano.tensor.var.TensorVariable"
      ]
     },
     "execution_count": 8,
     "metadata": {},
     "output_type": "execute_result"
    }
   ],
   "source": [
    "type(z1)"
   ]
  },
  {
   "cell_type": "code",
   "execution_count": 9,
   "metadata": {
    "school_cell_uuid": "b110e80445144fa98ca4f1cb413f8422"
   },
   "outputs": [],
   "source": [
    "u1 = T.exp(z1)"
   ]
  },
  {
   "cell_type": "code",
   "execution_count": 10,
   "metadata": {
    "school_cell_uuid": "999e153987d5414499376570ecd2b63c"
   },
   "outputs": [
    {
     "data": {
      "text/plain": [
       "theano.tensor.var.TensorVariable"
      ]
     },
     "execution_count": 10,
     "metadata": {},
     "output_type": "execute_result"
    }
   ],
   "source": [
    "type(u1)"
   ]
  },
  {
   "cell_type": "code",
   "execution_count": 11,
   "metadata": {
    "school_cell_uuid": "de19301d7091421084d6bf7c907f71ac"
   },
   "outputs": [],
   "source": [
    "z2 = T.dot(x2, y2)"
   ]
  },
  {
   "cell_type": "code",
   "execution_count": 12,
   "metadata": {
    "school_cell_uuid": "6025e7eda48e4e329133b4f87dfc41aa"
   },
   "outputs": [],
   "source": [
    "z3 = T.sum(x3) + T.mean(y3)"
   ]
  },
  {
   "cell_type": "markdown",
   "metadata": {
    "school_cell_uuid": "8226425fc76a4b42b2ddb662cd941d32"
   },
   "source": [
    "### 심볼 프린트"
   ]
  },
  {
   "cell_type": "markdown",
   "metadata": {
    "school_cell_uuid": "f8b3a769f9f7497cb03ab2035679be74"
   },
   "source": [
    "Theano의 심볼 변수의 내용을 살펴보기 위해서는 `theano.printing.pprint` 명령 또는 `theano.printing.pydotprint` 을 사용한다."
   ]
  },
  {
   "cell_type": "code",
   "execution_count": 13,
   "metadata": {
    "school_cell_uuid": "eee153397d7149efaa60289f37c91c83"
   },
   "outputs": [
    {
     "data": {
      "text/plain": [
       "'x1'"
      ]
     },
     "execution_count": 13,
     "metadata": {},
     "output_type": "execute_result"
    }
   ],
   "source": [
    "theano.printing.pprint(x1)"
   ]
  },
  {
   "cell_type": "code",
   "execution_count": 14,
   "metadata": {
    "school_cell_uuid": "0ded3e1e2ba74eafb7a4edc200f40c8c"
   },
   "outputs": [
    {
     "data": {
      "text/plain": [
       "'y1'"
      ]
     },
     "execution_count": 14,
     "metadata": {},
     "output_type": "execute_result"
    }
   ],
   "source": [
    "theano.printing.pprint(y1)"
   ]
  },
  {
   "cell_type": "code",
   "execution_count": 15,
   "metadata": {
    "school_cell_uuid": "d632bd3e3ada47c3b843d665331bb61f"
   },
   "outputs": [
    {
     "data": {
      "text/plain": [
       "'(x1 + y1)'"
      ]
     },
     "execution_count": 15,
     "metadata": {},
     "output_type": "execute_result"
    }
   ],
   "source": [
    "theano.printing.pprint(z1)"
   ]
  },
  {
   "cell_type": "code",
   "execution_count": 16,
   "metadata": {
    "school_cell_uuid": "94397dd810d7403698e8b7ad028ec07f"
   },
   "outputs": [
    {
     "data": {
      "text/plain": [
       "'exp((x1 + y1))'"
      ]
     },
     "execution_count": 16,
     "metadata": {},
     "output_type": "execute_result"
    }
   ],
   "source": [
    "theano.printing.pprint(u1)"
   ]
  },
  {
   "cell_type": "code",
   "execution_count": 17,
   "metadata": {
    "school_cell_uuid": "eab4a57485794a22bb255b97db7fa5ce"
   },
   "outputs": [],
   "source": [
    "from IPython.display import SVG"
   ]
  },
  {
   "cell_type": "code",
   "execution_count": 18,
   "metadata": {
    "school_cell_uuid": "af6a7ecd896e47f894865f74f29b8339",
    "scrolled": true
   },
   "outputs": [
    {
     "data": {
      "image/svg+xml": [
       "<svg height=\"204pt\" viewBox=\"0.00 0.00 474.00 204.00\" width=\"474pt\" xmlns=\"http://www.w3.org/2000/svg\" xmlns:xlink=\"http://www.w3.org/1999/xlink\">\n",
       "<g class=\"graph\" id=\"graph0\" transform=\"scale(1 1) rotate(0) translate(4 200)\">\n",
       "<title>G</title>\n",
       "<polygon fill=\"#ffffff\" points=\"-4,4 -4,-200 470,-200 470,4 -4,4\" stroke=\"transparent\"/>\n",
       "<!-- 140216652703280 -->\n",
       "<g class=\"node\" id=\"node1\">\n",
       "<title>140216652703280</title>\n",
       "<ellipse cx=\"233\" cy=\"-91\" fill=\"#ffaabb\" rx=\"108.5808\" ry=\"18\" stroke=\"#000000\"/>\n",
       "<text fill=\"#000000\" font-family=\"Times,serif\" font-size=\"14.00\" text-anchor=\"middle\" x=\"233\" y=\"-87.3\">Elemwise{add,no_inplace}</text>\n",
       "</g>\n",
       "<!-- 140216652703448 -->\n",
       "<g class=\"node\" id=\"node4\">\n",
       "<title>140216652703448</title>\n",
       "<polygon fill=\"#0000ff\" points=\"317,-36 149,-36 149,0 317,0 317,-36\" stroke=\"#000000\"/>\n",
       "<text fill=\"#000000\" font-family=\"Times,serif\" font-size=\"14.00\" text-anchor=\"middle\" x=\"233\" y=\"-14.3\">TensorType(float64, scalar)</text>\n",
       "</g>\n",
       "<!-- 140216652703280&#45;&gt;140216652703448 -->\n",
       "<g class=\"edge\" id=\"edge3\">\n",
       "<title>140216652703280-&gt;140216652703448</title>\n",
       "<path d=\"M233,-72.9551C233,-64.8828 233,-55.1764 233,-46.1817\" fill=\"none\" stroke=\"#000000\"/>\n",
       "<polygon fill=\"#000000\" points=\"236.5001,-46.0903 233,-36.0904 229.5001,-46.0904 236.5001,-46.0903\" stroke=\"#000000\"/>\n",
       "</g>\n",
       "<!-- 140216652703056 -->\n",
       "<g class=\"node\" id=\"node2\">\n",
       "<title>140216652703056</title>\n",
       "<polygon fill=\"#00ff00\" points=\"224,-196 0,-196 0,-160 224,-160 224,-196\" stroke=\"#000000\"/>\n",
       "<text fill=\"#000000\" font-family=\"Times,serif\" font-size=\"14.00\" text-anchor=\"middle\" x=\"112\" y=\"-174.3\">name=x1 TensorType(float64, scalar)</text>\n",
       "</g>\n",
       "<!-- 140216652703056&#45;&gt;140216652703280 -->\n",
       "<g class=\"edge\" id=\"edge1\">\n",
       "<title>140216652703056-&gt;140216652703280</title>\n",
       "<path d=\"M137.0713,-159.9735C155.3632,-146.8215 180.3265,-128.8727 200.2024,-114.5818\" fill=\"none\" stroke=\"#000000\"/>\n",
       "<polygon fill=\"#000000\" points=\"202.2989,-117.3852 208.3748,-108.7057 198.2124,-111.7018 202.2989,-117.3852\" stroke=\"#000000\"/>\n",
       "<text fill=\"#000000\" font-family=\"Times,serif\" font-size=\"14.00\" text-anchor=\"middle\" x=\"183.5\" y=\"-130.8\">0</text>\n",
       "</g>\n",
       "<!-- 140216652703112 -->\n",
       "<g class=\"node\" id=\"node3\">\n",
       "<title>140216652703112</title>\n",
       "<polygon fill=\"#00ff00\" points=\"466,-196 242,-196 242,-160 466,-160 466,-196\" stroke=\"#000000\"/>\n",
       "<text fill=\"#000000\" font-family=\"Times,serif\" font-size=\"14.00\" text-anchor=\"middle\" x=\"354\" y=\"-174.3\">name=y1 TensorType(float64, scalar)</text>\n",
       "</g>\n",
       "<!-- 140216652703112&#45;&gt;140216652703280 -->\n",
       "<g class=\"edge\" id=\"edge2\">\n",
       "<title>140216652703112-&gt;140216652703280</title>\n",
       "<path d=\"M328.9287,-159.9735C310.6368,-146.8215 285.6735,-128.8727 265.7976,-114.5818\" fill=\"none\" stroke=\"#000000\"/>\n",
       "<polygon fill=\"#000000\" points=\"267.7876,-111.7018 257.6252,-108.7057 263.7011,-117.3852 267.7876,-111.7018\" stroke=\"#000000\"/>\n",
       "<text fill=\"#000000\" font-family=\"Times,serif\" font-size=\"14.00\" text-anchor=\"middle\" x=\"304.5\" y=\"-130.8\">1</text>\n",
       "</g>\n",
       "</g>\n",
       "</svg>"
      ],
      "text/plain": [
       "<IPython.core.display.SVG object>"
      ]
     },
     "execution_count": 18,
     "metadata": {},
     "output_type": "execute_result"
    }
   ],
   "source": [
    "SVG(theano.printing.pydotprint(z1, return_image=True, format='svg'))"
   ]
  },
  {
   "cell_type": "code",
   "execution_count": 19,
   "metadata": {
    "school_cell_uuid": "e4d18a6ecb0e42cb9418bc86e834e336",
    "scrolled": false
   },
   "outputs": [
    {
     "data": {
      "image/svg+xml": [
       "<svg height=\"291pt\" viewBox=\"0.00 0.00 474.00 291.00\" width=\"474pt\" xmlns=\"http://www.w3.org/2000/svg\" xmlns:xlink=\"http://www.w3.org/1999/xlink\">\n",
       "<g class=\"graph\" id=\"graph0\" transform=\"scale(1 1) rotate(0) translate(4 287)\">\n",
       "<title>G</title>\n",
       "<polygon fill=\"#ffffff\" points=\"-4,4 -4,-287 470,-287 470,4 -4,4\" stroke=\"transparent\"/>\n",
       "<!-- 140216651843176 -->\n",
       "<g class=\"node\" id=\"node1\">\n",
       "<title>140216651843176</title>\n",
       "<ellipse cx=\"233\" cy=\"-178\" fill=\"#ffaabb\" rx=\"108.5808\" ry=\"18\" stroke=\"#000000\"/>\n",
       "<text fill=\"#000000\" font-family=\"Times,serif\" font-size=\"14.00\" text-anchor=\"middle\" x=\"233\" y=\"-174.3\">Elemwise{add,no_inplace}</text>\n",
       "</g>\n",
       "<!-- 140216651843344 -->\n",
       "<g class=\"node\" id=\"node4\">\n",
       "<title>140216651843344</title>\n",
       "<ellipse cx=\"233\" cy=\"-91\" fill=\"#ffaabb\" rx=\"108.5808\" ry=\"18\" stroke=\"#000000\"/>\n",
       "<text fill=\"#000000\" font-family=\"Times,serif\" font-size=\"14.00\" text-anchor=\"middle\" x=\"233\" y=\"-87.3\">Elemwise{exp,no_inplace}</text>\n",
       "</g>\n",
       "<!-- 140216651843176&#45;&gt;140216651843344 -->\n",
       "<g class=\"edge\" id=\"edge3\">\n",
       "<title>140216651843176-&gt;140216651843344</title>\n",
       "<path d=\"M233,-159.9735C233,-148.1918 233,-132.5607 233,-119.1581\" fill=\"none\" stroke=\"#000000\"/>\n",
       "<polygon fill=\"#000000\" points=\"236.5001,-119.0033 233,-109.0034 229.5001,-119.0034 236.5001,-119.0033\" stroke=\"#000000\"/>\n",
       "<text fill=\"#000000\" font-family=\"Times,serif\" font-size=\"14.00\" text-anchor=\"middle\" x=\"309\" y=\"-130.8\">TensorType(float64, scalar)</text>\n",
       "</g>\n",
       "<!-- 140216651842896 -->\n",
       "<g class=\"node\" id=\"node2\">\n",
       "<title>140216651842896</title>\n",
       "<polygon fill=\"#00ff00\" points=\"224,-283 0,-283 0,-247 224,-247 224,-283\" stroke=\"#000000\"/>\n",
       "<text fill=\"#000000\" font-family=\"Times,serif\" font-size=\"14.00\" text-anchor=\"middle\" x=\"112\" y=\"-261.3\">name=x1 TensorType(float64, scalar)</text>\n",
       "</g>\n",
       "<!-- 140216651842896&#45;&gt;140216651843176 -->\n",
       "<g class=\"edge\" id=\"edge1\">\n",
       "<title>140216651842896-&gt;140216651843176</title>\n",
       "<path d=\"M137.0713,-246.9735C155.3632,-233.8215 180.3265,-215.8727 200.2024,-201.5818\" fill=\"none\" stroke=\"#000000\"/>\n",
       "<polygon fill=\"#000000\" points=\"202.2989,-204.3852 208.3748,-195.7057 198.2124,-198.7018 202.2989,-204.3852\" stroke=\"#000000\"/>\n",
       "<text fill=\"#000000\" font-family=\"Times,serif\" font-size=\"14.00\" text-anchor=\"middle\" x=\"183.5\" y=\"-217.8\">0</text>\n",
       "</g>\n",
       "<!-- 140216651842952 -->\n",
       "<g class=\"node\" id=\"node3\">\n",
       "<title>140216651842952</title>\n",
       "<polygon fill=\"#00ff00\" points=\"466,-283 242,-283 242,-247 466,-247 466,-283\" stroke=\"#000000\"/>\n",
       "<text fill=\"#000000\" font-family=\"Times,serif\" font-size=\"14.00\" text-anchor=\"middle\" x=\"354\" y=\"-261.3\">name=y1 TensorType(float64, scalar)</text>\n",
       "</g>\n",
       "<!-- 140216651842952&#45;&gt;140216651843176 -->\n",
       "<g class=\"edge\" id=\"edge2\">\n",
       "<title>140216651842952-&gt;140216651843176</title>\n",
       "<path d=\"M328.9287,-246.9735C310.6368,-233.8215 285.6735,-215.8727 265.7976,-201.5818\" fill=\"none\" stroke=\"#000000\"/>\n",
       "<polygon fill=\"#000000\" points=\"267.7876,-198.7018 257.6252,-195.7057 263.7011,-204.3852 267.7876,-198.7018\" stroke=\"#000000\"/>\n",
       "<text fill=\"#000000\" font-family=\"Times,serif\" font-size=\"14.00\" text-anchor=\"middle\" x=\"304.5\" y=\"-217.8\">1</text>\n",
       "</g>\n",
       "<!-- 140216651843400 -->\n",
       "<g class=\"node\" id=\"node5\">\n",
       "<title>140216651843400</title>\n",
       "<polygon fill=\"#0000ff\" points=\"317,-36 149,-36 149,0 317,0 317,-36\" stroke=\"#000000\"/>\n",
       "<text fill=\"#000000\" font-family=\"Times,serif\" font-size=\"14.00\" text-anchor=\"middle\" x=\"233\" y=\"-14.3\">TensorType(float64, scalar)</text>\n",
       "</g>\n",
       "<!-- 140216651843344&#45;&gt;140216651843400 -->\n",
       "<g class=\"edge\" id=\"edge4\">\n",
       "<title>140216651843344-&gt;140216651843400</title>\n",
       "<path d=\"M233,-72.9551C233,-64.8828 233,-55.1764 233,-46.1817\" fill=\"none\" stroke=\"#000000\"/>\n",
       "<polygon fill=\"#000000\" points=\"236.5001,-46.0903 233,-36.0904 229.5001,-46.0904 236.5001,-46.0903\" stroke=\"#000000\"/>\n",
       "</g>\n",
       "</g>\n",
       "</svg>"
      ],
      "text/plain": [
       "<IPython.core.display.SVG object>"
      ]
     },
     "execution_count": 19,
     "metadata": {},
     "output_type": "execute_result"
    }
   ],
   "source": [
    "SVG(theano.printing.pydotprint(u1, return_image=True, format='svg'))"
   ]
  },
  {
   "cell_type": "code",
   "execution_count": 20,
   "metadata": {
    "school_cell_uuid": "e4d18a6ecb0e42cb9418bc86e834e336",
    "scrolled": false
   },
   "outputs": [
    {
     "data": {
      "image/svg+xml": [
       "<svg height=\"204pt\" viewBox=\"0.00 0.00 474.00 204.00\" width=\"474pt\" xmlns=\"http://www.w3.org/2000/svg\" xmlns:xlink=\"http://www.w3.org/1999/xlink\">\n",
       "<g class=\"graph\" id=\"graph0\" transform=\"scale(1 1) rotate(0) translate(4 200)\">\n",
       "<title>G</title>\n",
       "<polygon fill=\"#ffffff\" points=\"-4,4 -4,-200 470,-200 470,4 -4,4\" stroke=\"transparent\"/>\n",
       "<!-- 140216651211776 -->\n",
       "<g class=\"node\" id=\"node1\">\n",
       "<title>140216651211776</title>\n",
       "<ellipse cx=\"233\" cy=\"-91\" fill=\"#ffaabb\" rx=\"108.5808\" ry=\"18\" stroke=\"#000000\"/>\n",
       "<text fill=\"#000000\" font-family=\"Times,serif\" font-size=\"14.00\" text-anchor=\"middle\" x=\"233\" y=\"-87.3\">Elemwise{add,no_inplace}</text>\n",
       "</g>\n",
       "<!-- 140216651211552 -->\n",
       "<g class=\"node\" id=\"node4\">\n",
       "<title>140216651211552</title>\n",
       "<polygon fill=\"#0000ff\" points=\"317,-36 149,-36 149,0 317,0 317,-36\" stroke=\"#000000\"/>\n",
       "<text fill=\"#000000\" font-family=\"Times,serif\" font-size=\"14.00\" text-anchor=\"middle\" x=\"233\" y=\"-14.3\">TensorType(float64, scalar)</text>\n",
       "</g>\n",
       "<!-- 140216651211776&#45;&gt;140216651211552 -->\n",
       "<g class=\"edge\" id=\"edge3\">\n",
       "<title>140216651211776-&gt;140216651211552</title>\n",
       "<path d=\"M233,-72.9551C233,-64.8828 233,-55.1764 233,-46.1817\" fill=\"none\" stroke=\"#000000\"/>\n",
       "<polygon fill=\"#000000\" points=\"236.5001,-46.0903 233,-36.0904 229.5001,-46.0904 236.5001,-46.0903\" stroke=\"#000000\"/>\n",
       "</g>\n",
       "<!-- 140216651212000 -->\n",
       "<g class=\"node\" id=\"node2\">\n",
       "<title>140216651212000</title>\n",
       "<polygon fill=\"#00ff00\" points=\"224,-196 0,-196 0,-160 224,-160 224,-196\" stroke=\"#000000\"/>\n",
       "<text fill=\"#000000\" font-family=\"Times,serif\" font-size=\"14.00\" text-anchor=\"middle\" x=\"112\" y=\"-174.3\">name=x1 TensorType(float64, scalar)</text>\n",
       "</g>\n",
       "<!-- 140216651212000&#45;&gt;140216651211776 -->\n",
       "<g class=\"edge\" id=\"edge1\">\n",
       "<title>140216651212000-&gt;140216651211776</title>\n",
       "<path d=\"M137.0713,-159.9735C155.3632,-146.8215 180.3265,-128.8727 200.2024,-114.5818\" fill=\"none\" stroke=\"#000000\"/>\n",
       "<polygon fill=\"#000000\" points=\"202.2989,-117.3852 208.3748,-108.7057 198.2124,-111.7018 202.2989,-117.3852\" stroke=\"#000000\"/>\n",
       "<text fill=\"#000000\" font-family=\"Times,serif\" font-size=\"14.00\" text-anchor=\"middle\" x=\"183.5\" y=\"-130.8\">0</text>\n",
       "</g>\n",
       "<!-- 140216651211944 -->\n",
       "<g class=\"node\" id=\"node3\">\n",
       "<title>140216651211944</title>\n",
       "<polygon fill=\"#00ff00\" points=\"466,-196 242,-196 242,-160 466,-160 466,-196\" stroke=\"#000000\"/>\n",
       "<text fill=\"#000000\" font-family=\"Times,serif\" font-size=\"14.00\" text-anchor=\"middle\" x=\"354\" y=\"-174.3\">name=y1 TensorType(float64, scalar)</text>\n",
       "</g>\n",
       "<!-- 140216651211944&#45;&gt;140216651211776 -->\n",
       "<g class=\"edge\" id=\"edge2\">\n",
       "<title>140216651211944-&gt;140216651211776</title>\n",
       "<path d=\"M328.9287,-159.9735C310.6368,-146.8215 285.6735,-128.8727 265.7976,-114.5818\" fill=\"none\" stroke=\"#000000\"/>\n",
       "<polygon fill=\"#000000\" points=\"267.7876,-111.7018 257.6252,-108.7057 263.7011,-117.3852 267.7876,-111.7018\" stroke=\"#000000\"/>\n",
       "<text fill=\"#000000\" font-family=\"Times,serif\" font-size=\"14.00\" text-anchor=\"middle\" x=\"304.5\" y=\"-130.8\">1</text>\n",
       "</g>\n",
       "</g>\n",
       "</svg>"
      ],
      "text/plain": [
       "<IPython.core.display.SVG object>"
      ]
     },
     "execution_count": 20,
     "metadata": {},
     "output_type": "execute_result"
    }
   ],
   "source": [
    "SVG(theano.printing.pydotprint(z1, return_image=True, format='svg'))"
   ]
  },
  {
   "cell_type": "markdown",
   "metadata": {
    "school_cell_uuid": "906f891dc5f74cefb00b0fbb1949b6b6"
   },
   "source": [
    "### 심볼 함수"
   ]
  },
  {
   "cell_type": "markdown",
   "metadata": {
    "school_cell_uuid": "9c8863c6138b4e009a15d9083f53dd16"
   },
   "source": [
    "심볼 함수는 `theano.function` 명령으로 정의하며 입력 심볼 변수와 출력 심볼 변수를 지정한다. 출력 심볼 변수는 입력 심볼 변수의 연산으로 정의되어 있어야 한다. \n",
    "\n",
    "처음 심볼 함수를 정의할 때는 내부적으로 컴파일을 하기 때문에 시간이 다소 걸릴 수 있다."
   ]
  },
  {
   "cell_type": "code",
   "execution_count": 21,
   "metadata": {
    "school_cell_uuid": "e289bffac7354d9d88218b6b36720897"
   },
   "outputs": [
    {
     "name": "stdout",
     "output_type": "stream",
     "text": [
      "CPU times: user 130 ms, sys: 20 ms, total: 150 ms\n",
      "Wall time: 146 ms\n"
     ]
    }
   ],
   "source": [
    "%time f1 = theano.function(inputs=[x1, y1], outputs=z1)"
   ]
  },
  {
   "cell_type": "markdown",
   "metadata": {
    "school_cell_uuid": "e699cb266e9a46e0a5e646c9b1565dd3"
   },
   "source": [
    "함수의 값을 계산하려면 일반 함수와 같이 사용하면 된다."
   ]
  },
  {
   "cell_type": "code",
   "execution_count": 22,
   "metadata": {
    "school_cell_uuid": "498408b221734b18abc1548805c8c6f9"
   },
   "outputs": [
    {
     "data": {
      "text/plain": [
       "array(3.)"
      ]
     },
     "execution_count": 22,
     "metadata": {},
     "output_type": "execute_result"
    }
   ],
   "source": [
    "f1(1, 2)"
   ]
  },
  {
   "cell_type": "markdown",
   "metadata": {
    "school_cell_uuid": "2d4e4fd48d8941eebfdc03781122a211"
   },
   "source": [
    "벡터와 행렬도 마찬가지 방법으로 사용한다."
   ]
  },
  {
   "cell_type": "code",
   "execution_count": 23,
   "metadata": {
    "school_cell_uuid": "3af051a3f5854489a64f93973f702962"
   },
   "outputs": [
    {
     "data": {
      "text/plain": [
       "array(11.)"
      ]
     },
     "execution_count": 23,
     "metadata": {},
     "output_type": "execute_result"
    }
   ],
   "source": [
    "f2 = theano.function([x2, y2], z2)\n",
    "f2([1, 2], [3, 4])"
   ]
  },
  {
   "cell_type": "code",
   "execution_count": 24,
   "metadata": {
    "school_cell_uuid": "7dcab4a0ab0445dcbadfdc99acca3bfc"
   },
   "outputs": [
    {
     "data": {
      "text/plain": [
       "array(6.5)"
      ]
     },
     "execution_count": 24,
     "metadata": {},
     "output_type": "execute_result"
    }
   ],
   "source": [
    "f3 = theano.function([x3, y3], z3)\n",
    "f3([[1], [2]], [[3], [4]])"
   ]
  },
  {
   "cell_type": "markdown",
   "metadata": {
    "school_cell_uuid": "b8fcfbf8102f439d959cc612c1b3685c"
   },
   "source": [
    "로지스틱 함수나 난수를 사용하는 함수는 다음과 같이 정의한다."
   ]
  },
  {
   "cell_type": "code",
   "execution_count": 25,
   "metadata": {
    "school_cell_uuid": "600f91d623dc4e149b7ff214429d859a"
   },
   "outputs": [
    {
     "data": {
      "text/plain": [
       "array(0.73105858)"
      ]
     },
     "execution_count": 25,
     "metadata": {},
     "output_type": "execute_result"
    }
   ],
   "source": [
    "s1 = 1 / (1 + T.exp(-x1))\n",
    "logistic = theano.function([x1], s1)\n",
    "logistic(1)"
   ]
  },
  {
   "cell_type": "code",
   "execution_count": 26,
   "metadata": {
    "school_cell_uuid": "b2ee4e7ef85e48b9a714d568157808ab"
   },
   "outputs": [
    {
     "data": {
      "text/plain": [
       "array([0.5       , 0.73105858])"
      ]
     },
     "execution_count": 26,
     "metadata": {},
     "output_type": "execute_result"
    }
   ],
   "source": [
    "s2 = 1 / (1 + T.exp(-x2))\n",
    "logistic2 = theano.function([x2], s2)\n",
    "logistic2([0, 1])"
   ]
  },
  {
   "cell_type": "markdown",
   "metadata": {
    "school_cell_uuid": "a2948d2b675341cf9a60c7bd1d60efda"
   },
   "source": [
    "함수에서 디폴트 인수는 다음과 같이 `In` 명령을 사용해서 정의한다."
   ]
  },
  {
   "cell_type": "code",
   "execution_count": 27,
   "metadata": {
    "school_cell_uuid": "78f5807140834c748c23a7ca6b600931"
   },
   "outputs": [
    {
     "data": {
      "text/plain": [
       "array(3.)"
      ]
     },
     "execution_count": 27,
     "metadata": {},
     "output_type": "execute_result"
    }
   ],
   "source": [
    "x1, y1 = T.dscalars('x1', 'y1')\n",
    "z1 = x1 + y1\n",
    "f1 = theano.function([x1, theano.In(y1, value=2)], z1)\n",
    "f1(1)"
   ]
  },
  {
   "cell_type": "markdown",
   "metadata": {
    "school_cell_uuid": "9142879ede2f40b3bc75fda68f5e3e0f"
   },
   "source": [
    "난수 발생도 theano 의 `RandomStreams` 명령을 사용해야 한다."
   ]
  },
  {
   "cell_type": "code",
   "execution_count": 28,
   "metadata": {
    "school_cell_uuid": "262367ea4fbd4e41ab2cb810ecdb5617"
   },
   "outputs": [],
   "source": [
    "from theano.tensor.shared_randomstreams import RandomStreams\n",
    "\n",
    "srng = RandomStreams(0)\n",
    "rv_u = srng.uniform()\n",
    "rv_n = srng.normal((2,))\n",
    "\n",
    "f_rv_u = theano.function([], rv_u)\n",
    "g_rv_n = theano.function([], rv_n, no_default_updates=True)"
   ]
  },
  {
   "cell_type": "code",
   "execution_count": 29,
   "metadata": {
    "school_cell_uuid": "379dea414f3f44c7a4629bc1b5c8526a"
   },
   "outputs": [
    {
     "data": {
      "text/plain": [
       "(array(0.48604732), array(0.68571232), array(0.98557605), array(0.19559641))"
      ]
     },
     "execution_count": 29,
     "metadata": {},
     "output_type": "execute_result"
    }
   ],
   "source": [
    "f_rv_u(), f_rv_u(), f_rv_u(), f_rv_u()"
   ]
  },
  {
   "cell_type": "code",
   "execution_count": 30,
   "metadata": {
    "school_cell_uuid": "9c21b49607834ebf9a1450c536aa8ee9"
   },
   "outputs": [
    {
     "data": {
      "text/plain": [
       "(array([1.99759307, 0.35128336]),\n",
       " array([1.99759307, 0.35128336]),\n",
       " array([1.99759307, 0.35128336]),\n",
       " array([1.99759307, 0.35128336]))"
      ]
     },
     "execution_count": 30,
     "metadata": {},
     "output_type": "execute_result"
    }
   ],
   "source": [
    "g_rv_n(), g_rv_n(), g_rv_n(), g_rv_n()"
   ]
  },
  {
   "cell_type": "markdown",
   "metadata": {
    "school_cell_uuid": "f398cc2f32374aaf836178d2bd8d85a3"
   },
   "source": [
    "### 변수 갱신"
   ]
  },
  {
   "cell_type": "markdown",
   "metadata": {
    "school_cell_uuid": "c8a546f91013457b9da38a29e9e19e4c"
   },
   "source": [
    "심볼의 값을 갱신(update)하는 수식은 단순한 심볼 그래프로 표현할 수 없다.\n",
    "갱신되는 값은 수식으로 연결되는 심볼이 아니라 단순한 메모리 상의 값이기 때문이다. \n",
    "따라서 이러한 값들은 공유 메모리(shared memory)라는 곳에 저장한다.\n",
    "또한 공유 메모리의 값을 갱신하는 것은 심볼 그래프가 아니라 함수에서 직접 다음처럼 `updates` 인수를 사용해야 한다.\n",
    "\n",
    "예를 들어 다음과 같은 수식을 생각하자.\n",
    "\n",
    "$$ w_{k+1} = w_k + x $$\n",
    "\n",
    "이 값을 갱신하는 코드는 다음과 같다."
   ]
  },
  {
   "cell_type": "code",
   "execution_count": 31,
   "metadata": {
    "school_cell_uuid": "a4f06a44a48d4e64b5e4c78d9f2e0d2d"
   },
   "outputs": [],
   "source": [
    "w1 = theano.shared(0.0, name=\"w1\")\n",
    "update = theano.function([x1], y1, givens=[(y1, w1)], updates=[(w1, w1 + x1)])"
   ]
  },
  {
   "cell_type": "code",
   "execution_count": 32,
   "metadata": {
    "school_cell_uuid": "cb41a99d91cb4d80aa412e4a1c02b731"
   },
   "outputs": [
    {
     "data": {
      "text/plain": [
       "array(0.58341167)"
      ]
     },
     "execution_count": 32,
     "metadata": {},
     "output_type": "execute_result"
    }
   ],
   "source": [
    "w1.set_value(f_rv_u())\n",
    "w1.get_value()"
   ]
  },
  {
   "cell_type": "code",
   "execution_count": 33,
   "metadata": {
    "school_cell_uuid": "d6b4cb8c368d4a43b7141c3d2e7c8647"
   },
   "outputs": [
    {
     "data": {
      "text/plain": [
       "array(1.58341167)"
      ]
     },
     "execution_count": 33,
     "metadata": {},
     "output_type": "execute_result"
    }
   ],
   "source": [
    "update(1)\n",
    "w1.get_value()"
   ]
  },
  {
   "cell_type": "code",
   "execution_count": 34,
   "metadata": {
    "school_cell_uuid": "d6b4cb8c368d4a43b7141c3d2e7c8647"
   },
   "outputs": [
    {
     "data": {
      "text/plain": [
       "array(3.58341167)"
      ]
     },
     "execution_count": 34,
     "metadata": {},
     "output_type": "execute_result"
    }
   ],
   "source": [
    "update(2)\n",
    "w1.get_value()"
   ]
  },
  {
   "cell_type": "code",
   "execution_count": 35,
   "metadata": {
    "school_cell_uuid": "d6b4cb8c368d4a43b7141c3d2e7c8647"
   },
   "outputs": [
    {
     "data": {
      "text/plain": [
       "array(4.58341167)"
      ]
     },
     "execution_count": 35,
     "metadata": {},
     "output_type": "execute_result"
    }
   ],
   "source": [
    "update(1)\n",
    "w1.get_value()"
   ]
  },
  {
   "cell_type": "markdown",
   "metadata": {
    "school_cell_uuid": "50ee70c6f0c0465da4dd3075291e8951"
   },
   "source": [
    "### 그래프 최적화"
   ]
  },
  {
   "cell_type": "markdown",
   "metadata": {
    "school_cell_uuid": "f2814cf835734e2a91fb8606260c7e51"
   },
   "source": [
    "Theano는 빠른 함수 계산을 위한 그래프 최적화를 지원한다. 예를 들어 다음과 같은 함수는 제곱 연산을 사용하여 최적화 할 수 있다."
   ]
  },
  {
   "cell_type": "code",
   "execution_count": 36,
   "metadata": {
    "school_cell_uuid": "5c1b96710bf14de68c8c35c20876d7ec"
   },
   "outputs": [],
   "source": [
    "x1 = T.vector('x1')\n",
    "y1 = x1 ** 10\n",
    "f1 = theano.function([x1], y1)"
   ]
  },
  {
   "cell_type": "code",
   "execution_count": 37,
   "metadata": {
    "school_cell_uuid": "8aafd8db1fe54461ad7fe1061208a58d"
   },
   "outputs": [
    {
     "data": {
      "image/svg+xml": [
       "<svg height=\"188pt\" viewBox=\"0.00 0.00 401.87 188.00\" width=\"402pt\" xmlns=\"http://www.w3.org/2000/svg\" xmlns:xlink=\"http://www.w3.org/1999/xlink\">\n",
       "<g class=\"graph\" id=\"graph0\" transform=\"scale(1 1) rotate(0) translate(4 184)\">\n",
       "<title>G</title>\n",
       "<polygon fill=\"#ffffff\" points=\"-4,4 -4,-184 397.8651,-184 397.8651,4 -4,4\" stroke=\"transparent\"/>\n",
       "<!-- 140216551123656 -->\n",
       "<g class=\"node\" id=\"node1\">\n",
       "<title>140216551123656</title>\n",
       "<ellipse cx=\"196.9325\" cy=\"-90\" fill=\"#ffaabb\" rx=\"196.8651\" ry=\"18\" stroke=\"#000000\"/>\n",
       "<text fill=\"#000000\" font-family=\"Times,serif\" font-size=\"14.00\" text-anchor=\"middle\" x=\"196.9325\" y=\"-86.3\">Elemwise{Composite{(sqr(sqr(sqr(i0))) * sqr(i0))}}</text>\n",
       "</g>\n",
       "<!-- 140216551123880 -->\n",
       "<g class=\"node\" id=\"node3\">\n",
       "<title>140216551123880</title>\n",
       "<polygon fill=\"#0000ff\" points=\"281.9325,-36 111.9325,-36 111.9325,0 281.9325,0 281.9325,-36\" stroke=\"#000000\"/>\n",
       "<text fill=\"#000000\" font-family=\"Times,serif\" font-size=\"14.00\" text-anchor=\"middle\" x=\"196.9325\" y=\"-14.3\">TensorType(float64, vector)</text>\n",
       "</g>\n",
       "<!-- 140216551123656&#45;&gt;140216551123880 -->\n",
       "<g class=\"edge\" id=\"edge2\">\n",
       "<title>140216551123656-&gt;140216551123880</title>\n",
       "<path d=\"M196.9325,-71.8314C196.9325,-64.131 196.9325,-54.9743 196.9325,-46.4166\" fill=\"none\" stroke=\"#000000\"/>\n",
       "<polygon fill=\"#000000\" points=\"200.4326,-46.4132 196.9325,-36.4133 193.4326,-46.4133 200.4326,-46.4132\" stroke=\"#000000\"/>\n",
       "</g>\n",
       "<!-- 140216551474232 -->\n",
       "<g class=\"node\" id=\"node2\">\n",
       "<title>140216551474232</title>\n",
       "<polygon fill=\"#00ff00\" points=\"309.9325,-180 83.9325,-180 83.9325,-144 309.9325,-144 309.9325,-180\" stroke=\"#000000\"/>\n",
       "<text fill=\"#000000\" font-family=\"Times,serif\" font-size=\"14.00\" text-anchor=\"middle\" x=\"196.9325\" y=\"-158.3\">name=x1 TensorType(float64, vector)</text>\n",
       "</g>\n",
       "<!-- 140216551474232&#45;&gt;140216551123656 -->\n",
       "<g class=\"edge\" id=\"edge1\">\n",
       "<title>140216551474232-&gt;140216551123656</title>\n",
       "<path d=\"M196.9325,-143.8314C196.9325,-136.131 196.9325,-126.9743 196.9325,-118.4166\" fill=\"none\" stroke=\"#000000\"/>\n",
       "<polygon fill=\"#000000\" points=\"200.4326,-118.4132 196.9325,-108.4133 193.4326,-118.4133 200.4326,-118.4132\" stroke=\"#000000\"/>\n",
       "</g>\n",
       "</g>\n",
       "</svg>"
      ],
      "text/plain": [
       "<IPython.core.display.SVG object>"
      ]
     },
     "execution_count": 37,
     "metadata": {},
     "output_type": "execute_result"
    }
   ],
   "source": [
    "SVG(theano.printing.pydotprint(f1, return_image=True, format='svg'))"
   ]
  },
  {
   "cell_type": "markdown",
   "metadata": {
    "school_cell_uuid": "f751d3550ce146d990f9f347bc4c3401"
   },
   "source": [
    "함수 실행 속도를 비교해 보면 다음과 같다."
   ]
  },
  {
   "cell_type": "code",
   "execution_count": 38,
   "metadata": {
    "school_cell_uuid": "363499b0ce5f40af98213f0a02432e1a"
   },
   "outputs": [],
   "source": [
    "x1 = np.ones(10000000)"
   ]
  },
  {
   "cell_type": "code",
   "execution_count": 39,
   "metadata": {
    "school_cell_uuid": "f4355919b5c047b3a13e4a95ac3a0eb7"
   },
   "outputs": [
    {
     "name": "stdout",
     "output_type": "stream",
     "text": [
      "459 ms ± 29.8 ms per loop (mean ± std. dev. of 7 runs, 1 loop each)\n"
     ]
    }
   ],
   "source": [
    "%timeit x1 ** 10"
   ]
  },
  {
   "cell_type": "code",
   "execution_count": 40,
   "metadata": {
    "school_cell_uuid": "effab1854f114c008ac10de8799bfaff"
   },
   "outputs": [
    {
     "name": "stdout",
     "output_type": "stream",
     "text": [
      "49.7 ms ± 3.4 ms per loop (mean ± std. dev. of 7 runs, 10 loops each)\n"
     ]
    }
   ],
   "source": [
    "%timeit f1(x1)"
   ]
  },
  {
   "cell_type": "markdown",
   "metadata": {
    "school_cell_uuid": "c2b8b6f8d5ad49f081a54ed3a1d77ef9"
   },
   "source": [
    "### 미분 "
   ]
  },
  {
   "cell_type": "markdown",
   "metadata": {
    "school_cell_uuid": "8cf0e470af354c6790a96c27514aa45d"
   },
   "source": [
    "심볼릭 연산의 가장 큰 장점은 빠르고 정확하게 미분값(gradient, Hessian 등)을 계산할 수 있다는 점이다."
   ]
  },
  {
   "cell_type": "code",
   "execution_count": 41,
   "metadata": {
    "school_cell_uuid": "b7c1b074fccf4b108b2b240745d21e83"
   },
   "outputs": [],
   "source": [
    "x1 = T.dscalar('x1')\n",
    "y1 = x1 ** 2\n",
    "gy1 = T.grad(y1, x1)\n",
    "fy1 = theano.function([x1], y1)\n",
    "fgy1 = theano.function([x1], gy1)"
   ]
  },
  {
   "cell_type": "code",
   "execution_count": 42,
   "metadata": {
    "school_cell_uuid": "19502d4deea748858027a74f605a96cc"
   },
   "outputs": [
    {
     "data": {
      "image/svg+xml": [
       "<svg height=\"188pt\" viewBox=\"0.00 0.00 232.00 188.00\" width=\"232pt\" xmlns=\"http://www.w3.org/2000/svg\" xmlns:xlink=\"http://www.w3.org/1999/xlink\">\n",
       "<g class=\"graph\" id=\"graph0\" transform=\"scale(1 1) rotate(0) translate(4 184)\">\n",
       "<title>G</title>\n",
       "<polygon fill=\"#ffffff\" points=\"-4,4 -4,-184 228,-184 228,4 -4,4\" stroke=\"transparent\"/>\n",
       "<!-- 140216551046896 -->\n",
       "<g class=\"node\" id=\"node1\">\n",
       "<title>140216551046896</title>\n",
       "<ellipse cx=\"112\" cy=\"-90\" fill=\"#ffaabb\" rx=\"106.6812\" ry=\"18\" stroke=\"#000000\"/>\n",
       "<text fill=\"#000000\" font-family=\"Times,serif\" font-size=\"14.00\" text-anchor=\"middle\" x=\"112\" y=\"-86.3\">Elemwise{sqr,no_inplace}</text>\n",
       "</g>\n",
       "<!-- 140216551046056 -->\n",
       "<g class=\"node\" id=\"node3\">\n",
       "<title>140216551046056</title>\n",
       "<polygon fill=\"#0000ff\" points=\"196,-36 28,-36 28,0 196,0 196,-36\" stroke=\"#000000\"/>\n",
       "<text fill=\"#000000\" font-family=\"Times,serif\" font-size=\"14.00\" text-anchor=\"middle\" x=\"112\" y=\"-14.3\">TensorType(float64, scalar)</text>\n",
       "</g>\n",
       "<!-- 140216551046896&#45;&gt;140216551046056 -->\n",
       "<g class=\"edge\" id=\"edge2\">\n",
       "<title>140216551046896-&gt;140216551046056</title>\n",
       "<path d=\"M112,-71.8314C112,-64.131 112,-54.9743 112,-46.4166\" fill=\"none\" stroke=\"#000000\"/>\n",
       "<polygon fill=\"#000000\" points=\"115.5001,-46.4132 112,-36.4133 108.5001,-46.4133 115.5001,-46.4132\" stroke=\"#000000\"/>\n",
       "</g>\n",
       "<!-- 140216551046952 -->\n",
       "<g class=\"node\" id=\"node2\">\n",
       "<title>140216551046952</title>\n",
       "<polygon fill=\"#00ff00\" points=\"224,-180 0,-180 0,-144 224,-144 224,-180\" stroke=\"#000000\"/>\n",
       "<text fill=\"#000000\" font-family=\"Times,serif\" font-size=\"14.00\" text-anchor=\"middle\" x=\"112\" y=\"-158.3\">name=x1 TensorType(float64, scalar)</text>\n",
       "</g>\n",
       "<!-- 140216551046952&#45;&gt;140216551046896 -->\n",
       "<g class=\"edge\" id=\"edge1\">\n",
       "<title>140216551046952-&gt;140216551046896</title>\n",
       "<path d=\"M112,-143.8314C112,-136.131 112,-126.9743 112,-118.4166\" fill=\"none\" stroke=\"#000000\"/>\n",
       "<polygon fill=\"#000000\" points=\"115.5001,-118.4132 112,-108.4133 108.5001,-118.4133 115.5001,-118.4132\" stroke=\"#000000\"/>\n",
       "</g>\n",
       "</g>\n",
       "</svg>"
      ],
      "text/plain": [
       "<IPython.core.display.SVG object>"
      ]
     },
     "execution_count": 42,
     "metadata": {},
     "output_type": "execute_result"
    }
   ],
   "source": [
    "SVG(theano.printing.pydotprint(fy1.maker.fgraph.outputs[0], return_image=True, format='svg'))"
   ]
  },
  {
   "cell_type": "code",
   "execution_count": 43,
   "metadata": {
    "school_cell_uuid": "0598569e51a84050bb7c86f4d6edd003"
   },
   "outputs": [
    {
     "data": {
      "image/svg+xml": [
       "<svg height=\"204pt\" viewBox=\"0.00 0.00 464.00 204.00\" width=\"464pt\" xmlns=\"http://www.w3.org/2000/svg\" xmlns:xlink=\"http://www.w3.org/1999/xlink\">\n",
       "<g class=\"graph\" id=\"graph0\" transform=\"scale(1 1) rotate(0) translate(4 200)\">\n",
       "<title>G</title>\n",
       "<polygon fill=\"#ffffff\" points=\"-4,4 -4,-200 460,-200 460,4 -4,4\" stroke=\"transparent\"/>\n",
       "<!-- 140216548371256 -->\n",
       "<g class=\"node\" id=\"node1\">\n",
       "<title>140216548371256</title>\n",
       "<ellipse cx=\"225\" cy=\"-91\" fill=\"#ffaabb\" rx=\"109.6807\" ry=\"18\" stroke=\"#000000\"/>\n",
       "<text fill=\"#000000\" font-family=\"Times,serif\" font-size=\"14.00\" text-anchor=\"middle\" x=\"225\" y=\"-87.3\">Elemwise{mul,no_inplace}</text>\n",
       "</g>\n",
       "<!-- 140216548371088 -->\n",
       "<g class=\"node\" id=\"node4\">\n",
       "<title>140216548371088</title>\n",
       "<polygon fill=\"#0000ff\" points=\"309,-36 141,-36 141,0 309,0 309,-36\" stroke=\"#000000\"/>\n",
       "<text fill=\"#000000\" font-family=\"Times,serif\" font-size=\"14.00\" text-anchor=\"middle\" x=\"225\" y=\"-14.3\">TensorType(float64, scalar)</text>\n",
       "</g>\n",
       "<!-- 140216548371256&#45;&gt;140216548371088 -->\n",
       "<g class=\"edge\" id=\"edge3\">\n",
       "<title>140216548371256-&gt;140216548371088</title>\n",
       "<path d=\"M225,-72.9551C225,-64.8828 225,-55.1764 225,-46.1817\" fill=\"none\" stroke=\"#000000\"/>\n",
       "<polygon fill=\"#000000\" points=\"228.5001,-46.0903 225,-36.0904 221.5001,-46.0904 228.5001,-46.0903\" stroke=\"#000000\"/>\n",
       "</g>\n",
       "<!-- 140216548370920 -->\n",
       "<g class=\"node\" id=\"node2\">\n",
       "<title>140216548370920</title>\n",
       "<polygon fill=\"#00ff00\" points=\"214,-196 0,-196 0,-160 214,-160 214,-196\" stroke=\"#000000\"/>\n",
       "<text fill=\"#000000\" font-family=\"Times,serif\" font-size=\"14.00\" text-anchor=\"middle\" x=\"107\" y=\"-174.3\">val=2.0 TensorType(float64, scalar)</text>\n",
       "</g>\n",
       "<!-- 140216548370920&#45;&gt;140216548371256 -->\n",
       "<g class=\"edge\" id=\"edge1\">\n",
       "<title>140216548370920-&gt;140216548371256</title>\n",
       "<path d=\"M131.4497,-159.9735C149.2084,-146.8802 173.4152,-129.0328 192.7556,-114.7734\" fill=\"none\" stroke=\"#000000\"/>\n",
       "<polygon fill=\"#000000\" points=\"195.0135,-117.4572 200.9854,-108.7057 190.8595,-111.8229 195.0135,-117.4572\" stroke=\"#000000\"/>\n",
       "<text fill=\"#000000\" font-family=\"Times,serif\" font-size=\"14.00\" text-anchor=\"middle\" x=\"177.5\" y=\"-130.8\">0</text>\n",
       "</g>\n",
       "<!-- 140216548370976 -->\n",
       "<g class=\"node\" id=\"node3\">\n",
       "<title>140216548370976</title>\n",
       "<polygon fill=\"#00ff00\" points=\"456,-196 232,-196 232,-160 456,-160 456,-196\" stroke=\"#000000\"/>\n",
       "<text fill=\"#000000\" font-family=\"Times,serif\" font-size=\"14.00\" text-anchor=\"middle\" x=\"344\" y=\"-174.3\">name=x1 TensorType(float64, scalar)</text>\n",
       "</g>\n",
       "<!-- 140216548370976&#45;&gt;140216548371256 -->\n",
       "<g class=\"edge\" id=\"edge2\">\n",
       "<title>140216548370976-&gt;140216548371256</title>\n",
       "<path d=\"M319.3431,-159.9735C301.4339,-146.8802 277.0219,-129.0328 257.5176,-114.7734\" fill=\"none\" stroke=\"#000000\"/>\n",
       "<polygon fill=\"#000000\" points=\"259.3565,-111.7822 249.2181,-108.7057 255.2252,-117.433 259.3565,-111.7822\" stroke=\"#000000\"/>\n",
       "<text fill=\"#000000\" font-family=\"Times,serif\" font-size=\"14.00\" text-anchor=\"middle\" x=\"295.5\" y=\"-130.8\">1</text>\n",
       "</g>\n",
       "</g>\n",
       "</svg>"
      ],
      "text/plain": [
       "<IPython.core.display.SVG object>"
      ]
     },
     "execution_count": 43,
     "metadata": {},
     "output_type": "execute_result"
    }
   ],
   "source": [
    "SVG(theano.printing.pydotprint(fgy1.maker.fgraph.outputs[0], return_image=True, format='svg'))"
   ]
  },
  {
   "cell_type": "code",
   "execution_count": 44,
   "metadata": {
    "school_cell_uuid": "8c1146a0521b47629ecb86bd9fb66950"
   },
   "outputs": [],
   "source": [
    "x1 = T.dscalar('x1')\n",
    "s1 = 1 / (1 + T.exp(-x1))\n",
    "logistic = theano.function([x1], s1)\n",
    "gs1 = T.grad(s1, x1)\n",
    "dlogistic = theano.function([x1], gs1)"
   ]
  },
  {
   "cell_type": "code",
   "execution_count": 45,
   "metadata": {
    "school_cell_uuid": "aab6b5005e004d8e91795c4285a28211"
   },
   "outputs": [
    {
     "data": {
      "image/svg+xml": [
       "<svg height=\"188pt\" viewBox=\"0.00 0.00 232.00 188.00\" width=\"232pt\" xmlns=\"http://www.w3.org/2000/svg\" xmlns:xlink=\"http://www.w3.org/1999/xlink\">\n",
       "<g class=\"graph\" id=\"graph0\" transform=\"scale(1 1) rotate(0) translate(4 184)\">\n",
       "<title>G</title>\n",
       "<polygon fill=\"#ffffff\" points=\"-4,4 -4,-184 228,-184 228,4 -4,4\" stroke=\"transparent\"/>\n",
       "<!-- 140216544105584 -->\n",
       "<g class=\"node\" id=\"node1\">\n",
       "<title>140216544105584</title>\n",
       "<ellipse cx=\"112\" cy=\"-90\" fill=\"#ffaabb\" rx=\"39.7935\" ry=\"18\" stroke=\"#000000\"/>\n",
       "<text fill=\"#000000\" font-family=\"Times,serif\" font-size=\"14.00\" text-anchor=\"middle\" x=\"112\" y=\"-86.3\">sigmoid</text>\n",
       "</g>\n",
       "<!-- 140216544085272 -->\n",
       "<g class=\"node\" id=\"node3\">\n",
       "<title>140216544085272</title>\n",
       "<polygon fill=\"#0000ff\" points=\"196,-36 28,-36 28,0 196,0 196,-36\" stroke=\"#000000\"/>\n",
       "<text fill=\"#000000\" font-family=\"Times,serif\" font-size=\"14.00\" text-anchor=\"middle\" x=\"112\" y=\"-14.3\">TensorType(float64, scalar)</text>\n",
       "</g>\n",
       "<!-- 140216544105584&#45;&gt;140216544085272 -->\n",
       "<g class=\"edge\" id=\"edge2\">\n",
       "<title>140216544105584-&gt;140216544085272</title>\n",
       "<path d=\"M112,-71.8314C112,-64.131 112,-54.9743 112,-46.4166\" fill=\"none\" stroke=\"#000000\"/>\n",
       "<polygon fill=\"#000000\" points=\"115.5001,-46.4132 112,-36.4133 108.5001,-46.4133 115.5001,-46.4132\" stroke=\"#000000\"/>\n",
       "</g>\n",
       "<!-- 140216543607272 -->\n",
       "<g class=\"node\" id=\"node2\">\n",
       "<title>140216543607272</title>\n",
       "<polygon fill=\"#00ff00\" points=\"224,-180 0,-180 0,-144 224,-144 224,-180\" stroke=\"#000000\"/>\n",
       "<text fill=\"#000000\" font-family=\"Times,serif\" font-size=\"14.00\" text-anchor=\"middle\" x=\"112\" y=\"-158.3\">name=x1 TensorType(float64, scalar)</text>\n",
       "</g>\n",
       "<!-- 140216543607272&#45;&gt;140216544105584 -->\n",
       "<g class=\"edge\" id=\"edge1\">\n",
       "<title>140216543607272-&gt;140216544105584</title>\n",
       "<path d=\"M112,-143.8314C112,-136.131 112,-126.9743 112,-118.4166\" fill=\"none\" stroke=\"#000000\"/>\n",
       "<polygon fill=\"#000000\" points=\"115.5001,-118.4132 112,-108.4133 108.5001,-118.4133 115.5001,-118.4132\" stroke=\"#000000\"/>\n",
       "</g>\n",
       "</g>\n",
       "</svg>"
      ],
      "text/plain": [
       "<IPython.core.display.SVG object>"
      ]
     },
     "execution_count": 45,
     "metadata": {},
     "output_type": "execute_result"
    }
   ],
   "source": [
    "SVG(theano.printing.pydotprint(logistic, return_image=True, format='svg'))"
   ]
  },
  {
   "cell_type": "code",
   "execution_count": 46,
   "metadata": {
    "school_cell_uuid": "97975c9d33024b799805592e2fd62abc"
   },
   "outputs": [
    {
     "data": {
      "image/svg+xml": [
       "<svg height=\"188pt\" viewBox=\"0.00 0.00 525.35 188.00\" width=\"525pt\" xmlns=\"http://www.w3.org/2000/svg\" xmlns:xlink=\"http://www.w3.org/1999/xlink\">\n",
       "<g class=\"graph\" id=\"graph0\" transform=\"scale(1 1) rotate(0) translate(4 184)\">\n",
       "<title>G</title>\n",
       "<polygon fill=\"#ffffff\" points=\"-4,4 -4,-184 521.3541,-184 521.3541,4 -4,4\" stroke=\"transparent\"/>\n",
       "<!-- 140216543911496 -->\n",
       "<g class=\"node\" id=\"node1\">\n",
       "<title>140216543911496</title>\n",
       "<ellipse cx=\"258.677\" cy=\"-90\" fill=\"#ffaabb\" rx=\"258.8542\" ry=\"18\" stroke=\"#000000\"/>\n",
       "<text fill=\"#000000\" font-family=\"Times,serif\" font-size=\"14.00\" text-anchor=\"middle\" x=\"258.677\" y=\"-86.3\">Elemwise{Composite{(scalar_sigmoid((-i0)) * scalar_sigmoid(i0))}}</text>\n",
       "</g>\n",
       "<!-- 140216543911328 -->\n",
       "<g class=\"node\" id=\"node3\">\n",
       "<title>140216543911328</title>\n",
       "<polygon fill=\"#0000ff\" points=\"342.677,-36 174.677,-36 174.677,0 342.677,0 342.677,-36\" stroke=\"#000000\"/>\n",
       "<text fill=\"#000000\" font-family=\"Times,serif\" font-size=\"14.00\" text-anchor=\"middle\" x=\"258.677\" y=\"-14.3\">TensorType(float64, scalar)</text>\n",
       "</g>\n",
       "<!-- 140216543911496&#45;&gt;140216543911328 -->\n",
       "<g class=\"edge\" id=\"edge2\">\n",
       "<title>140216543911496-&gt;140216543911328</title>\n",
       "<path d=\"M258.677,-71.8314C258.677,-64.131 258.677,-54.9743 258.677,-46.4166\" fill=\"none\" stroke=\"#000000\"/>\n",
       "<polygon fill=\"#000000\" points=\"262.1771,-46.4132 258.677,-36.4133 255.1771,-46.4133 262.1771,-46.4132\" stroke=\"#000000\"/>\n",
       "</g>\n",
       "<!-- 140216543911552 -->\n",
       "<g class=\"node\" id=\"node2\">\n",
       "<title>140216543911552</title>\n",
       "<polygon fill=\"#00ff00\" points=\"370.677,-180 146.677,-180 146.677,-144 370.677,-144 370.677,-180\" stroke=\"#000000\"/>\n",
       "<text fill=\"#000000\" font-family=\"Times,serif\" font-size=\"14.00\" text-anchor=\"middle\" x=\"258.677\" y=\"-158.3\">name=x1 TensorType(float64, scalar)</text>\n",
       "</g>\n",
       "<!-- 140216543911552&#45;&gt;140216543911496 -->\n",
       "<g class=\"edge\" id=\"edge1\">\n",
       "<title>140216543911552-&gt;140216543911496</title>\n",
       "<path d=\"M258.677,-143.8314C258.677,-136.131 258.677,-126.9743 258.677,-118.4166\" fill=\"none\" stroke=\"#000000\"/>\n",
       "<polygon fill=\"#000000\" points=\"262.1771,-118.4132 258.677,-108.4133 255.1771,-118.4133 262.1771,-118.4132\" stroke=\"#000000\"/>\n",
       "</g>\n",
       "</g>\n",
       "</svg>"
      ],
      "text/plain": [
       "<IPython.core.display.SVG object>"
      ]
     },
     "execution_count": 46,
     "metadata": {},
     "output_type": "execute_result"
    }
   ],
   "source": [
    "SVG(theano.printing.pydotprint(dlogistic.maker.fgraph.outputs[0], return_image=True, format='svg'))"
   ]
  },
  {
   "cell_type": "code",
   "execution_count": 47,
   "metadata": {
    "school_cell_uuid": "6be4089f0f354338b8088b2ef6233281"
   },
   "outputs": [
    {
     "data": {
      "image/png": "[encoded data removed]",
      "text/plain": [
       "<Figure size 2400x1500 with 1 Axes>"
      ]
     },
     "metadata": {},
     "output_type": "display_data"
    }
   ],
   "source": [
    "xx = np.linspace(-5, 5, 100)\n",
    "y1 = np.hstack([logistic(xi) for xi in xx])\n",
    "y2 = np.hstack([dlogistic(xi) for xi in xx])\n",
    "plt.plot(xx, y1, label=\"logistic\")\n",
    "plt.plot(xx, y2, label=\"derivative of logistic\")\n",
    "plt.legend(loc=0)\n",
    "plt.show()"
   ]
  },
  {
   "cell_type": "markdown",
   "metadata": {
    "school_cell_uuid": "f27002ff997c4cdaabea0bbc89b1686f"
   },
   "source": [
    "## 퍼셉트론 구현"
   ]
  },
  {
   "cell_type": "markdown",
   "metadata": {
    "school_cell_uuid": "87b175de795541dd9a6c315f27c6c023"
   },
   "source": [
    "Theano를 사용하면 다음과 같이 퍼셉트론을 구현할 수 있다."
   ]
  },
  {
   "cell_type": "code",
   "execution_count": 48,
   "metadata": {
    "school_cell_uuid": "3f86b7eb85ae4f7999cd9c92a4ce654f"
   },
   "outputs": [
    {
     "data": {
      "image/png": "[encoded data removed]",
      "text/plain": [
       "<Figure size 720x480 with 1 Axes>"
      ]
     },
     "metadata": {},
     "output_type": "display_data"
    }
   ],
   "source": [
    "from sklearn.datasets import load_iris\n",
    "iris = load_iris()\n",
    "\n",
    "idx = np.in1d(iris.target, [0, 2])\n",
    "X_data = iris.data[idx, 0:2]\n",
    "y_data = iris.target[idx] - 1\n",
    "\n",
    "plt.figure(figsize=(12, 8), dpi=60)\n",
    "plt.scatter(X_data[:, 0], X_data[:, 1], c=y_data, s=100, edgecolor='k')\n",
    "plt.show()"
   ]
  },
  {
   "cell_type": "markdown",
   "metadata": {
    "school_cell_uuid": "397032f27ae74332a8320af94c16ae31"
   },
   "source": [
    "출력을 `a`, 목적 함수를 `cost`, 목적 함수의 미분(그레디언트)을 `gradient`로 정의한다."
   ]
  },
  {
   "cell_type": "code",
   "execution_count": 49,
   "metadata": {
    "school_cell_uuid": "0bac4ac1e800494e912b6b694091d1ec"
   },
   "outputs": [],
   "source": [
    "X = T.dmatrix('X')\n",
    "y = T.dvector('y')\n",
    "np.random.seed(0)\n",
    "w = theano.shared(0.001 * np.random.randn(2), name=\"w\")\n",
    "b = theano.shared(0.001 * np.random.randn(1)[0], name=\"b\")\n",
    "d = T.tanh(T.dot(X, w) + b)\n",
    "cost = T.sum(T.maximum(0, -y * d))"
   ]
  },
  {
   "cell_type": "code",
   "execution_count": 50,
   "metadata": {
    "school_cell_uuid": "df466b3715124773983718e4683675f4"
   },
   "outputs": [],
   "source": [
    "gw, gb = T.grad(cost, [w, b])\n",
    "mu = 1e-7\n",
    "train = theano.function([X, y], cost, updates=[(w, w - mu * gw), (b, b - mu * gb)])"
   ]
  },
  {
   "cell_type": "markdown",
   "metadata": {
    "school_cell_uuid": "e67b35c56c05473e90c5b0dec0758327"
   },
   "source": [
    "초기값에서 그레디언트 값을 계산하고 이를 이용하여 가중치를 갱신한다."
   ]
  },
  {
   "cell_type": "code",
   "execution_count": 51,
   "metadata": {
    "school_cell_uuid": "a4933396ef924cd58f0dca27413dbb30",
    "scrolled": false
   },
   "outputs": [
    {
     "name": "stdout",
     "output_type": "stream",
     "text": [
      "   0:  0.5588424928848522\n",
      "  10:  0.4645058718722919\n",
      "  20:  0.37016250114427207\n",
      "  30:  0.27581374670328085\n",
      "  40:  0.18146097498533956\n",
      "  50:  0.08710555275029427\n",
      "  60:  0.0017481157550485488\n",
      "  70:  0.0003194822026270444\n",
      "  80:  0.00029294220762885446\n",
      "  90:  0.0002921062099464225\n"
     ]
    }
   ],
   "source": [
    "for i in range(100):\n",
    "    cost_i = train(X_data, y_data)\n",
    "    if i % 10 == 0:\n",
    "        print(\"{:4d}: \".format(i), cost_i)"
   ]
  },
  {
   "cell_type": "code",
   "execution_count": 52,
   "metadata": {
    "school_cell_uuid": "32d75e3c57694577ba8ab9cd67617602"
   },
   "outputs": [
    {
     "data": {
      "text/plain": [
       "array([-1., -1., -1., -1., -1., -1., -1., -1., -1., -1., -1., -1., -1.,\n",
       "       -1., -1., -1., -1., -1., -1., -1., -1., -1., -1., -1., -1., -1.,\n",
       "       -1., -1., -1., -1., -1., -1., -1., -1., -1., -1., -1., -1., -1.,\n",
       "       -1., -1.,  1., -1., -1., -1., -1., -1., -1., -1., -1.,  1.,  1.,\n",
       "        1.,  1.,  1.,  1.,  1.,  1.,  1.,  1.,  1.,  1.,  1.,  1.,  1.,\n",
       "        1.,  1.,  1.,  1.,  1.,  1.,  1.,  1.,  1.,  1.,  1.,  1.,  1.,\n",
       "        1.,  1.,  1.,  1.,  1.,  1.,  1.,  1.,  1.,  1.,  1.,  1.,  1.,\n",
       "        1.,  1.,  1.,  1.,  1.,  1.,  1., -1.,  1.])"
      ]
     },
     "execution_count": 52,
     "metadata": {},
     "output_type": "execute_result"
    }
   ],
   "source": [
    "y_pred = T.sgn(d)\n",
    "y_pred_func = theano.function([X], y_pred)\n",
    "y_pred = y_pred_func(X_data)\n",
    "y_pred"
   ]
  },
  {
   "cell_type": "code",
   "execution_count": 53,
   "metadata": {
    "school_cell_uuid": "f6bc4b12045f40fb94c0d22f24d6d666"
   },
   "outputs": [
    {
     "data": {
      "text/plain": [
       "array([[49,  1],\n",
       "       [ 1, 49]])"
      ]
     },
     "execution_count": 53,
     "metadata": {},
     "output_type": "execute_result"
    }
   ],
   "source": [
    "from sklearn.metrics import confusion_matrix\n",
    "\n",
    "confusion_matrix(y_data, y_pred)"
   ]
  },
  {
   "cell_type": "markdown",
   "metadata": {
    "bootstrap": {
     "panel": {
      "class": "panel-default"
     }
    },
    "school_cell_uuid": "51c043fc4b8b4a90a5c99971a76f6d3c"
   },
   "source": [
    "#### 연습 문제 1\n",
    "\n",
    "위 퍼셉트론 코드를 다음과 같이 고쳐라.\n",
    "\n",
    "1. y값은 0과 1이라는 값만 가진다.\n",
    "2. 활성화 함수는 로지스틱 함수를 사용한다.\n",
    "3. 코스트 함수는 다음과 같은 오차 제곱 합수를 사용한다.\n",
    "$$ C = \\sum_{i=1}^N (y - \\hat{y})^2 $$"
   ]
  },
  {
   "cell_type": "markdown",
   "metadata": {
    "school_cell_uuid": "fa6bd9d4675e405dabd06685be244312"
   },
   "source": [
    "## 참조 문헌"
   ]
  },
  {
   "cell_type": "markdown",
   "metadata": {
    "school_cell_uuid": "7eeac32e5e124c809f24f5b3a3f5b19e"
   },
   "source": [
    "다음은 Theano를 사용하는데 도움이 되는 참조 문서 목록이다.\n",
    "\n",
    " * http://ir.hit.edu.cn/~jguo/docs/notes/a_simple_tutorial_on_theano.pdf\n",
    " * http://mlg.eng.cam.ac.uk/yarin/PDFs/RCC-Auto-Diff-presentation.pdf\n",
    " * http://speech.ee.ntu.edu.tw/~tlkagk/courses/MLDS_2015_2/Lecture/Theano%20DNN.pdf\n",
    " "
   ]
  }
 ],
 "metadata": {
  "celltoolbar": "Edit Metadata",
  "kernelspec": {
   "display_name": "Python 3",
   "language": "python",
   "name": "python3"
  },
  "language_info": {
   "codemirror_mode": {
    "name": "ipython",
    "version": 3
   },
   "file_extension": ".py",
   "mimetype": "text/x-python",
   "name": "python",
   "nbconvert_exporter": "python",
   "pygments_lexer": "ipython3",
   "version": "3.6.5"
  }
 },
 "nbformat": 4,
 "nbformat_minor": 1
}