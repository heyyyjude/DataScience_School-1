{
 "cells": [
  {
   "cell_type": "markdown",
   "metadata": {},
   "source": [
    "# Condition & Loop & Input & Output\n",
    "\n",
    "- 1 input\n",
    "- 2 print\n",
    "- 3 if, elif, else\n",
    "- 4 while\n",
    "- 5 for\n",
    "- 6 comprehension"
   ]
  },
  {
   "cell_type": "markdown",
   "metadata": {},
   "source": [
    "## 1. Input"
   ]
  },
  {
   "cell_type": "code",
   "execution_count": 1,
   "metadata": {},
   "outputs": [
    {
     "name": "stdout",
     "output_type": "stream",
     "text": [
      "insert string : dss\n",
      "<class 'str'> dss\n"
     ]
    }
   ],
   "source": [
    "value = input(\"insert string : \")\n",
    "print(type(value), value)"
   ]
  },
  {
   "cell_type": "code",
   "execution_count": 2,
   "metadata": {},
   "outputs": [
    {
     "name": "stdout",
     "output_type": "stream",
     "text": [
      "insert number : 7\n",
      "<class 'int'> 7\n"
     ]
    }
   ],
   "source": [
    "value = int(input(\"insert number : \"))\n",
    "print(type(value), value)"
   ]
  },
  {
   "cell_type": "markdown",
   "metadata": {},
   "source": [
    "## 2. print"
   ]
  },
  {
   "cell_type": "code",
   "execution_count": 3,
   "metadata": {},
   "outputs": [
    {
     "name": "stdout",
     "output_type": "stream",
     "text": [
      "fast campus\n"
     ]
    }
   ],
   "source": [
    "print(\"fast\", \"campus\")"
   ]
  },
  {
   "cell_type": "code",
   "execution_count": 4,
   "metadata": {},
   "outputs": [
    {
     "name": "stdout",
     "output_type": "stream",
     "text": [
      "data\n",
      "dss\n"
     ]
    }
   ],
   "source": [
    "# \\n 사용 줄바꿈 가능\n",
    "print(\"data\", end = \"\\n\")\n",
    "print(\"dss\")"
   ]
  },
  {
   "cell_type": "code",
   "execution_count": 5,
   "metadata": {},
   "outputs": [
    {
     "name": "stdout",
     "output_type": "stream",
     "text": [
      "data\tdss\n"
     ]
    }
   ],
   "source": [
    "# \\t 사용 같은 line tab공간 띄워서 출력\n",
    "        \n",
    "print(\"data\", end = \"\\t\")\n",
    "print(\"dss\")"
   ]
  },
  {
   "cell_type": "code",
   "execution_count": 6,
   "metadata": {},
   "outputs": [
    {
     "name": "stdout",
     "output_type": "stream",
     "text": [
      "number : 1234, string: fastcampus\n",
      "number : 1234, string: fastcampus\n"
     ]
    }
   ],
   "source": [
    "# format\n",
    "\n",
    "a, b = 1234, \"fastcampus\"\n",
    "\n",
    "print(\"number : {}, string: {}\".format(a, b))\n",
    "\n",
    "print(\"number : {num}, string: {string}\".format(num = a, string = b))"
   ]
  },
  {
   "cell_type": "markdown",
   "metadata": {},
   "source": [
    "## 3. if, elif, else\n",
    "\n",
    "- syntax\n",
    "```\n",
    "if condition_1:\n",
    "    code_1\n",
    "elif condition_2:\n",
    "    code_2\n",
    "else:\n",
    "    code_3        \n",
    "```\n",
    "- condition이 True이면 해당 조건안쪽의 코드가 실행"
   ]
  },
  {
   "cell_type": "code",
   "execution_count": 7,
   "metadata": {},
   "outputs": [
    {
     "name": "stdout",
     "output_type": "stream",
     "text": [
      "if\n"
     ]
    }
   ],
   "source": [
    "# 기본 구조\n",
    "flag = True\n",
    "if flag:\n",
    "    print(\"if\")\n",
    "else:\n",
    "    print(\"else\")"
   ]
  },
  {
   "cell_type": "code",
   "execution_count": 8,
   "metadata": {},
   "outputs": [
    {
     "name": "stdout",
     "output_type": "stream",
     "text": [
      "else\n"
     ]
    }
   ],
   "source": [
    "flag = False\n",
    "if flag:\n",
    "    print(\"if\")\n",
    "else:\n",
    "    print(\"else\")"
   ]
  },
  {
   "cell_type": "code",
   "execution_count": 9,
   "metadata": {},
   "outputs": [
    {
     "name": "stdout",
     "output_type": "stream",
     "text": [
      "a < b\n"
     ]
    }
   ],
   "source": [
    "# 비교 연산자 사용\n",
    "a, b = 10, 20\n",
    "\n",
    "if a < b:\n",
    "    print(\"a < b\")\n",
    "elif a == b:\n",
    "    print(\"a == b\")\n",
    "else:\n",
    "    print(\"a > b\")"
   ]
  },
  {
   "cell_type": "code",
   "execution_count": 10,
   "metadata": {},
   "outputs": [
    {
     "name": "stdout",
     "output_type": "stream",
     "text": [
      "code 2\n"
     ]
    }
   ],
   "source": [
    "# 논리 연산자 사용\n",
    "a, b = 10, 20\n",
    "\n",
    "if a < 20 and b <10:\n",
    "    print(\"code 1\")\n",
    "else:\n",
    "    print(\"code 2\")"
   ]
  },
  {
   "cell_type": "code",
   "execution_count": 11,
   "metadata": {},
   "outputs": [
    {
     "name": "stdout",
     "output_type": "stream",
     "text": [
      "no_data\n",
      "[1, 2]\n"
     ]
    }
   ],
   "source": [
    "# len(a) == 0 과 같이 사용하지 않는다\n",
    "a,b = [], [1,2]\n",
    "if len(a) == 0:\n",
    "    print(\"no_data\")\n",
    "else:\n",
    "    print(a)\n",
    "# 위와 같은 방법은 비효율적임 len()이라는 함수를 사용하는 것이므로\n",
    "\n",
    "# 아래와 같이 사용하도록 하자\n",
    "if b:\n",
    "    print(b)\n",
    "else:\n",
    "    print(\"no_data\")"
   ]
  },
  {
   "cell_type": "markdown",
   "metadata": {},
   "source": [
    "### Quiz 1\n",
    "\n",
    "- 숫자를 입력 받아 짝수이면 odd, 홀수 이면 even을 출력하는 프로그램을 작성하시오."
   ]
  },
  {
   "cell_type": "markdown",
   "metadata": {},
   "source": [
    "### Quiz 1 - Solution"
   ]
  },
  {
   "cell_type": "code",
   "execution_count": 12,
   "metadata": {},
   "outputs": [
    {
     "name": "stdout",
     "output_type": "stream",
     "text": [
      "숫자를 입력하세요 : 4\n",
      "even\n"
     ]
    }
   ],
   "source": [
    "value = int(input(\"숫자를 입력하세요 : \"))\n",
    "\n",
    "if value % 2 == 0:\n",
    "    print(\"even\")\n",
    "else:\n",
    "    print(\"odd\")"
   ]
  },
  {
   "cell_type": "markdown",
   "metadata": {},
   "source": [
    "### 삼항 연산\n",
    "\n",
    "- syntax\n",
    "`(True) if (condition) else (False)`"
   ]
  },
  {
   "cell_type": "code",
   "execution_count": 13,
   "metadata": {},
   "outputs": [
    {
     "data": {
      "text/plain": [
       "'even'"
      ]
     },
     "execution_count": 13,
     "metadata": {},
     "output_type": "execute_result"
    }
   ],
   "source": [
    "a, result = 10, \"\"\n",
    "if a % 2 == 0:\n",
    "    result = \"even\"\n",
    "else:\n",
    "    result = \"odd\"\n",
    "result"
   ]
  },
  {
   "cell_type": "code",
   "execution_count": 14,
   "metadata": {},
   "outputs": [
    {
     "data": {
      "text/plain": [
       "'even'"
      ]
     },
     "execution_count": 14,
     "metadata": {},
     "output_type": "execute_result"
    }
   ],
   "source": [
    "a = 10\n",
    "result = \"even\" if a % 2 == 0 else \"odd\"\n",
    "result"
   ]
  },
  {
   "cell_type": "markdown",
   "metadata": {},
   "source": [
    "## 4. while\n",
    "\n",
    "- syntax\n",
    "```\n",
    "while condition:\n",
    "    code\n",
    "```\n",
    "- condition이 True이면 while 안쪽의 code가 실행 후 다시 condition을 확인하여 True이면 code실행을 반복\n",
    "- break (무한 루프에 빠지는 것을 방지하기위해 사용)\n",
    "- continue (break와 비슷하나 아얘 나가는 것이아니라 조건문을 다시 실행)"
   ]
  },
  {
   "cell_type": "code",
   "execution_count": 15,
   "metadata": {},
   "outputs": [
    {
     "name": "stdout",
     "output_type": "stream",
     "text": [
      "3\n",
      "2\n",
      "1\n"
     ]
    }
   ],
   "source": [
    "# 기본 구조\n",
    "\n",
    "a = 3\n",
    "\n",
    "while a > 0 :\n",
    "    print(a)\n",
    "    a -= 1"
   ]
  },
  {
   "cell_type": "code",
   "execution_count": 16,
   "metadata": {},
   "outputs": [
    {
     "name": "stdout",
     "output_type": "stream",
     "text": [
      "3\n",
      "2\n"
     ]
    }
   ],
   "source": [
    "# break 사용\n",
    "\n",
    "a = 3\n",
    "while a > 0 :\n",
    "    print(a)\n",
    "    if a == 2:\n",
    "        break\n",
    "    a -= 1"
   ]
  },
  {
   "cell_type": "code",
   "execution_count": 17,
   "metadata": {},
   "outputs": [
    {
     "name": "stdout",
     "output_type": "stream",
     "text": [
      "1\n",
      "3\n"
     ]
    }
   ],
   "source": [
    "# break와 continue의 차이\n",
    "\n",
    "a = [1,2,3,4,\"q\"]\n",
    "idx = 0\n",
    "while True:\n",
    "    data = a[idx]\n",
    "    idx += 1\n",
    "    if data == \"q\":\n",
    "        break\n",
    "    elif data % 2 == 0:\n",
    "        continue\n",
    "    print(data)"
   ]
  },
  {
   "cell_type": "markdown",
   "metadata": {},
   "source": [
    "## 5. for\n",
    "\n",
    "- syntax\n",
    "```\n",
    "for value in list:\n",
    "    code\n",
    "```\n",
    "- list에 있는 value를 순서대로 하나씩 꺼내서 code를 실행\n",
    "- range\n",
    "- zip\n",
    "- enumerate"
   ]
  },
  {
   "cell_type": "code",
   "execution_count": 18,
   "metadata": {},
   "outputs": [
    {
     "name": "stdout",
     "output_type": "stream",
     "text": [
      "0\n",
      "1\n",
      "2\n",
      "3\n",
      "4\n"
     ]
    }
   ],
   "source": [
    "# 기본 구조\n",
    "\n",
    "ls = [0,1,2,3,4]\n",
    "for value in ls:\n",
    "    print(value)"
   ]
  },
  {
   "cell_type": "code",
   "execution_count": 19,
   "metadata": {},
   "outputs": [
    {
     "name": "stdout",
     "output_type": "stream",
     "text": [
      "0\n",
      "1\n",
      "2\n",
      "3\n",
      "4\n"
     ]
    }
   ],
   "source": [
    "# range(end) 시작은 자동으로 0 부터\n",
    "\n",
    "for value in range(5):\n",
    "    print(value)"
   ]
  },
  {
   "cell_type": "code",
   "execution_count": 20,
   "metadata": {},
   "outputs": [
    {
     "name": "stdout",
     "output_type": "stream",
     "text": [
      "2\n",
      "3\n",
      "4\n"
     ]
    }
   ],
   "source": [
    "# range(start:end)\n",
    "\n",
    "for value in range(2,5):\n",
    "    print(value)"
   ]
  },
  {
   "cell_type": "code",
   "execution_count": 21,
   "metadata": {},
   "outputs": [
    {
     "name": "stdout",
     "output_type": "stream",
     "text": [
      "1\n",
      "3\n"
     ]
    }
   ],
   "source": [
    "# range(start:end:step)\n",
    "\n",
    "for value in range(1,5,2):\n",
    "    print(value)"
   ]
  },
  {
   "cell_type": "code",
   "execution_count": 22,
   "metadata": {},
   "outputs": [
    {
     "name": "stdout",
     "output_type": "stream",
     "text": [
      "5\n",
      "4\n",
      "3\n",
      "2\n"
     ]
    }
   ],
   "source": [
    "for value in range(5,1,-1):\n",
    "    print(value)"
   ]
  },
  {
   "cell_type": "code",
   "execution_count": 23,
   "metadata": {},
   "outputs": [
    {
     "name": "stdout",
     "output_type": "stream",
     "text": [
      "5\n"
     ]
    }
   ],
   "source": [
    "# 간단 구조\n",
    "\n",
    "a = 0\n",
    "for _ in range(5):\n",
    "    a += 1\n",
    "print(a)"
   ]
  },
  {
   "cell_type": "markdown",
   "metadata": {},
   "source": [
    "### zip\n",
    "- 2개의 리스트를 key, value 형태로 묶어주는 함수"
   ]
  },
  {
   "cell_type": "code",
   "execution_count": 24,
   "metadata": {},
   "outputs": [],
   "source": [
    "# 2개의 리스트를 매핑시켜 딕셔너리 형태로 변경??\n",
    "subjects = [\"korean\", \"english\", \"math\", \"science\"]\n",
    "points = [100, 80, 90, 60]"
   ]
  },
  {
   "cell_type": "code",
   "execution_count": 25,
   "metadata": {},
   "outputs": [
    {
     "data": {
      "text/plain": [
       "{'english': 80, 'korean': 100, 'math': 90, 'science': 60}"
      ]
     },
     "execution_count": 25,
     "metadata": {},
     "output_type": "execute_result"
    }
   ],
   "source": [
    "# zip 함수를 모른다면? 이렇게 코드를 할 것.\n",
    "convert_dict = {}\n",
    "for idx in range(len(subjects)):\n",
    "    convert_dict[subjects[idx]] = points[idx]\n",
    "convert_dict"
   ]
  },
  {
   "cell_type": "code",
   "execution_count": 26,
   "metadata": {},
   "outputs": [
    {
     "name": "stdout",
     "output_type": "stream",
     "text": [
      "korean 100\n",
      "english 80\n",
      "math 90\n",
      "science 60\n"
     ]
    },
    {
     "data": {
      "text/plain": [
       "{'english': 80, 'korean': 100, 'math': 90, 'science': 60}"
      ]
     },
     "execution_count": 26,
     "metadata": {},
     "output_type": "execute_result"
    }
   ],
   "source": [
    "# zip에 대한 for 문\n",
    "convert_dict = {}\n",
    "for subject, point in zip(subjects, points):\n",
    "    print(subject, point)\n",
    "    convert_dict[subject] = point\n",
    "convert_dict"
   ]
  },
  {
   "cell_type": "code",
   "execution_count": 27,
   "metadata": {},
   "outputs": [
    {
     "data": {
      "text/plain": [
       "{'english': 80, 'korean': 100, 'math': 90, 'science': 60}"
      ]
     },
     "execution_count": 27,
     "metadata": {},
     "output_type": "execute_result"
    }
   ],
   "source": [
    "convert_dict = {}\n",
    "for subject, point in zip(subjects, points):\n",
    "    convert_dict[subject] = point\n",
    "convert_dict"
   ]
  },
  {
   "cell_type": "code",
   "execution_count": 28,
   "metadata": {},
   "outputs": [
    {
     "name": "stdout",
     "output_type": "stream",
     "text": [
      "(('korean', 100), ('english', 80), ('math', 90), ('science', 60))\n",
      "{'science': 60, 'english': 80, 'math': 90, 'korean': 100}\n"
     ]
    }
   ],
   "source": [
    "# 하지만 zip을 안다면? 한 줄로 같은 결과를 얻을 수 있음\n",
    "# tuple형태, dict형태 둘다 표현 가능\n",
    "\n",
    "print(tuple(zip(subjects,points)))\n",
    "print(dict(zip(subjects,points)))"
   ]
  },
  {
   "cell_type": "markdown",
   "metadata": {},
   "source": [
    "### enumerate\n",
    "\n",
    "- 리스트 형태의 데이터를 index와 value값을 동시에 사용할 수 있는 함수"
   ]
  },
  {
   "cell_type": "code",
   "execution_count": 29,
   "metadata": {},
   "outputs": [
    {
     "name": "stdout",
     "output_type": "stream",
     "text": [
      "0 korean\n",
      "1 english\n",
      "2 math\n",
      "3 science\n"
     ]
    }
   ],
   "source": [
    "# list(enumerate(range(5,10)))\n",
    "# 기본구조\n",
    "subjects = [\"korean\", \"english\", \"math\", \"science\"]\n",
    "for idx, value in enumerate(subjects):\n",
    "    print(idx, value)"
   ]
  },
  {
   "cell_type": "markdown",
   "metadata": {},
   "source": [
    "### Quiz 2\n",
    "- for 문을 이용하여 리스트에 있는 모든 숫자들을 더하는 코딩을 하시오.\n",
    "- numbers = [1,3,5,7,9]"
   ]
  },
  {
   "cell_type": "markdown",
   "metadata": {},
   "source": [
    "### Quiz 2 - Solution"
   ]
  },
  {
   "cell_type": "code",
   "execution_count": 30,
   "metadata": {},
   "outputs": [
    {
     "data": {
      "text/plain": [
       "25"
      ]
     },
     "execution_count": 30,
     "metadata": {},
     "output_type": "execute_result"
    }
   ],
   "source": [
    "# TODO\n",
    "\n",
    "numbers = [1,3,5,7,9]\n",
    "result = 0\n",
    "for n in numbers:\n",
    "    result += n\n",
    "result"
   ]
  },
  {
   "cell_type": "markdown",
   "metadata": {},
   "source": [
    "### comprehension\n",
    "\n",
    "- 반복문과 결과를 바로 리스트로 만들어 주는 방법\n",
    "- 리스트에 1-5까지 숫자를 대입하는 방법"
   ]
  },
  {
   "cell_type": "code",
   "execution_count": 31,
   "metadata": {},
   "outputs": [
    {
     "name": "stdout",
     "output_type": "stream",
     "text": [
      "[1, 2, 3, 4, 5]\n"
     ]
    }
   ],
   "source": [
    "# method 1 (원초적인 방법)\n",
    "\n",
    "ls = []\n",
    "ls = [1,2,3,4,5]\n",
    "print(ls)"
   ]
  },
  {
   "cell_type": "code",
   "execution_count": 32,
   "metadata": {},
   "outputs": [
    {
     "name": "stdout",
     "output_type": "stream",
     "text": [
      "[1, 2, 3, 4, 5]\n"
     ]
    }
   ],
   "source": [
    "# method 2 (not good)\n",
    "\n",
    "ls = []\n",
    "ls.append(1)\n",
    "ls.append(2)\n",
    "ls.append(3)\n",
    "ls.append(4)\n",
    "ls.append(5)\n",
    "print(ls)"
   ]
  },
  {
   "cell_type": "code",
   "execution_count": 33,
   "metadata": {},
   "outputs": [
    {
     "name": "stdout",
     "output_type": "stream",
     "text": [
      "[1, 2, 3, 4, 5]\n"
     ]
    }
   ],
   "source": [
    "# method 3 (for문)\n",
    "\n",
    "ls = []\n",
    "for num in range(1,6):\n",
    "    ls.append(num)\n",
    "print(ls)"
   ]
  },
  {
   "cell_type": "code",
   "execution_count": 34,
   "metadata": {},
   "outputs": [
    {
     "name": "stdout",
     "output_type": "stream",
     "text": [
      "[1, 2, 3, 4, 5]\n",
      "[1, 2, 3, 4, 5]\n"
     ]
    }
   ],
   "source": [
    "# method 4 (list comprehension 사용)\n",
    "\n",
    "ls = []\n",
    "ls = [num for num in range(1,6)]\n",
    "print(ls)\n",
    "\n",
    "ls = [num+1 for num in range(5)]\n",
    "print(ls)"
   ]
  },
  {
   "cell_type": "code",
   "execution_count": 35,
   "metadata": {},
   "outputs": [
    {
     "name": "stdout",
     "output_type": "stream",
     "text": [
      "CPU times: user 3 µs, sys: 0 ns, total: 3 µs\n",
      "Wall time: 6.91 µs\n"
     ]
    }
   ],
   "source": [
    "# comprehension 은 for문을 사용하는 것보다 속도가 빠르다.\n",
    "\n",
    "%time\n",
    "\n",
    "ls = []\n",
    "for num in range(1,10000):\n",
    "    ls.append(num)    "
   ]
  },
  {
   "cell_type": "code",
   "execution_count": 36,
   "metadata": {},
   "outputs": [
    {
     "name": "stdout",
     "output_type": "stream",
     "text": [
      "CPU times: user 4 µs, sys: 0 ns, total: 4 µs\n",
      "Wall time: 7.15 µs\n"
     ]
    }
   ],
   "source": [
    "%time\n",
    "ls = []\n",
    "ls = [num for num in range(1,10000)]"
   ]
  },
  {
   "cell_type": "code",
   "execution_count": 37,
   "metadata": {},
   "outputs": [],
   "source": [
    "# comprehension은 삼항연산과 함께 사용할 수 있다."
   ]
  },
  {
   "cell_type": "code",
   "execution_count": 38,
   "metadata": {},
   "outputs": [
    {
     "data": {
      "text/plain": [
       "['0:even',\n",
       " '1:even',\n",
       " '2:even',\n",
       " '3:even',\n",
       " '4:even',\n",
       " '5:even',\n",
       " '6:even',\n",
       " '7:even',\n",
       " '8:even',\n",
       " '9:even',\n",
       " '10:even']"
      ]
     },
     "execution_count": 38,
     "metadata": {},
     "output_type": "execute_result"
    }
   ],
   "source": [
    "# 0 ~ 10까지 숫자를 출력하고 숫자뒤에 짝수인지 홀수인지 출력하는 코드를 작성\n",
    "\n",
    "ls = []\n",
    "ls = [str(num) + \":even\" if num % 2 == 0 \\\n",
    "      else str(num) + \":even\" for num in range(11)]\n",
    "ls"
   ]
  },
  {
   "cell_type": "markdown",
   "metadata": {},
   "source": [
    "### Quiz 3\n",
    "\n",
    "- comprehension과 삼항연산을 함께 사용하여 이름 리스트에서 lee씨 성을 가진 사람은 성을 삭제하는 코드를 작성하세요.\n",
    "- names = [\"kim test\", \"park python\", \"lee data\", \"jung science\", \"lee school\"] (입력)\n",
    "- names = [\"kim test\", \"park python\", \"data\", \"jung science\", \"school\"] (결과)"
   ]
  },
  {
   "cell_type": "markdown",
   "metadata": {},
   "source": [
    "### Quiz 3 - Solution"
   ]
  },
  {
   "cell_type": "code",
   "execution_count": 40,
   "metadata": {},
   "outputs": [
    {
     "data": {
      "text/plain": [
       "['kim test', 'park python', 'data', 'jung science', 'school']"
      ]
     },
     "execution_count": 40,
     "metadata": {},
     "output_type": "execute_result"
    }
   ],
   "source": [
    "names = [\"kim test\", \"park python\", \"lee data\", \"jung science\", \"lee school\"]\n",
    "\n",
    "names = [(names[idx][4:]) if names[idx][:3] == \"lee\" \\\n",
    "         else (names[idx]) for idx in range(len(names))]\n",
    "names"
   ]
  },
  {
   "cell_type": "code",
   "execution_count": 41,
   "metadata": {},
   "outputs": [
    {
     "data": {
      "text/plain": [
       "['kim test', 'park python', 'data', 'jung science', 'school']"
      ]
     },
     "execution_count": 41,
     "metadata": {},
     "output_type": "execute_result"
    }
   ],
   "source": [
    "names = [\"kim test\", \"park python\", \"lee data\", \"jung science\", \"lee school\"]\n",
    "\n",
    "names = [name.split(\" \")[1] if name.split(\" \")[0] == 'lee' \n",
    "         else name for name in names]\n",
    "names"
   ]
  },
  {
   "cell_type": "code",
   "execution_count": null,
   "metadata": {},
   "outputs": [],
   "source": []
  }
 ],
 "metadata": {
  "kernelspec": {
   "display_name": "Python 3",
   "language": "python",
   "name": "python3"
  },
  "language_info": {
   "codemirror_mode": {
    "name": "ipython",
    "version": 3
   },
   "file_extension": ".py",
   "mimetype": "text/x-python",
   "name": "python",
   "nbconvert_exporter": "python",
   "pygments_lexer": "ipython3",
   "version": "3.5.0"
  }
 },
 "nbformat": 4,
 "nbformat_minor": 2
}
