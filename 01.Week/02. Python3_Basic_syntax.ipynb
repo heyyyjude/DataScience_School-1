{
 "cells": [
  {
   "cell_type": "markdown",
   "metadata": {},
   "source": [
    "# Basic Syntax\n",
    "\n",
    "- 1 식별자 (Identifiers)\n",
    "- 2 변수 (Variable)\n",
    "- 3 자료형 (Data Type)\n",
    "- 4 데이터 형변환 (Data Type Conversion)\n",
    "- 5 연산자 (Operator)"
   ]
  },
  {
   "cell_type": "code",
   "execution_count": 1,
   "metadata": {},
   "outputs": [],
   "source": [
    "# 두 수를 더하는 함수 입니다.\n",
    "def sum(a,b):\n",
    "    return a + b"
   ]
  },
  {
   "cell_type": "code",
   "execution_count": 2,
   "metadata": {},
   "outputs": [
    {
     "name": "stdout",
     "output_type": "stream",
     "text": [
      "123\n"
     ]
    }
   ],
   "source": [
    "print(123)"
   ]
  },
  {
   "cell_type": "code",
   "execution_count": 3,
   "metadata": {},
   "outputs": [
    {
     "data": {
      "text/plain": [
       "123"
      ]
     },
     "execution_count": 3,
     "metadata": {},
     "output_type": "execute_result"
    }
   ],
   "source": [
    "123"
   ]
  },
  {
   "cell_type": "code",
   "execution_count": 4,
   "metadata": {},
   "outputs": [
    {
     "name": "stdout",
     "output_type": "stream",
     "text": [
      "123\n",
      "asdf\n"
     ]
    }
   ],
   "source": [
    "print(123)\n",
    "print(\"asdf\")"
   ]
  },
  {
   "cell_type": "code",
   "execution_count": 5,
   "metadata": {},
   "outputs": [
    {
     "name": "stdout",
     "output_type": "stream",
     "text": [
      "asdfqwer\n"
     ]
    }
   ],
   "source": [
    "print(\"asdf\\\n",
    "qwer\")\n",
    "# 파이썬에서 코드의 길이가 길어 여러줄을 사용해야 할 때는 \\를 사용"
   ]
  },
  {
   "cell_type": "markdown",
   "metadata": {},
   "source": [
    "## 1. 식별자 (Identifier)\n",
    "\n",
    "- 변수, 함수, 클래스, 모듈 등을 구분하기 위해 사용되는 이름\n",
    "- 규칙\n",
    "    - 대소문자를 구분\n",
    "    - 소문자(a-z), 대문자(A-Z), 숫자(0-9), 언더스코어(_) 사용 가능\n",
    "    - (_)를 제외한 특수문자는 사용 불가\n",
    "    - 가장 앞에 (__) 사용 지양\n",
    "    - 가장 앞에 숫자 사용 불가\n",
    "    - 예약어 사용 불가\n",
    "        - 예약어 : False, class, finally, is , return, None, continue, for, lambda, try, True, def, from, nonlocal, while, and, ... etc"
   ]
  },
  {
   "cell_type": "code",
   "execution_count": 6,
   "metadata": {},
   "outputs": [],
   "source": [
    "a_ = 3"
   ]
  },
  {
   "cell_type": "code",
   "execution_count": 7,
   "metadata": {},
   "outputs": [
    {
     "data": {
      "text/plain": [
       "3"
      ]
     },
     "execution_count": 7,
     "metadata": {},
     "output_type": "execute_result"
    }
   ],
   "source": [
    "a_"
   ]
  },
  {
   "cell_type": "code",
   "execution_count": 8,
   "metadata": {},
   "outputs": [],
   "source": [
    "a = 1"
   ]
  },
  {
   "cell_type": "code",
   "execution_count": 9,
   "metadata": {},
   "outputs": [],
   "source": [
    "A = 2"
   ]
  },
  {
   "cell_type": "code",
   "execution_count": 10,
   "metadata": {},
   "outputs": [
    {
     "data": {
      "text/plain": [
       "(1, 2)"
      ]
     },
     "execution_count": 10,
     "metadata": {},
     "output_type": "execute_result"
    }
   ],
   "source": [
    "a,A"
   ]
  },
  {
   "cell_type": "markdown",
   "metadata": {},
   "source": [
    "## 2. 변수 (Variable)\n",
    "\n",
    "- 메모리에 데이터를 저장하기 위한 저장공간의 이름\n",
    "- snake_case & PascalCase & camelCase\n",
    "- 값을 저장하기 위한 변수명으로는 snake_case를 사용"
   ]
  },
  {
   "cell_type": "code",
   "execution_count": 11,
   "metadata": {},
   "outputs": [],
   "source": [
    "a = 1\n",
    "# a 라는 이름의 저장공간을 만들고 1 이라는 숫자를 넣는다라는 뜻"
   ]
  },
  {
   "cell_type": "code",
   "execution_count": 12,
   "metadata": {},
   "outputs": [
    {
     "name": "stdout",
     "output_type": "stream",
     "text": [
      "1\n"
     ]
    }
   ],
   "source": [
    "print(a)"
   ]
  },
  {
   "cell_type": "code",
   "execution_count": 13,
   "metadata": {},
   "outputs": [],
   "source": [
    "b = \"python\"\n",
    "# b 라는 이름의 저장공간을 만들고 \"python\" 이라는 문자열을 넣는다라는 뜻"
   ]
  },
  {
   "cell_type": "code",
   "execution_count": 14,
   "metadata": {},
   "outputs": [
    {
     "name": "stdout",
     "output_type": "stream",
     "text": [
      "python\n"
     ]
    }
   ],
   "source": [
    "print(b)"
   ]
  },
  {
   "cell_type": "code",
   "execution_count": 15,
   "metadata": {},
   "outputs": [
    {
     "name": "stdout",
     "output_type": "stream",
     "text": [
      "7 fastcampus\n"
     ]
    }
   ],
   "source": [
    "c, d = 7, \"fastcampus\"\n",
    "print(c,d)\n",
    "# 다중 할당 1"
   ]
  },
  {
   "cell_type": "code",
   "execution_count": 16,
   "metadata": {},
   "outputs": [
    {
     "name": "stdout",
     "output_type": "stream",
     "text": [
      "datascience datascience datascience\n"
     ]
    }
   ],
   "source": [
    "e = f = g = \"datascience\"\n",
    "print(e,f,g)\n",
    "# 다중 할당 2"
   ]
  },
  {
   "cell_type": "markdown",
   "metadata": {},
   "source": [
    "## 3. 자료형 (Data Type)\n",
    "\n",
    "- 1 Numbers\n",
    "    - int : 정수\n",
    "    - float : 실수\n",
    "    - complex : 복소수\n",
    "- 2 Boolean\n",
    "    - True, False 두가지로 이루어진 데이터 타입\n",
    "- 3 String\n",
    "    - 문자들의 나열로 이루어진 데이터 타입\n",
    "    \n",
    "### Collections\n",
    "\n",
    "- 4 List\n",
    "    - 순서가 있는 데이터의 나열\n",
    "- 5 Tuple\n",
    "    - 순서가 있는 데이터들의 나열 변경 불가능\n",
    "- 6 Dictionary\n",
    "    - key, value가 쌍으로 이루어진 데이터 타입\n",
    "- 7 Set\n",
    "    - 순서가 없고 데이터 중복이 되지 않는 데이터 타입\n",
    "    - Dictionary의 key라고 생각 하면 됨"
   ]
  },
  {
   "cell_type": "markdown",
   "metadata": {},
   "source": [
    "#### 3-1. Numbers - Integer"
   ]
  },
  {
   "cell_type": "code",
   "execution_count": 17,
   "metadata": {},
   "outputs": [
    {
     "name": "stdout",
     "output_type": "stream",
     "text": [
      "<class 'int'> <class 'int'> <class 'int'> <class 'int'>\n",
      "0 9982 123 123141\n"
     ]
    }
   ],
   "source": [
    "a, b, c, d = 0, 9982, 123, 123141\n",
    "print(type(a),type(b),type(c),type(d))\n",
    "print(a,b,c,d)\n",
    "\n",
    "# 정수형 데이터"
   ]
  },
  {
   "cell_type": "markdown",
   "metadata": {},
   "source": [
    "#### 3-1. Numbers - float"
   ]
  },
  {
   "cell_type": "code",
   "execution_count": 18,
   "metadata": {
    "scrolled": true
   },
   "outputs": [
    {
     "name": "stdout",
     "output_type": "stream",
     "text": [
      "<class 'float'> <class 'float'> <class 'float'> <class 'float'>\n",
      "0.0 998.232 -1251.12312 25524.111\n"
     ]
    }
   ],
   "source": [
    "a, b, c, d = 0.0, 998.232, -1251.12312, +25524.111\n",
    "print(type(a), type(b), type(c), type(d))\n",
    "print(a, b, c, d)\n",
    "\n",
    "# 소수점이 있는 실수"
   ]
  },
  {
   "cell_type": "markdown",
   "metadata": {},
   "source": [
    "#### 3-1. Numbers - complex"
   ]
  },
  {
   "cell_type": "code",
   "execution_count": 19,
   "metadata": {},
   "outputs": [
    {
     "name": "stdout",
     "output_type": "stream",
     "text": [
      "5 (3-4j)\n",
      "5 0 3.0 -4.0\n",
      "(8-4j) (2+4j) (15-20j) (0.6+0.8j)\n",
      "5 (3+4j)\n",
      "5 5.0\n"
     ]
    }
   ],
   "source": [
    "a = 2 + 3\n",
    "b = complex(3,-4)\n",
    "print(a, b)\n",
    "\n",
    "# 실수부, 허수부\n",
    "print(a.real, a.imag, b.real, b.imag)\n",
    "\n",
    "# 복소수 연산\n",
    "print(a + b, a - b, a* b, a / b)\n",
    "\n",
    "# 켤레복소수\n",
    "print(a.conjugate(), b.conjugate())\n",
    "\n",
    "# 복소수의 크기\n",
    "print(abs(a), abs(b))"
   ]
  },
  {
   "cell_type": "markdown",
   "metadata": {},
   "source": [
    "#### 3-2. Boolean"
   ]
  },
  {
   "cell_type": "code",
   "execution_count": 20,
   "metadata": {},
   "outputs": [
    {
     "name": "stdout",
     "output_type": "stream",
     "text": [
      "<class 'bool'> <class 'bool'>\n",
      "True False\n"
     ]
    }
   ],
   "source": [
    "# True와 False 두가지로 이루어진 데이터 타입\n",
    "\n",
    "a, b = True, False\n",
    "print(type(a), type(b))\n",
    "print(a,b)"
   ]
  },
  {
   "cell_type": "markdown",
   "metadata": {},
   "source": [
    "#### 3-3. String"
   ]
  },
  {
   "cell_type": "code",
   "execution_count": 21,
   "metadata": {},
   "outputs": [
    {
     "name": "stdout",
     "output_type": "stream",
     "text": [
      "FastCampus\n",
      "데이터사이언스\n",
      "Science\n"
     ]
    }
   ],
   "source": [
    "ms = \"\"\"FastCampus\n",
    "데이터사이언스\n",
    "Science\"\"\"\n",
    "print(ms)"
   ]
  },
  {
   "cell_type": "code",
   "execution_count": 22,
   "metadata": {},
   "outputs": [
    {
     "data": {
      "text/plain": [
       "'FastFastFastFast'"
      ]
     },
     "execution_count": 22,
     "metadata": {},
     "output_type": "execute_result"
    }
   ],
   "source": [
    "# copy string\n",
    "a = \"Fast\" * 4\n",
    "a"
   ]
  },
  {
   "cell_type": "code",
   "execution_count": 23,
   "metadata": {},
   "outputs": [
    {
     "data": {
      "text/plain": [
       "('a', 'f', 'k', 'g')"
      ]
     },
     "execution_count": 23,
     "metadata": {},
     "output_type": "execute_result"
    }
   ],
   "source": [
    "# offset\n",
    "a = \"abcdefghijk\"\n",
    "a[0], a[5], a[-1], a[-5]"
   ]
  },
  {
   "cell_type": "code",
   "execution_count": 24,
   "metadata": {},
   "outputs": [
    {
     "data": {
      "text/plain": [
       "('bc', 'abcde', 'ijk', 'acegik')"
      ]
     },
     "execution_count": 24,
     "metadata": {},
     "output_type": "execute_result"
    }
   ],
   "source": [
    "# slice\n",
    "# str[start:end:step]\n",
    "\n",
    "a = \"abcdefghijk\"\n",
    "a[1:3], a[:5], a[-3:],a[::2]"
   ]
  },
  {
   "cell_type": "code",
   "execution_count": 25,
   "metadata": {},
   "outputs": [
    {
     "data": {
      "text/plain": [
       "'kjihgfedcba'"
      ]
     },
     "execution_count": 25,
     "metadata": {},
     "output_type": "execute_result"
    }
   ],
   "source": [
    "# -1을 넣어 문자열을 거꾸로 만들수도 있다\n",
    "a = \"abcdefghijk\"\n",
    "a[::-1]"
   ]
  },
  {
   "cell_type": "code",
   "execution_count": 26,
   "metadata": {},
   "outputs": [
    {
     "data": {
      "text/plain": [
       "11"
      ]
     },
     "execution_count": 26,
     "metadata": {},
     "output_type": "execute_result"
    }
   ],
   "source": [
    "# len 함수를 이용해 문자열의 길이를 알 수 있다\n",
    "a = \"abcdefghijk\"\n",
    "len(a)"
   ]
  },
  {
   "cell_type": "code",
   "execution_count": 27,
   "metadata": {
    "scrolled": true
   },
   "outputs": [
    {
     "data": {
      "text/plain": [
       "('abcdefghijk', 'abcdefghijk')"
      ]
     },
     "execution_count": 27,
     "metadata": {},
     "output_type": "execute_result"
    }
   ],
   "source": [
    "# end에 아무것도 안쓴 것과 len(a) 는 같다\n",
    "a = \"abcdefghijk\"\n",
    "a[:len(a)],a[:]"
   ]
  },
  {
   "cell_type": "markdown",
   "metadata": {},
   "source": [
    "#### 3-3. String method\n",
    "\n",
    "문자열 함수 Source\n",
    "[https://docs.python.org/3/library/stdtypes.html#string-methods]"
   ]
  },
  {
   "cell_type": "code",
   "execution_count": 28,
   "metadata": {},
   "outputs": [
    {
     "name": "stdout",
     "output_type": "stream",
     "text": [
      "  FAST CAMPUS DATASCIENCE  \n",
      "  fast campus datascience  \n",
      "7\n",
      "-1\n",
      "7\n",
      "3\n",
      "FAST campus datascience  \n",
      "  FAST campus datascience\n",
      "FAST campus datascience\n",
      "  FAST cbmpus dbtbscience  \n",
      "['', '', 'FAST', 'campus', 'datascience', '', '']\n",
      "True\n",
      "fast-campus-data-science\n"
     ]
    }
   ],
   "source": [
    "# string\n",
    "\n",
    "a = \"  FAST campus datascience  \"\n",
    "\n",
    "\n",
    "# upper() 대문자로 변환\n",
    "print(a.upper())\n",
    "\n",
    "# lower() 소문자로 변환\n",
    "print(a.lower())\n",
    "\n",
    "# find() 해당 문자열 위치 리턴 (없으면 -1 리턴)\n",
    "print(a.find(\"c\"))\n",
    "print(a.find(\"q\"))\n",
    "\n",
    "# index() 해당 문자열 위치 리턴 (없으면 value error 리턴)\n",
    "print(a.index(\"c\"))\n",
    "\n",
    "# count() 문자열 갯수 리턴\n",
    "print(a.count(\"a\"))\n",
    "\n",
    "# lstrip() 왼쪽 공백 제거\n",
    "print(a.lstrip())\n",
    "\n",
    "# rstrip() 오른쪽 공백 제거\n",
    "print(a.rstrip())\n",
    "\n",
    "# strip() 양쪽 공백 제거\n",
    "print(a.strip())\n",
    "\n",
    "# replace() 특정 문자열 치환\n",
    "print(a.replace(\"a\", \"b\"))\n",
    "\n",
    "# split() 특정 문자열로 분리하여 리스트 형태로 리턴\n",
    "print(a.split(\" \"))\n",
    "\n",
    "# endswith() 마지막 문자열이 일치하면 True 리턴\n",
    "print(a.rstrip().endswith(\"datascience\"))\n",
    "\n",
    "# join() 문자열 리스트를 결합\n",
    "a = [\"fast\", \"campus\", \"data\", \"science\"]\n",
    "print(\"-\".join(a))"
   ]
  },
  {
   "cell_type": "markdown",
   "metadata": {},
   "source": [
    "#### 3-4. List\n",
    "\n",
    "순서가 있는 데이터들의 집합을 가지는 데이터 타입이다. List, Tuple, Dictionary, Set의 데이터 타입을 Collection이라고 한다"
   ]
  },
  {
   "cell_type": "markdown",
   "metadata": {},
   "source": [
    "#### 3-4. List - 선언"
   ]
  },
  {
   "cell_type": "code",
   "execution_count": 29,
   "metadata": {},
   "outputs": [
    {
     "name": "stdout",
     "output_type": "stream",
     "text": [
      "<class 'list'> <class 'list'> <class 'list'>\n"
     ]
    },
    {
     "data": {
      "text/plain": [
       "(['fast', 'campus', 'data', 'science'], [1, 2, [3, 4]], [1, 'fast', True])"
      ]
     },
     "execution_count": 29,
     "metadata": {},
     "output_type": "execute_result"
    }
   ],
   "source": [
    "# [] 기호를 사용해서 리스트를 선언할 수 있다. 리스트의 데이터로 리스트를 넣을 수도 있음\n",
    "\n",
    "a = [\"fast\", \"campus\", \"data\", \"science\"]\n",
    "b = [1, 2, [3, 4]]\n",
    "c = [1, \"fast\", True]\n",
    "print(type(a), type(b), type(c))\n",
    "a,b,c"
   ]
  },
  {
   "cell_type": "markdown",
   "metadata": {},
   "source": [
    "#### 3-4. List - offset"
   ]
  },
  {
   "cell_type": "code",
   "execution_count": 30,
   "metadata": {},
   "outputs": [
    {
     "name": "stdout",
     "output_type": "stream",
     "text": [
      "campus science ['campus', 'data'] ['fast', 'campus', 'data', 'science'] ['science', 'campus']\n"
     ]
    },
    {
     "data": {
      "text/plain": [
       "['fast', 'campus', 'kdh', 'science']"
      ]
     },
     "execution_count": 30,
     "metadata": {},
     "output_type": "execute_result"
    }
   ],
   "source": [
    "# 리스트도 문자열과 같이 오프셋을 사용할 수 있습니다.\n",
    "\n",
    "a = [\"fast\", \"campus\", \"data\", \"science\"]\n",
    "print(a[1], a[-1], a[1:3], a[:], a[::-2])\n",
    "a[-2] = \"kdh\"\n",
    "a"
   ]
  },
  {
   "cell_type": "markdown",
   "metadata": {},
   "source": [
    "#### 3-4. List - method"
   ]
  },
  {
   "cell_type": "code",
   "execution_count": 31,
   "metadata": {},
   "outputs": [
    {
     "name": "stdout",
     "output_type": "stream",
     "text": [
      "['fast', 'campus', 'data', 'science', 'fighting']\n",
      "[1, 2, 3, 4, 5, 6, 7, 8, 9]\n",
      "[9, 8, 7, 6, 5, 4, 3, 2, 1]\n",
      "1\n",
      "['fast', 'campus', 'index', 'data', 'science', 'index', 'fighting']\n",
      "['fast', 'campus', 'data', 'science', 'index', 'fighting']\n",
      "fighting\n",
      "['fast', 'campus', 'data', 'science', 'index']\n"
     ]
    }
   ],
   "source": [
    "# 리스트 함수를 이용해 리스트 데이터를 가공할 수 있음\n",
    "a = [\"fast\", \"campus\", \"data\", \"science\"]\n",
    "b = [1,2,3,4,9,8,7,6,5]\n",
    "\n",
    "# append() 가장 마지막에 데이터 추가\n",
    "a.append(\"fighting\")\n",
    "print(a)\n",
    "\n",
    "# sort() 오름차순 정렬\n",
    "b.sort()\n",
    "print(b)\n",
    "\n",
    "# reverse() 내림차순 정렬\n",
    "b.reverse()\n",
    "print(b)\n",
    "\n",
    "# index() 데이터의 index값 리턴\n",
    "print(a.index('campus'))\n",
    "\n",
    "# insert() 특정 위치에 데이터 추가\n",
    "a.insert(2, 'index')\n",
    "a.insert(5, 'index')\n",
    "print(a)\n",
    "\n",
    "# remove() 해당되는 데이터 값을 삭제 (오프셋이 가장 작은 데이터 하나만 삭제)\n",
    "a.remove(\"index\")\n",
    "print(a)\n",
    "\n",
    "# pop() 가장 마지막 값을 리턴하고 마지막 값을 삭제\n",
    "print(a.pop())\n",
    "print(a)"
   ]
  },
  {
   "cell_type": "markdown",
   "metadata": {},
   "source": [
    "#### 3-4. List - 데이터 수정"
   ]
  },
  {
   "cell_type": "code",
   "execution_count": 32,
   "metadata": {},
   "outputs": [
    {
     "name": "stdout",
     "output_type": "stream",
     "text": [
      "[1, 'fast', 3, 4, 5]\n"
     ]
    },
    {
     "data": {
      "text/plain": [
       "[1, 'a', 5]"
      ]
     },
     "execution_count": 32,
     "metadata": {},
     "output_type": "execute_result"
    }
   ],
   "source": [
    "# 오프셋을 이용하여 리스트의 데이터를 수정할 수 있음\n",
    "\n",
    "a = [1,2,3,4,5]\n",
    "\n",
    "a[1] = \"fast\"\n",
    "print(a)\n",
    "\n",
    "a[1:4] = \"a\"\n",
    "a"
   ]
  },
  {
   "cell_type": "markdown",
   "metadata": {},
   "source": [
    "#### 3-4. List - Copy"
   ]
  },
  {
   "cell_type": "code",
   "execution_count": 33,
   "metadata": {},
   "outputs": [
    {
     "name": "stdout",
     "output_type": "stream",
     "text": [
      "[1, 2, 3] [1, 2, 3]\n",
      "[1, 2, 4] [1, 2, 4]\n",
      "[1, 2, 4] [1, 2, 4]\n",
      "[1, 2, 5] [1, 2, 4]\n"
     ]
    }
   ],
   "source": [
    "# 리스트를 복사하기위해서는 copy() 함수를 사용해야 함\n",
    "# b = a 형태로 복사를 하게 되면 같은 저장공간에 두 개의 이름을 가지게 된다\n",
    "# 즉, a를 변경하게 되면 b도 변경이 됨\n",
    "# 따라서 별도의 저장공간을 가지게 하려면 copy() 함수를 사용해야 함\n",
    "\n",
    "a = [1,2,3]\n",
    "b = a\n",
    "print(a,b)\n",
    "\n",
    "# a를 바꿨는데 b의 데이터도 같이 바뀜\n",
    "a[2] = 4\n",
    "print(a,b)\n",
    "\n",
    "c = a.copy()\n",
    "print(a,c)\n",
    "\n",
    "# a를 바꿔도 c의 데이터는 바뀌지 않음\n",
    "a[2] = 5\n",
    "print(a,c)"
   ]
  },
  {
   "cell_type": "markdown",
   "metadata": {},
   "source": [
    "#### 3-5. Tuple\n",
    "\n",
    "List와 같이 순서가 있는 데이터 타입이지만 데이터를 변경할 수 없는 특징이 있다. Tuple을 사용하는 이유는 Tuple이 List보다 컴퓨터의 자원(메모리)를 적게 사용한다.\n",
    "\n",
    "또한 아래에서 배우는 Dictionary의 key로 사용될 수 있다."
   ]
  },
  {
   "cell_type": "markdown",
   "metadata": {},
   "source": [
    "#### 3-5. Tuple - 선언"
   ]
  },
  {
   "cell_type": "code",
   "execution_count": 34,
   "metadata": {},
   "outputs": [
    {
     "name": "stdout",
     "output_type": "stream",
     "text": [
      "<class 'tuple'> <class 'tuple'> <class 'tuple'> <class 'tuple'>\n",
      "(1, 2, 3, 4) ('fast', 'campus', 'data', 'science') (1, 'fast', True) (1, 'fast', True)\n"
     ]
    },
    {
     "data": {
      "text/plain": [
       "(3, (2, 3))"
      ]
     },
     "execution_count": 34,
     "metadata": {},
     "output_type": "execute_result"
    }
   ],
   "source": [
    "# ','로 구분하여 선언할 수 있고, ','로 구분하고 괄호로 묶어서 선언할 수 있다.\n",
    "\n",
    "a = 1,2,3,4\n",
    "b = \"fast\", \"campus\", \"data\", \"science\"\n",
    "c = 1, \"fast\", True\n",
    "d = (1, \"fast\", True)\n",
    "\n",
    "print(type(a), type(b), type(c), type(d))\n",
    "print(a, b, c, d)\n",
    "a[2], a[1:3]"
   ]
  },
  {
   "cell_type": "code",
   "execution_count": 36,
   "metadata": {
    "scrolled": true
   },
   "outputs": [
    {
     "ename": "TypeError",
     "evalue": "'tuple' object does not support item assignment",
     "output_type": "error",
     "traceback": [
      "\u001b[0;31m---------------------------------------------------------------------------\u001b[0m",
      "\u001b[0;31mTypeError\u001b[0m                                 Traceback (most recent call last)",
      "\u001b[0;32m<ipython-input-36-7a0d9bb98907>\u001b[0m in \u001b[0;36m<module>\u001b[0;34m()\u001b[0m\n\u001b[1;32m      2\u001b[0m \u001b[0;34m\u001b[0m\u001b[0m\n\u001b[1;32m      3\u001b[0m \u001b[0ma\u001b[0m \u001b[0;34m=\u001b[0m \u001b[0;36m1\u001b[0m\u001b[0;34m,\u001b[0m\u001b[0;36m2\u001b[0m\u001b[0;34m,\u001b[0m\u001b[0;36m3\u001b[0m\u001b[0;34m,\u001b[0m\u001b[0;36m4\u001b[0m\u001b[0;34m\u001b[0m\u001b[0m\n\u001b[0;32m----> 4\u001b[0;31m \u001b[0ma\u001b[0m\u001b[0;34m[\u001b[0m\u001b[0;36m1\u001b[0m\u001b[0;34m]\u001b[0m \u001b[0;34m=\u001b[0m \u001b[0;36m3\u001b[0m\u001b[0;34m\u001b[0m\u001b[0m\n\u001b[0m",
      "\u001b[0;31mTypeError\u001b[0m: 'tuple' object does not support item assignment"
     ]
    }
   ],
   "source": [
    "# 튜플의 데이터는 수정이 불가능하다\n",
    "\n",
    "a = 1,2,3,4\n",
    "a[1] = 3"
   ]
  },
  {
   "cell_type": "code",
   "execution_count": 37,
   "metadata": {},
   "outputs": [
    {
     "name": "stdout",
     "output_type": "stream",
     "text": [
      "104\n",
      "88\n"
     ]
    }
   ],
   "source": [
    "# 같은 데이터를 변수에 저장하면 리스트보다 튜플이 저장공간을 덜 사용한다.\n",
    "# 변경이 되지 않는 순서가 있는 데이터의 집합의 경우 리스트보다 튜플을 사용하는 것이 효율적\n",
    "\n",
    "import sys\n",
    "\n",
    "# getsizeof 의 단위 : byte\n",
    "l = [1,2,3,4,5]\n",
    "print(sys.getsizeof(l))\n",
    "\n",
    "t = tuple(l)\n",
    "print(sys.getsizeof(t))"
   ]
  },
  {
   "cell_type": "markdown",
   "metadata": {},
   "source": [
    "#### 3-6. Dictionary\n",
    "\n",
    "딕셔너리는 데이터의 순서가 없고 key와 value의 쌍으로 데이터가 모여있는 데이터 타입이다."
   ]
  },
  {
   "cell_type": "markdown",
   "metadata": {},
   "source": [
    "#### 3-6. Dictionary - 선언"
   ]
  },
  {
   "cell_type": "code",
   "execution_count": 38,
   "metadata": {},
   "outputs": [
    {
     "data": {
      "text/plain": [
       "(dict, {1: 'one', 'A': ['data', 'science'], '숫자': 1234})"
      ]
     },
     "execution_count": 38,
     "metadata": {},
     "output_type": "execute_result"
    }
   ],
   "source": [
    "# {} 기호 안에 {키 : 값} 형태로 선언한다\n",
    "# 키 값에는 정수나 문자열의 데이터 타입이 사용 가능\n",
    "\n",
    "dic = {\n",
    "    1: \"one\",\n",
    "    \"A\": [\"data\",\"science\"],\n",
    "    \"숫자\": 1234,\n",
    "}\n",
    "\n",
    "type(dic),dic"
   ]
  },
  {
   "cell_type": "markdown",
   "metadata": {},
   "source": [
    "#### 3-6. Dictionary - 데이터 수정"
   ]
  },
  {
   "cell_type": "code",
   "execution_count": 39,
   "metadata": {},
   "outputs": [
    {
     "data": {
      "text/plain": [
       "{1: '하나', 'A': '알파벳', '숫자': 1234}"
      ]
     },
     "execution_count": 39,
     "metadata": {},
     "output_type": "execute_result"
    }
   ],
   "source": [
    "# 딕셔너리는 키값으로 데이터를 수정할 수 있다\n",
    "\n",
    "dic[1] = \"하나\"\n",
    "dic[\"A\"] = \"알파벳\"\n",
    "dic"
   ]
  },
  {
   "cell_type": "code",
   "execution_count": 40,
   "metadata": {},
   "outputs": [
    {
     "ename": "TypeError",
     "evalue": "unhashable type: 'slice'",
     "output_type": "error",
     "traceback": [
      "\u001b[0;31m---------------------------------------------------------------------------\u001b[0m",
      "\u001b[0;31mTypeError\u001b[0m                                 Traceback (most recent call last)",
      "\u001b[0;32m<ipython-input-40-45039f0772fc>\u001b[0m in \u001b[0;36m<module>\u001b[0;34m()\u001b[0m\n\u001b[1;32m      1\u001b[0m \u001b[0;31m# 순서가 없는 데이터 타입이므로 오프셋의 슬라이스는 사용이 불가능\u001b[0m\u001b[0;34m\u001b[0m\u001b[0;34m\u001b[0m\u001b[0m\n\u001b[0;32m----> 2\u001b[0;31m \u001b[0mdic\u001b[0m\u001b[0;34m[\u001b[0m\u001b[0;36m1\u001b[0m\u001b[0;34m:\u001b[0m\u001b[0;36m3\u001b[0m\u001b[0;34m]\u001b[0m\u001b[0;34m\u001b[0m\u001b[0m\n\u001b[0m",
      "\u001b[0;31mTypeError\u001b[0m: unhashable type: 'slice'"
     ]
    }
   ],
   "source": [
    "# 순서가 없는 데이터 타입이므로 오프셋의 슬라이스는 사용이 불가능\n",
    "dic[1:3]"
   ]
  },
  {
   "cell_type": "markdown",
   "metadata": {},
   "source": [
    "#### 3-6. Dictionary - method"
   ]
  },
  {
   "cell_type": "code",
   "execution_count": 41,
   "metadata": {},
   "outputs": [
    {
     "name": "stdout",
     "output_type": "stream",
     "text": [
      "dict_keys([1, '숫자', 'A'])\n",
      "dict_values(['하나', 1234, '알파벳'])\n",
      "dict_items([(1, '하나'), ('숫자', 1234), ('A', '알파벳')])\n",
      "{}\n",
      "two\n",
      "None\n",
      "no_data\n",
      "{1: 'a', 2: 'b'}\n"
     ]
    },
    {
     "data": {
      "text/plain": [
       "{1: 'a', 2: 'c', 3: 'd'}"
      ]
     },
     "execution_count": 41,
     "metadata": {},
     "output_type": "execute_result"
    }
   ],
   "source": [
    "# 딕셔너리 함수를 이용해 리스트 데이터를 가공할 수 있음\n",
    "\n",
    "#keys() 키를 리턴\n",
    "print(dic.keys())\n",
    "\n",
    "#values() 값을 리턴\n",
    "print(dic.values())\n",
    "\n",
    "#items() 키와 값을 리턴 ( 주로 for문에서 key,value로 루프를 돌릴 때 사용 )\n",
    "print(dic.items()) \n",
    "\n",
    "#clear() dictionary 데이터를 모두 삭제\n",
    "dic.clear()\n",
    "print(dic)\n",
    "\n",
    "#get() 매개변수에 해당하는 값을 리턴\n",
    "dic = {1: \"one\", 2:\"two\", 3:\"three\"}\n",
    "print(dic.get(2))\n",
    "print(dic.get(4))\n",
    "\n",
    "# print(dic[4]) >> TypeError 발생\n",
    "print(dic.get(4,\"no_data\")) #get을 사용하면 error를 예방할 수 있다\n",
    "\n",
    "# copy() 리스트와 마찬가지로 다른 저장공간을 가지는 데이터를 대입\n",
    "dic2 = dic\n",
    "dic[1] = \"하나\"\n",
    "dic3 = dic.copy()\n",
    "dic[1] = \"A\"\n",
    "\n",
    "# update() 데이터를 업데이트\n",
    "a = {1:\"a\", 2:\"b\"}\n",
    "b = {2:\"c\", 3:\"d\"}\n",
    "print(a)\n",
    "a.update(b)\n",
    "a"
   ]
  },
  {
   "cell_type": "markdown",
   "metadata": {},
   "source": [
    "#### 3-7. set\n",
    "\n",
    "- set은 중복되는 데이터가 없는 집합 형태의 데이터 타입 \n",
    "- 교집합, 합집합, 차집합과 같은 집합의 연산도 가능\n",
    "- 리스트 데이터에서 중복을 제거할 떄 사용되기도 함\n",
    "- 순서가 있는 데이터 타입이 아니기 때문에 오프셋을 이용한 특정 인덱스 값을 가져오거나 슬라이싱으로 데이터 수정이 불가능\n",
    "- 수정을 위해서는 리스트로 데이터 형변환 후 데이터를 수정하고 다시 셋 데이터 타입으로 바꿔주어야 함"
   ]
  },
  {
   "cell_type": "markdown",
   "metadata": {},
   "source": [
    "#### 3-7. set - 선언"
   ]
  },
  {
   "cell_type": "code",
   "execution_count": 42,
   "metadata": {},
   "outputs": [
    {
     "data": {
      "text/plain": [
       "(set, {1, 2, 3, 4, 5})"
      ]
     },
     "execution_count": 42,
     "metadata": {},
     "output_type": "execute_result"
    }
   ],
   "source": [
    "s = set([1,2,3,4,5,1,2,3])\n",
    "type(s),s"
   ]
  },
  {
   "cell_type": "markdown",
   "metadata": {},
   "source": [
    "#### 3-7. set - 집합의 연산"
   ]
  },
  {
   "cell_type": "code",
   "execution_count": 10,
   "metadata": {},
   "outputs": [
    {
     "name": "stdout",
     "output_type": "stream",
     "text": [
      "{3, 4}\n",
      "{3, 4}\n",
      "{1, 2, 3, 4, 5, 6}\n",
      "{1, 2, 3, 4, 5, 6}\n",
      "{1, 2}\n",
      "{1, 2}\n"
     ]
    }
   ],
   "source": [
    "# set (집합)\n",
    "s1 = set([1,2,3,4])\n",
    "s2 = set([3,4,5,6])\n",
    "\n",
    "# intersection (교집합)\n",
    "print(s1 & s2)\n",
    "print(s1.intersection(s2)) # 함수로도 표현 가능\n",
    "\n",
    "# union (합집합)\n",
    "print(s1 | s2)\n",
    "print(s1.union(s2))\n",
    "\n",
    "# difference (차집합)\n",
    "print(s1 - s2)\n",
    "print(s1.difference(s2))"
   ]
  },
  {
   "cell_type": "markdown",
   "metadata": {},
   "source": [
    "#### 3-7. set - 데이터의 수정"
   ]
  },
  {
   "cell_type": "code",
   "execution_count": 44,
   "metadata": {},
   "outputs": [
    {
     "data": {
      "text/plain": [
       "{1, 2, 3, 4, 10}"
      ]
     },
     "execution_count": 44,
     "metadata": {},
     "output_type": "execute_result"
    }
   ],
   "source": [
    "s = list(s)\n",
    "s[4] = 10\n",
    "s = set(s)\n",
    "s"
   ]
  },
  {
   "cell_type": "markdown",
   "metadata": {},
   "source": [
    "## 4. 데이터 형변환 (Data Type Conversion)\n",
    "\n",
    "서로 다른 데이터 타입사이에 데이터의 형변환이 가능하다.\n",
    "하지만 데이터 타입에 따라서 형변환이 되는 데이터 타입이 있고 되지 않는 데이터 타입이 있다"
   ]
  },
  {
   "cell_type": "markdown",
   "metadata": {},
   "source": [
    "#### 4-1. 문자열과 숫자"
   ]
  },
  {
   "cell_type": "code",
   "execution_count": 45,
   "metadata": {},
   "outputs": [
    {
     "name": "stdout",
     "output_type": "stream",
     "text": [
      "<class 'int'> 1234\n"
     ]
    }
   ],
   "source": [
    "# 문자열과 숫자 사이의 형변환이 가능\n",
    "\n",
    "s = \"1234\"\n",
    "n = int(s)\n",
    "print(type(n),n)"
   ]
  },
  {
   "cell_type": "code",
   "execution_count": 46,
   "metadata": {},
   "outputs": [
    {
     "ename": "ValueError",
     "evalue": "invalid literal for int() with base 10: 'a'",
     "output_type": "error",
     "traceback": [
      "\u001b[0;31m---------------------------------------------------------------------------\u001b[0m",
      "\u001b[0;31mValueError\u001b[0m                                Traceback (most recent call last)",
      "\u001b[0;32m<ipython-input-46-d34f2ebd7d71>\u001b[0m in \u001b[0;36m<module>\u001b[0;34m()\u001b[0m\n\u001b[1;32m      2\u001b[0m \u001b[0;34m\u001b[0m\u001b[0m\n\u001b[1;32m      3\u001b[0m \u001b[0ms\u001b[0m \u001b[0;34m=\u001b[0m \u001b[0;34m\"a\"\u001b[0m\u001b[0;34m\u001b[0m\u001b[0m\n\u001b[0;32m----> 4\u001b[0;31m \u001b[0mn\u001b[0m \u001b[0;34m=\u001b[0m \u001b[0mint\u001b[0m\u001b[0;34m(\u001b[0m\u001b[0ms\u001b[0m\u001b[0;34m)\u001b[0m\u001b[0;34m\u001b[0m\u001b[0m\n\u001b[0m\u001b[1;32m      5\u001b[0m \u001b[0mprint\u001b[0m\u001b[0;34m(\u001b[0m\u001b[0mtype\u001b[0m\u001b[0;34m(\u001b[0m\u001b[0mn\u001b[0m\u001b[0;34m)\u001b[0m\u001b[0;34m,\u001b[0m\u001b[0mn\u001b[0m\u001b[0;34m)\u001b[0m\u001b[0;34m\u001b[0m\u001b[0m\n",
      "\u001b[0;31mValueError\u001b[0m: invalid literal for int() with base 10: 'a'"
     ]
    }
   ],
   "source": [
    "# 하지만 숫자문자가 아닌 문자열을 숫자로 형변환 하는 것은 불가능하다\n",
    "\n",
    "s = \"a\"\n",
    "n = int(s)\n",
    "print(type(n),n)"
   ]
  },
  {
   "cell_type": "markdown",
   "metadata": {},
   "source": [
    "#### 4-2. boolean 형변환"
   ]
  },
  {
   "cell_type": "code",
   "execution_count": 47,
   "metadata": {},
   "outputs": [
    {
     "name": "stdout",
     "output_type": "stream",
     "text": [
      "False True\n",
      "True True False True\n",
      "False True\n"
     ]
    }
   ],
   "source": [
    "# 숫자는 0이 False, 문자열은 \"\"이 False, 리스트에서는 []가 False로 형변환 된다\n",
    "\n",
    "print(bool(\"\"), bool(\"asedf\"))\n",
    "print(bool(-1), bool(1), bool(0.0), bool(0.1))\n",
    "a,b = [], [1,2]\n",
    "print(bool(a), bool(b))"
   ]
  },
  {
   "cell_type": "code",
   "execution_count": 48,
   "metadata": {},
   "outputs": [
    {
     "name": "stdout",
     "output_type": "stream",
     "text": [
      "no_data\n",
      "[1, 2, 3]\n"
     ]
    }
   ],
   "source": [
    "# 이 내용은 데이터 존재의 유무를 판별할 수 있어서 뒤에 배우는 조건문에서 조건을 정의할 때\n",
    "# 더 깔끔한 코딩을 할 수 있다.\n",
    "\n",
    "a,b =[], [1,2,3]\n",
    "\n",
    "if len(a) > 0:\n",
    "    print(a)\n",
    "else:\n",
    "    print(\"no_data\")\n",
    "# 이렇게 할 필요 X ( computer가 하는 일이 많아진다. 비효율적 )\n",
    "\n",
    "\n",
    "# 이렇게 쓰는 방법이 맞다 ( 효율적임 )\n",
    "if b:\n",
    "    print(b)\n",
    "else:\n",
    "    print(\"no_data\")"
   ]
  },
  {
   "cell_type": "markdown",
   "metadata": {},
   "source": [
    "#### 4-3. 문자열의 리스트 형변환"
   ]
  },
  {
   "cell_type": "code",
   "execution_count": 49,
   "metadata": {},
   "outputs": [
    {
     "data": {
      "text/plain": [
       "['f', 'a', 's', 't']"
      ]
     },
     "execution_count": 49,
     "metadata": {},
     "output_type": "execute_result"
    }
   ],
   "source": [
    "# 문자열을 리스트로 형변환하면 문자 하나씩 순서대로 리스트의 데이터로 추가되는 형태\n",
    "\n",
    "s = \"fast\"\n",
    "l = list(s)\n",
    "l"
   ]
  },
  {
   "cell_type": "markdown",
   "metadata": {},
   "source": [
    "#### 4-4. 튜플과 딕셔너리 형변환"
   ]
  },
  {
   "cell_type": "code",
   "execution_count": 50,
   "metadata": {},
   "outputs": [
    {
     "data": {
      "text/plain": [
       "{1: 'one', 2: 'two'}"
      ]
     },
     "execution_count": 50,
     "metadata": {},
     "output_type": "execute_result"
    }
   ],
   "source": [
    "# 튜플의 (key, value) 형태의 나열로 되어 있는 튜플의 데이터는 딕셔너리로 형변환이 가능\n",
    "\n",
    "t = ((1,\"one\"),(2,\"two\"))\n",
    "dict(t)"
   ]
  },
  {
   "cell_type": "markdown",
   "metadata": {},
   "source": [
    "#### 4-4. 딕셔너리의 튜플 형변환"
   ]
  },
  {
   "cell_type": "code",
   "execution_count": 51,
   "metadata": {},
   "outputs": [
    {
     "name": "stdout",
     "output_type": "stream",
     "text": [
      "(1, 2)\n",
      "((1, 'one'), (2, 'two'))\n"
     ]
    }
   ],
   "source": [
    "# 딕셔너리를 튜플로 형변환 하면 딕셔너리의 키 데이터만 형변환 된다.\n",
    "# key, value 데이터를 모두 사용하여 형변환 하려면 items()함수를 사용한다.\n",
    "\n",
    "d = {1:\"one\", 2:\"two\"}\n",
    "t = tuple(d)\n",
    "print(t)\n",
    "t = tuple(d.items())\n",
    "print(t)"
   ]
  },
  {
   "cell_type": "markdown",
   "metadata": {},
   "source": [
    "## 5. 연산자 (Operators)"
   ]
  },
  {
   "cell_type": "markdown",
   "metadata": {},
   "source": [
    "#### 5-1. 산술 연산자 (Arithmetic Operators) : `+, -, *, /, //, %, **`"
   ]
  },
  {
   "cell_type": "code",
   "execution_count": 52,
   "metadata": {},
   "outputs": [
    {
     "name": "stdout",
     "output_type": "stream",
     "text": [
      "6\n",
      "-2\n",
      "8\n",
      "3.3333333333333335\n",
      "3\n",
      "1\n",
      "81\n"
     ]
    }
   ],
   "source": [
    "print(2 + 4)\n",
    "print(2 - 4)\n",
    "print(2 * 4)\n",
    "print(10 / 3)\n",
    "print(10 // 3)\n",
    "print(10 % 3)\n",
    "print(3 ** 4)"
   ]
  },
  {
   "cell_type": "markdown",
   "metadata": {},
   "source": [
    "#### 5-2. 비트 연산자 (Bitwise Operators) : `&, |, ^, ~, <<, >>`"
   ]
  },
  {
   "cell_type": "code",
   "execution_count": 53,
   "metadata": {},
   "outputs": [
    {
     "name": "stdout",
     "output_type": "stream",
     "text": [
      "1 0b1\n",
      "7 0b111\n",
      "6 0b110\n",
      "-4 -0b11\n",
      "-5 -0b101\n",
      "12 0b1100\n",
      "2 0b10\n"
     ]
    }
   ],
   "source": [
    "a = 3 # 011\n",
    "b = 5 # 101\n",
    "\n",
    "print(a&b, bin(a&b))\n",
    "print(a|b, bin(a|b))\n",
    "print(a^b, bin(a^b))\n",
    "print(~a, bin(-a))\n",
    "print(-b, bin(-b))\n",
    "print(a<<2, bin(a<<2))\n",
    "print(b>>1, bin(b>>1))"
   ]
  },
  {
   "cell_type": "markdown",
   "metadata": {},
   "source": [
    "#### 5-3. 논리 연산자 (Logical Operators) : `and, or, not`"
   ]
  },
  {
   "cell_type": "code",
   "execution_count": 54,
   "metadata": {},
   "outputs": [
    {
     "name": "stdout",
     "output_type": "stream",
     "text": [
      "True\n",
      "False\n",
      "True\n",
      "True\n",
      "False\n",
      "True\n"
     ]
    }
   ],
   "source": [
    "print(True and True)\n",
    "print(True and False)\n",
    "\n",
    "print(True or True)\n",
    "print(True or False)\n",
    "\n",
    "print(not(True and True))\n",
    "print(not(True and False))"
   ]
  },
  {
   "cell_type": "markdown",
   "metadata": {},
   "source": [
    "#### 5-4. 멤버 연산자 (Membership Operators) : `in, not in`"
   ]
  },
  {
   "cell_type": "code",
   "execution_count": 55,
   "metadata": {},
   "outputs": [
    {
     "name": "stdout",
     "output_type": "stream",
     "text": [
      "True\n",
      "False\n",
      "False\n"
     ]
    }
   ],
   "source": [
    "a = [1,2,3,4]\n",
    "print(1 in a)\n",
    "print(5 in a)\n",
    "print(1 not in a)"
   ]
  },
  {
   "cell_type": "markdown",
   "metadata": {},
   "source": [
    "#### 5-5 식별 연산자 (Identify Operators) : `is, is not`"
   ]
  },
  {
   "cell_type": "markdown",
   "metadata": {},
   "source": [
    "숫자나 문자열의 경우는 값을 비교"
   ]
  },
  {
   "cell_type": "code",
   "execution_count": 56,
   "metadata": {},
   "outputs": [
    {
     "name": "stdout",
     "output_type": "stream",
     "text": [
      "True\n"
     ]
    }
   ],
   "source": [
    "a = 'a'\n",
    "b = a\n",
    "print(a is b)"
   ]
  },
  {
   "cell_type": "code",
   "execution_count": 57,
   "metadata": {},
   "outputs": [
    {
     "name": "stdout",
     "output_type": "stream",
     "text": [
      "True\n"
     ]
    }
   ],
   "source": [
    "b = 'a'\n",
    "print(a is b)"
   ]
  },
  {
   "cell_type": "code",
   "execution_count": 58,
   "metadata": {},
   "outputs": [
    {
     "name": "stdout",
     "output_type": "stream",
     "text": [
      "False\n"
     ]
    }
   ],
   "source": [
    "print(a is not b)"
   ]
  },
  {
   "cell_type": "markdown",
   "metadata": {},
   "source": [
    "컬렉션 데이터의 경우에는 주소값을 비교"
   ]
  },
  {
   "cell_type": "code",
   "execution_count": 59,
   "metadata": {},
   "outputs": [
    {
     "name": "stdout",
     "output_type": "stream",
     "text": [
      "True\n",
      "False\n",
      "True\n"
     ]
    }
   ],
   "source": [
    "a = [1,2,3]\n",
    "b = a\n",
    "print(a is b)\n",
    "\n",
    "# 데이터가 저장되어 있는 주소가 같은지 확인한다.\n",
    "a = [1,2,3]\n",
    "b = a.copy()\n",
    "print(a is b)\n",
    "\n",
    "print(a is not b)"
   ]
  },
  {
   "cell_type": "markdown",
   "metadata": {},
   "source": [
    "### Quiz1\n",
    "\n",
    "아래의 데이터를 딕셔너리 형태의 데이터로 만드시오\n",
    "\n",
    "- 학생 A - 수학 : 80, 영어 : 100, 과학 : 90\n",
    "- 학생 B - 수학 : 70, 영어 : 100, 과학 : 100\n",
    "- {'A':{'과학':90,'수학':80,'영어':100}, 'B':{'과학':100,'수학':70,'영어':100}}"
   ]
  },
  {
   "cell_type": "markdown",
   "metadata": {},
   "source": [
    "### Quiz2\n",
    "\n",
    "- 리스트 중복 제거 후 내림차순으로 정렬"
   ]
  },
  {
   "cell_type": "code",
   "execution_count": 14,
   "metadata": {},
   "outputs": [],
   "source": [
    "# 아래의 리스트를 중복을 제거하고 내림차순으로 정렬하세요.\n",
    "ls = [1,5,2,8,6,4,3,6,4]"
   ]
  },
  {
   "cell_type": "code",
   "execution_count": 15,
   "metadata": {},
   "outputs": [
    {
     "data": {
      "text/plain": [
       "[8, 6, 5, 4, 3, 2, 1]"
      ]
     },
     "execution_count": 15,
     "metadata": {},
     "output_type": "execute_result"
    }
   ],
   "source": [
    "# TODO\n",
    "[8,6,5,4,3,2,1]"
   ]
  },
  {
   "cell_type": "markdown",
   "metadata": {},
   "source": [
    "### Quiz3\n",
    "\n",
    "- Arrange\n",
    "- 문장을 단어의 글자수가 낮은 단어 순서대로 재 나열 하시오\n",
    "- 문장의 첫 글자는 대문자이고 마지막은 마침표가 항상 있습니다.\n",
    "\n",
    "결과 예시\n",
    "\n",
    "- The lines are printed in reverse order(입력)\n",
    "- In the are lines order printed reverse.(결과)\n",
    "\n",
    "힌트\n",
    "\n",
    "- 단어수대로 리스트를 오름차순으로 정렬하는 방법\n",
    "\n",
    "       ls = [\"abc\", \"a\", \"ab\"]\n",
    "       ls.sort(key=len)"
   ]
  },
  {
   "cell_type": "code",
   "execution_count": 27,
   "metadata": {},
   "outputs": [],
   "source": [
    "sentense = \"The lines are printed in reverse order\""
   ]
  },
  {
   "cell_type": "markdown",
   "metadata": {},
   "source": [
    "### Quiz1 - Solution"
   ]
  },
  {
   "cell_type": "code",
   "execution_count": 38,
   "metadata": {},
   "outputs": [
    {
     "data": {
      "text/plain": [
       "{'A': {'과학': 90, '수학': 80, '영어': 100}, 'B': {'과학': 100, '수학': 70, '영어': 100}}"
      ]
     },
     "execution_count": 38,
     "metadata": {},
     "output_type": "execute_result"
    }
   ],
   "source": [
    "dic = {\"A\" : {\"수학\" : 80, \"영어\" : 100, \"과학\" : 90}, \n",
    "       \"B\" : {\"수학\" : 70, \"영어\" : 100, \"과학\" : 100},}\n",
    "# 뒤에 ,를 붙이는 이유 깃허브의 수정이 2줄에서 1줄로 줄일 수 있다.\n",
    "dic"
   ]
  },
  {
   "cell_type": "markdown",
   "metadata": {},
   "source": [
    "### Quiz2 - Solution"
   ]
  },
  {
   "cell_type": "code",
   "execution_count": 16,
   "metadata": {},
   "outputs": [],
   "source": [
    "s = set(ls)"
   ]
  },
  {
   "cell_type": "code",
   "execution_count": 17,
   "metadata": {},
   "outputs": [],
   "source": [
    "ls = list(s)"
   ]
  },
  {
   "cell_type": "code",
   "execution_count": 26,
   "metadata": {},
   "outputs": [
    {
     "name": "stdout",
     "output_type": "stream",
     "text": [
      "[8, 6, 5, 4, 3, 2, 1]\n"
     ]
    }
   ],
   "source": [
    "ls.reverse()\n",
    "print(ls)"
   ]
  },
  {
   "cell_type": "markdown",
   "metadata": {},
   "source": [
    "### Quiz3 - Solution"
   ]
  },
  {
   "cell_type": "code",
   "execution_count": 225,
   "metadata": {},
   "outputs": [],
   "source": [
    "sentense = \"The lines are printed in reverse order\""
   ]
  },
  {
   "cell_type": "code",
   "execution_count": 226,
   "metadata": {},
   "outputs": [
    {
     "data": {
      "text/plain": [
       "'In the are lines order printed reverse.'"
      ]
     },
     "execution_count": 226,
     "metadata": {},
     "output_type": "execute_result"
    }
   ],
   "source": [
    "list = sentense.split(\" \")\n",
    "list.sort(key=len)\n",
    "list = (\" \").join(list) + \".\"\n",
    "list.upper()\n",
    "\n",
    "sen_1 = list[0].upper()\n",
    "sen_2 = list[1:].lower()\n",
    "sen_1 + sen_2"
   ]
  },
  {
   "cell_type": "code",
   "execution_count": null,
   "metadata": {},
   "outputs": [],
   "source": []
  }
 ],
 "metadata": {
  "kernelspec": {
   "display_name": "Python 3",
   "language": "python",
   "name": "python3"
  },
  "language_info": {
   "codemirror_mode": {
    "name": "ipython",
    "version": 3
   },
   "file_extension": ".py",
   "mimetype": "text/x-python",
   "name": "python",
   "nbconvert_exporter": "python",
   "pygments_lexer": "ipython3",
   "version": "3.5.0"
  }
 },
 "nbformat": 4,
 "nbformat_minor": 2
}
