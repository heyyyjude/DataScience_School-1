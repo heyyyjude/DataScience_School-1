{
 "cells": [
  {
   "cell_type": "markdown",
   "metadata": {
    "school_cell_uuid": "055ab3178a6042cd8c1b1bed67bfde5b"
   },
   "source": [
    "# 교차 검증"
   ]
  },
  {
   "cell_type": "markdown",
   "metadata": {
    "school_cell_uuid": "5cf508ad9cfd4b0cb2e234c79e3cd000"
   },
   "source": [
    "## 모형 검증"
   ]
  },
  {
   "cell_type": "markdown",
   "metadata": {
    "school_cell_uuid": "8a837fee3c654352998622ac3153f539"
   },
   "source": [
    "앞서 이야기 했듯이 모형의 모수 갯수를 증가시킨다든가 커널 모형, 신경망 모형과 같은 비선형 모형을 사용하게 되면 과최적화가 발생하여 트레이닝 데이터에 대한 예측 성능이 높아진다. 이러한 과최적화(overfitting)가 일어나면 트레이닝 데이터에 대해서는 예측이 잘되지만 테스트 데이터에 대해서는 예측 성능이 급격히 떨어지는 현상이 발생한다.\n",
    "\n",
    "따라서 모형의 최종 성능을 객관적으로 측정하려면 트레이닝에 사용되지 않은 새로운 데이터, 즉 검증(validation)용 혹은 테스트(test)용 데이터를 사용해서 예측한 결과를 기반으로 성능을 계산해야 한다."
   ]
  },
  {
   "cell_type": "markdown",
   "metadata": {
    "school_cell_uuid": "8594982f7c644b09abef0c3882bc9914"
   },
   "source": [
    "<img src=\"https://datascienceschool.net/upfiles/10b64c34d72445fc960de263bfde22d0.png\">"
   ]
  },
  {
   "cell_type": "markdown",
   "metadata": {
    "school_cell_uuid": "5177fe7d5a7b4b88bd3155e6b69c4e54"
   },
   "source": [
    "## 교차 검증"
   ]
  },
  {
   "cell_type": "markdown",
   "metadata": {
    "school_cell_uuid": "32072beaf81e49579d871d9dc88edf0a"
   },
   "source": [
    "일반적으로 테스트 데이터가 별도로 존재하는 경우가 많지 않기 때문에 보통은 원래 트레이닝용으로 확보한 데이터 중 일부를 떼어내어 테스트 데이터로 사용하는 경우가 많다. 그런데 트레이닝이나 테스트 데이터를 어떻게 골라내느냐에 따라 모형의 성능이 조금씩 달라질 수 있으므로 한 세트의 트레이닝/테스트 데이터만 사용하는 것이 아니라 여러가지 서로 다른 트레니인/테스트 데이터를 사용하여 복수의 테스트를 실시한 후 이 성능 자료로 부터 **평균 성능(mean performance)과 성능 분산(performance variance)**를 모두 구하는 것이 좋다.\n",
    "\n",
    "이러한 테스트 방법을 **교차 검증(cross validation)**이라고 한다."
   ]
  },
  {
   "cell_type": "markdown",
   "metadata": {
    "school_cell_uuid": "46326e3027fc4652870b2aeec56375b1"
   },
   "source": [
    "## Scikit-Learn의 교차 검증 기능"
   ]
  },
  {
   "cell_type": "markdown",
   "metadata": {
    "school_cell_uuid": "c4083e1d7f8e462f999da9bcf7fc65d1"
   },
   "source": [
    "Scikit-Learn 의 model_selection 서브 패키지는 교차 검증을 위해 전체 데이터 셋에서 트레이닝용 데이터나 테스트용 데이터를 분리해 내는 여러가지 방법을 제공한다."
   ]
  },
  {
   "cell_type": "markdown",
   "metadata": {
    "school_cell_uuid": "60dfe864a00d4ba58f9ff0cddd4cb7bc"
   },
   "source": [
    "* data를 train set과 test set으로 단순 분리\n",
    " * data splitter\n",
    "   * `train_test_split()` 명령\n",
    "\n",
    "\n",
    "* 복수의 test set 준비\n",
    " * cross validation generator\n",
    "   * `KFold`\n",
    "   * `LeaveOneOut`\n",
    "   * `ShuffleSplit`\n",
    " \n",
    "* 복수의 test set 사용하여 평가 과정 반복\n",
    " * cross validation calculator\n",
    "   * `cross_val_score()` \n"
   ]
  },
  {
   "cell_type": "markdown",
   "metadata": {
    "school_cell_uuid": "f734e1ca3289467890c30c34b3a5b22c"
   },
   "source": [
    "### 단순 데이터 분리"
   ]
  },
  {
   "cell_type": "markdown",
   "metadata": {
    "school_cell_uuid": "0b0203e7ddc9457994e7e6b859109b75"
   },
   "source": [
    "`train_test_split()` 명령은 데이터를 단순히 트레이닝 데이터와 테스트 데이터로 분리한다.\n",
    "\n",
    "\n",
    "* 인수\n",
    " * arrays : 데이터\n",
    " * test_size : 테스트 데이터 사이즈\n",
    " * train_size :  사이즈\n",
    " * random_state : 난수 시드\n",
    "\n",
    "* 반환값\n",
    " * 배열 리스트"
   ]
  },
  {
   "cell_type": "code",
   "execution_count": 1,
   "metadata": {
    "school_cell_uuid": "4c3832e557984aee8852ee4abbb8fa2e"
   },
   "outputs": [
    {
     "data": {
      "text/plain": [
       "array([[0, 1],\n",
       "       [2, 3],\n",
       "       [4, 5],\n",
       "       [6, 7],\n",
       "       [8, 9]])"
      ]
     },
     "execution_count": 1,
     "metadata": {},
     "output_type": "execute_result"
    }
   ],
   "source": [
    "X = np.arange(10).reshape((5, 2))\n",
    "X"
   ]
  },
  {
   "cell_type": "code",
   "execution_count": 2,
   "metadata": {
    "school_cell_uuid": "070f95ebcf5d4879b71441a044ed9509"
   },
   "outputs": [
    {
     "data": {
      "text/plain": [
       "array([0, 1, 2, 3, 4])"
      ]
     },
     "execution_count": 2,
     "metadata": {},
     "output_type": "execute_result"
    }
   ],
   "source": [
    "y = np.arange(5)\n",
    "y"
   ]
  },
  {
   "cell_type": "code",
   "execution_count": 3,
   "metadata": {
    "collapsed": true,
    "school_cell_uuid": "90e72c84142a4fc290d08e8989af57da"
   },
   "outputs": [],
   "source": [
    "from sklearn.model_selection import train_test_split\n",
    "X_train, X_test, y_train, y_test = train_test_split(X, y, test_size=0.33, random_state=42)"
   ]
  },
  {
   "cell_type": "code",
   "execution_count": 4,
   "metadata": {
    "school_cell_uuid": "338f2ee3049747cdaa037b26852a29fd"
   },
   "outputs": [
    {
     "data": {
      "text/plain": [
       "array([[4, 5],\n",
       "       [0, 1],\n",
       "       [6, 7]])"
      ]
     },
     "execution_count": 4,
     "metadata": {},
     "output_type": "execute_result"
    }
   ],
   "source": [
    "X_train"
   ]
  },
  {
   "cell_type": "code",
   "execution_count": 5,
   "metadata": {
    "school_cell_uuid": "028786d2784b4a68ab1fd7994e0d1e66"
   },
   "outputs": [
    {
     "data": {
      "text/plain": [
       "array([2, 0, 3])"
      ]
     },
     "execution_count": 5,
     "metadata": {},
     "output_type": "execute_result"
    }
   ],
   "source": [
    "y_train"
   ]
  },
  {
   "cell_type": "code",
   "execution_count": 6,
   "metadata": {
    "school_cell_uuid": "474efafa7f624560ba21016b9acb15fb"
   },
   "outputs": [
    {
     "data": {
      "text/plain": [
       "array([[2, 3],\n",
       "       [8, 9]])"
      ]
     },
     "execution_count": 6,
     "metadata": {},
     "output_type": "execute_result"
    }
   ],
   "source": [
    "X_test"
   ]
  },
  {
   "cell_type": "code",
   "execution_count": 7,
   "metadata": {
    "school_cell_uuid": "89629adfb6b24c51baa49a4dd2690747"
   },
   "outputs": [
    {
     "data": {
      "text/plain": [
       "array([1, 4])"
      ]
     },
     "execution_count": 7,
     "metadata": {},
     "output_type": "execute_result"
    }
   ],
   "source": [
    "y_test"
   ]
  },
  {
   "cell_type": "markdown",
   "metadata": {
    "school_cell_uuid": "c2abdda8bbeb439c844e9865f6d3104b"
   },
   "source": [
    "## Cross-Validation"
   ]
  },
  {
   "cell_type": "markdown",
   "metadata": {
    "school_cell_uuid": "4b72b8e8fe234b1aab94d86459d72c62"
   },
   "source": [
    "`KFold` 클래스를 비롯한 교차 검증 클래스 객체들은 Cross Valiation Generator 들로서\n",
    "트레이닝/테스트용 데이터 인덱스를 내보내는 iterator를 출력하는 `split` 메서드를 제공한다."
   ]
  },
  {
   "cell_type": "markdown",
   "metadata": {
    "school_cell_uuid": "443b4419f68e4706a530e5682a5884b0"
   },
   "source": [
    "### K-fold CV"
   ]
  },
  {
   "cell_type": "markdown",
   "metadata": {
    "school_cell_uuid": "22487434c26f4088a9a7f156e8c447d5"
   },
   "source": [
    "K-fold CV(cross-validation) 방법은 데이터 셋을 K개의 sub-set로 분리하는 방법이다. 분리된 K개의 sub-set 중 하나만 제외한 K-1개의 sub-sets를 training set으로 이용하여 K개의 모형 추정한다. \n",
    " \n",
    "<img src=\"https://docs.google.com/drawings/d/1JdgUDzuE75LBxqT5sKOhlPgP6umEkvD3Sm-gKnu-jqA/pub?w=762&h=651\" style=\"margin: 0 auto 0 auto;\">"
   ]
  },
  {
   "cell_type": "code",
   "execution_count": 8,
   "metadata": {
    "school_cell_uuid": "92a46e5d49074eeca371b639dd7296b8"
   },
   "outputs": [
    {
     "name": "stdout",
     "output_type": "stream",
     "text": [
      "X:\n",
      "[[  0  10]\n",
      " [ 20  30]\n",
      " [ 40  50]\n",
      " [ 60  70]\n",
      " [ 80  90]\n",
      " [100 110]\n",
      " [120 130]\n",
      " [140 150]\n",
      " [160 170]\n",
      " [180 190]\n",
      " [200 210]\n",
      " [220 230]\n",
      " [240 250]\n",
      " [260 270]\n",
      " [280 290]\n",
      " [300 310]\n",
      " [320 330]\n",
      " [340 350]\n",
      " [360 370]\n",
      " [380 390]]\n",
      "y:\n",
      "[ 1.  1.  1.  1.  1.  2.  2.  2.  2.  2.  3.  3.  3.  3.  3.  4.  4.  4.\n",
      "  4.  4.]\n"
     ]
    }
   ],
   "source": [
    "N = 5\n",
    "X = np.arange(8 * N).reshape(-1, 2) * 10\n",
    "y = np.hstack([np.ones(N), np.ones(N) * 2, np.ones(N) * 3, np.ones(N) * 4])\n",
    "print(\"X:\\n\", X, sep=\"\")\n",
    "print(\"y:\\n\", y, sep=\"\")"
   ]
  },
  {
   "cell_type": "code",
   "execution_count": 9,
   "metadata": {
    "school_cell_uuid": "556dab2a12f4433088c4a56d7cade7c1"
   },
   "outputs": [
    {
     "name": "stdout",
     "output_type": "stream",
     "text": [
      "test index : [ 1  6  8 10 17 18 19]\n",
      "................................................................................\n",
      "train index: [ 0  2  3  4  5  7  9 11 12 13 14 15 16]\n",
      "================================================================================\n",
      "test index : [ 2  4  5  7  9 13 14]\n",
      "................................................................................\n",
      "train index: [ 0  1  3  6  8 10 11 12 15 16 17 18 19]\n",
      "================================================================================\n",
      "test index : [ 0  3 11 12 15 16]\n",
      "................................................................................\n",
      "train index: [ 1  2  4  5  6  7  8  9 10 13 14 17 18 19]\n",
      "================================================================================\n"
     ]
    }
   ],
   "source": [
    "from sklearn.model_selection import KFold\n",
    "\n",
    "cv = KFold(n_splits=3, shuffle=True, random_state=0)\n",
    "for train_index, test_index in cv.split(X):\n",
    "    print(\"test index :\", test_index)\n",
    "    print(\".\" * 80 )        \n",
    "    print(\"train index:\", train_index)\n",
    "    print(\"=\" * 80 )"
   ]
  },
  {
   "cell_type": "markdown",
   "metadata": {
    "school_cell_uuid": "e389cca9f65a4c6a95c5936d83d26e43"
   },
   "source": [
    "### Leave-One-Out (LOO)\n",
    "\n",
    "* 하나의 sample만을 test set으로 남긴다."
   ]
  },
  {
   "cell_type": "code",
   "execution_count": 10,
   "metadata": {
    "school_cell_uuid": "0325efaf66ad4b478286b903af2fbd18"
   },
   "outputs": [
    {
     "name": "stdout",
     "output_type": "stream",
     "text": [
      "test X: [[ 0 10]]\n",
      "................................................................................\n",
      "test y: [ 1.]\n",
      "================================================================================\n",
      "test X: [[20 30]]\n",
      "................................................................................\n",
      "test y: [ 1.]\n",
      "================================================================================\n",
      "test X: [[40 50]]\n",
      "................................................................................\n",
      "test y: [ 1.]\n",
      "================================================================================\n",
      "test X: [[60 70]]\n",
      "................................................................................\n",
      "test y: [ 1.]\n",
      "================================================================================\n",
      "test X: [[80 90]]\n",
      "................................................................................\n",
      "test y: [ 1.]\n",
      "================================================================================\n",
      "test X: [[100 110]]\n",
      "................................................................................\n",
      "test y: [ 2.]\n",
      "================================================================================\n",
      "test X: [[120 130]]\n",
      "................................................................................\n",
      "test y: [ 2.]\n",
      "================================================================================\n",
      "test X: [[140 150]]\n",
      "................................................................................\n",
      "test y: [ 2.]\n",
      "================================================================================\n",
      "test X: [[160 170]]\n",
      "................................................................................\n",
      "test y: [ 2.]\n",
      "================================================================================\n",
      "test X: [[180 190]]\n",
      "................................................................................\n",
      "test y: [ 2.]\n",
      "================================================================================\n",
      "test X: [[200 210]]\n",
      "................................................................................\n",
      "test y: [ 3.]\n",
      "================================================================================\n",
      "test X: [[220 230]]\n",
      "................................................................................\n",
      "test y: [ 3.]\n",
      "================================================================================\n",
      "test X: [[240 250]]\n",
      "................................................................................\n",
      "test y: [ 3.]\n",
      "================================================================================\n",
      "test X: [[260 270]]\n",
      "................................................................................\n",
      "test y: [ 3.]\n",
      "================================================================================\n",
      "test X: [[280 290]]\n",
      "................................................................................\n",
      "test y: [ 3.]\n",
      "================================================================================\n",
      "test X: [[300 310]]\n",
      "................................................................................\n",
      "test y: [ 4.]\n",
      "================================================================================\n",
      "test X: [[320 330]]\n",
      "................................................................................\n",
      "test y: [ 4.]\n",
      "================================================================================\n",
      "test X: [[340 350]]\n",
      "................................................................................\n",
      "test y: [ 4.]\n",
      "================================================================================\n",
      "test X: [[360 370]]\n",
      "................................................................................\n",
      "test y: [ 4.]\n",
      "================================================================================\n",
      "test X: [[380 390]]\n",
      "................................................................................\n",
      "test y: [ 4.]\n",
      "================================================================================\n"
     ]
    }
   ],
   "source": [
    "from sklearn.model_selection import LeaveOneOut\n",
    "\n",
    "cv = LeaveOneOut()\n",
    "\n",
    "for train_index, test_index in cv.split(X):\n",
    "    print(\"test X:\", X[test_index])\n",
    "    print(\".\" * 80 )        \n",
    "    print(\"test y:\", y[test_index])\n",
    "    print(\"=\" * 80 )"
   ]
  },
  {
   "cell_type": "markdown",
   "metadata": {
    "school_cell_uuid": "a7f299b590f64ab6a6ebb210030e6172"
   },
   "source": [
    "### ShuffleSplit\n",
    "\n",
    "* 중복된 데이터를 허용"
   ]
  },
  {
   "cell_type": "code",
   "execution_count": 11,
   "metadata": {
    "school_cell_uuid": "7643b1bcf3b749c2b8103ae803bdf9cc"
   },
   "outputs": [
    {
     "name": "stdout",
     "output_type": "stream",
     "text": [
      "test X:\n",
      " [[360 370]\n",
      " [ 20  30]\n",
      " [380 390]\n",
      " [160 170]\n",
      " [200 210]\n",
      " [340 350]\n",
      " [120 130]\n",
      " [260 270]\n",
      " [ 80  90]\n",
      " [ 40  50]]\n",
      "====================\n",
      "test X:\n",
      " [[220 230]\n",
      " [ 20  30]\n",
      " [360 370]\n",
      " [340 350]\n",
      " [ 40  50]\n",
      " [240 250]\n",
      " [380 390]\n",
      " [320 330]\n",
      " [200 210]\n",
      " [  0  10]]\n",
      "====================\n",
      "test X:\n",
      " [[300 310]\n",
      " [260 270]\n",
      " [240 250]\n",
      " [100 110]\n",
      " [220 230]\n",
      " [ 40  50]\n",
      " [160 170]\n",
      " [120 130]\n",
      " [ 60  70]\n",
      " [340 350]]\n",
      "====================\n",
      "test X:\n",
      " [[360 370]\n",
      " [  0  10]\n",
      " [260 270]\n",
      " [ 40  50]\n",
      " [ 60  70]\n",
      " [340 350]\n",
      " [140 150]\n",
      " [240 250]\n",
      " [280 290]\n",
      " [320 330]]\n",
      "====================\n",
      "test X:\n",
      " [[140 150]\n",
      " [ 20  30]\n",
      " [ 40  50]\n",
      " [380 390]\n",
      " [100 110]\n",
      " [360 370]\n",
      " [160 170]\n",
      " [340 350]\n",
      " [300 310]\n",
      " [320 330]]\n",
      "====================\n"
     ]
    }
   ],
   "source": [
    "from sklearn.model_selection import ShuffleSplit\n",
    "\n",
    "cv = ShuffleSplit(n_splits=5, test_size=.5, random_state=0)\n",
    "\n",
    "for train_index, test_index in cv.split(X):\n",
    "    print(\"test X:\\n\", X[test_index])\n",
    "    print(\"=\" * 20 )        "
   ]
  },
  {
   "cell_type": "markdown",
   "metadata": {
    "school_cell_uuid": "a4974220558345148bbc4fcc897a5c7e"
   },
   "source": [
    "## 교차 평가 시행 \n",
    "\n",
    "CV는 단순히 데이터 셋을 나누는 역할을 수행할 뿐이다. 실제로 모형의 성능(편향 오차 및 분산)을 구하려면 이렇게 나누어진 데이터셋을 사용하여 평가를 반복하여야 한다. 이 과정을 자동화하는 명령이 `cross_val_score()` 이다.\n",
    "\n",
    "\n",
    "* `cross_val_score(estimator, X, y=None, scoring=None, cv=None)` \n",
    " * cross validation iterator `cv`를 이용하여 `X`, `y` data 를 분할하고 `estimator`에 넣어서 `scoring` metric을 구하는 과정을 반복\n",
    "\n",
    "\n",
    "* 인수\n",
    " * estimator : ‘fit’메서드가 제공되는 모형\n",
    " * X : 배열\n",
    "   * 독립 변수 데이터\n",
    " * y : 배열\n",
    "   * 종속 변수 데이터\n",
    " * scoring : 문자열\n",
    "   * 성능 검증에 사용할 함수\n",
    " * cv : Cross Validator\n",
    "   * None 이면 디폴트인  3-폴드 CV\n",
    "   * 숫자 K  이면 K-폴드 CV\n",
    "   * Cross Validator 클래스 객체\n",
    "\n",
    "* 반환값\n",
    "  * scores \n",
    "      * 계산된 성능 값의 리스트"
   ]
  },
  {
   "cell_type": "code",
   "execution_count": 14,
   "metadata": {
    "school_cell_uuid": "baa8622e9ef042e5bf0088551b72fab8"
   },
   "outputs": [
    {
     "data": {
      "text/plain": [
       "array([ 0.95636425,  0.94908323,  0.93880683,  0.92906829,  0.93119768,\n",
       "        0.95362566,  0.93217768,  0.94308775,  0.94579305,  0.94749884])"
      ]
     },
     "execution_count": 14,
     "metadata": {},
     "output_type": "execute_result"
    }
   ],
   "source": [
    "from sklearn.datasets import make_regression\n",
    "from sklearn.linear_model import LinearRegression\n",
    "from sklearn.metrics import r2_score\n",
    "\n",
    "X, y, coef = make_regression(n_samples=1000, n_features=1, noise=20, coef=True, random_state=0)\n",
    "\n",
    "model = LinearRegression()\n",
    "cv = KFold(10)\n",
    "\n",
    "scores = np.zeros(10)\n",
    "for i, (train_index, test_index) in enumerate(cv.split(X)):\n",
    "    X_train = X[train_index]\n",
    "    y_train = y[train_index]\n",
    "    X_test = X[test_index]\n",
    "    y_test = y[test_index]\n",
    "    model.fit(X_train, y_train)\n",
    "    y_pred = model.predict(X_test)\n",
    "    scores[i] = r2_score(y_test, y_pred)\n",
    "\n",
    "scores"
   ]
  },
  {
   "cell_type": "code",
   "execution_count": 16,
   "metadata": {
    "school_cell_uuid": "3b69e154c0fa4e42a800c9b799bf6aa5"
   },
   "outputs": [
    {
     "data": {
      "text/plain": [
       "array([ 0.95636425,  0.94908323,  0.93880683,  0.92906829,  0.93119768,\n",
       "        0.95362566,  0.93217768,  0.94308775,  0.94579305,  0.94749884])"
      ]
     },
     "execution_count": 16,
     "metadata": {},
     "output_type": "execute_result"
    }
   ],
   "source": [
    "from sklearn.model_selection import cross_val_score\n",
    "\n",
    "cross_val_score(model, X, y, scoring=\"r2\", cv=cv)"
   ]
  }
 ],
 "metadata": {
  "kernelspec": {
   "display_name": "Python 3",
   "language": "python",
   "name": "python3"
  },
  "language_info": {
   "codemirror_mode": {
    "name": "ipython",
    "version": 3
   },
   "file_extension": ".py",
   "mimetype": "text/x-python",
   "name": "python",
   "nbconvert_exporter": "python",
   "pygments_lexer": "ipython3",
   "version": "3.6.2"
  }
 },
 "nbformat": 4,
 "nbformat_minor": 1
}