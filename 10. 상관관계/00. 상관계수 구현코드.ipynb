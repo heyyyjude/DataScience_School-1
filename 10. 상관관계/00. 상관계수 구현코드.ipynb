{
 "cells": [
  {
   "cell_type": "code",
   "execution_count": 1,
   "metadata": {},
   "outputs": [],
   "source": [
    "data1 = np.array([80,85,100,90,95])\n",
    "data2 = np.array([70,80,100,95,95])"
   ]
  },
  {
   "cell_type": "markdown",
   "metadata": {},
   "source": [
    "##### 분산(variance)\n",
    "- 1개의 이산정도를 나타냄\n",
    "- 편차제곱의 평균"
   ]
  },
  {
   "cell_type": "markdown",
   "metadata": {},
   "source": [
    "$ variance = \\frac{\\sum_{i=1}^n{(x_i-\\bar{x})^2}}{n}, (\\bar{x}:평균) $"
   ]
  },
  {
   "cell_type": "code",
   "execution_count": 5,
   "metadata": {},
   "outputs": [
    {
     "data": {
      "text/plain": [
       "(50.0, 126.0, 7.0710678118654755, 11.224972160321824)"
      ]
     },
     "execution_count": 5,
     "metadata": {},
     "output_type": "execute_result"
    }
   ],
   "source": [
    "# 분산\n",
    "def variance(data):\n",
    "    # TODO\n",
    "    avg = np.average(data)\n",
    "    tmp = [(num - avg) ** 2 for num in data]\n",
    "    \n",
    "    return sum(tmp) / len(data)\n",
    "\n",
    "# test code (분산, 표준편차)\n",
    "variance(data1), variance(data2), variance(data1)**0.5, variance(data2)**0.5"
   ]
  },
  {
   "cell_type": "code",
   "execution_count": 4,
   "metadata": {},
   "outputs": [
    {
     "data": {
      "text/plain": [
       "(50.0, 126.0, 7.0710678118654755, 11.224972160321824)"
      ]
     },
     "execution_count": 4,
     "metadata": {},
     "output_type": "execute_result"
    }
   ],
   "source": [
    "# numpy 분산, 표준편차\n",
    "np.var(data1), np.var(data2), np.std(data1), np.std(data2)"
   ]
  },
  {
   "cell_type": "markdown",
   "metadata": {},
   "source": [
    "##### 공분산(covariance)\n",
    "- 2개의 확률변수의 상관정도를 나타냄\n",
    "- 평균 편차곱\n",
    "- 방향성은 보여줄수 있으나 강도를 나타내는데 한계가 있음 (표본데이터의 크기에 따라서 값이 많이 달라짐)"
   ]
  },
  {
   "cell_type": "markdown",
   "metadata": {},
   "source": [
    "$ covariance = \\frac{\\sum_{i=1}^{n}{(x_i-\\bar{x})(y_i-\\bar{y})}}{n}, (\\bar{x}:x의 평균, \\bar{y}:y의 평균) $"
   ]
  },
  {
   "cell_type": "code",
   "execution_count": 32,
   "metadata": {},
   "outputs": [],
   "source": [
    "# 표본상관계수를 사용 (모상관계수를 사용하면 -1을 제거)\n",
    "def covariance(data1, data2):\n",
    "    # TODO\n",
    "    x_ = np.average(data1)\n",
    "    y_ = np.average(data2)\n",
    "    \n",
    "    tmp = sum([(x-x_)*(y-y_) for x,y in zip(data1,data2)])\n",
    "    \n",
    "    return tmp / (len(data1) - 1)"
   ]
  },
  {
   "cell_type": "code",
   "execution_count": 34,
   "metadata": {},
   "outputs": [
    {
     "name": "stdout",
     "output_type": "stream",
     "text": [
      "93.75\n"
     ]
    }
   ],
   "source": [
    "# teat code 1\n",
    "data1 = np.array([80,85,100,90,95])\n",
    "data2 = np.array([70,80,100,95,95])\n",
    "result = covariance(data1, data2)\n",
    "print(result)"
   ]
  },
  {
   "cell_type": "code",
   "execution_count": 35,
   "metadata": {},
   "outputs": [
    {
     "name": "stdout",
     "output_type": "stream",
     "text": [
      "-87.5\n"
     ]
    }
   ],
   "source": [
    "# teat code 2\n",
    "data3 = np.array([80,85,100,90,95])\n",
    "data4 = np.array([100,90,70,90,80])\n",
    "result = covariance(data3, data4)\n",
    "print(result)"
   ]
  },
  {
   "cell_type": "code",
   "execution_count": 36,
   "metadata": {},
   "outputs": [
    {
     "data": {
      "text/plain": [
       "array([[  62.5 ,   93.75],\n",
       "       [  93.75,  157.5 ]])"
      ]
     },
     "execution_count": 36,
     "metadata": {},
     "output_type": "execute_result"
    }
   ],
   "source": [
    "np.cov(data1,data2) "
   ]
  },
  {
   "cell_type": "code",
   "execution_count": 37,
   "metadata": {
    "scrolled": true
   },
   "outputs": [
    {
     "data": {
      "text/plain": [
       "array([[  62.5,  -87.5],\n",
       "       [ -87.5,  130. ]])"
      ]
     },
     "execution_count": 37,
     "metadata": {},
     "output_type": "execute_result"
    }
   ],
   "source": [
    "np.cov(data3,data4)"
   ]
  },
  {
   "cell_type": "markdown",
   "metadata": {},
   "source": [
    "##### 상관계수(correlation coefficient)\n",
    "- 공분산의 한계를 극복하기 위해서 만들어짐\n",
    "- -1 ~ 1까지의 수를 가지며 0과 가까울수록 상관도가 적음을 의미\n",
    "- x의 분산과 y의 분산을 곱한 결과의 제곱근을 나눠주면 x나 y의 변화량이 클수록 0에 가까워짐\n",
    "- https://docs.scipy.org/doc/numpy-1.13.0/reference/generated/numpy.corrcoef.html"
   ]
  },
  {
   "cell_type": "markdown",
   "metadata": {},
   "source": [
    "$ correlation-coefficient = \\frac{공분산}{\\sqrt{{x분산} \\cdot {y분산}}} $"
   ]
  },
  {
   "cell_type": "markdown",
   "metadata": {},
   "source": [
    "최종 상관계수"
   ]
  },
  {
   "cell_type": "markdown",
   "metadata": {},
   "source": [
    "$ r = \\frac{\\sum(x-\\bar{x})(y-\\bar{y})}{\\sqrt{{\\sum(x-\\bar{x})^2}\\cdot{\\sum(y-\\bar{y})^2}}} $"
   ]
  },
  {
   "cell_type": "code",
   "execution_count": 38,
   "metadata": {},
   "outputs": [],
   "source": [
    "def cc(data1, data2):\n",
    "    # TODO\n",
    "    x_ = np.average(data1)\n",
    "    y_ = np.average(data2)\n",
    "    \n",
    "    son = sum([(x-x_)*(y-y_) for x,y in zip(data1,data2)])\n",
    "    mom = (sum([(x-x_)**2 for x in data1]) * sum([(y-y_)**2 for y in data2]))**(0.5)\n",
    "    \n",
    "    return son / mom"
   ]
  },
  {
   "cell_type": "code",
   "execution_count": 39,
   "metadata": {},
   "outputs": [
    {
     "name": "stdout",
     "output_type": "stream",
     "text": [
      "0.944911182523\n"
     ]
    },
    {
     "data": {
      "text/plain": [
       "array([[ 1.        ,  0.94491118],\n",
       "       [ 0.94491118,  1.        ]])"
      ]
     },
     "execution_count": 39,
     "metadata": {},
     "output_type": "execute_result"
    }
   ],
   "source": [
    "# teat code 1\n",
    "data1 = np.array([80,85,100,90,95])\n",
    "data2 = np.array([70,80,100,95,95])\n",
    "print(cc(data1, data2))\n",
    "np.corrcoef(data1, data2)"
   ]
  },
  {
   "cell_type": "code",
   "execution_count": 40,
   "metadata": {},
   "outputs": [
    {
     "name": "stdout",
     "output_type": "stream",
     "text": [
      "-0.970725343394\n"
     ]
    },
    {
     "data": {
      "text/plain": [
       "array([[ 1.        , -0.97072534],\n",
       "       [-0.97072534,  1.        ]])"
      ]
     },
     "execution_count": 40,
     "metadata": {},
     "output_type": "execute_result"
    }
   ],
   "source": [
    "# teat code 2\n",
    "data3 = np.array([80,85,100,90,95])\n",
    "data4 = np.array([100,90,70,90,80])\n",
    "print(cc(data3, data4))\n",
    "np.corrcoef(data3, data4)"
   ]
  },
  {
   "cell_type": "code",
   "execution_count": 41,
   "metadata": {},
   "outputs": [
    {
     "name": "stdout",
     "output_type": "stream",
     "text": [
      "0.2\n"
     ]
    },
    {
     "data": {
      "text/plain": [
       "array([[ 1. ,  0.2],\n",
       "       [ 0.2,  1. ]])"
      ]
     },
     "execution_count": 41,
     "metadata": {},
     "output_type": "execute_result"
    }
   ],
   "source": [
    "# teat code 3\n",
    "data5 = np.array([80,85,100,90,95])\n",
    "data6 = np.array([90,95,100,80,85])\n",
    "print(cc(data5, data6))\n",
    "np.corrcoef(data5, data6)"
   ]
  },
  {
   "cell_type": "markdown",
   "metadata": {},
   "source": [
    "##### 결정계수(cofficient of determination)\n",
    "- x로부터 y를 예측할수 있는 정도\n",
    "- 상관계수의 제곱 (상관계수를 양수화)\n",
    "- 수치가 클수록 예측할수 있는 정도가 더 정확"
   ]
  },
  {
   "cell_type": "markdown",
   "metadata": {},
   "source": [
    "##### 프리미어리그 데이터에서 승점에 득점과 실점중에 어떤게 더 영향을 미칠까?"
   ]
  },
  {
   "cell_type": "code",
   "execution_count": 43,
   "metadata": {},
   "outputs": [],
   "source": [
    "# 승점\n",
    "point = np.array([81,65,63,61,56,48,43,40,40,36,36,34,32,31,31,30,30,28,27,20])\n",
    "\n",
    "# 득점\n",
    "gf = np.array([85,58,73,59,52,55,27,45,37,37,39,28,30,25,25,30,36,29,29,24])\n",
    "\n",
    "# 실점\n",
    "ga = np.array([20,23,34,25,27,41,26,43,50,49,55,40,40,42,52,48,57,44,58,49])"
   ]
  },
  {
   "cell_type": "code",
   "execution_count": 44,
   "metadata": {},
   "outputs": [
    {
     "data": {
      "text/plain": [
       "0.93645481160394528"
      ]
     },
     "execution_count": 44,
     "metadata": {},
     "output_type": "execute_result"
    }
   ],
   "source": [
    "(cc(point, gf))**2"
   ]
  },
  {
   "cell_type": "code",
   "execution_count": 46,
   "metadata": {},
   "outputs": [
    {
     "data": {
      "text/plain": [
       "0.67757772853881815"
      ]
     },
     "execution_count": 46,
     "metadata": {},
     "output_type": "execute_result"
    }
   ],
   "source": [
    "(cc(point, ga))**2"
   ]
  },
  {
   "cell_type": "code",
   "execution_count": 48,
   "metadata": {},
   "outputs": [
    {
     "name": "stdout",
     "output_type": "stream",
     "text": [
      "[[ 1.          0.93645481]\n",
      " [ 0.93645481  1.        ]]\n",
      "[[ 1.        -0.8231511]\n",
      " [-0.8231511  1.       ]]\n"
     ]
    }
   ],
   "source": [
    "print(np.corrcoef(point, gf))\n",
    "print(np.corrcoef(point,ga))"
   ]
  },
  {
   "cell_type": "code",
   "execution_count": null,
   "metadata": {},
   "outputs": [],
   "source": []
  }
 ],
 "metadata": {
  "kernelspec": {
   "display_name": "Python 3",
   "language": "python",
   "name": "python3"
  },
  "language_info": {
   "codemirror_mode": {
    "name": "ipython",
    "version": 3
   },
   "file_extension": ".py",
   "mimetype": "text/x-python",
   "name": "python",
   "nbconvert_exporter": "python",
   "pygments_lexer": "ipython3",
   "version": "3.5.0"
  }
 },
 "nbformat": 4,
 "nbformat_minor": 2
}
