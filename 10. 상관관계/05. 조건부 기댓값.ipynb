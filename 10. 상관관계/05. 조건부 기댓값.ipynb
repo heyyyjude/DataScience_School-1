{
 "cells": [
  {
   "cell_type": "markdown",
   "metadata": {
    "school_cell_uuid": "8dfa6d533a0a4d478326b5c2c4eb1d0f"
   },
   "source": [
    "# 조건부 기댓값"
   ]
  },
  {
   "cell_type": "markdown",
   "metadata": {
    "school_cell_uuid": "c452084410a74f959a1d0ca45205f536"
   },
   "source": [
    "확률 변수 $Y$의 기댓값을 구할 때 주변 확률밀도함수 $f_Y(y)$를 사용하여 가중치를 계산하지 않고 조건부 확률밀도함수 $f_{Y\\vert X}(y|x)$를 이용하여 가중치를 계산하면 **조건부 기댓값(conditional expectation)** 혹은 **조건부 평균(conditional mean)**이 된다.\n",
    "\n",
    "$$ \n",
    "\\text{E}_Y[Y \\vert X] \n",
    "= \\int_{y=-\\infty}^{y=\\infty} y \\, f_{Y \\vert X}(y|x) dy \n",
    "$$\n",
    "\n",
    "또는 간단히 다음처럼 쓴다.\n",
    "\n",
    "$$ \n",
    "\\text{E}[Y \\vert X] \n",
    "= \\int y \\, f(y|x) dy \n",
    "$$\n",
    "\n",
    "\n",
    "일반적인 기댓값은 상수이지만 **조건부 기댓값은 조건이 되는 확률 변수의 값에 따라서 분포가 달라지는 확률변수**이다. 즉 $\\text{E}[Y \\vert X]$는 확률변수이면서 $x$ 값에 따라 확률 밀도 함수가 달라진다."
   ]
  },
  {
   "cell_type": "markdown",
   "metadata": {
    "school_cell_uuid": "205aefcca33e4acc9204bb8c3fe78f41"
   },
   "source": [
    "조건부 기댓값을 구할 때 만약 조건이 되는 확률 변수의 값은 상수이므로 기댓값 계산 연산자 밖으로 나올 수 있다.\n",
    "\n",
    "$$ \\text{E}[g(X) \\vert X] = g(X) $$\n",
    "\n",
    "$$ \\text{E}[g(X) Y \\vert X] = g(X) \\text{E}[Y \\vert X] $$"
   ]
  },
  {
   "cell_type": "markdown",
   "metadata": {
    "school_cell_uuid": "512e47d7b8444583a82b9a9aeaebec73"
   },
   "source": [
    "## 전체 기댓값의 법칙"
   ]
  },
  {
   "cell_type": "markdown",
   "metadata": {
    "school_cell_uuid": "e438487a00754aceb1da376e5ac39ce7"
   },
   "source": [
    "조건부 기댓값은 여전히 확률 변수이므로 조건이 되는 확률 변수에 대해 다시 기댓값을 구할 수 있다. 이렇게 반복하여 구한 조건부 기댓값의 기댓값은 원래 확률 변수의 보통 기댓값과 같다.\n",
    "\n",
    "$$ \\text{E}_X[\\text{E}_Y[Y \\vert X]] = \\text{E}_Y[Y]  $$\n",
    "\n",
    "또는 간단히 다음처럼 쓴다.\n",
    "\n",
    "$$ \\text{E}[\\text{E}[Y \\vert X]] = \\text{E}[Y]  $$\n",
    "\n",
    "이를 **전체 기댓값의 법칙(law of total expectaion)** 또는 **반복 기댓값의 법칙(law iterated expectation)**이라고 하며 전체 확률의 법칙에서 증명할 수 있다."
   ]
  },
  {
   "cell_type": "markdown",
   "metadata": {
    "bootstrap": {
     "panel": {
      "class": "panel-default"
     }
    },
    "school_cell_uuid": "d3271586a7d34258b32f759d79ef870b"
   },
   "source": [
    "#### 연습 문제 1\n",
    "\n",
    "전체 기댓값의 법칙을 사용하여 다음을 증명하라.\n",
    "\n",
    "$$ \\text{E}[(Y - \\text{E}[Y \\vert X])g(X)] = 0 $$"
   ]
  },
  {
   "cell_type": "markdown",
   "metadata": {
    "school_cell_uuid": "d7b4babe59fe43df912da67fb57fe63a"
   },
   "source": [
    "## 조건부 분산"
   ]
  },
  {
   "cell_type": "markdown",
   "metadata": {
    "school_cell_uuid": "824f7fce12ed40e28ef3386959056844"
   },
   "source": [
    "조건부 기댓값을 정의한 것처럼 조건부 분산(conditional variance)도 다음처럼 정의할 수 있다.\n",
    "\n",
    "$$ \n",
    "\\text{Var}_Y[Y \\vert X] \n",
    "= \\text{E}_Y[(Y - \\text{E}_Y[Y \\vert X])^2 \\vert X] \n",
    "= \\int (Y - \\text{E}_Y[Y \\vert X])^2 f_{Y \\vert X}(y \\vert x) dy \n",
    "$$"
   ]
  },
  {
   "cell_type": "markdown",
   "metadata": {
    "school_cell_uuid": "28778b4eebb742bda9f2d209a36aaec5"
   },
   "source": [
    "## 전체 분산의 법칙"
   ]
  },
  {
   "cell_type": "markdown",
   "metadata": {
    "school_cell_uuid": "82470bf6e82b448cb57946a71575b681"
   },
   "source": [
    "확률 변수의 분산은 조건부 분산의 기댓값과 조건부 기댓값의 분산의 합과 같다. 이를 **전체 분산의 법칙(law of total variance)**라고 한다.\n",
    "\n",
    "$$ \\text{Var}[Y] = \\text{E}[\\text{Var}[Y\\vert X]] + \\text{Var}[\\text{E}[Y\\vert X]] $$"
   ]
  },
  {
   "cell_type": "markdown",
   "metadata": {
    "school_cell_uuid": "9b297f9cb5654bf48cb4f7d88a87750c"
   },
   "source": [
    "## 조건부 공분산"
   ]
  },
  {
   "cell_type": "markdown",
   "metadata": {
    "school_cell_uuid": "2ff54a8e01d84d8cb18365bc24422a74"
   },
   "source": [
    "조건부 분산을 정의한 것처럼 조건부 공분산(conditional covariance)도 다음처럼 정의할 수 있다.\n",
    "\n",
    "$$ \n",
    "\\text{Cov}[X, Y \\vert Z] \n",
    "= \\text{E}[(X - \\text{E}[X \\vert Z])(Y - \\text{E}[Y \\vert Z]) \\vert Z] \n",
    "= \\int (x - \\text{E}[X \\vert Z])(y - \\text{E}[Y \\vert Z]) f(x, y \\vert z) dxdy \n",
    "$$"
   ]
  },
  {
   "cell_type": "markdown",
   "metadata": {
    "school_cell_uuid": "c63a100610804c5bbd2f933f68b447b5"
   },
   "source": [
    "## 전체 공분산의 법칙"
   ]
  },
  {
   "cell_type": "markdown",
   "metadata": {
    "school_cell_uuid": "e8b9a04f9a0747d0a88247cf64504c83"
   },
   "source": [
    "확률 변수의 공분산은 조건부 공분산의 기댓값과 조건부 기댓값의 공분산의 합과 같다. 이를 **전체 공분산의 법칙(law of total variance)**라고 한다.\n",
    "\n",
    "$$ \\text{Cov}[X,Y] = \\text{E}[\\text{Cov}[X,Y\\vert Z]] + \\text{Cov}[\\text{E}[X\\vert Z]\\text{E}[Y\\vert Z]] $$"
   ]
  },
  {
   "cell_type": "markdown",
   "metadata": {
    "school_cell_uuid": "47bd1ab920964d8fa62f2d0cfa5f1a52"
   },
   "source": [
    "## 통계적 직교"
   ]
  },
  {
   "cell_type": "markdown",
   "metadata": {
    "school_cell_uuid": "47d5d4debab6456bb235fbc119b9d59e"
   },
   "source": []
  },
  {
   "cell_type": "markdown",
   "metadata": {
    "school_cell_uuid": "8d22186d82a04c4d9e0e19298eefda05"
   },
   "source": [
    "## 조건부 독립"
   ]
  },
  {
   "cell_type": "markdown",
   "metadata": {
    "school_cell_uuid": "6a9517c3c03e4e45aff222621ce42793"
   },
   "source": []
  }
 ],
 "metadata": {
  "kernelspec": {
   "display_name": "Python 3",
   "language": "python",
   "name": "python3"
  },
  "language_info": {
   "codemirror_mode": {
    "name": "ipython",
    "version": 3
   },
   "file_extension": ".py",
   "mimetype": "text/x-python",
   "name": "python",
   "nbconvert_exporter": "python",
   "pygments_lexer": "ipython3",
   "version": "3.6.3"
  }
 },
 "nbformat": 4,
 "nbformat_minor": 2
}