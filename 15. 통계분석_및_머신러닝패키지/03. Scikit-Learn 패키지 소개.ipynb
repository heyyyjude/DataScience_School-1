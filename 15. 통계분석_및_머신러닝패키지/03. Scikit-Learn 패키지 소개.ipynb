{
 "cells": [
  {
   "cell_type": "markdown",
   "metadata": {
    "school_cell_uuid": "84865712f2da41a9a6cf46b87b4e5405"
   },
   "source": [
    "# Scikit-Learn 패키지 소개"
   ]
  },
  {
   "cell_type": "markdown",
   "metadata": {
    "school_cell_uuid": "2ca8e3c3114b44c2962b17ed41b9e68c"
   },
   "source": [
    "Scikit-Learn 패키지는 머신 러닝 교육 및 실무를 위한 파이썬 패키지로 다음과 같은 구성 요소들을 갖추고 있다.\n",
    "\n",
    "* 벤치마크용 샘플 데이터 세트\n",
    "* 데이터 전처리(preprocessing) 기능\n",
    "* 지도 학습(Supervised learning) 모형\n",
    "* 비지도 학습(Unsupervised learning) 모형\n",
    "* 모형 평가 및 선택\n",
    "\n",
    "자세한 내용은 다음 웹사이트를 참조한다.\n",
    "\n",
    "* http://scikit-learn.org\n"
   ]
  },
  {
   "cell_type": "markdown",
   "metadata": {
    "school_cell_uuid": "25898ff3d1fc4b2aa3b1d507503c8643"
   },
   "source": [
    "## scikit-learn 패키지에서 제공하는 머신 러닝 모형"
   ]
  },
  {
   "cell_type": "markdown",
   "metadata": {
    "school_cell_uuid": "6d4ed41d565749dd969a4a942067771f"
   },
   "source": [
    "scikit-learn 패키지의 장점은 다양한 머신 러닝 모형 즉, 알고리즘을 하나의 패키지에서 모두 제공하고 있다는 점이다. 다음은 scikit-learn 패키지에서 제공하는 머신 러닝 모형의 목록이다. 이 목록은 대표적인 것들만을 나열한 것이며 지속적으로 모형들이 추가되고 있다."
   ]
  },
  {
   "cell_type": "markdown",
   "metadata": {
    "school_cell_uuid": "0519ef9826dd4704ae70ebc05d8140d6"
   },
   "source": [
    "### 지도 학습(Supervised learning) 모형\n",
    "\n",
    "* http://scikit-learn.org/stable/supervised_learning.html\n",
    "\n",
    "* Generalized Linear Models\n",
    " * Ordinary Least Squares\n",
    " * Ridge/Lasso/Elastic Net Regression\n",
    " * Logistic regression\n",
    " * Polynomial regression\n",
    " * Perceptron\n",
    "* Linear and Quadratic Discriminant Analysis\n",
    "* Support Vector Machines\n",
    "* Stochastic Gradient Descent\n",
    "* Nearest Neighbor Algorithms\n",
    "* Gaussian Processes\n",
    "* Naive Bayes\n",
    "* Decision Trees\n",
    "* Ensemble methods\n",
    " * Random Forests\n",
    " * AdaBoost"
   ]
  },
  {
   "cell_type": "markdown",
   "metadata": {
    "school_cell_uuid": "0f4218f68f3049b4960b6946de4f8e67"
   },
   "source": [
    "### 비지도 학습(Unsupervised learning) 모형\n",
    "\n",
    "* http://scikit-learn.org/stable/unsupervised_learning.html\n",
    "\n",
    "\n",
    "\n",
    "* Gaussian mixture models\n",
    "* Manifold learning\n",
    "* Clustering\n",
    " * K-means\n",
    " * DBSCAN\n",
    "* Biclustering\n",
    "* Decomposing\n",
    " * Principal component analysis (PCA)\n",
    " * Factor Analysis\n",
    " * Independent component analysis (ICA)\n",
    " * Latent Dirichlet Allocation (LDA)\n",
    "* Covariance estimation\n",
    "* Novelty and Outlier Detection\n",
    "* Density Estimation"
   ]
  },
  {
   "cell_type": "markdown",
   "metadata": {
    "school_cell_uuid": "49fcd30747184f5da9f3faf669c7476f"
   },
   "source": [
    "## scikit-learn의 서브 패키지"
   ]
  },
  {
   "cell_type": "markdown",
   "metadata": {
    "school_cell_uuid": "7801ef59fef944c2ae4f8615fd8d94f0"
   },
   "source": [
    "scikit-learn 은 서브 패키지 단위로 별도의 기능을 제공하고 있다. 대표적인 서브 패키지와 기능을 나열하면 다음과 같다.\n",
    "\n",
    "* 자료 제공: \n",
    " * `sklearn.datasets`: 샘플 데이터 세트 제공\n",
    "\n",
    "\n",
    "* 자료 전처리: \n",
    " * `sklearn.preprocessing`: imputation, encoding 등 단순 전처리\n",
    " * `sklearn.feature_extraction`: Feature Extraction\n",
    "\n",
    "\n",
    "* 모형:\n",
    " * `sklearn.base`: Base classes and utility functions\n",
    " * `sklearn.pipeline`: Pipeline\n",
    " * `sklearn.linear_model`: Generalized Linear Models\n",
    " * `sklearn.naive_bayes`: Naive Bayes\n",
    " * `sklearn.discriminant_analysis`: Discriminant Analysis\n",
    " * `sklearn.neighbors`: Nearest Neighbors\n",
    " * `sklearn.mixture`: Gaussian Mixture Models\n",
    " * `sklearn.svm`: Support Vector Machines\n",
    " * `sklearn.tree`: Decision Trees\n",
    " * `sklearn.ensemble`: Ensemble Methods\n",
    " * `sklearn.cluster`: Clustering\n",
    "\n",
    "\n",
    "* 모형 평가: \n",
    " * `sklearn.metrics`: Metrics\n",
    " * `sklearn.cross_validation`: Cross Validation\n",
    " * `sklearn.grid_search`: Grid Search\n",
    " "
   ]
  }
 ],
 "metadata": {
  "celltoolbar": "Edit Metadata",
  "kernelspec": {
   "display_name": "Python 2",
   "language": "python",
   "name": "python2"
  },
  "language_info": {
   "codemirror_mode": {
    "name": "ipython",
    "version": 2
   },
   "file_extension": ".py",
   "mimetype": "text/x-python",
   "name": "python",
   "nbconvert_exporter": "python",
   "pygments_lexer": "ipython2",
   "version": "2.7.11"
  },
  "latex_envs": {
   "bibliofile": "biblio.bib",
   "cite_by": "apalike",
   "current_citInitial": 1,
   "eqLabelWithNumbers": true,
   "eqNumInitial": 0
  }
 },
 "nbformat": 4,
 "nbformat_minor": 0
}