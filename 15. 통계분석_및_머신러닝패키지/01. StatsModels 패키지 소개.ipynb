{
 "cells": [
  {
   "cell_type": "markdown",
   "metadata": {
    "school_cell_uuid": "8fab59c79c6d4856b8459945d74907e7"
   },
   "source": [
    "# StatsModels 패키지 소개"
   ]
  },
  {
   "cell_type": "markdown",
   "metadata": {
    "school_cell_uuid": "08ab853ef7e94712b9c1d6cbfcd26bcf"
   },
   "source": [
    "StatsModels는 기초 통계, 회귀 분석, 시계열 분석 등 다양한 통계 분석 기능을 제공하는 파이썬 패키지다.\n",
    "\n",
    "* 기초 통계 (Statistics)\n",
    "\n",
    "  * 각종 검정(test) 기능\n",
    "  * 커널 밀도 추정\n",
    "  * Generalized Method of Moments\n",
    "\n",
    "* 회귀 분석 (Linear Regression)\n",
    "\n",
    "  * 선형 모형 (Linear Model)\n",
    "  * 일반화 선형 모형 (Generalized Linear Model)\n",
    "  * 강인 선형 모형 (Robust Linear Model)\n",
    "  * 선형 혼합 효과 모형 (Linear Mixed Effects Model)\n",
    "  * ANOVA (Analysis of Variance)\n",
    "  * Discrete Dependent Variable (Logistic Regression 포함)\n",
    "\n",
    "* 시계열 분석 (Time Series Analysis)\n",
    "  \n",
    "  * ARMA/ARIMA Process\n",
    "  * Vector ARMA Process"
   ]
  },
  {
   "cell_type": "markdown",
   "metadata": {
    "school_cell_uuid": "ed5ca871e2b5434ca344af9c02b6ce11"
   },
   "source": [
    "특히 선형 회귀분석의 경우 R-style 모형 기술을 가능하게 하는 patsy 패키지를 포함하고 있어 기존에 R을 사용하던 사람들도 쉽게 statsmodels를 쓸 수 있게 되었다.\n",
    "\n",
    "* https://patsy.readthedocs.org/en/latest/"
   ]
  }
 ],
 "metadata": {
  "kernelspec": {
   "display_name": "Python 2",
   "language": "python",
   "name": "python2"
  },
  "language_info": {
   "codemirror_mode": {
    "name": "ipython",
    "version": 2
   },
   "file_extension": ".py",
   "mimetype": "text/x-python",
   "name": "python",
   "nbconvert_exporter": "python",
   "pygments_lexer": "ipython2",
   "version": "2.7.11"
  }
 },
 "nbformat": 4,
 "nbformat_minor": 0
}